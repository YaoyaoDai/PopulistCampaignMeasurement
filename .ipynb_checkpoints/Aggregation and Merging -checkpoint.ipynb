{
 "cells": [
  {
   "cell_type": "code",
   "execution_count": 1,
   "metadata": {},
   "outputs": [],
   "source": [
    "import pandas as pd\n",
    "import numpy as np\n",
    "import csv\n",
    "import json\n",
    "import string\n",
    "import random\n",
    "import re\n",
    "\n",
    "np.random.seed(1234)\n",
    "random.seed(1234)"
   ]
  },
  {
   "cell_type": "code",
   "execution_count": 2,
   "metadata": {},
   "outputs": [],
   "source": [
    "SubSpeech_predicted = pd.read_csv('SubSpeech_predicted_update.csv')"
   ]
  },
  {
   "cell_type": "code",
   "execution_count": 17,
   "metadata": {},
   "outputs": [],
   "source": [
    "Speech = pd.read_csv('CampaignSpeechMerged_cleaned.csv')"
   ]
  },
  {
   "cell_type": "code",
   "execution_count": 51,
   "metadata": {},
   "outputs": [],
   "source": [
    "Polls = pd.read_csv('Polls.csv')"
   ]
  },
  {
   "cell_type": "code",
   "execution_count": 9,
   "metadata": {},
   "outputs": [],
   "source": [
    "#Speech.head()"
   ]
  },
  {
   "cell_type": "code",
   "execution_count": 10,
   "metadata": {
    "scrolled": true
   },
   "outputs": [],
   "source": [
    "#Polls.head()"
   ]
  },
  {
   "cell_type": "code",
   "execution_count": 49,
   "metadata": {},
   "outputs": [],
   "source": [
    "#SubSpeech_predicted.head()"
   ]
  },
  {
   "cell_type": "code",
   "execution_count": 27,
   "metadata": {},
   "outputs": [],
   "source": [
    "Pop_prop = []\n",
    "SubSpeechCounts = []\n",
    "for x in Speech.Speech_index:\n",
    "    Pop_prop.append(np.mean(SubSpeech_predicted.Pop_class[SubSpeech_predicted.Speech_index == x]))\n",
    "    SubSpeechCounts.append(len(SubSpeech_predicted.Subspeech_index[SubSpeech_predicted.Speech_index == x]))"
   ]
  },
  {
   "cell_type": "code",
   "execution_count": 28,
   "metadata": {},
   "outputs": [],
   "source": [
    "Pop_Speech = Speech.assign(Pop_prop = Pop_prop)\n",
    "Pop_Speech = Pop_Speech.assign(SubSpeechCounts = SubSpeechCounts)"
   ]
  },
  {
   "cell_type": "code",
   "execution_count": 29,
   "metadata": {},
   "outputs": [
    {
     "data": {
      "text/html": [
       "<div>\n",
       "<style scoped>\n",
       "    .dataframe tbody tr th:only-of-type {\n",
       "        vertical-align: middle;\n",
       "    }\n",
       "\n",
       "    .dataframe tbody tr th {\n",
       "        vertical-align: top;\n",
       "    }\n",
       "\n",
       "    .dataframe thead th {\n",
       "        text-align: right;\n",
       "    }\n",
       "</style>\n",
       "<table border=\"1\" class=\"dataframe\">\n",
       "  <thead>\n",
       "    <tr style=\"text-align: right;\">\n",
       "      <th></th>\n",
       "      <th>Candidate</th>\n",
       "      <th>Chanel</th>\n",
       "      <th>City</th>\n",
       "      <th>Content</th>\n",
       "      <th>Date</th>\n",
       "      <th>Day</th>\n",
       "      <th>Description</th>\n",
       "      <th>Month</th>\n",
       "      <th>Speech_index</th>\n",
       "      <th>State</th>\n",
       "      <th>Subject</th>\n",
       "      <th>Title</th>\n",
       "      <th>Type</th>\n",
       "      <th>URL</th>\n",
       "      <th>Year</th>\n",
       "      <th>Pop_prop</th>\n",
       "      <th>SubSpeechCounts</th>\n",
       "    </tr>\n",
       "  </thead>\n",
       "  <tbody>\n",
       "    <tr>\n",
       "      <th>0</th>\n",
       "      <td>Donald J. Trump</td>\n",
       "      <td>NaN</td>\n",
       "      <td>NaN</td>\n",
       "      <td>\\nPRESIDENT DONALD TRUMP: Thank you, thank you...</td>\n",
       "      <td>\\nNovember 26, 2018</td>\n",
       "      <td>26.0</td>\n",
       "      <td>NaN</td>\n",
       "      <td>November</td>\n",
       "      <td>Speech0</td>\n",
       "      <td>NaN</td>\n",
       "      <td>NaN</td>\n",
       "      <td>\\nRemarks at a \"Make America Great Again\" Rall...</td>\n",
       "      <td>Campaign Documents</td>\n",
       "      <td>/documents/remarks-make-america-great-again-ra...</td>\n",
       "      <td>2018</td>\n",
       "      <td>0.230769</td>\n",
       "      <td>13</td>\n",
       "    </tr>\n",
       "    <tr>\n",
       "      <th>1</th>\n",
       "      <td>Donald J. Trump</td>\n",
       "      <td>NaN</td>\n",
       "      <td>NaN</td>\n",
       "      <td>\\nThe President: Thank you very much, and hell...</td>\n",
       "      <td>\\nOctober 20, 2018</td>\n",
       "      <td>20.0</td>\n",
       "      <td>NaN</td>\n",
       "      <td>October</td>\n",
       "      <td>Speech1</td>\n",
       "      <td>NaN</td>\n",
       "      <td>NaN</td>\n",
       "      <td>\\nRemarks at a “Make America Great Again” Rall...</td>\n",
       "      <td>Campaign Documents</td>\n",
       "      <td>/documents/remarks-make-america-great-again-ra...</td>\n",
       "      <td>2018</td>\n",
       "      <td>0.178571</td>\n",
       "      <td>28</td>\n",
       "    </tr>\n",
       "    <tr>\n",
       "      <th>2</th>\n",
       "      <td>Donald J. Trump</td>\n",
       "      <td>NaN</td>\n",
       "      <td>NaN</td>\n",
       "      <td>\\n[music:  John Denver, \"Take Me Home, Country...</td>\n",
       "      <td>\\nSeptember 29, 2018</td>\n",
       "      <td>29.0</td>\n",
       "      <td>NaN</td>\n",
       "      <td>September</td>\n",
       "      <td>Speech2</td>\n",
       "      <td>NaN</td>\n",
       "      <td>NaN</td>\n",
       "      <td>\\nRemarks at a “Make America Great Again” Rall...</td>\n",
       "      <td>Campaign Documents</td>\n",
       "      <td>/documents/remarks-make-america-great-again-ra...</td>\n",
       "      <td>2018</td>\n",
       "      <td>0.030303</td>\n",
       "      <td>33</td>\n",
       "    </tr>\n",
       "    <tr>\n",
       "      <th>3</th>\n",
       "      <td>Donald J. Trump</td>\n",
       "      <td>NaN</td>\n",
       "      <td>NaN</td>\n",
       "      <td>\\nPRESIDENT DONALD TRUMP:  Thank you. Thank yo...</td>\n",
       "      <td>\\nSeptember 06, 2018</td>\n",
       "      <td>6.0</td>\n",
       "      <td>NaN</td>\n",
       "      <td>September</td>\n",
       "      <td>Speech3</td>\n",
       "      <td>NaN</td>\n",
       "      <td>NaN</td>\n",
       "      <td>\\nRemarks at a “Make America Great Again” Rall...</td>\n",
       "      <td>Campaign Documents</td>\n",
       "      <td>/documents/remarks-make-america-great-again-ra...</td>\n",
       "      <td>2018</td>\n",
       "      <td>0.238095</td>\n",
       "      <td>21</td>\n",
       "    </tr>\n",
       "    <tr>\n",
       "      <th>4</th>\n",
       "      <td>Donald J. Trump</td>\n",
       "      <td>NaN</td>\n",
       "      <td>NaN</td>\n",
       "      <td>\\nPRESIDENT DONALD TRUMP: Evansville, you are ...</td>\n",
       "      <td>\\nAugust 30, 2018</td>\n",
       "      <td>30.0</td>\n",
       "      <td>NaN</td>\n",
       "      <td>August</td>\n",
       "      <td>Speech4</td>\n",
       "      <td>NaN</td>\n",
       "      <td>NaN</td>\n",
       "      <td>\\nRemarks at a “Make America Great Again” Rall...</td>\n",
       "      <td>Campaign Documents</td>\n",
       "      <td>/documents/remarks-make-america-great-again-ra...</td>\n",
       "      <td>2018</td>\n",
       "      <td>0.272727</td>\n",
       "      <td>22</td>\n",
       "    </tr>\n",
       "  </tbody>\n",
       "</table>\n",
       "</div>"
      ],
      "text/plain": [
       "         Candidate Chanel City  \\\n",
       "0  Donald J. Trump    NaN  NaN   \n",
       "1  Donald J. Trump    NaN  NaN   \n",
       "2  Donald J. Trump    NaN  NaN   \n",
       "3  Donald J. Trump    NaN  NaN   \n",
       "4  Donald J. Trump    NaN  NaN   \n",
       "\n",
       "                                             Content                   Date  \\\n",
       "0  \\nPRESIDENT DONALD TRUMP: Thank you, thank you...   \\nNovember 26, 2018    \n",
       "1  \\nThe President: Thank you very much, and hell...    \\nOctober 20, 2018    \n",
       "2  \\n[music:  John Denver, \"Take Me Home, Country...  \\nSeptember 29, 2018    \n",
       "3  \\nPRESIDENT DONALD TRUMP:  Thank you. Thank yo...  \\nSeptember 06, 2018    \n",
       "4  \\nPRESIDENT DONALD TRUMP: Evansville, you are ...     \\nAugust 30, 2018    \n",
       "\n",
       "    Day Description      Month Speech_index State Subject  \\\n",
       "0  26.0         NaN   November      Speech0   NaN     NaN   \n",
       "1  20.0         NaN    October      Speech1   NaN     NaN   \n",
       "2  29.0         NaN  September      Speech2   NaN     NaN   \n",
       "3   6.0         NaN  September      Speech3   NaN     NaN   \n",
       "4  30.0         NaN     August      Speech4   NaN     NaN   \n",
       "\n",
       "                                               Title                Type  \\\n",
       "0  \\nRemarks at a \"Make America Great Again\" Rall...  Campaign Documents   \n",
       "1  \\nRemarks at a “Make America Great Again” Rall...  Campaign Documents   \n",
       "2  \\nRemarks at a “Make America Great Again” Rall...  Campaign Documents   \n",
       "3  \\nRemarks at a “Make America Great Again” Rall...  Campaign Documents   \n",
       "4  \\nRemarks at a “Make America Great Again” Rall...  Campaign Documents   \n",
       "\n",
       "                                                 URL  Year  Pop_prop  \\\n",
       "0  /documents/remarks-make-america-great-again-ra...  2018  0.230769   \n",
       "1  /documents/remarks-make-america-great-again-ra...  2018  0.178571   \n",
       "2  /documents/remarks-make-america-great-again-ra...  2018  0.030303   \n",
       "3  /documents/remarks-make-america-great-again-ra...  2018  0.238095   \n",
       "4  /documents/remarks-make-america-great-again-ra...  2018  0.272727   \n",
       "\n",
       "   SubSpeechCounts  \n",
       "0               13  \n",
       "1               28  \n",
       "2               33  \n",
       "3               21  \n",
       "4               22  "
      ]
     },
     "execution_count": 29,
     "metadata": {},
     "output_type": "execute_result"
    }
   ],
   "source": [
    "Pop_Speech.head()"
   ]
  },
  {
   "cell_type": "code",
   "execution_count": 30,
   "metadata": {},
   "outputs": [],
   "source": [
    "Pop_Speech = Pop_Speech[['Candidate','Chanel','City','Year','Month','Day','Speech_index',\n",
    "                         'Title','Type','Pop_prop','SubSpeechCounts']]"
   ]
  },
  {
   "cell_type": "code",
   "execution_count": 65,
   "metadata": {},
   "outputs": [],
   "source": [
    "#Pop_Speech.head()"
   ]
  },
  {
   "cell_type": "code",
   "execution_count": 31,
   "metadata": {},
   "outputs": [],
   "source": [
    "Pop_Speech.to_csv(\"Speech_Level_Pop_Updated.csv\")"
   ]
  },
  {
   "cell_type": "code",
   "execution_count": 32,
   "metadata": {},
   "outputs": [
    {
     "data": {
      "text/html": [
       "<div>\n",
       "<style scoped>\n",
       "    .dataframe tbody tr th:only-of-type {\n",
       "        vertical-align: middle;\n",
       "    }\n",
       "\n",
       "    .dataframe tbody tr th {\n",
       "        vertical-align: top;\n",
       "    }\n",
       "\n",
       "    .dataframe thead th {\n",
       "        text-align: right;\n",
       "    }\n",
       "</style>\n",
       "<table border=\"1\" class=\"dataframe\">\n",
       "  <thead>\n",
       "    <tr style=\"text-align: right;\">\n",
       "      <th></th>\n",
       "      <th>Candidate</th>\n",
       "      <th>Chanel</th>\n",
       "      <th>City</th>\n",
       "      <th>Year</th>\n",
       "      <th>Month</th>\n",
       "      <th>Day</th>\n",
       "      <th>Speech_index</th>\n",
       "      <th>Title</th>\n",
       "      <th>Type</th>\n",
       "      <th>Pop_prop</th>\n",
       "      <th>SubSpeechCounts</th>\n",
       "    </tr>\n",
       "  </thead>\n",
       "  <tbody>\n",
       "    <tr>\n",
       "      <th>1130</th>\n",
       "      <td>Barack Obama</td>\n",
       "      <td>NaN</td>\n",
       "      <td>NaN</td>\n",
       "      <td>2008</td>\n",
       "      <td>May</td>\n",
       "      <td>9.0</td>\n",
       "      <td>Speech1130</td>\n",
       "      <td>\\nRemarks at an Economic Discussion in Beavert...</td>\n",
       "      <td>Campaign Documents</td>\n",
       "      <td>1.0</td>\n",
       "      <td>1</td>\n",
       "    </tr>\n",
       "    <tr>\n",
       "      <th>1321</th>\n",
       "      <td>John Edwards</td>\n",
       "      <td>NaN</td>\n",
       "      <td>NaN</td>\n",
       "      <td>2007</td>\n",
       "      <td>November</td>\n",
       "      <td>30.0</td>\n",
       "      <td>Speech1321</td>\n",
       "      <td>\\nExcerpts of Remarks at the DNC Fall Meeting ...</td>\n",
       "      <td>Campaign Documents</td>\n",
       "      <td>1.0</td>\n",
       "      <td>1</td>\n",
       "    </tr>\n",
       "    <tr>\n",
       "      <th>1272</th>\n",
       "      <td>Mitt Romney</td>\n",
       "      <td>NaN</td>\n",
       "      <td>NaN</td>\n",
       "      <td>2008</td>\n",
       "      <td>January</td>\n",
       "      <td>15.0</td>\n",
       "      <td>Speech1272</td>\n",
       "      <td>\\nRemarks Following the Michigan Primary\\n</td>\n",
       "      <td>Campaign Documents</td>\n",
       "      <td>1.0</td>\n",
       "      <td>1</td>\n",
       "    </tr>\n",
       "    <tr>\n",
       "      <th>267</th>\n",
       "      <td>Ted Cruz</td>\n",
       "      <td>NaN</td>\n",
       "      <td>NaN</td>\n",
       "      <td>2015</td>\n",
       "      <td>August</td>\n",
       "      <td>8.0</td>\n",
       "      <td>Speech267</td>\n",
       "      <td>\\nRemarks to the RedState Gathering in Atlanta...</td>\n",
       "      <td>Campaign Documents</td>\n",
       "      <td>1.0</td>\n",
       "      <td>1</td>\n",
       "    </tr>\n",
       "    <tr>\n",
       "      <th>35</th>\n",
       "      <td>Donald J. Trump</td>\n",
       "      <td>NaN</td>\n",
       "      <td>NaN</td>\n",
       "      <td>2016</td>\n",
       "      <td>October</td>\n",
       "      <td>26.0</td>\n",
       "      <td>Speech35</td>\n",
       "      <td>\\nRemarks at McGlohon Theatre at Spirit Square...</td>\n",
       "      <td>Campaign Documents</td>\n",
       "      <td>1.0</td>\n",
       "      <td>5</td>\n",
       "    </tr>\n",
       "    <tr>\n",
       "      <th>1084</th>\n",
       "      <td>Barack Obama</td>\n",
       "      <td>NaN</td>\n",
       "      <td>NaN</td>\n",
       "      <td>2008</td>\n",
       "      <td>June</td>\n",
       "      <td>12.0</td>\n",
       "      <td>Speech1084</td>\n",
       "      <td>\\nRemarks in Kaukauna, Wisconsin\\n</td>\n",
       "      <td>Campaign Documents</td>\n",
       "      <td>1.0</td>\n",
       "      <td>1</td>\n",
       "    </tr>\n",
       "    <tr>\n",
       "      <th>3242</th>\n",
       "      <td>Dwight Eisenhower</td>\n",
       "      <td>STUMP</td>\n",
       "      <td>WEST</td>\n",
       "      <td>1952</td>\n",
       "      <td>9.0</td>\n",
       "      <td>18.0</td>\n",
       "      <td>Speech4118</td>\n",
       "      <td>NaN</td>\n",
       "      <td>SPEECH</td>\n",
       "      <td>1.0</td>\n",
       "      <td>1</td>\n",
       "    </tr>\n",
       "    <tr>\n",
       "      <th>128</th>\n",
       "      <td>Scott Walker</td>\n",
       "      <td>NaN</td>\n",
       "      <td>NaN</td>\n",
       "      <td>2016</td>\n",
       "      <td>July</td>\n",
       "      <td>20.0</td>\n",
       "      <td>Speech128</td>\n",
       "      <td>\\nRemarks to the Republican National Conventio...</td>\n",
       "      <td>Campaign Documents</td>\n",
       "      <td>1.0</td>\n",
       "      <td>1</td>\n",
       "    </tr>\n",
       "    <tr>\n",
       "      <th>1124</th>\n",
       "      <td>Barack Obama</td>\n",
       "      <td>NaN</td>\n",
       "      <td>NaN</td>\n",
       "      <td>2008</td>\n",
       "      <td>May</td>\n",
       "      <td>13.0</td>\n",
       "      <td>Speech1124</td>\n",
       "      <td>\\nRemarks in Cape Girardeau, Missouri\\n</td>\n",
       "      <td>Campaign Documents</td>\n",
       "      <td>1.0</td>\n",
       "      <td>2</td>\n",
       "    </tr>\n",
       "    <tr>\n",
       "      <th>84</th>\n",
       "      <td>Hillary Clinton</td>\n",
       "      <td>NaN</td>\n",
       "      <td>NaN</td>\n",
       "      <td>2016</td>\n",
       "      <td>September</td>\n",
       "      <td>18.0</td>\n",
       "      <td>Speech84</td>\n",
       "      <td>\\nRemarks to the Congressional Black Caucus in...</td>\n",
       "      <td>Campaign Documents</td>\n",
       "      <td>1.0</td>\n",
       "      <td>1</td>\n",
       "    </tr>\n",
       "  </tbody>\n",
       "</table>\n",
       "</div>"
      ],
      "text/plain": [
       "              Candidate Chanel  City  Year      Month   Day Speech_index  \\\n",
       "1130       Barack Obama    NaN   NaN  2008        May   9.0   Speech1130   \n",
       "1321       John Edwards    NaN   NaN  2007   November  30.0   Speech1321   \n",
       "1272        Mitt Romney    NaN   NaN  2008    January  15.0   Speech1272   \n",
       "267            Ted Cruz    NaN   NaN  2015     August   8.0    Speech267   \n",
       "35      Donald J. Trump    NaN   NaN  2016    October  26.0     Speech35   \n",
       "1084       Barack Obama    NaN   NaN  2008       June  12.0   Speech1084   \n",
       "3242  Dwight Eisenhower  STUMP  WEST  1952        9.0  18.0   Speech4118   \n",
       "128        Scott Walker    NaN   NaN  2016       July  20.0    Speech128   \n",
       "1124       Barack Obama    NaN   NaN  2008        May  13.0   Speech1124   \n",
       "84      Hillary Clinton    NaN   NaN  2016  September  18.0     Speech84   \n",
       "\n",
       "                                                  Title                Type  \\\n",
       "1130  \\nRemarks at an Economic Discussion in Beavert...  Campaign Documents   \n",
       "1321  \\nExcerpts of Remarks at the DNC Fall Meeting ...  Campaign Documents   \n",
       "1272         \\nRemarks Following the Michigan Primary\\n  Campaign Documents   \n",
       "267   \\nRemarks to the RedState Gathering in Atlanta...  Campaign Documents   \n",
       "35    \\nRemarks at McGlohon Theatre at Spirit Square...  Campaign Documents   \n",
       "1084                 \\nRemarks in Kaukauna, Wisconsin\\n  Campaign Documents   \n",
       "3242                                                NaN              SPEECH   \n",
       "128   \\nRemarks to the Republican National Conventio...  Campaign Documents   \n",
       "1124            \\nRemarks in Cape Girardeau, Missouri\\n  Campaign Documents   \n",
       "84    \\nRemarks to the Congressional Black Caucus in...  Campaign Documents   \n",
       "\n",
       "      Pop_prop  SubSpeechCounts  \n",
       "1130       1.0                1  \n",
       "1321       1.0                1  \n",
       "1272       1.0                1  \n",
       "267        1.0                1  \n",
       "35         1.0                5  \n",
       "1084       1.0                1  \n",
       "3242       1.0                1  \n",
       "128        1.0                1  \n",
       "1124       1.0                2  \n",
       "84         1.0                1  "
      ]
     },
     "execution_count": 32,
     "metadata": {},
     "output_type": "execute_result"
    }
   ],
   "source": [
    "Pop_Speech.sort_values(by=['Pop_prop'], ascending=False).head(10)"
   ]
  },
  {
   "cell_type": "code",
   "execution_count": 46,
   "metadata": {},
   "outputs": [
    {
     "data": {
      "text/plain": [
       "array(['November', 'October', 'September', 'August', 'July', 'June',\n",
       "       'March', 'May', 'April', 'February', 'January', 'December'],\n",
       "      dtype=object)"
      ]
     },
     "execution_count": 46,
     "metadata": {},
     "output_type": "execute_result"
    }
   ],
   "source": [
    "Pop_Speech.Month.unique()"
   ]
  },
  {
   "cell_type": "markdown",
   "metadata": {},
   "source": [
    "## Candidate level"
   ]
  },
  {
   "cell_type": "code",
   "execution_count": 57,
   "metadata": {},
   "outputs": [],
   "source": [
    "CandiPop = SubSpeech_predicted.groupby(['Candidate','Year']).Pop_class.mean().reset_index()"
   ]
  },
  {
   "cell_type": "code",
   "execution_count": 58,
   "metadata": {},
   "outputs": [],
   "source": [
    "CandiCounts = SubSpeech_predicted.groupby(['Candidate','Year']).Subspeech_index.count().reset_index()"
   ]
  },
  {
   "cell_type": "code",
   "execution_count": 59,
   "metadata": {},
   "outputs": [],
   "source": [
    "CandiSpeechCounts = Speech.groupby(['Candidate','Year']).Speech_index.count().reset_index()"
   ]
  },
  {
   "cell_type": "code",
   "execution_count": 60,
   "metadata": {},
   "outputs": [
    {
     "data": {
      "text/html": [
       "<div>\n",
       "<style scoped>\n",
       "    .dataframe tbody tr th:only-of-type {\n",
       "        vertical-align: middle;\n",
       "    }\n",
       "\n",
       "    .dataframe tbody tr th {\n",
       "        vertical-align: top;\n",
       "    }\n",
       "\n",
       "    .dataframe thead th {\n",
       "        text-align: right;\n",
       "    }\n",
       "</style>\n",
       "<table border=\"1\" class=\"dataframe\">\n",
       "  <thead>\n",
       "    <tr style=\"text-align: right;\">\n",
       "      <th></th>\n",
       "      <th>Candidate</th>\n",
       "      <th>Year</th>\n",
       "      <th>Pop_class</th>\n",
       "      <th>Subspeech_index</th>\n",
       "      <th>Speech_index</th>\n",
       "    </tr>\n",
       "  </thead>\n",
       "  <tbody>\n",
       "    <tr>\n",
       "      <th>0</th>\n",
       "      <td>Adlai Stevenson</td>\n",
       "      <td>1952</td>\n",
       "      <td>0.000000</td>\n",
       "      <td>409</td>\n",
       "      <td>186</td>\n",
       "    </tr>\n",
       "    <tr>\n",
       "      <th>1</th>\n",
       "      <td>Adlai Stevenson</td>\n",
       "      <td>1956</td>\n",
       "      <td>0.008065</td>\n",
       "      <td>248</td>\n",
       "      <td>75</td>\n",
       "    </tr>\n",
       "    <tr>\n",
       "      <th>2</th>\n",
       "      <td>Al Smith</td>\n",
       "      <td>1928</td>\n",
       "      <td>0.000000</td>\n",
       "      <td>9</td>\n",
       "      <td>1</td>\n",
       "    </tr>\n",
       "    <tr>\n",
       "      <th>3</th>\n",
       "      <td>Albert Gore, Jr.</td>\n",
       "      <td>1999</td>\n",
       "      <td>0.000000</td>\n",
       "      <td>7</td>\n",
       "      <td>1</td>\n",
       "    </tr>\n",
       "    <tr>\n",
       "      <th>4</th>\n",
       "      <td>Albert Gore, Jr.</td>\n",
       "      <td>2000</td>\n",
       "      <td>0.053191</td>\n",
       "      <td>188</td>\n",
       "      <td>14</td>\n",
       "    </tr>\n",
       "  </tbody>\n",
       "</table>\n",
       "</div>"
      ],
      "text/plain": [
       "          Candidate  Year  Pop_class  Subspeech_index  Speech_index\n",
       "0   Adlai Stevenson  1952   0.000000              409           186\n",
       "1   Adlai Stevenson  1956   0.008065              248            75\n",
       "2          Al Smith  1928   0.000000                9             1\n",
       "3  Albert Gore, Jr.  1999   0.000000                7             1\n",
       "4  Albert Gore, Jr.  2000   0.053191              188            14"
      ]
     },
     "execution_count": 60,
     "metadata": {},
     "output_type": "execute_result"
    }
   ],
   "source": [
    "CandiPop = CandiPop.merge(CandiCounts).merge(CandiSpeechCounts)\n",
    "CandiPop.head()"
   ]
  },
  {
   "cell_type": "code",
   "execution_count": 61,
   "metadata": {},
   "outputs": [
    {
     "data": {
      "text/plain": [
       "164"
      ]
     },
     "execution_count": 61,
     "metadata": {},
     "output_type": "execute_result"
    }
   ],
   "source": [
    "len(CandiPop.Subspeech_index)"
   ]
  },
  {
   "cell_type": "code",
   "execution_count": 63,
   "metadata": {},
   "outputs": [],
   "source": [
    "CandiPop.to_csv('AllCandidateLevel.csv', index=False)"
   ]
  },
  {
   "cell_type": "markdown",
   "metadata": {},
   "source": [
    "### Fix name differences"
   ]
  },
  {
   "cell_type": "code",
   "execution_count": 52,
   "metadata": {},
   "outputs": [
    {
     "data": {
      "text/plain": [
       "{'Alfred M. Landon',\n",
       " 'Gary Johnson',\n",
       " 'George Wallace',\n",
       " 'John Anderson',\n",
       " 'Ralph Nader',\n",
       " 'Strom Thurmond',\n",
       " 'Thomas E. Dewey'}"
      ]
     },
     "execution_count": 52,
     "metadata": {},
     "output_type": "execute_result"
    }
   ],
   "source": [
    "set(Polls.Candidate).difference(set(CandiPop.Candidate))"
   ]
  },
  {
   "cell_type": "code",
   "execution_count": 108,
   "metadata": {},
   "outputs": [],
   "source": [
    "CandiPop_final = CandiPop[CandiPop.Year.isin(Polls.Year) & CandiPop.Candidate.isin(Polls.Candidate)]"
   ]
  },
  {
   "cell_type": "code",
   "execution_count": 112,
   "metadata": {},
   "outputs": [],
   "source": [
    "CandiPop_final = CandiPop_final.drop([5, 6, 16, 43, 46, 53, 60, 70, 85, 94, 107, \n",
    "                                      110, 130, 131, 136, 148, 158, 159, 160, 161])"
   ]
  },
  {
   "cell_type": "code",
   "execution_count": 113,
   "metadata": {},
   "outputs": [],
   "source": [
    "CandiPop_final.rename(columns={'Pop_class': 'Pop_prop', 'Subspeech_index': 'Subspeech_counts', 'Speech_index': 'Speech_counts' }, \n",
    "                      inplace = True)"
   ]
  },
  {
   "cell_type": "code",
   "execution_count": 110,
   "metadata": {},
   "outputs": [
    {
     "data": {
      "text/html": [
       "<div>\n",
       "<style scoped>\n",
       "    .dataframe tbody tr th:only-of-type {\n",
       "        vertical-align: middle;\n",
       "    }\n",
       "\n",
       "    .dataframe tbody tr th {\n",
       "        vertical-align: top;\n",
       "    }\n",
       "\n",
       "    .dataframe thead th {\n",
       "        text-align: right;\n",
       "    }\n",
       "</style>\n",
       "<table border=\"1\" class=\"dataframe\">\n",
       "  <thead>\n",
       "    <tr style=\"text-align: right;\">\n",
       "      <th></th>\n",
       "      <th>Candidate</th>\n",
       "      <th>Year</th>\n",
       "      <th>Pop_class</th>\n",
       "      <th>Subspeech_index</th>\n",
       "      <th>Speech_index</th>\n",
       "    </tr>\n",
       "  </thead>\n",
       "  <tbody>\n",
       "    <tr>\n",
       "      <th>38</th>\n",
       "      <td>Franklin D. Roosevelt</td>\n",
       "      <td>1932</td>\n",
       "      <td>0.0</td>\n",
       "      <td>107</td>\n",
       "      <td>24</td>\n",
       "    </tr>\n",
       "    <tr>\n",
       "      <th>39</th>\n",
       "      <td>Franklin D. Roosevelt</td>\n",
       "      <td>1936</td>\n",
       "      <td>0.0</td>\n",
       "      <td>4</td>\n",
       "      <td>1</td>\n",
       "    </tr>\n",
       "    <tr>\n",
       "      <th>40</th>\n",
       "      <td>Franklin D. Roosevelt</td>\n",
       "      <td>1940</td>\n",
       "      <td>0.0</td>\n",
       "      <td>6</td>\n",
       "      <td>1</td>\n",
       "    </tr>\n",
       "  </tbody>\n",
       "</table>\n",
       "</div>"
      ],
      "text/plain": [
       "                Candidate  Year  Pop_class  Subspeech_index  Speech_index\n",
       "38  Franklin D. Roosevelt  1932        0.0              107            24\n",
       "39  Franklin D. Roosevelt  1936        0.0                4             1\n",
       "40  Franklin D. Roosevelt  1940        0.0                6             1"
      ]
     },
     "execution_count": 110,
     "metadata": {},
     "output_type": "execute_result"
    }
   ],
   "source": [
    "CandiPop[CandiPop.Candidate == 'Franklin D. Roosevelt']"
   ]
  },
  {
   "cell_type": "code",
   "execution_count": 130,
   "metadata": {},
   "outputs": [],
   "source": [
    "#CandiPop_final.sort_values(['Pop_prop'], ascending = False)"
   ]
  },
  {
   "cell_type": "code",
   "execution_count": 119,
   "metadata": {},
   "outputs": [],
   "source": [
    "CandiPop_final.to_csv('CandidateMerged_Level.csv', index= False)"
   ]
  },
  {
   "cell_type": "markdown",
   "metadata": {},
   "source": [
    "## Candidate Month"
   ]
  },
  {
   "cell_type": "code",
   "execution_count": 133,
   "metadata": {},
   "outputs": [
    {
     "data": {
      "text/plain": [
       "array(['November', 'October', 'September', 'August', 'July', 'June',\n",
       "       'March', 'May', 'April', 'February', 'January', 'December', nan],\n",
       "      dtype=object)"
      ]
     },
     "execution_count": 133,
     "metadata": {},
     "output_type": "execute_result"
    }
   ],
   "source": [
    "SubSpeech_predicted.Month.unique()"
   ]
  },
  {
   "cell_type": "code",
   "execution_count": 132,
   "metadata": {},
   "outputs": [],
   "source": [
    "SubSpeech_predicted.Month.replace('7.0', 'July', inplace = True)\n",
    "SubSpeech_predicted.Month.replace('8.0', 'August', inplace = True)\n",
    "\n",
    "SubSpeech_predicted.Month.replace('9.0', 'September', inplace = True)\n",
    "\n",
    "SubSpeech_predicted.Month.replace('10.0', 'October', inplace = True)\n",
    "SubSpeech_predicted.Month.replace('11.0', 'November', inplace = True)\n"
   ]
  },
  {
   "cell_type": "code",
   "execution_count": 139,
   "metadata": {},
   "outputs": [],
   "source": [
    "CandiPopMonth = SubSpeech_predicted.groupby(['Candidate','Year','Month']).Pop_class.mean().reset_index()"
   ]
  },
  {
   "cell_type": "code",
   "execution_count": 140,
   "metadata": {},
   "outputs": [],
   "source": [
    "CandiCountsMonth = SubSpeech_predicted.groupby(['Candidate','Year', 'Month']).Subspeech_index.count().reset_index()"
   ]
  },
  {
   "cell_type": "code",
   "execution_count": 141,
   "metadata": {},
   "outputs": [],
   "source": [
    "CandiSpeechCountsMonth = Speech.groupby(['Candidate','Year','Month']).Speech_index.count().reset_index()"
   ]
  },
  {
   "cell_type": "code",
   "execution_count": 142,
   "metadata": {},
   "outputs": [
    {
     "data": {
      "text/html": [
       "<div>\n",
       "<style scoped>\n",
       "    .dataframe tbody tr th:only-of-type {\n",
       "        vertical-align: middle;\n",
       "    }\n",
       "\n",
       "    .dataframe tbody tr th {\n",
       "        vertical-align: top;\n",
       "    }\n",
       "\n",
       "    .dataframe thead th {\n",
       "        text-align: right;\n",
       "    }\n",
       "</style>\n",
       "<table border=\"1\" class=\"dataframe\">\n",
       "  <thead>\n",
       "    <tr style=\"text-align: right;\">\n",
       "      <th></th>\n",
       "      <th>Candidate</th>\n",
       "      <th>Year</th>\n",
       "      <th>Month</th>\n",
       "      <th>Pop_class</th>\n",
       "      <th>Subspeech_index</th>\n",
       "      <th>Speech_index</th>\n",
       "    </tr>\n",
       "  </thead>\n",
       "  <tbody>\n",
       "    <tr>\n",
       "      <th>0</th>\n",
       "      <td>Al Smith</td>\n",
       "      <td>1928</td>\n",
       "      <td>August</td>\n",
       "      <td>0.000000</td>\n",
       "      <td>9</td>\n",
       "      <td>1</td>\n",
       "    </tr>\n",
       "    <tr>\n",
       "      <th>1</th>\n",
       "      <td>Albert Gore, Jr.</td>\n",
       "      <td>1999</td>\n",
       "      <td>June</td>\n",
       "      <td>0.000000</td>\n",
       "      <td>7</td>\n",
       "      <td>1</td>\n",
       "    </tr>\n",
       "    <tr>\n",
       "      <th>2</th>\n",
       "      <td>Albert Gore, Jr.</td>\n",
       "      <td>2000</td>\n",
       "      <td>August</td>\n",
       "      <td>0.057377</td>\n",
       "      <td>122</td>\n",
       "      <td>2</td>\n",
       "    </tr>\n",
       "    <tr>\n",
       "      <th>3</th>\n",
       "      <td>Albert Gore, Jr.</td>\n",
       "      <td>2000</td>\n",
       "      <td>December</td>\n",
       "      <td>0.000000</td>\n",
       "      <td>2</td>\n",
       "      <td>1</td>\n",
       "    </tr>\n",
       "    <tr>\n",
       "      <th>4</th>\n",
       "      <td>Albert Gore, Jr.</td>\n",
       "      <td>2000</td>\n",
       "      <td>January</td>\n",
       "      <td>0.000000</td>\n",
       "      <td>6</td>\n",
       "      <td>1</td>\n",
       "    </tr>\n",
       "  </tbody>\n",
       "</table>\n",
       "</div>"
      ],
      "text/plain": [
       "          Candidate  Year     Month  Pop_class  Subspeech_index  Speech_index\n",
       "0          Al Smith  1928    August   0.000000                9             1\n",
       "1  Albert Gore, Jr.  1999      June   0.000000                7             1\n",
       "2  Albert Gore, Jr.  2000    August   0.057377              122             2\n",
       "3  Albert Gore, Jr.  2000  December   0.000000                2             1\n",
       "4  Albert Gore, Jr.  2000   January   0.000000                6             1"
      ]
     },
     "execution_count": 142,
     "metadata": {},
     "output_type": "execute_result"
    }
   ],
   "source": [
    "CandiPopMonth = CandiPopMonth.merge(CandiCountsMonth).merge(CandiSpeechCountsMonth)\n",
    "CandiPopMonth.head()"
   ]
  },
  {
   "cell_type": "code",
   "execution_count": 143,
   "metadata": {},
   "outputs": [],
   "source": [
    "CandiPopMonth.rename(columns={'Pop_class': 'Pop_prop', 'Subspeech_index': 'Subspeech_counts', 'Speech_index': 'Speech_counts' }, \n",
    "                      inplace = True)"
   ]
  },
  {
   "cell_type": "code",
   "execution_count": 145,
   "metadata": {},
   "outputs": [],
   "source": [
    "CandiPopMonth = CandiPopMonth[CandiPopMonth.Year.isin(Polls.Year) & CandiPopMonth.Candidate.isin(Polls.Candidate)]"
   ]
  },
  {
   "cell_type": "code",
   "execution_count": 149,
   "metadata": {},
   "outputs": [],
   "source": [
    "CandiPopMonth.to_csv('CandidateYearMonth_Level_Pop.csv', index=False)"
   ]
  },
  {
   "cell_type": "code",
   "execution_count": null,
   "metadata": {},
   "outputs": [],
   "source": []
  }
 ],
 "metadata": {
  "kernelspec": {
   "display_name": "Python 3",
   "language": "python",
   "name": "python3"
  },
  "language_info": {
   "codemirror_mode": {
    "name": "ipython",
    "version": 3
   },
   "file_extension": ".py",
   "mimetype": "text/x-python",
   "name": "python",
   "nbconvert_exporter": "python",
   "pygments_lexer": "ipython3",
   "version": "3.7.3"
  }
 },
 "nbformat": 4,
 "nbformat_minor": 2
}
