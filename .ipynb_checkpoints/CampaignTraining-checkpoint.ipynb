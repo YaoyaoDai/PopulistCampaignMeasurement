{
 "cells": [
  {
   "cell_type": "code",
   "execution_count": 1,
   "metadata": {
    "collapsed": true
   },
   "outputs": [],
   "source": [
    "import pandas as pd\n",
    "import numpy as np\n",
    "import csv\n",
    "import json\n",
    "import string\n",
    "import random\n",
    "import re\n",
    "\n",
    "np.random.seed(1234)\n",
    "random.seed(1234)"
   ]
  },
  {
   "cell_type": "markdown",
   "metadata": {},
   "source": [
    "## Load Data, Clean, Define Document Level"
   ]
  },
  {
   "cell_type": "code",
   "execution_count": 14,
   "metadata": {},
   "outputs": [
    {
     "data": {
      "text/html": [
       "<div>\n",
       "<style>\n",
       "    .dataframe thead tr:only-child th {\n",
       "        text-align: right;\n",
       "    }\n",
       "\n",
       "    .dataframe thead th {\n",
       "        text-align: left;\n",
       "    }\n",
       "\n",
       "    .dataframe tbody tr th {\n",
       "        vertical-align: top;\n",
       "    }\n",
       "</style>\n",
       "<table border=\"1\" class=\"dataframe\">\n",
       "  <thead>\n",
       "    <tr style=\"text-align: right;\">\n",
       "      <th></th>\n",
       "      <th>0</th>\n",
       "      <th>1</th>\n",
       "      <th>2</th>\n",
       "      <th>3</th>\n",
       "      <th>4</th>\n",
       "      <th>5</th>\n",
       "    </tr>\n",
       "  </thead>\n",
       "  <tbody>\n",
       "    <tr>\n",
       "      <th>0</th>\n",
       "      <td>Donald J. Trump</td>\n",
       "      <td>\\nRemarks at a \"Make America Great Again\" Rall...</td>\n",
       "      <td>\\nNovember 26, 2018</td>\n",
       "      <td>\\nPRESIDENT DONALD TRUMP: Thank you, thank you...</td>\n",
       "      <td>Campaign Documents</td>\n",
       "      <td>/documents/remarks-make-america-great-again-ra...</td>\n",
       "    </tr>\n",
       "    <tr>\n",
       "      <th>1</th>\n",
       "      <td>Donald J. Trump</td>\n",
       "      <td>\\nRemarks at a “Make America Great Again” Rall...</td>\n",
       "      <td>\\nOctober 20, 2018</td>\n",
       "      <td>\\nThe President: Thank you very much, and hell...</td>\n",
       "      <td>Campaign Documents</td>\n",
       "      <td>/documents/remarks-make-america-great-again-ra...</td>\n",
       "    </tr>\n",
       "    <tr>\n",
       "      <th>2</th>\n",
       "      <td>Donald J. Trump</td>\n",
       "      <td>\\nRemarks at a “Make America Great Again” Rall...</td>\n",
       "      <td>\\nSeptember 29, 2018</td>\n",
       "      <td>\\n[music:  John Denver, \"Take Me Home, Country...</td>\n",
       "      <td>Campaign Documents</td>\n",
       "      <td>/documents/remarks-make-america-great-again-ra...</td>\n",
       "    </tr>\n",
       "    <tr>\n",
       "      <th>3</th>\n",
       "      <td>Donald J. Trump</td>\n",
       "      <td>\\nRemarks at a “Make America Great Again” Rall...</td>\n",
       "      <td>\\nSeptember 06, 2018</td>\n",
       "      <td>\\nPRESIDENT DONALD TRUMP:  Thank you. Thank yo...</td>\n",
       "      <td>Campaign Documents</td>\n",
       "      <td>/documents/remarks-make-america-great-again-ra...</td>\n",
       "    </tr>\n",
       "    <tr>\n",
       "      <th>4</th>\n",
       "      <td>Donald J. Trump</td>\n",
       "      <td>\\nRemarks at a “Make America Great Again” Rall...</td>\n",
       "      <td>\\nAugust 30, 2018</td>\n",
       "      <td>\\nPRESIDENT DONALD TRUMP: Evansville, you are ...</td>\n",
       "      <td>Campaign Documents</td>\n",
       "      <td>/documents/remarks-make-america-great-again-ra...</td>\n",
       "    </tr>\n",
       "  </tbody>\n",
       "</table>\n",
       "</div>"
      ],
      "text/plain": [
       "                 0                                                  1  \\\n",
       "0  Donald J. Trump  \\nRemarks at a \"Make America Great Again\" Rall...   \n",
       "1  Donald J. Trump  \\nRemarks at a “Make America Great Again” Rall...   \n",
       "2  Donald J. Trump  \\nRemarks at a “Make America Great Again” Rall...   \n",
       "3  Donald J. Trump  \\nRemarks at a “Make America Great Again” Rall...   \n",
       "4  Donald J. Trump  \\nRemarks at a “Make America Great Again” Rall...   \n",
       "\n",
       "                       2                                                  3  \\\n",
       "0   \\nNovember 26, 2018   \\nPRESIDENT DONALD TRUMP: Thank you, thank you...   \n",
       "1    \\nOctober 20, 2018   \\nThe President: Thank you very much, and hell...   \n",
       "2  \\nSeptember 29, 2018   \\n[music:  John Denver, \"Take Me Home, Country...   \n",
       "3  \\nSeptember 06, 2018   \\nPRESIDENT DONALD TRUMP:  Thank you. Thank yo...   \n",
       "4     \\nAugust 30, 2018   \\nPRESIDENT DONALD TRUMP: Evansville, you are ...   \n",
       "\n",
       "                    4                                                  5  \n",
       "0  Campaign Documents  /documents/remarks-make-america-great-again-ra...  \n",
       "1  Campaign Documents  /documents/remarks-make-america-great-again-ra...  \n",
       "2  Campaign Documents  /documents/remarks-make-america-great-again-ra...  \n",
       "3  Campaign Documents  /documents/remarks-make-america-great-again-ra...  \n",
       "4  Campaign Documents  /documents/remarks-make-america-great-again-ra...  "
      ]
     },
     "execution_count": 14,
     "metadata": {},
     "output_type": "execute_result"
    }
   ],
   "source": [
    "CSpeech = pd.read_csv('CampaignSpeech.csv', header=None)\n",
    "CSpeech.head()"
   ]
  },
  {
   "cell_type": "code",
   "execution_count": 15,
   "metadata": {},
   "outputs": [
    {
     "data": {
      "text/html": [
       "<div>\n",
       "<style>\n",
       "    .dataframe thead tr:only-child th {\n",
       "        text-align: right;\n",
       "    }\n",
       "\n",
       "    .dataframe thead th {\n",
       "        text-align: left;\n",
       "    }\n",
       "\n",
       "    .dataframe tbody tr th {\n",
       "        vertical-align: top;\n",
       "    }\n",
       "</style>\n",
       "<table border=\"1\" class=\"dataframe\">\n",
       "  <thead>\n",
       "    <tr style=\"text-align: right;\">\n",
       "      <th></th>\n",
       "      <th>Candidate</th>\n",
       "      <th>Title</th>\n",
       "      <th>Date</th>\n",
       "      <th>Content</th>\n",
       "      <th>Type</th>\n",
       "      <th>URL</th>\n",
       "    </tr>\n",
       "  </thead>\n",
       "  <tbody>\n",
       "    <tr>\n",
       "      <th>0</th>\n",
       "      <td>Donald J. Trump</td>\n",
       "      <td>\\nRemarks at a \"Make America Great Again\" Rall...</td>\n",
       "      <td>\\nNovember 26, 2018</td>\n",
       "      <td>\\nPRESIDENT DONALD TRUMP: Thank you, thank you...</td>\n",
       "      <td>Campaign Documents</td>\n",
       "      <td>/documents/remarks-make-america-great-again-ra...</td>\n",
       "    </tr>\n",
       "    <tr>\n",
       "      <th>1</th>\n",
       "      <td>Donald J. Trump</td>\n",
       "      <td>\\nRemarks at a “Make America Great Again” Rall...</td>\n",
       "      <td>\\nOctober 20, 2018</td>\n",
       "      <td>\\nThe President: Thank you very much, and hell...</td>\n",
       "      <td>Campaign Documents</td>\n",
       "      <td>/documents/remarks-make-america-great-again-ra...</td>\n",
       "    </tr>\n",
       "    <tr>\n",
       "      <th>2</th>\n",
       "      <td>Donald J. Trump</td>\n",
       "      <td>\\nRemarks at a “Make America Great Again” Rall...</td>\n",
       "      <td>\\nSeptember 29, 2018</td>\n",
       "      <td>\\n[music:  John Denver, \"Take Me Home, Country...</td>\n",
       "      <td>Campaign Documents</td>\n",
       "      <td>/documents/remarks-make-america-great-again-ra...</td>\n",
       "    </tr>\n",
       "    <tr>\n",
       "      <th>3</th>\n",
       "      <td>Donald J. Trump</td>\n",
       "      <td>\\nRemarks at a “Make America Great Again” Rall...</td>\n",
       "      <td>\\nSeptember 06, 2018</td>\n",
       "      <td>\\nPRESIDENT DONALD TRUMP:  Thank you. Thank yo...</td>\n",
       "      <td>Campaign Documents</td>\n",
       "      <td>/documents/remarks-make-america-great-again-ra...</td>\n",
       "    </tr>\n",
       "    <tr>\n",
       "      <th>4</th>\n",
       "      <td>Donald J. Trump</td>\n",
       "      <td>\\nRemarks at a “Make America Great Again” Rall...</td>\n",
       "      <td>\\nAugust 30, 2018</td>\n",
       "      <td>\\nPRESIDENT DONALD TRUMP: Evansville, you are ...</td>\n",
       "      <td>Campaign Documents</td>\n",
       "      <td>/documents/remarks-make-america-great-again-ra...</td>\n",
       "    </tr>\n",
       "  </tbody>\n",
       "</table>\n",
       "</div>"
      ],
      "text/plain": [
       "         Candidate                                              Title  \\\n",
       "0  Donald J. Trump  \\nRemarks at a \"Make America Great Again\" Rall...   \n",
       "1  Donald J. Trump  \\nRemarks at a “Make America Great Again” Rall...   \n",
       "2  Donald J. Trump  \\nRemarks at a “Make America Great Again” Rall...   \n",
       "3  Donald J. Trump  \\nRemarks at a “Make America Great Again” Rall...   \n",
       "4  Donald J. Trump  \\nRemarks at a “Make America Great Again” Rall...   \n",
       "\n",
       "                    Date                                            Content  \\\n",
       "0   \\nNovember 26, 2018   \\nPRESIDENT DONALD TRUMP: Thank you, thank you...   \n",
       "1    \\nOctober 20, 2018   \\nThe President: Thank you very much, and hell...   \n",
       "2  \\nSeptember 29, 2018   \\n[music:  John Denver, \"Take Me Home, Country...   \n",
       "3  \\nSeptember 06, 2018   \\nPRESIDENT DONALD TRUMP:  Thank you. Thank yo...   \n",
       "4     \\nAugust 30, 2018   \\nPRESIDENT DONALD TRUMP: Evansville, you are ...   \n",
       "\n",
       "                 Type                                                URL  \n",
       "0  Campaign Documents  /documents/remarks-make-america-great-again-ra...  \n",
       "1  Campaign Documents  /documents/remarks-make-america-great-again-ra...  \n",
       "2  Campaign Documents  /documents/remarks-make-america-great-again-ra...  \n",
       "3  Campaign Documents  /documents/remarks-make-america-great-again-ra...  \n",
       "4  Campaign Documents  /documents/remarks-make-america-great-again-ra...  "
      ]
     },
     "execution_count": 15,
     "metadata": {},
     "output_type": "execute_result"
    }
   ],
   "source": [
    "CSpeech.columns = ['Candidate','Title','Date','Content','Type','URL']\n",
    "CSpeech.head()"
   ]
  },
  {
   "cell_type": "code",
   "execution_count": 16,
   "metadata": {
    "collapsed": true
   },
   "outputs": [],
   "source": [
    "CSpeech['Year'] = [int(re.split(',',x)[1].strip()) for x in CSpeech.Date]"
   ]
  },
  {
   "cell_type": "code",
   "execution_count": 17,
   "metadata": {},
   "outputs": [],
   "source": [
    "CSpeech['Month'] = [re.split(',',x)[0].strip('\\n')[:-3] for x in CSpeech.Date]\n",
    "CSpeech['Day'] = [int(re.split(',',x)[0].strip('\\n')[-2:]) for x in CSpeech.Date]"
   ]
  },
  {
   "cell_type": "code",
   "execution_count": 19,
   "metadata": {},
   "outputs": [],
   "source": [
    "CSpeech['Speech_index']= ['Speech'+ str(x) for x in range(0,len(CSpeech.Title))]"
   ]
  },
  {
   "cell_type": "markdown",
   "metadata": {},
   "source": [
    "### Create Sub-speech"
   ]
  },
  {
   "cell_type": "code",
   "execution_count": 27,
   "metadata": {
    "collapsed": true
   },
   "outputs": [],
   "source": [
    "sub_dict = {'Subspeech_index':[], 'SubContent':[], 'Speech_index':[]}"
   ]
  },
  {
   "cell_type": "code",
   "execution_count": 28,
   "metadata": {},
   "outputs": [],
   "source": [
    "# Save every 10 lines into a subspeech e.g. [0,10)\n",
    "\n",
    "for i,text in enumerate(CSpeech['Content']): \n",
    "    splited = re.split('\\n',text)\n",
    "    length = len(re.split('\\n',text))\n",
    "    if length > 10:\n",
    "        a = list(range(0,length,10)) \n",
    "        for j in a[:-2]:\n",
    "            rowvalue = []\n",
    "            upper=j+10\n",
    "            sub_dict['Subspeech_index'].append(CSpeech['Speech_index'][i]+'_'+str(j)+ ':' + str(upper))\n",
    "            sub_dict['SubContent'].append(splited[j: upper])\n",
    "            sub_dict['Speech_index'].append(CSpeech['Speech_index'][i])\n",
    "            \n",
    "        sub_dict['Subspeech_index'].append(CSpeech['Speech_index'][i]+'_'+ str(a[-2])+ ':' + str(length))\n",
    "        sub_dict['SubContent'].append(splited[a[-2]: length])\n",
    "        sub_dict['Speech_index'].append(CSpeech['Speech_index'][i])\n",
    "    else:\n",
    "        sub_dict['Subspeech_index'].append(CSpeech['Speech_index'][i] +'_'+str(0)+ ':' + str(length))\n",
    "        sub_dict['SubContent'].append(splited[: length])\n",
    "        sub_dict['Speech_index'].append(CSpeech['Speech_index'][i])"
   ]
  },
  {
   "cell_type": "code",
   "execution_count": 25,
   "metadata": {},
   "outputs": [
    {
     "data": {
      "text/plain": [
       "[0, 10]"
      ]
     },
     "execution_count": 25,
     "metadata": {},
     "output_type": "execute_result"
    }
   ],
   "source": [
    "list(range(0,15,10)) "
   ]
  },
  {
   "cell_type": "code",
   "execution_count": 33,
   "metadata": {},
   "outputs": [
    {
     "data": {
      "text/html": [
       "<div>\n",
       "<style>\n",
       "    .dataframe thead tr:only-child th {\n",
       "        text-align: right;\n",
       "    }\n",
       "\n",
       "    .dataframe thead th {\n",
       "        text-align: left;\n",
       "    }\n",
       "\n",
       "    .dataframe tbody tr th {\n",
       "        vertical-align: top;\n",
       "    }\n",
       "</style>\n",
       "<table border=\"1\" class=\"dataframe\">\n",
       "  <thead>\n",
       "    <tr style=\"text-align: right;\">\n",
       "      <th></th>\n",
       "      <th>Speech_index</th>\n",
       "      <th>SubContent</th>\n",
       "      <th>Subspeech_index</th>\n",
       "    </tr>\n",
       "  </thead>\n",
       "  <tbody>\n",
       "    <tr>\n",
       "      <th>0</th>\n",
       "      <td>Speech0</td>\n",
       "      <td>[, PRESIDENT DONALD TRUMP: Thank you, thank yo...</td>\n",
       "      <td>Speech0_0:10</td>\n",
       "    </tr>\n",
       "    <tr>\n",
       "      <th>1</th>\n",
       "      <td>Speech0</td>\n",
       "      <td>[The unemployment rate just hit the lowest lev...</td>\n",
       "      <td>Speech0_10:20</td>\n",
       "    </tr>\n",
       "    <tr>\n",
       "      <th>2</th>\n",
       "      <td>Speech0</td>\n",
       "      <td>[And I'll tell you, a little—a little tricky b...</td>\n",
       "      <td>Speech0_20:30</td>\n",
       "    </tr>\n",
       "    <tr>\n",
       "      <th>3</th>\n",
       "      <td>Speech0</td>\n",
       "      <td>[You are here, he is here to help elect Cindy ...</td>\n",
       "      <td>Speech0_30:40</td>\n",
       "    </tr>\n",
       "    <tr>\n",
       "      <th>4</th>\n",
       "      <td>Speech0</td>\n",
       "      <td>[What a great crowd we have tonight for you. I...</td>\n",
       "      <td>Speech0_40:50</td>\n",
       "    </tr>\n",
       "  </tbody>\n",
       "</table>\n",
       "</div>"
      ],
      "text/plain": [
       "  Speech_index                                         SubContent  \\\n",
       "0      Speech0  [, PRESIDENT DONALD TRUMP: Thank you, thank yo...   \n",
       "1      Speech0  [The unemployment rate just hit the lowest lev...   \n",
       "2      Speech0  [And I'll tell you, a little—a little tricky b...   \n",
       "3      Speech0  [You are here, he is here to help elect Cindy ...   \n",
       "4      Speech0  [What a great crowd we have tonight for you. I...   \n",
       "\n",
       "  Subspeech_index  \n",
       "0    Speech0_0:10  \n",
       "1   Speech0_10:20  \n",
       "2   Speech0_20:30  \n",
       "3   Speech0_30:40  \n",
       "4   Speech0_40:50  "
      ]
     },
     "execution_count": 33,
     "metadata": {},
     "output_type": "execute_result"
    }
   ],
   "source": [
    "Sub_Speech = pd.DataFrame.from_dict(sub_dict)\n",
    "Sub_Speech.head()"
   ]
  },
  {
   "cell_type": "code",
   "execution_count": 34,
   "metadata": {},
   "outputs": [
    {
     "data": {
      "text/html": [
       "<div>\n",
       "<style>\n",
       "    .dataframe thead tr:only-child th {\n",
       "        text-align: right;\n",
       "    }\n",
       "\n",
       "    .dataframe thead th {\n",
       "        text-align: left;\n",
       "    }\n",
       "\n",
       "    .dataframe tbody tr th {\n",
       "        vertical-align: top;\n",
       "    }\n",
       "</style>\n",
       "<table border=\"1\" class=\"dataframe\">\n",
       "  <thead>\n",
       "    <tr style=\"text-align: right;\">\n",
       "      <th></th>\n",
       "      <th>Speech_index</th>\n",
       "      <th>SubContent</th>\n",
       "      <th>Subspeech_index</th>\n",
       "      <th>Candidate</th>\n",
       "      <th>Title</th>\n",
       "      <th>Date</th>\n",
       "      <th>Content</th>\n",
       "      <th>Type</th>\n",
       "      <th>URL</th>\n",
       "      <th>Year</th>\n",
       "      <th>Month</th>\n",
       "      <th>Day</th>\n",
       "    </tr>\n",
       "  </thead>\n",
       "  <tbody>\n",
       "    <tr>\n",
       "      <th>0</th>\n",
       "      <td>Speech0</td>\n",
       "      <td>[, PRESIDENT DONALD TRUMP: Thank you, thank yo...</td>\n",
       "      <td>Speech0_0:10</td>\n",
       "      <td>Donald J. Trump</td>\n",
       "      <td>\\nRemarks at a \"Make America Great Again\" Rall...</td>\n",
       "      <td>\\nNovember 26, 2018</td>\n",
       "      <td>\\nPRESIDENT DONALD TRUMP: Thank you, thank you...</td>\n",
       "      <td>Campaign Documents</td>\n",
       "      <td>/documents/remarks-make-america-great-again-ra...</td>\n",
       "      <td>2018</td>\n",
       "      <td>November</td>\n",
       "      <td>26</td>\n",
       "    </tr>\n",
       "    <tr>\n",
       "      <th>1</th>\n",
       "      <td>Speech0</td>\n",
       "      <td>[The unemployment rate just hit the lowest lev...</td>\n",
       "      <td>Speech0_10:20</td>\n",
       "      <td>Donald J. Trump</td>\n",
       "      <td>\\nRemarks at a \"Make America Great Again\" Rall...</td>\n",
       "      <td>\\nNovember 26, 2018</td>\n",
       "      <td>\\nPRESIDENT DONALD TRUMP: Thank you, thank you...</td>\n",
       "      <td>Campaign Documents</td>\n",
       "      <td>/documents/remarks-make-america-great-again-ra...</td>\n",
       "      <td>2018</td>\n",
       "      <td>November</td>\n",
       "      <td>26</td>\n",
       "    </tr>\n",
       "    <tr>\n",
       "      <th>2</th>\n",
       "      <td>Speech0</td>\n",
       "      <td>[And I'll tell you, a little—a little tricky b...</td>\n",
       "      <td>Speech0_20:30</td>\n",
       "      <td>Donald J. Trump</td>\n",
       "      <td>\\nRemarks at a \"Make America Great Again\" Rall...</td>\n",
       "      <td>\\nNovember 26, 2018</td>\n",
       "      <td>\\nPRESIDENT DONALD TRUMP: Thank you, thank you...</td>\n",
       "      <td>Campaign Documents</td>\n",
       "      <td>/documents/remarks-make-america-great-again-ra...</td>\n",
       "      <td>2018</td>\n",
       "      <td>November</td>\n",
       "      <td>26</td>\n",
       "    </tr>\n",
       "    <tr>\n",
       "      <th>3</th>\n",
       "      <td>Speech0</td>\n",
       "      <td>[You are here, he is here to help elect Cindy ...</td>\n",
       "      <td>Speech0_30:40</td>\n",
       "      <td>Donald J. Trump</td>\n",
       "      <td>\\nRemarks at a \"Make America Great Again\" Rall...</td>\n",
       "      <td>\\nNovember 26, 2018</td>\n",
       "      <td>\\nPRESIDENT DONALD TRUMP: Thank you, thank you...</td>\n",
       "      <td>Campaign Documents</td>\n",
       "      <td>/documents/remarks-make-america-great-again-ra...</td>\n",
       "      <td>2018</td>\n",
       "      <td>November</td>\n",
       "      <td>26</td>\n",
       "    </tr>\n",
       "    <tr>\n",
       "      <th>4</th>\n",
       "      <td>Speech0</td>\n",
       "      <td>[What a great crowd we have tonight for you. I...</td>\n",
       "      <td>Speech0_40:50</td>\n",
       "      <td>Donald J. Trump</td>\n",
       "      <td>\\nRemarks at a \"Make America Great Again\" Rall...</td>\n",
       "      <td>\\nNovember 26, 2018</td>\n",
       "      <td>\\nPRESIDENT DONALD TRUMP: Thank you, thank you...</td>\n",
       "      <td>Campaign Documents</td>\n",
       "      <td>/documents/remarks-make-america-great-again-ra...</td>\n",
       "      <td>2018</td>\n",
       "      <td>November</td>\n",
       "      <td>26</td>\n",
       "    </tr>\n",
       "  </tbody>\n",
       "</table>\n",
       "</div>"
      ],
      "text/plain": [
       "  Speech_index                                         SubContent  \\\n",
       "0      Speech0  [, PRESIDENT DONALD TRUMP: Thank you, thank yo...   \n",
       "1      Speech0  [The unemployment rate just hit the lowest lev...   \n",
       "2      Speech0  [And I'll tell you, a little—a little tricky b...   \n",
       "3      Speech0  [You are here, he is here to help elect Cindy ...   \n",
       "4      Speech0  [What a great crowd we have tonight for you. I...   \n",
       "\n",
       "  Subspeech_index        Candidate  \\\n",
       "0    Speech0_0:10  Donald J. Trump   \n",
       "1   Speech0_10:20  Donald J. Trump   \n",
       "2   Speech0_20:30  Donald J. Trump   \n",
       "3   Speech0_30:40  Donald J. Trump   \n",
       "4   Speech0_40:50  Donald J. Trump   \n",
       "\n",
       "                                               Title                  Date  \\\n",
       "0  \\nRemarks at a \"Make America Great Again\" Rall...  \\nNovember 26, 2018    \n",
       "1  \\nRemarks at a \"Make America Great Again\" Rall...  \\nNovember 26, 2018    \n",
       "2  \\nRemarks at a \"Make America Great Again\" Rall...  \\nNovember 26, 2018    \n",
       "3  \\nRemarks at a \"Make America Great Again\" Rall...  \\nNovember 26, 2018    \n",
       "4  \\nRemarks at a \"Make America Great Again\" Rall...  \\nNovember 26, 2018    \n",
       "\n",
       "                                             Content                Type  \\\n",
       "0  \\nPRESIDENT DONALD TRUMP: Thank you, thank you...  Campaign Documents   \n",
       "1  \\nPRESIDENT DONALD TRUMP: Thank you, thank you...  Campaign Documents   \n",
       "2  \\nPRESIDENT DONALD TRUMP: Thank you, thank you...  Campaign Documents   \n",
       "3  \\nPRESIDENT DONALD TRUMP: Thank you, thank you...  Campaign Documents   \n",
       "4  \\nPRESIDENT DONALD TRUMP: Thank you, thank you...  Campaign Documents   \n",
       "\n",
       "                                                 URL  Year     Month  Day  \n",
       "0  /documents/remarks-make-america-great-again-ra...  2018  November   26  \n",
       "1  /documents/remarks-make-america-great-again-ra...  2018  November   26  \n",
       "2  /documents/remarks-make-america-great-again-ra...  2018  November   26  \n",
       "3  /documents/remarks-make-america-great-again-ra...  2018  November   26  \n",
       "4  /documents/remarks-make-america-great-again-ra...  2018  November   26  "
      ]
     },
     "execution_count": 34,
     "metadata": {},
     "output_type": "execute_result"
    }
   ],
   "source": [
    "SubSpeech = Sub_Speech.merge(CSpeech, left_on='Speech_index', right_on = 'Speech_index')\n",
    "SubSpeech.head()"
   ]
  },
  {
   "cell_type": "code",
   "execution_count": 35,
   "metadata": {
    "collapsed": true
   },
   "outputs": [],
   "source": [
    "SubSpeech.to_csv(\"SubSpeech.csv\")"
   ]
  },
  {
   "cell_type": "markdown",
   "metadata": {},
   "source": [
    "## Create Training Data for Annotation (prodigy)"
   ]
  },
  {
   "cell_type": "code",
   "execution_count": 36,
   "metadata": {},
   "outputs": [
    {
     "data": {
      "text/plain": [
       "11929"
      ]
     },
     "execution_count": 36,
     "metadata": {},
     "output_type": "execute_result"
    }
   ],
   "source": [
    "len(SubSpeech.Subspeech_index)"
   ]
  },
  {
   "cell_type": "code",
   "execution_count": 44,
   "metadata": {},
   "outputs": [
    {
     "data": {
      "text/plain": [
       "76"
      ]
     },
     "execution_count": 44,
     "metadata": {},
     "output_type": "execute_result"
    }
   ],
   "source": [
    "len(pd.unique(CSpeech.Year))"
   ]
  },
  {
   "cell_type": "code",
   "execution_count": 42,
   "metadata": {},
   "outputs": [
    {
     "data": {
      "text/plain": [
       "1960    881\n",
       "2008    461\n",
       "2012    343\n",
       "2007    256\n",
       "2016    204\n",
       "2015    119\n",
       "2011    105\n",
       "2004     96\n",
       "1996     81\n",
       "2014     32\n",
       "1968     29\n",
       "1932     23\n",
       "2000     21\n",
       "1980     13\n",
       "2013     12\n",
       "2018     11\n",
       "2009      8\n",
       "1992      6\n",
       "1995      6\n",
       "2010      4\n",
       "1988      3\n",
       "2006      3\n",
       "1984      2\n",
       "1976      2\n",
       "1972      2\n",
       "1964      2\n",
       "1999      2\n",
       "2003      2\n",
       "2002      1\n",
       "1971      1\n",
       "1979      1\n",
       "1983      1\n",
       "1985      1\n",
       "1974      1\n",
       "1991      1\n",
       "1956      1\n",
       "1952      1\n",
       "1912      1\n",
       "Name: Year, dtype: int64"
      ]
     },
     "execution_count": 42,
     "metadata": {},
     "output_type": "execute_result"
    }
   ],
   "source": [
    "CSpeech['Year'].value_counts()"
   ]
  },
  {
   "cell_type": "code",
   "execution_count": 50,
   "metadata": {},
   "outputs": [
    {
     "data": {
      "text/plain": [
       "John F. Kennedy      600\n",
       "Richard Nixon        280\n",
       "Lyndon B. Johnson      1\n",
       "Name: Candidate, dtype: int64"
      ]
     },
     "execution_count": 50,
     "metadata": {},
     "output_type": "execute_result"
    }
   ],
   "source": [
    "CSpeech.Candidate[CSpeech['Year']==1960].value_counts()"
   ]
  },
  {
   "cell_type": "code",
   "execution_count": 51,
   "metadata": {},
   "outputs": [
    {
     "data": {
      "text/plain": [
       "John F. Kennedy          600\n",
       "Barack Obama             582\n",
       "Richard Nixon            311\n",
       "Hillary Clinton          196\n",
       "John McCain              178\n",
       "Mitt Romney              136\n",
       "John F. Kerry             88\n",
       "Donald J. Trump           86\n",
       "Robert Dole               83\n",
       "Bernie Sanders            60\n",
       "Rudy Giuliani             38\n",
       "John Edwards              37\n",
       "Bill Richardson           31\n",
       "Franklin D. Roosevelt     23\n",
       "Joe Biden                 22\n",
       "Rick Santorum             20\n",
       "Sarah Palin               19\n",
       "Newt Gingrich             17\n",
       "Fred Thompson             16\n",
       "Albert Gore, Jr.          16\n",
       "Rick Perry                16\n",
       "Mike Huckabee             16\n",
       "Ronald Reagan             14\n",
       "Ron Paul                  12\n",
       "Martin O'Malley           11\n",
       "William J. Clinton         9\n",
       "George W. Bush             9\n",
       "Michele Bachmann           8\n",
       "Ted Cruz                   6\n",
       "Jeb Bush                   6\n",
       "                        ... \n",
       "Lincoln Chafee             3\n",
       "Tim Pawlenty               3\n",
       "Scott Walker               3\n",
       "Lindsey Graham             3\n",
       "Herman Cain                3\n",
       "Jimmy Carter               3\n",
       "Walter F. Mondale          3\n",
       "Tim Kaine                  2\n",
       "Mike Pence                 2\n",
       "Rand Paul                  2\n",
       "Ben Carson                 2\n",
       "Chris Christie             2\n",
       "John Kasich                2\n",
       "H. Ross Perot              2\n",
       "Gerald R. Ford             1\n",
       "Lyndon B. Johnson          1\n",
       "Jack Kemp                  1\n",
       "Jim Webb                   1\n",
       "William Howard Taft        1\n",
       "George McGovern            1\n",
       "Barry Goldwater            1\n",
       "Joseph Lieberman           1\n",
       "George Pataki              1\n",
       "Bobby Jindal               1\n",
       "Hubert H. Humphrey         1\n",
       "John Anderson              1\n",
       "Carly Fiorina              1\n",
       "Dwight D. Eisenhower       1\n",
       "Patrick J. Buchanan        1\n",
       "Michael S. Dukakis         1\n",
       "Name: Candidate, Length: 65, dtype: int64"
      ]
     },
     "execution_count": 51,
     "metadata": {},
     "output_type": "execute_result"
    }
   ],
   "source": [
    "CSpeech.Candidate.value_counts()"
   ]
  },
  {
   "cell_type": "code",
   "execution_count": null,
   "metadata": {
    "collapsed": true
   },
   "outputs": [],
   "source": []
  }
 ],
 "metadata": {
  "kernelspec": {
   "display_name": "Python 3",
   "language": "python",
   "name": "python3"
  },
  "language_info": {
   "codemirror_mode": {
    "name": "ipython",
    "version": 3
   },
   "file_extension": ".py",
   "mimetype": "text/x-python",
   "name": "python",
   "nbconvert_exporter": "python",
   "pygments_lexer": "ipython3",
   "version": "3.6.1"
  }
 },
 "nbformat": 4,
 "nbformat_minor": 2
}
