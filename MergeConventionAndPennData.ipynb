{
 "cells": [
  {
   "cell_type": "code",
   "execution_count": 1,
   "metadata": {},
   "outputs": [],
   "source": [
    "import requests\n",
    "import urllib.request\n",
    "import time\n",
    "from bs4 import BeautifulSoup"
   ]
  },
  {
   "cell_type": "code",
   "execution_count": 2,
   "metadata": {},
   "outputs": [],
   "source": [
    "import csv\n",
    "import json\n",
    "import pandas as pd\n",
    "import numpy as np\n",
    "from datetime import datetime\n",
    "import re"
   ]
  },
  {
   "cell_type": "markdown",
   "metadata": {},
   "source": [
    "## Speeches URLs¶"
   ]
  },
  {
   "cell_type": "code",
   "execution_count": 7,
   "metadata": {},
   "outputs": [],
   "source": [
    "web = \"https://www.presidency.ucsb.edu\"\n",
    "campaignroot0 = \"/documents/app-categories/elections-and-transitions/convention-speeches\"\n",
    "campaignrootpage = requests.get(web + campaignroot0)"
   ]
  },
  {
   "cell_type": "code",
   "execution_count": 8,
   "metadata": {},
   "outputs": [],
   "source": [
    "campaignrootsoup = BeautifulSoup(campaignrootpage.text, \"html.parser\")"
   ]
  },
  {
   "cell_type": "code",
   "execution_count": 9,
   "metadata": {},
   "outputs": [],
   "source": [
    "campaignroot = []\n",
    "campaignroot.append(campaignroot0)\n",
    "bottom = campaignrootsoup.findAll('ul', attrs = {'class':'pagination'})[0].findAll('a')\n",
    "\n",
    "while bottom[-2].text == 'next ›':\n",
    "    nexturl = bottom[-2]['href']\n",
    "    campaignroot.append(nexturl)\n",
    "    page = requests.get(web + nexturl)\n",
    "    soup = BeautifulSoup(page.text,\"html.parser\")\n",
    "    bottom = soup.findAll('ul', attrs = {'class':'pagination'})[0].findAll('a')"
   ]
  },
  {
   "cell_type": "code",
   "execution_count": 11,
   "metadata": {},
   "outputs": [],
   "source": [
    "TextURLs = []\n",
    "for lk in campaignroot:\n",
    "    pg = requests.get(web + lk)\n",
    "    soup = BeautifulSoup(pg.text, \"html.parser\")\n",
    "    table = soup.findAll('div', attrs = {'class':'field-title'})\n",
    "    for tb in table:\n",
    "        TextURLs.append(tb.a['href'])\n",
    "    time.sleep(0.05)"
   ]
  },
  {
   "cell_type": "markdown",
   "metadata": {},
   "source": [
    "## Scrape Speeches"
   ]
  },
  {
   "cell_type": "code",
   "execution_count": 12,
   "metadata": {},
   "outputs": [],
   "source": [
    "pg = requests.get(web + TextURLs[0])\n",
    "soup = BeautifulSoup(pg.text, \"html.parser\")\n",
    "Content = soup.find('div', attrs = {'class':'field-docs-content'}).text"
   ]
  },
  {
   "cell_type": "code",
   "execution_count": 15,
   "metadata": {},
   "outputs": [
    {
     "name": "stdout",
     "output_type": "stream",
     "text": [
      "0\n"
     ]
    }
   ],
   "source": [
    "for i,url in enumerate(TextURLs):\n",
    "    pg = requests.get(web + url)\n",
    "    soup = BeautifulSoup(pg.text, \"html.parser\")\n",
    "    Title = soup.find('div', attrs={'class':'field-ds-doc-title'}).text\n",
    "    Time = soup.find('div', attrs = {'class':'field-docs-start-date-time'}).text\n",
    "    Content = soup.find('div', attrs = {'class':'field-docs-content'}).text\n",
    "    Name = soup.find('h3', attrs={'class':'diet-title'}).text\n",
    "    Type = \"Convention Speeches\"\n",
    "    time.sleep(0.05)\n",
    "    if i in list(range(0,3000,100)):\n",
    "        print(i)\n",
    "    with open('ConventionSpeech.csv', 'a') as csv_file:\n",
    "        writer = csv.writer(csv_file)\n",
    "        writer.writerow([Name, Title, Time, Content, Type, url])"
   ]
  },
  {
   "cell_type": "markdown",
   "metadata": {},
   "source": [
    "## Merging with speech data"
   ]
  },
  {
   "cell_type": "code",
   "execution_count": 8,
   "metadata": {},
   "outputs": [],
   "source": [
    "Speech = pd.read_csv('CampaignSpeech.csv')"
   ]
  },
  {
   "cell_type": "code",
   "execution_count": 9,
   "metadata": {},
   "outputs": [
    {
     "data": {
      "text/html": [
       "<div>\n",
       "<style scoped>\n",
       "    .dataframe tbody tr th:only-of-type {\n",
       "        vertical-align: middle;\n",
       "    }\n",
       "\n",
       "    .dataframe tbody tr th {\n",
       "        vertical-align: top;\n",
       "    }\n",
       "\n",
       "    .dataframe thead th {\n",
       "        text-align: right;\n",
       "    }\n",
       "</style>\n",
       "<table border=\"1\" class=\"dataframe\">\n",
       "  <thead>\n",
       "    <tr style=\"text-align: right;\">\n",
       "      <th></th>\n",
       "      <th>Candidate</th>\n",
       "      <th>Title</th>\n",
       "      <th>Date</th>\n",
       "      <th>Content</th>\n",
       "      <th>Type</th>\n",
       "      <th>URL</th>\n",
       "      <th>Year</th>\n",
       "      <th>Month</th>\n",
       "      <th>Day</th>\n",
       "      <th>Speech_index</th>\n",
       "    </tr>\n",
       "  </thead>\n",
       "  <tbody>\n",
       "    <tr>\n",
       "      <th>2734</th>\n",
       "      <td>Franklin D. Roosevelt</td>\n",
       "      <td>\\nAddress at Oglethorpe University in Atlanta,...</td>\n",
       "      <td>\\nMay 22, 1932</td>\n",
       "      <td>\\nPresident Jacobs, members and friends of Ogl...</td>\n",
       "      <td>Campaign Documents</td>\n",
       "      <td>/documents/address-oglethorpe-university-atlan...</td>\n",
       "      <td>1932</td>\n",
       "      <td>May</td>\n",
       "      <td>22</td>\n",
       "      <td>Speech2734</td>\n",
       "    </tr>\n",
       "    <tr>\n",
       "      <th>2735</th>\n",
       "      <td>Franklin D. Roosevelt</td>\n",
       "      <td>\\nAddress at Jefferson Day Dinner in St. Paul,...</td>\n",
       "      <td>\\nApril 18, 1932</td>\n",
       "      <td>\\nWhat is the real reason that Jefferson Day D...</td>\n",
       "      <td>Campaign Documents</td>\n",
       "      <td>/documents/address-jefferson-day-dinner-st-pau...</td>\n",
       "      <td>1932</td>\n",
       "      <td>April</td>\n",
       "      <td>18</td>\n",
       "      <td>Speech2735</td>\n",
       "    </tr>\n",
       "    <tr>\n",
       "      <th>2736</th>\n",
       "      <td>Franklin D. Roosevelt</td>\n",
       "      <td>\\nRadio Address From Albany, New York: \"The 'F...</td>\n",
       "      <td>\\nApril 07, 1932</td>\n",
       "      <td>\\nAlthough I understand that I am talking unde...</td>\n",
       "      <td>Campaign Documents</td>\n",
       "      <td>/documents/radio-address-from-albany-new-york-...</td>\n",
       "      <td>1932</td>\n",
       "      <td>April</td>\n",
       "      <td>7</td>\n",
       "      <td>Speech2736</td>\n",
       "    </tr>\n",
       "    <tr>\n",
       "      <th>2737</th>\n",
       "      <td>Franklin D. Roosevelt</td>\n",
       "      <td>\\nThe Governor Enters the First Primary Campai...</td>\n",
       "      <td>\\nJanuary 22, 1932</td>\n",
       "      <td>\\nMy dear Mr. McLean:\\nIf it is the desire of ...</td>\n",
       "      <td>Campaign Documents</td>\n",
       "      <td>/documents/the-governor-enters-the-first-prima...</td>\n",
       "      <td>1932</td>\n",
       "      <td>January</td>\n",
       "      <td>22</td>\n",
       "      <td>Speech2737</td>\n",
       "    </tr>\n",
       "    <tr>\n",
       "      <th>2738</th>\n",
       "      <td>William Howard Taft</td>\n",
       "      <td>\\nRemarks Accepting the Presidential Nominatio...</td>\n",
       "      <td>\\nAugust 01, 1912</td>\n",
       "      <td>\\nMR. ROOT AND CHAIRMEN OF THE NOTIFICATION CO...</td>\n",
       "      <td>Campaign Documents</td>\n",
       "      <td>/documents/remarks-accepting-the-presidential-...</td>\n",
       "      <td>1912</td>\n",
       "      <td>August</td>\n",
       "      <td>1</td>\n",
       "      <td>Speech2738</td>\n",
       "    </tr>\n",
       "  </tbody>\n",
       "</table>\n",
       "</div>"
      ],
      "text/plain": [
       "                  Candidate  \\\n",
       "2734  Franklin D. Roosevelt   \n",
       "2735  Franklin D. Roosevelt   \n",
       "2736  Franklin D. Roosevelt   \n",
       "2737  Franklin D. Roosevelt   \n",
       "2738    William Howard Taft   \n",
       "\n",
       "                                                  Title                 Date  \\\n",
       "2734  \\nAddress at Oglethorpe University in Atlanta,...      \\nMay 22, 1932    \n",
       "2735  \\nAddress at Jefferson Day Dinner in St. Paul,...    \\nApril 18, 1932    \n",
       "2736  \\nRadio Address From Albany, New York: \"The 'F...    \\nApril 07, 1932    \n",
       "2737  \\nThe Governor Enters the First Primary Campai...  \\nJanuary 22, 1932    \n",
       "2738  \\nRemarks Accepting the Presidential Nominatio...   \\nAugust 01, 1912    \n",
       "\n",
       "                                                Content                Type  \\\n",
       "2734  \\nPresident Jacobs, members and friends of Ogl...  Campaign Documents   \n",
       "2735  \\nWhat is the real reason that Jefferson Day D...  Campaign Documents   \n",
       "2736  \\nAlthough I understand that I am talking unde...  Campaign Documents   \n",
       "2737  \\nMy dear Mr. McLean:\\nIf it is the desire of ...  Campaign Documents   \n",
       "2738  \\nMR. ROOT AND CHAIRMEN OF THE NOTIFICATION CO...  Campaign Documents   \n",
       "\n",
       "                                                    URL  Year    Month  Day  \\\n",
       "2734  /documents/address-oglethorpe-university-atlan...  1932      May   22   \n",
       "2735  /documents/address-jefferson-day-dinner-st-pau...  1932    April   18   \n",
       "2736  /documents/radio-address-from-albany-new-york-...  1932    April    7   \n",
       "2737  /documents/the-governor-enters-the-first-prima...  1932  January   22   \n",
       "2738  /documents/remarks-accepting-the-presidential-...  1912   August    1   \n",
       "\n",
       "     Speech_index  \n",
       "2734   Speech2734  \n",
       "2735   Speech2735  \n",
       "2736   Speech2736  \n",
       "2737   Speech2737  \n",
       "2738   Speech2738  "
      ]
     },
     "execution_count": 9,
     "metadata": {},
     "output_type": "execute_result"
    }
   ],
   "source": [
    "Speech.tail()"
   ]
  },
  {
   "cell_type": "code",
   "execution_count": 4,
   "metadata": {},
   "outputs": [],
   "source": [
    "ConventionSpeech = pd.read_csv('ConventionSpeech.csv', header=None)"
   ]
  },
  {
   "cell_type": "code",
   "execution_count": 5,
   "metadata": {},
   "outputs": [
    {
     "data": {
      "text/html": [
       "<div>\n",
       "<style scoped>\n",
       "    .dataframe tbody tr th:only-of-type {\n",
       "        vertical-align: middle;\n",
       "    }\n",
       "\n",
       "    .dataframe tbody tr th {\n",
       "        vertical-align: top;\n",
       "    }\n",
       "\n",
       "    .dataframe thead th {\n",
       "        text-align: right;\n",
       "    }\n",
       "</style>\n",
       "<table border=\"1\" class=\"dataframe\">\n",
       "  <thead>\n",
       "    <tr style=\"text-align: right;\">\n",
       "      <th></th>\n",
       "      <th>Candidate</th>\n",
       "      <th>Title</th>\n",
       "      <th>Date</th>\n",
       "      <th>Content</th>\n",
       "      <th>Type</th>\n",
       "      <th>URL</th>\n",
       "    </tr>\n",
       "  </thead>\n",
       "  <tbody>\n",
       "    <tr>\n",
       "      <th>0</th>\n",
       "      <td>Hillary Clinton</td>\n",
       "      <td>\\nAddress Accepting the Presidential Nominatio...</td>\n",
       "      <td>\\nJuly 28, 2016</td>\n",
       "      <td>\\nThank you all very, very much! Thank you for...</td>\n",
       "      <td>Convention Speeches</td>\n",
       "      <td>/documents/address-accepting-the-presidential-...</td>\n",
       "    </tr>\n",
       "    <tr>\n",
       "      <th>1</th>\n",
       "      <td>Donald J. Trump</td>\n",
       "      <td>\\nAddress Accepting the Presidential Nominatio...</td>\n",
       "      <td>\\nJuly 21, 2016</td>\n",
       "      <td>\\nFriends, delegates and fellow Americans: I h...</td>\n",
       "      <td>Convention Speeches</td>\n",
       "      <td>/documents/address-accepting-the-presidential-...</td>\n",
       "    </tr>\n",
       "    <tr>\n",
       "      <th>2</th>\n",
       "      <td>Barack Obama</td>\n",
       "      <td>\\nRemarks Accepting the Presidential Nominatio...</td>\n",
       "      <td>\\nSeptember 06, 2012</td>\n",
       "      <td>\\nThe First Lady. Thank you so much. Tonight I...</td>\n",
       "      <td>Convention Speeches</td>\n",
       "      <td>/documents/remarks-accepting-the-presidential-...</td>\n",
       "    </tr>\n",
       "    <tr>\n",
       "      <th>3</th>\n",
       "      <td>Mitt Romney</td>\n",
       "      <td>\\nAddress Accepting the Presidential Nominatio...</td>\n",
       "      <td>\\nAugust 30, 2012</td>\n",
       "      <td>\\nMr. Chairman, delegates. I accept your nomin...</td>\n",
       "      <td>Convention Speeches</td>\n",
       "      <td>/documents/address-accepting-the-presidential-...</td>\n",
       "    </tr>\n",
       "    <tr>\n",
       "      <th>4</th>\n",
       "      <td>John McCain</td>\n",
       "      <td>\\nAddress Accepting the Presidential Nominatio...</td>\n",
       "      <td>\\nSeptember 04, 2008</td>\n",
       "      <td>\\nThank you. Thank you all very much. Thank yo...</td>\n",
       "      <td>Convention Speeches</td>\n",
       "      <td>/documents/address-accepting-the-presidential-...</td>\n",
       "    </tr>\n",
       "  </tbody>\n",
       "</table>\n",
       "</div>"
      ],
      "text/plain": [
       "         Candidate                                              Title  \\\n",
       "0  Hillary Clinton  \\nAddress Accepting the Presidential Nominatio...   \n",
       "1  Donald J. Trump  \\nAddress Accepting the Presidential Nominatio...   \n",
       "2     Barack Obama  \\nRemarks Accepting the Presidential Nominatio...   \n",
       "3      Mitt Romney  \\nAddress Accepting the Presidential Nominatio...   \n",
       "4      John McCain  \\nAddress Accepting the Presidential Nominatio...   \n",
       "\n",
       "                    Date                                            Content  \\\n",
       "0       \\nJuly 28, 2016   \\nThank you all very, very much! Thank you for...   \n",
       "1       \\nJuly 21, 2016   \\nFriends, delegates and fellow Americans: I h...   \n",
       "2  \\nSeptember 06, 2012   \\nThe First Lady. Thank you so much. Tonight I...   \n",
       "3     \\nAugust 30, 2012   \\nMr. Chairman, delegates. I accept your nomin...   \n",
       "4  \\nSeptember 04, 2008   \\nThank you. Thank you all very much. Thank yo...   \n",
       "\n",
       "                  Type                                                URL  \n",
       "0  Convention Speeches  /documents/address-accepting-the-presidential-...  \n",
       "1  Convention Speeches  /documents/address-accepting-the-presidential-...  \n",
       "2  Convention Speeches  /documents/remarks-accepting-the-presidential-...  \n",
       "3  Convention Speeches  /documents/address-accepting-the-presidential-...  \n",
       "4  Convention Speeches  /documents/address-accepting-the-presidential-...  "
      ]
     },
     "execution_count": 5,
     "metadata": {},
     "output_type": "execute_result"
    }
   ],
   "source": [
    "ConventionSpeech.columns = ['Candidate','Title','Date','Content','Type','URL']\n",
    "ConventionSpeech.head()"
   ]
  },
  {
   "cell_type": "code",
   "execution_count": 6,
   "metadata": {},
   "outputs": [],
   "source": [
    "ConventionSpeech['Year'] = [int(re.split(',',x)[1].strip()) for x in ConventionSpeech.Date]\n",
    "ConventionSpeech['Month'] = [re.split(',',x)[0].strip('\\n')[:-3] for x in ConventionSpeech.Date]\n",
    "ConventionSpeech['Day'] = [int(re.split(',',x)[0].strip('\\n')[-2:]) for x in ConventionSpeech.Date]"
   ]
  },
  {
   "cell_type": "code",
   "execution_count": 7,
   "metadata": {},
   "outputs": [],
   "source": [
    "ConventionSpeech = ConventionSpeech[(ConventionSpeech.Year < 1952) | (ConventionSpeech.Year > 1996)]"
   ]
  },
  {
   "cell_type": "code",
   "execution_count": 10,
   "metadata": {},
   "outputs": [],
   "source": [
    "ConventionSpeech['Speech_index']= ['Speech'+ str(x) for x in range(len(Speech.Title), len(Speech.Title) + len(ConventionSpeech.Title))]"
   ]
  },
  {
   "cell_type": "code",
   "execution_count": 12,
   "metadata": {},
   "outputs": [
    {
     "data": {
      "text/plain": [
       "25"
      ]
     },
     "execution_count": 12,
     "metadata": {},
     "output_type": "execute_result"
    }
   ],
   "source": [
    "len(ConventionSpeech.Speech_index)"
   ]
  },
  {
   "cell_type": "code",
   "execution_count": 17,
   "metadata": {},
   "outputs": [],
   "source": [
    "Speech = Speech.append(ConventionSpeech)"
   ]
  },
  {
   "cell_type": "code",
   "execution_count": 295,
   "metadata": {},
   "outputs": [],
   "source": [
    "Speech.to_csv(\"CampaignSpeech2.csv\", index = False)"
   ]
  },
  {
   "cell_type": "code",
   "execution_count": 299,
   "metadata": {},
   "outputs": [],
   "source": [
    "ConventionSpeech.to_csv(\"ConventionSpeech2.csv\", index=False)"
   ]
  },
  {
   "cell_type": "markdown",
   "metadata": {},
   "source": [
    "## Merge at Subspeech Level"
   ]
  },
  {
   "cell_type": "code",
   "execution_count": 14,
   "metadata": {},
   "outputs": [],
   "source": [
    "sub_dict = {'Subspeech_index':[], 'SubContent':[], 'Speech_index':[]}"
   ]
  },
  {
   "cell_type": "code",
   "execution_count": 13,
   "metadata": {},
   "outputs": [],
   "source": [
    "ConventionSpeech = pd.read_csv(\"ConventionSpeech2.csv\")"
   ]
  },
  {
   "cell_type": "code",
   "execution_count": 15,
   "metadata": {},
   "outputs": [],
   "source": [
    "# Save every 10 lines into a subspeech e.g. [0,10)\n",
    "\n",
    "for i,text in enumerate(ConventionSpeech.Content): \n",
    "    splited = re.split('\\n',text)\n",
    "    length = len(re.split('\\n',text))\n",
    "    if length > 10:\n",
    "        a = list(range(0,length,10)) \n",
    "        for j in a[:-2]:\n",
    "            rowvalue = []\n",
    "            upper=j+10\n",
    "            sub_dict['Subspeech_index'].append(ConventionSpeech['Speech_index'][i]+'_'+str(j)+ ':' + str(upper))\n",
    "            sub_dict['SubContent'].append(splited[j: upper])\n",
    "            sub_dict['Speech_index'].append(ConventionSpeech['Speech_index'][i])\n",
    "            \n",
    "        sub_dict['Subspeech_index'].append(ConventionSpeech['Speech_index'][i]+'_'+ str(a[-2])+ ':' + str(length))\n",
    "        sub_dict['SubContent'].append(splited[a[-2]: length])\n",
    "        sub_dict['Speech_index'].append(ConventionSpeech['Speech_index'][i])\n",
    "    else:\n",
    "        sub_dict['Subspeech_index'].append(ConventionSpeech['Speech_index'][i] +'_'+str(0)+ ':' + str(length))\n",
    "        sub_dict['SubContent'].append(splited[: length])\n",
    "        sub_dict['Speech_index'].append(ConventionSpeech['Speech_index'][i])"
   ]
  },
  {
   "cell_type": "code",
   "execution_count": 16,
   "metadata": {},
   "outputs": [
    {
     "data": {
      "text/plain": [
       "25"
      ]
     },
     "execution_count": 16,
     "metadata": {},
     "output_type": "execute_result"
    }
   ],
   "source": [
    "Sub_Speech = pd.DataFrame.from_dict(sub_dict)\n",
    "len(Sub_Speech.Speech_index.unique())"
   ]
  },
  {
   "cell_type": "code",
   "execution_count": 18,
   "metadata": {},
   "outputs": [
    {
     "data": {
      "text/html": [
       "<div>\n",
       "<style scoped>\n",
       "    .dataframe tbody tr th:only-of-type {\n",
       "        vertical-align: middle;\n",
       "    }\n",
       "\n",
       "    .dataframe tbody tr th {\n",
       "        vertical-align: top;\n",
       "    }\n",
       "\n",
       "    .dataframe thead th {\n",
       "        text-align: right;\n",
       "    }\n",
       "</style>\n",
       "<table border=\"1\" class=\"dataframe\">\n",
       "  <thead>\n",
       "    <tr style=\"text-align: right;\">\n",
       "      <th></th>\n",
       "      <th>Subspeech_index</th>\n",
       "      <th>SubContent</th>\n",
       "      <th>Speech_index</th>\n",
       "      <th>Candidate</th>\n",
       "      <th>Title</th>\n",
       "      <th>Date</th>\n",
       "      <th>Content</th>\n",
       "      <th>Type</th>\n",
       "      <th>URL</th>\n",
       "      <th>Year</th>\n",
       "      <th>Month</th>\n",
       "      <th>Day</th>\n",
       "    </tr>\n",
       "  </thead>\n",
       "  <tbody>\n",
       "    <tr>\n",
       "      <th>198</th>\n",
       "      <td>Speech2762_60:70</td>\n",
       "      <td>[The late panic disclosed a lack of elasticity...</td>\n",
       "      <td>Speech2762</td>\n",
       "      <td>William Howard Taft</td>\n",
       "      <td>\\nAddress Accepting the Republican Presidentia...</td>\n",
       "      <td>\\nJuly 28, 1908</td>\n",
       "      <td>\\nSenator Warner and Gentlemen of the Committe...</td>\n",
       "      <td>Convention Speeches</td>\n",
       "      <td>/documents/address-accepting-the-republican-pr...</td>\n",
       "      <td>1908</td>\n",
       "      <td>July</td>\n",
       "      <td>28</td>\n",
       "    </tr>\n",
       "    <tr>\n",
       "      <th>199</th>\n",
       "      <td>Speech2762_70:80</td>\n",
       "      <td>[The proposition of the Democratic platform is...</td>\n",
       "      <td>Speech2762</td>\n",
       "      <td>William Howard Taft</td>\n",
       "      <td>\\nAddress Accepting the Republican Presidentia...</td>\n",
       "      <td>\\nJuly 28, 1908</td>\n",
       "      <td>\\nSenator Warner and Gentlemen of the Committe...</td>\n",
       "      <td>Convention Speeches</td>\n",
       "      <td>/documents/address-accepting-the-republican-pr...</td>\n",
       "      <td>1908</td>\n",
       "      <td>July</td>\n",
       "      <td>28</td>\n",
       "    </tr>\n",
       "    <tr>\n",
       "      <th>200</th>\n",
       "      <td>Speech2762_80:99</td>\n",
       "      <td>[I have long been of the opinion that the vari...</td>\n",
       "      <td>Speech2762</td>\n",
       "      <td>William Howard Taft</td>\n",
       "      <td>\\nAddress Accepting the Republican Presidentia...</td>\n",
       "      <td>\\nJuly 28, 1908</td>\n",
       "      <td>\\nSenator Warner and Gentlemen of the Committe...</td>\n",
       "      <td>Convention Speeches</td>\n",
       "      <td>/documents/address-accepting-the-republican-pr...</td>\n",
       "      <td>1908</td>\n",
       "      <td>July</td>\n",
       "      <td>28</td>\n",
       "    </tr>\n",
       "    <tr>\n",
       "      <th>201</th>\n",
       "      <td>Speech2763_0:10</td>\n",
       "      <td>[, Senator Lodge and Gentlemen of the Notifica...</td>\n",
       "      <td>Speech2763</td>\n",
       "      <td>William McKinley</td>\n",
       "      <td>\\nAddress Accepting the Republican Presidentia...</td>\n",
       "      <td>\\nJuly 12, 1900</td>\n",
       "      <td>\\nSenator Lodge and Gentlemen of the Notificat...</td>\n",
       "      <td>Convention Speeches</td>\n",
       "      <td>/documents/address-accepting-the-republican-pr...</td>\n",
       "      <td>1900</td>\n",
       "      <td>July</td>\n",
       "      <td>12</td>\n",
       "    </tr>\n",
       "    <tr>\n",
       "      <th>202</th>\n",
       "      <td>Speech2763_10:28</td>\n",
       "      <td>[The National credit, which has thus far fortu...</td>\n",
       "      <td>Speech2763</td>\n",
       "      <td>William McKinley</td>\n",
       "      <td>\\nAddress Accepting the Republican Presidentia...</td>\n",
       "      <td>\\nJuly 12, 1900</td>\n",
       "      <td>\\nSenator Lodge and Gentlemen of the Notificat...</td>\n",
       "      <td>Convention Speeches</td>\n",
       "      <td>/documents/address-accepting-the-republican-pr...</td>\n",
       "      <td>1900</td>\n",
       "      <td>July</td>\n",
       "      <td>12</td>\n",
       "    </tr>\n",
       "  </tbody>\n",
       "</table>\n",
       "</div>"
      ],
      "text/plain": [
       "      Subspeech_index                                         SubContent  \\\n",
       "198  Speech2762_60:70  [The late panic disclosed a lack of elasticity...   \n",
       "199  Speech2762_70:80  [The proposition of the Democratic platform is...   \n",
       "200  Speech2762_80:99  [I have long been of the opinion that the vari...   \n",
       "201   Speech2763_0:10  [, Senator Lodge and Gentlemen of the Notifica...   \n",
       "202  Speech2763_10:28  [The National credit, which has thus far fortu...   \n",
       "\n",
       "    Speech_index            Candidate  \\\n",
       "198   Speech2762  William Howard Taft   \n",
       "199   Speech2762  William Howard Taft   \n",
       "200   Speech2762  William Howard Taft   \n",
       "201   Speech2763     William McKinley   \n",
       "202   Speech2763     William McKinley   \n",
       "\n",
       "                                                 Title              Date  \\\n",
       "198  \\nAddress Accepting the Republican Presidentia...  \\nJuly 28, 1908    \n",
       "199  \\nAddress Accepting the Republican Presidentia...  \\nJuly 28, 1908    \n",
       "200  \\nAddress Accepting the Republican Presidentia...  \\nJuly 28, 1908    \n",
       "201  \\nAddress Accepting the Republican Presidentia...  \\nJuly 12, 1900    \n",
       "202  \\nAddress Accepting the Republican Presidentia...  \\nJuly 12, 1900    \n",
       "\n",
       "                                               Content                 Type  \\\n",
       "198  \\nSenator Warner and Gentlemen of the Committe...  Convention Speeches   \n",
       "199  \\nSenator Warner and Gentlemen of the Committe...  Convention Speeches   \n",
       "200  \\nSenator Warner and Gentlemen of the Committe...  Convention Speeches   \n",
       "201  \\nSenator Lodge and Gentlemen of the Notificat...  Convention Speeches   \n",
       "202  \\nSenator Lodge and Gentlemen of the Notificat...  Convention Speeches   \n",
       "\n",
       "                                                   URL  Year Month  Day  \n",
       "198  /documents/address-accepting-the-republican-pr...  1908  July   28  \n",
       "199  /documents/address-accepting-the-republican-pr...  1908  July   28  \n",
       "200  /documents/address-accepting-the-republican-pr...  1908  July   28  \n",
       "201  /documents/address-accepting-the-republican-pr...  1900  July   12  \n",
       "202  /documents/address-accepting-the-republican-pr...  1900  July   12  "
      ]
     },
     "execution_count": 18,
     "metadata": {},
     "output_type": "execute_result"
    }
   ],
   "source": [
    "SubSpeech = Sub_Speech.merge(ConventionSpeech, left_on='Speech_index', right_on = 'Speech_index')\n",
    "SubSpeech.tail()"
   ]
  },
  {
   "cell_type": "code",
   "execution_count": 20,
   "metadata": {},
   "outputs": [],
   "source": [
    "Sub_Speech_old = pd.read_csv('SubSpeech.csv')"
   ]
  },
  {
   "cell_type": "code",
   "execution_count": 21,
   "metadata": {},
   "outputs": [],
   "source": [
    "Sub_Speech_old.drop(columns=['Unnamed: 0'], inplace=True)"
   ]
  },
  {
   "cell_type": "code",
   "execution_count": 22,
   "metadata": {},
   "outputs": [],
   "source": [
    "Sub_Speech_new = Sub_Speech_old.append(SubSpeech)"
   ]
  },
  {
   "cell_type": "code",
   "execution_count": 23,
   "metadata": {},
   "outputs": [
    {
     "data": {
      "text/html": [
       "<div>\n",
       "<style scoped>\n",
       "    .dataframe tbody tr th:only-of-type {\n",
       "        vertical-align: middle;\n",
       "    }\n",
       "\n",
       "    .dataframe tbody tr th {\n",
       "        vertical-align: top;\n",
       "    }\n",
       "\n",
       "    .dataframe thead th {\n",
       "        text-align: right;\n",
       "    }\n",
       "</style>\n",
       "<table border=\"1\" class=\"dataframe\">\n",
       "  <thead>\n",
       "    <tr style=\"text-align: right;\">\n",
       "      <th></th>\n",
       "      <th>Subspeech_index</th>\n",
       "      <th>SubContent</th>\n",
       "      <th>Speech_index</th>\n",
       "      <th>Candidate</th>\n",
       "      <th>Title</th>\n",
       "      <th>Date</th>\n",
       "      <th>Content</th>\n",
       "      <th>Type</th>\n",
       "      <th>URL</th>\n",
       "      <th>Year</th>\n",
       "      <th>Month</th>\n",
       "      <th>Day</th>\n",
       "    </tr>\n",
       "  </thead>\n",
       "  <tbody>\n",
       "    <tr>\n",
       "      <th>198</th>\n",
       "      <td>Speech2762_60:70</td>\n",
       "      <td>[The late panic disclosed a lack of elasticity...</td>\n",
       "      <td>Speech2762</td>\n",
       "      <td>William Howard Taft</td>\n",
       "      <td>\\nAddress Accepting the Republican Presidentia...</td>\n",
       "      <td>\\nJuly 28, 1908</td>\n",
       "      <td>\\nSenator Warner and Gentlemen of the Committe...</td>\n",
       "      <td>Convention Speeches</td>\n",
       "      <td>/documents/address-accepting-the-republican-pr...</td>\n",
       "      <td>1908</td>\n",
       "      <td>July</td>\n",
       "      <td>28</td>\n",
       "    </tr>\n",
       "    <tr>\n",
       "      <th>199</th>\n",
       "      <td>Speech2762_70:80</td>\n",
       "      <td>[The proposition of the Democratic platform is...</td>\n",
       "      <td>Speech2762</td>\n",
       "      <td>William Howard Taft</td>\n",
       "      <td>\\nAddress Accepting the Republican Presidentia...</td>\n",
       "      <td>\\nJuly 28, 1908</td>\n",
       "      <td>\\nSenator Warner and Gentlemen of the Committe...</td>\n",
       "      <td>Convention Speeches</td>\n",
       "      <td>/documents/address-accepting-the-republican-pr...</td>\n",
       "      <td>1908</td>\n",
       "      <td>July</td>\n",
       "      <td>28</td>\n",
       "    </tr>\n",
       "    <tr>\n",
       "      <th>200</th>\n",
       "      <td>Speech2762_80:99</td>\n",
       "      <td>[I have long been of the opinion that the vari...</td>\n",
       "      <td>Speech2762</td>\n",
       "      <td>William Howard Taft</td>\n",
       "      <td>\\nAddress Accepting the Republican Presidentia...</td>\n",
       "      <td>\\nJuly 28, 1908</td>\n",
       "      <td>\\nSenator Warner and Gentlemen of the Committe...</td>\n",
       "      <td>Convention Speeches</td>\n",
       "      <td>/documents/address-accepting-the-republican-pr...</td>\n",
       "      <td>1908</td>\n",
       "      <td>July</td>\n",
       "      <td>28</td>\n",
       "    </tr>\n",
       "    <tr>\n",
       "      <th>201</th>\n",
       "      <td>Speech2763_0:10</td>\n",
       "      <td>[, Senator Lodge and Gentlemen of the Notifica...</td>\n",
       "      <td>Speech2763</td>\n",
       "      <td>William McKinley</td>\n",
       "      <td>\\nAddress Accepting the Republican Presidentia...</td>\n",
       "      <td>\\nJuly 12, 1900</td>\n",
       "      <td>\\nSenator Lodge and Gentlemen of the Notificat...</td>\n",
       "      <td>Convention Speeches</td>\n",
       "      <td>/documents/address-accepting-the-republican-pr...</td>\n",
       "      <td>1900</td>\n",
       "      <td>July</td>\n",
       "      <td>12</td>\n",
       "    </tr>\n",
       "    <tr>\n",
       "      <th>202</th>\n",
       "      <td>Speech2763_10:28</td>\n",
       "      <td>[The National credit, which has thus far fortu...</td>\n",
       "      <td>Speech2763</td>\n",
       "      <td>William McKinley</td>\n",
       "      <td>\\nAddress Accepting the Republican Presidentia...</td>\n",
       "      <td>\\nJuly 12, 1900</td>\n",
       "      <td>\\nSenator Lodge and Gentlemen of the Notificat...</td>\n",
       "      <td>Convention Speeches</td>\n",
       "      <td>/documents/address-accepting-the-republican-pr...</td>\n",
       "      <td>1900</td>\n",
       "      <td>July</td>\n",
       "      <td>12</td>\n",
       "    </tr>\n",
       "  </tbody>\n",
       "</table>\n",
       "</div>"
      ],
      "text/plain": [
       "      Subspeech_index                                         SubContent  \\\n",
       "198  Speech2762_60:70  [The late panic disclosed a lack of elasticity...   \n",
       "199  Speech2762_70:80  [The proposition of the Democratic platform is...   \n",
       "200  Speech2762_80:99  [I have long been of the opinion that the vari...   \n",
       "201   Speech2763_0:10  [, Senator Lodge and Gentlemen of the Notifica...   \n",
       "202  Speech2763_10:28  [The National credit, which has thus far fortu...   \n",
       "\n",
       "    Speech_index            Candidate  \\\n",
       "198   Speech2762  William Howard Taft   \n",
       "199   Speech2762  William Howard Taft   \n",
       "200   Speech2762  William Howard Taft   \n",
       "201   Speech2763     William McKinley   \n",
       "202   Speech2763     William McKinley   \n",
       "\n",
       "                                                 Title              Date  \\\n",
       "198  \\nAddress Accepting the Republican Presidentia...  \\nJuly 28, 1908    \n",
       "199  \\nAddress Accepting the Republican Presidentia...  \\nJuly 28, 1908    \n",
       "200  \\nAddress Accepting the Republican Presidentia...  \\nJuly 28, 1908    \n",
       "201  \\nAddress Accepting the Republican Presidentia...  \\nJuly 12, 1900    \n",
       "202  \\nAddress Accepting the Republican Presidentia...  \\nJuly 12, 1900    \n",
       "\n",
       "                                               Content                 Type  \\\n",
       "198  \\nSenator Warner and Gentlemen of the Committe...  Convention Speeches   \n",
       "199  \\nSenator Warner and Gentlemen of the Committe...  Convention Speeches   \n",
       "200  \\nSenator Warner and Gentlemen of the Committe...  Convention Speeches   \n",
       "201  \\nSenator Lodge and Gentlemen of the Notificat...  Convention Speeches   \n",
       "202  \\nSenator Lodge and Gentlemen of the Notificat...  Convention Speeches   \n",
       "\n",
       "                                                   URL  Year Month  Day  \n",
       "198  /documents/address-accepting-the-republican-pr...  1908  July   28  \n",
       "199  /documents/address-accepting-the-republican-pr...  1908  July   28  \n",
       "200  /documents/address-accepting-the-republican-pr...  1908  July   28  \n",
       "201  /documents/address-accepting-the-republican-pr...  1900  July   12  \n",
       "202  /documents/address-accepting-the-republican-pr...  1900  July   12  "
      ]
     },
     "execution_count": 23,
     "metadata": {},
     "output_type": "execute_result"
    }
   ],
   "source": [
    "Sub_Speech_new.tail()"
   ]
  },
  {
   "cell_type": "code",
   "execution_count": 24,
   "metadata": {},
   "outputs": [],
   "source": [
    "Sub_Speech_new.to_csv('SubSpeech2.csv', index=False)"
   ]
  },
  {
   "cell_type": "markdown",
   "metadata": {},
   "source": [
    "## Add Penn data"
   ]
  },
  {
   "cell_type": "code",
   "execution_count": 25,
   "metadata": {},
   "outputs": [],
   "source": [
    "with open('apda.json') as penn_json:\n",
    "    PennSpeech_dict = json.load(penn_json)"
   ]
  },
  {
   "cell_type": "code",
   "execution_count": 133,
   "metadata": {},
   "outputs": [],
   "source": [
    "#PennSpeech_dict.keys()"
   ]
  },
  {
   "cell_type": "code",
   "execution_count": 26,
   "metadata": {},
   "outputs": [],
   "source": [
    "PennSpeech = pd.DataFrame.from_dict(PennSpeech_dict, orient='index')"
   ]
  },
  {
   "cell_type": "code",
   "execution_count": 359,
   "metadata": {},
   "outputs": [],
   "source": [
    "#PennSpeech.head()"
   ]
  },
  {
   "cell_type": "code",
   "execution_count": 27,
   "metadata": {},
   "outputs": [],
   "source": [
    "PennSpeech.Date.replace([-999], np.nan, inplace = True)"
   ]
  },
  {
   "cell_type": "code",
   "execution_count": 28,
   "metadata": {},
   "outputs": [],
   "source": [
    "PennSpeech = PennSpeech[PennSpeech.Genre == 'SPEECH']"
   ]
  },
  {
   "cell_type": "code",
   "execution_count": 29,
   "metadata": {},
   "outputs": [],
   "source": [
    "Month = []\n",
    "Day = []\n",
    "\n",
    "for x in PennSpeech.Date:\n",
    "    if type(x) == str:\n",
    "        Month.append(int(re.split('/',x)[0]))\n",
    "        Day.append(int(re.split('/',x)[-1]))            \n",
    "    else:\n",
    "        Month.append(x)\n",
    "        Day.append(x)"
   ]
  },
  {
   "cell_type": "code",
   "execution_count": 30,
   "metadata": {},
   "outputs": [],
   "source": [
    "PennSpeech['Month'] = Month\n",
    "PennSpeech['Day'] = Day"
   ]
  },
  {
   "cell_type": "code",
   "execution_count": 31,
   "metadata": {},
   "outputs": [],
   "source": [
    "PennSpeech.rename(columns = {'Type':'Chanel', 'Genre':'Type', 'Text':'Content'}, inplace=True)"
   ]
  },
  {
   "cell_type": "code",
   "execution_count": 32,
   "metadata": {},
   "outputs": [],
   "source": [
    "#Add speech index\n",
    "PennSpeech['Speech_index'] = ['Speech'+ str(x) for x in range(len(Speech.Year), len(Speech.Year) + len(PennSpeech.Year))]\n"
   ]
  },
  {
   "cell_type": "code",
   "execution_count": 33,
   "metadata": {},
   "outputs": [],
   "source": [
    "PennSpeech.drop(columns=['Party', 'Length'], inplace=True)"
   ]
  },
  {
   "cell_type": "code",
   "execution_count": 34,
   "metadata": {},
   "outputs": [],
   "source": [
    "PennSpeech['Title'] = np.nan\n",
    "PennSpeech['URL'] = np.nan"
   ]
  },
  {
   "cell_type": "code",
   "execution_count": 35,
   "metadata": {},
   "outputs": [],
   "source": [
    "##recode candidate names \n",
    "PennSpeech.Candidate.replace(['STEVENSON'],'Adlai Stevenson', inplace=True)\n",
    "PennSpeech.Candidate.replace(['KENNEDY'],'John F. Kennedy', inplace=True)\n",
    "PennSpeech.Candidate.replace(['NIXON'],'Richard Nixon', inplace=True)\n",
    "PennSpeech.Candidate.replace(['JOHNSON'],'Lyndon B. Johnson', inplace=True)\n",
    "PennSpeech.Candidate.replace(['HUMPHREY'],'Hubert H. Humphrey', inplace=True)\n",
    "\n",
    "PennSpeech.Candidate.replace(['MCGOVERN'],'George McGovern', inplace=True)\n",
    "PennSpeech.Candidate.replace(['CARTER'],'Jimmy Carter', inplace=True)\n",
    "PennSpeech.Candidate.replace(['FORD'],'Gerald R. Ford', inplace=True)\n",
    "PennSpeech.Candidate.replace(['REAGAN'],'Ronald Reagan', inplace=True)\n",
    "PennSpeech.Candidate.replace(['EISENHOWER'],'Dwight Eisenhower', inplace=True)\n",
    "\n",
    "PennSpeech.Candidate.replace(['MONDALE'],'Walter F. Mondale', inplace=True)\n",
    "PennSpeech.Candidate.replace(['DUKAKIS'],'Michael S. Dukakis', inplace=True)\n",
    "PennSpeech.Candidate.replace(['BUSH'],'George Bush', inplace=True)\n",
    "PennSpeech.Candidate.replace(['CLINTON'],'William J. Clinton', inplace=True)\n",
    "PennSpeech.Candidate.replace(['DOLE'],'Robert Dole', inplace=True)"
   ]
  },
  {
   "cell_type": "code",
   "execution_count": 36,
   "metadata": {},
   "outputs": [],
   "source": [
    "Speech['City'] = np.nan\n",
    "Speech['State'] = np.nan\n",
    "Speech['Description'] = np.nan\n",
    "Speech['Subject'] = np.nan"
   ]
  },
  {
   "cell_type": "code",
   "execution_count": 37,
   "metadata": {},
   "outputs": [
    {
     "name": "stderr",
     "output_type": "stream",
     "text": [
      "//anaconda3/lib/python3.7/site-packages/pandas/core/frame.py:6692: FutureWarning: Sorting because non-concatenation axis is not aligned. A future version\n",
      "of pandas will change to not sort by default.\n",
      "\n",
      "To accept the future behavior, pass 'sort=False'.\n",
      "\n",
      "To retain the current behavior and silence the warning, pass 'sort=True'.\n",
      "\n",
      "  sort=sort)\n"
     ]
    }
   ],
   "source": [
    "Speech_merged = Speech.append(PennSpeech)"
   ]
  },
  {
   "cell_type": "code",
   "execution_count": 41,
   "metadata": {},
   "outputs": [
    {
     "data": {
      "text/html": [
       "<div>\n",
       "<style scoped>\n",
       "    .dataframe tbody tr th:only-of-type {\n",
       "        vertical-align: middle;\n",
       "    }\n",
       "\n",
       "    .dataframe tbody tr th {\n",
       "        vertical-align: top;\n",
       "    }\n",
       "\n",
       "    .dataframe thead th {\n",
       "        text-align: right;\n",
       "    }\n",
       "</style>\n",
       "<table border=\"1\" class=\"dataframe\">\n",
       "  <thead>\n",
       "    <tr style=\"text-align: right;\">\n",
       "      <th></th>\n",
       "      <th>Candidate</th>\n",
       "      <th>Chanel</th>\n",
       "      <th>City</th>\n",
       "      <th>Content</th>\n",
       "      <th>Date</th>\n",
       "      <th>Day</th>\n",
       "      <th>Description</th>\n",
       "      <th>Month</th>\n",
       "      <th>Speech_index</th>\n",
       "      <th>State</th>\n",
       "      <th>Subject</th>\n",
       "      <th>Title</th>\n",
       "      <th>Type</th>\n",
       "      <th>URL</th>\n",
       "      <th>Year</th>\n",
       "    </tr>\n",
       "  </thead>\n",
       "  <tbody>\n",
       "    <tr>\n",
       "      <th>995</th>\n",
       "      <td>John F. Kennedy</td>\n",
       "      <td>STUMP</td>\n",
       "      <td>PHOENIX</td>\n",
       "      <td>Ladies and gentlemen, I just hate to think--wo...</td>\n",
       "      <td>11/03</td>\n",
       "      <td>3.0</td>\n",
       "      <td>AIRPORT</td>\n",
       "      <td>11</td>\n",
       "      <td>Speech5234</td>\n",
       "      <td>ARIZONA</td>\n",
       "      <td>-999</td>\n",
       "      <td>NaN</td>\n",
       "      <td>SPEECH</td>\n",
       "      <td>NaN</td>\n",
       "      <td>1960</td>\n",
       "    </tr>\n",
       "    <tr>\n",
       "      <th>996</th>\n",
       "      <td>John F. Kennedy</td>\n",
       "      <td>STUMP</td>\n",
       "      <td>PHOENIX</td>\n",
       "      <td>My friend and colleague in the House, whom I a...</td>\n",
       "      <td>11/03</td>\n",
       "      <td>3.0</td>\n",
       "      <td>WESTWARD</td>\n",
       "      <td>11</td>\n",
       "      <td>Speech5235</td>\n",
       "      <td>ARIZONA</td>\n",
       "      <td>-999</td>\n",
       "      <td>NaN</td>\n",
       "      <td>SPEECH</td>\n",
       "      <td>NaN</td>\n",
       "      <td>1960</td>\n",
       "    </tr>\n",
       "    <tr>\n",
       "      <th>997</th>\n",
       "      <td>John F. Kennedy</td>\n",
       "      <td>STUMP</td>\n",
       "      <td>PHOENIX</td>\n",
       "      <td>Congressman Udall, my friend and colleague fro...</td>\n",
       "      <td>11/03</td>\n",
       "      <td>3.0</td>\n",
       "      <td>STREET</td>\n",
       "      <td>11</td>\n",
       "      <td>Speech5236</td>\n",
       "      <td>ARIZONA</td>\n",
       "      <td>NATURAL</td>\n",
       "      <td>NaN</td>\n",
       "      <td>SPEECH</td>\n",
       "      <td>NaN</td>\n",
       "      <td>1960</td>\n",
       "    </tr>\n",
       "    <tr>\n",
       "      <th>998</th>\n",
       "      <td>John F. Kennedy</td>\n",
       "      <td>STUMP</td>\n",
       "      <td>ALBUQUERQUE</td>\n",
       "      <td>Mr. Chairman, Governor Burroughs, Senator Chav...</td>\n",
       "      <td>11/03</td>\n",
       "      <td>3.0</td>\n",
       "      <td>-999</td>\n",
       "      <td>11</td>\n",
       "      <td>Speech5237</td>\n",
       "      <td>NEW</td>\n",
       "      <td>CONGRESS,</td>\n",
       "      <td>NaN</td>\n",
       "      <td>SPEECH</td>\n",
       "      <td>NaN</td>\n",
       "      <td>1960</td>\n",
       "    </tr>\n",
       "    <tr>\n",
       "      <th>999</th>\n",
       "      <td>John F. Kennedy</td>\n",
       "      <td>STUMP</td>\n",
       "      <td>AMARILLO</td>\n",
       "      <td>Lyndon; Ralph Yarborough; Mr. Mayor; Senator A...</td>\n",
       "      <td>11/03</td>\n",
       "      <td>3.0</td>\n",
       "      <td>AIRPORT</td>\n",
       "      <td>11</td>\n",
       "      <td>Speech5238</td>\n",
       "      <td>TEXAS</td>\n",
       "      <td>ECONOMY--GENERAL,</td>\n",
       "      <td>NaN</td>\n",
       "      <td>SPEECH</td>\n",
       "      <td>NaN</td>\n",
       "      <td>1960</td>\n",
       "    </tr>\n",
       "  </tbody>\n",
       "</table>\n",
       "</div>"
      ],
      "text/plain": [
       "           Candidate Chanel         City  \\\n",
       "995  John F. Kennedy  STUMP      PHOENIX   \n",
       "996  John F. Kennedy  STUMP      PHOENIX   \n",
       "997  John F. Kennedy  STUMP      PHOENIX   \n",
       "998  John F. Kennedy  STUMP  ALBUQUERQUE   \n",
       "999  John F. Kennedy  STUMP     AMARILLO   \n",
       "\n",
       "                                               Content   Date  Day  \\\n",
       "995  Ladies and gentlemen, I just hate to think--wo...  11/03  3.0   \n",
       "996  My friend and colleague in the House, whom I a...  11/03  3.0   \n",
       "997  Congressman Udall, my friend and colleague fro...  11/03  3.0   \n",
       "998  Mr. Chairman, Governor Burroughs, Senator Chav...  11/03  3.0   \n",
       "999  Lyndon; Ralph Yarborough; Mr. Mayor; Senator A...  11/03  3.0   \n",
       "\n",
       "    Description Month Speech_index    State            Subject Title    Type  \\\n",
       "995     AIRPORT    11   Speech5234  ARIZONA               -999   NaN  SPEECH   \n",
       "996    WESTWARD    11   Speech5235  ARIZONA               -999   NaN  SPEECH   \n",
       "997      STREET    11   Speech5236  ARIZONA            NATURAL   NaN  SPEECH   \n",
       "998        -999    11   Speech5237      NEW          CONGRESS,   NaN  SPEECH   \n",
       "999     AIRPORT    11   Speech5238    TEXAS  ECONOMY--GENERAL,   NaN  SPEECH   \n",
       "\n",
       "     URL  Year  \n",
       "995  NaN  1960  \n",
       "996  NaN  1960  \n",
       "997  NaN  1960  \n",
       "998  NaN  1960  \n",
       "999  NaN  1960  "
      ]
     },
     "execution_count": 41,
     "metadata": {},
     "output_type": "execute_result"
    }
   ],
   "source": [
    "Speech_merged.tail()"
   ]
  },
  {
   "cell_type": "code",
   "execution_count": 38,
   "metadata": {},
   "outputs": [
    {
     "data": {
      "text/plain": [
       "John F. Kennedy       312\n",
       "Dwight Eisenhower     273\n",
       "Adlai Stevenson       261\n",
       "Richard Nixon         253\n",
       "William J. Clinton    187\n",
       "Ronald Reagan         178\n",
       "George Bush           167\n",
       "Hubert H. Humphrey    153\n",
       "Jimmy Carter          144\n",
       "Gerald R. Ford        128\n",
       "Lyndon B. Johnson     111\n",
       "George McGovern        98\n",
       "Robert Dole            78\n",
       "Michael S. Dukakis     66\n",
       "Walter F. Mondale      66\n",
       "Name: Candidate, dtype: int64"
      ]
     },
     "execution_count": 38,
     "metadata": {},
     "output_type": "execute_result"
    }
   ],
   "source": [
    "PennSpeech.Candidate.value_counts()"
   ]
  },
  {
   "cell_type": "code",
   "execution_count": 521,
   "metadata": {},
   "outputs": [],
   "source": [
    "PennSpeech.to_csv(\"PennSpeechCleaned.csv\", index = False)"
   ]
  },
  {
   "cell_type": "code",
   "execution_count": 522,
   "metadata": {},
   "outputs": [],
   "source": [
    "Speech_merged.to_csv(\"CampaignSpeechMerged.csv\", index=False)"
   ]
  },
  {
   "cell_type": "markdown",
   "metadata": {},
   "source": [
    "### create subspeech and merge "
   ]
  },
  {
   "cell_type": "code",
   "execution_count": 14,
   "metadata": {},
   "outputs": [],
   "source": [
    "PennSpeech = pd.read_csv('PennSpeechCleaned.csv')"
   ]
  },
  {
   "cell_type": "code",
   "execution_count": 371,
   "metadata": {},
   "outputs": [],
   "source": [
    "#PennSpeech.head()"
   ]
  },
  {
   "cell_type": "code",
   "execution_count": 43,
   "metadata": {},
   "outputs": [],
   "source": [
    "sub_dict = {'Subspeech_index':[], 'SubContent':[], 'Speech_index':[]}"
   ]
  },
  {
   "cell_type": "code",
   "execution_count": 44,
   "metadata": {},
   "outputs": [],
   "source": [
    "# Save every 10 paragraphs into a subspeech e.g. [0,8)\n",
    "\n",
    "for i,text in enumerate(PennSpeech['Content']): \n",
    "    splited = re.split('\\n\\n',text)\n",
    "    length = len(re.split('\\n\\n',text))\n",
    "    if length > 10:\n",
    "        a = list(range(0,length,10)) \n",
    "        for j in a[:-2]:\n",
    "            rowvalue = []\n",
    "            upper=j+10\n",
    "            sub_dict['Subspeech_index'].append(PennSpeech['Speech_index'][i]+'_'+str(j)+ ':' + str(upper))\n",
    "            sub_dict['SubContent'].append(splited[j: upper])\n",
    "            sub_dict['Speech_index'].append(PennSpeech['Speech_index'][i])\n",
    "            \n",
    "        sub_dict['Subspeech_index'].append(PennSpeech['Speech_index'][i]+'_'+ str(a[-2])+ ':' + str(length))\n",
    "        sub_dict['SubContent'].append(splited[a[-2]: length])\n",
    "        sub_dict['Speech_index'].append(PennSpeech['Speech_index'][i])\n",
    "    else:\n",
    "        sub_dict['Subspeech_index'].append(PennSpeech['Speech_index'][i] +'_'+str(0)+ ':' + str(length))\n",
    "        sub_dict['SubContent'].append(splited[: length])\n",
    "        sub_dict['Speech_index'].append(PennSpeech['Speech_index'][i])"
   ]
  },
  {
   "cell_type": "code",
   "execution_count": 45,
   "metadata": {},
   "outputs": [
    {
     "data": {
      "text/html": [
       "<div>\n",
       "<style scoped>\n",
       "    .dataframe tbody tr th:only-of-type {\n",
       "        vertical-align: middle;\n",
       "    }\n",
       "\n",
       "    .dataframe tbody tr th {\n",
       "        vertical-align: top;\n",
       "    }\n",
       "\n",
       "    .dataframe thead th {\n",
       "        text-align: right;\n",
       "    }\n",
       "</style>\n",
       "<table border=\"1\" class=\"dataframe\">\n",
       "  <thead>\n",
       "    <tr style=\"text-align: right;\">\n",
       "      <th></th>\n",
       "      <th>Subspeech_index</th>\n",
       "      <th>SubContent</th>\n",
       "      <th>Speech_index</th>\n",
       "    </tr>\n",
       "  </thead>\n",
       "  <tbody>\n",
       "    <tr>\n",
       "      <th>0</th>\n",
       "      <td>Speech2764_0:10</td>\n",
       "      <td>[Mr. Tepe, Mr. DiSalle, and distinguished gues...</td>\n",
       "      <td>Speech2764</td>\n",
       "    </tr>\n",
       "    <tr>\n",
       "      <th>1</th>\n",
       "      <td>Speech2764_10:20</td>\n",
       "      <td>[\\tThis is my first campaign visit to Ohio, an...</td>\n",
       "      <td>Speech2764</td>\n",
       "    </tr>\n",
       "    <tr>\n",
       "      <th>2</th>\n",
       "      <td>Speech2764_20:30</td>\n",
       "      <td>[\\tThere is a good reason why voters are suspi...</td>\n",
       "      <td>Speech2764</td>\n",
       "    </tr>\n",
       "    <tr>\n",
       "      <th>3</th>\n",
       "      <td>Speech2764_30:48</td>\n",
       "      <td>[\\tWell, we know which way Warren Harding comp...</td>\n",
       "      <td>Speech2764</td>\n",
       "    </tr>\n",
       "    <tr>\n",
       "      <th>4</th>\n",
       "      <td>Speech2765_0:16</td>\n",
       "      <td>[Lyndon; Ralph--Senator Yarborough; Mrs. Johns...</td>\n",
       "      <td>Speech2765</td>\n",
       "    </tr>\n",
       "  </tbody>\n",
       "</table>\n",
       "</div>"
      ],
      "text/plain": [
       "    Subspeech_index                                         SubContent  \\\n",
       "0   Speech2764_0:10  [Mr. Tepe, Mr. DiSalle, and distinguished gues...   \n",
       "1  Speech2764_10:20  [\\tThis is my first campaign visit to Ohio, an...   \n",
       "2  Speech2764_20:30  [\\tThere is a good reason why voters are suspi...   \n",
       "3  Speech2764_30:48  [\\tWell, we know which way Warren Harding comp...   \n",
       "4   Speech2765_0:16  [Lyndon; Ralph--Senator Yarborough; Mrs. Johns...   \n",
       "\n",
       "  Speech_index  \n",
       "0   Speech2764  \n",
       "1   Speech2764  \n",
       "2   Speech2764  \n",
       "3   Speech2764  \n",
       "4   Speech2765  "
      ]
     },
     "execution_count": 45,
     "metadata": {},
     "output_type": "execute_result"
    }
   ],
   "source": [
    "Sub_Speech = pd.DataFrame.from_dict(sub_dict)\n",
    "Sub_Speech.head()"
   ]
  },
  {
   "cell_type": "code",
   "execution_count": 46,
   "metadata": {},
   "outputs": [],
   "source": [
    "SubSpeech_Penn = Sub_Speech.merge(PennSpeech, left_on='Speech_index', right_on = 'Speech_index')"
   ]
  },
  {
   "cell_type": "code",
   "execution_count": 424,
   "metadata": {},
   "outputs": [],
   "source": [
    "#SubSpeech_Penn.tail()"
   ]
  },
  {
   "cell_type": "code",
   "execution_count": 411,
   "metadata": {},
   "outputs": [],
   "source": [
    "#Sub_Speech.Speech_index.value_counts()"
   ]
  },
  {
   "cell_type": "code",
   "execution_count": 47,
   "metadata": {},
   "outputs": [],
   "source": [
    "Sub_Speech2 = pd.read_csv('SubSpeech2.csv')"
   ]
  },
  {
   "cell_type": "code",
   "execution_count": 48,
   "metadata": {},
   "outputs": [],
   "source": [
    "Sub_Speech2['City'] = np.nan\n",
    "Sub_Speech2['State'] = np.nan\n",
    "Sub_Speech2['Description'] = np.nan\n",
    "Sub_Speech2['Subject'] = np.nan"
   ]
  },
  {
   "cell_type": "code",
   "execution_count": 49,
   "metadata": {},
   "outputs": [],
   "source": [
    "SubSpeech_Merged = Sub_Speech2.append(SubSpeech_Penn)"
   ]
  },
  {
   "cell_type": "code",
   "execution_count": 50,
   "metadata": {},
   "outputs": [],
   "source": [
    "SubSpeech_Merged.to_csv('SubSpeech_Merged.csv', index=False)"
   ]
  },
  {
   "cell_type": "markdown",
   "metadata": {},
   "source": [
    "## Add Annotation Delete possible duplicats"
   ]
  },
  {
   "cell_type": "code",
   "execution_count": 3,
   "metadata": {},
   "outputs": [],
   "source": [
    "with open('Annotations/test_annotation.jsonl', 'r') as annotation_jsonl:\n",
    "    annotation_list = list(annotation_jsonl)\n",
    "with open('Annotations/pop_code1117.jsonl', 'r') as annotation_jsonl:\n",
    "    annotation_list += list(annotation_jsonl)\n",
    "with open('Annotations/blind_test1117.jsonl', 'r') as annotation_jsonl:\n",
    "    annotation_list += list(annotation_jsonl)\n",
    "with open('Annotations/blindtest2.jsonl', 'r') as annotation_jsonl:\n",
    "    annotation_list += list(annotation_jsonl)\n",
    "with open('Annotations/sample1226.jsonl', 'r') as annotation_jsonl:\n",
    "    annotation_list += list(annotation_jsonl)"
   ]
  },
  {
   "cell_type": "code",
   "execution_count": 4,
   "metadata": {},
   "outputs": [
    {
     "data": {
      "text/plain": [
       "435"
      ]
     },
     "execution_count": 4,
     "metadata": {},
     "output_type": "execute_result"
    }
   ],
   "source": [
    "len(annotation_list)"
   ]
  },
  {
   "cell_type": "code",
   "execution_count": 5,
   "metadata": {},
   "outputs": [],
   "source": [
    "coded = {}\n",
    "for annotation in annotation_list:\n",
    "    annotation_dict = json.loads(annotation)\n",
    "    coded[annotation_dict['text'].split('##')[0]] = annotation_dict['answer']"
   ]
  },
  {
   "cell_type": "code",
   "execution_count": 6,
   "metadata": {},
   "outputs": [],
   "source": [
    "coded_data = pd.DataFrame.from_dict(coded, orient='index')\n",
    "coded_data = coded_data.rename(columns={0:'Pop'})"
   ]
  },
  {
   "cell_type": "code",
   "execution_count": 7,
   "metadata": {},
   "outputs": [],
   "source": [
    "coded_data['Subspeech_index'] = coded_data.index"
   ]
  },
  {
   "cell_type": "code",
   "execution_count": 8,
   "metadata": {},
   "outputs": [],
   "source": [
    "Sub_Speech = pd.read_csv('SubSpeech_Merged.csv')"
   ]
  },
  {
   "cell_type": "code",
   "execution_count": 10,
   "metadata": {},
   "outputs": [
    {
     "data": {
      "text/html": [
       "<div>\n",
       "<style scoped>\n",
       "    .dataframe tbody tr th:only-of-type {\n",
       "        vertical-align: middle;\n",
       "    }\n",
       "\n",
       "    .dataframe tbody tr th {\n",
       "        vertical-align: top;\n",
       "    }\n",
       "\n",
       "    .dataframe thead th {\n",
       "        text-align: right;\n",
       "    }\n",
       "</style>\n",
       "<table border=\"1\" class=\"dataframe\">\n",
       "  <thead>\n",
       "    <tr style=\"text-align: right;\">\n",
       "      <th></th>\n",
       "      <th>Candidate</th>\n",
       "      <th>Chanel</th>\n",
       "      <th>City</th>\n",
       "      <th>Content</th>\n",
       "      <th>Date</th>\n",
       "      <th>Day</th>\n",
       "      <th>Description</th>\n",
       "      <th>Month</th>\n",
       "      <th>Speech_index</th>\n",
       "      <th>State</th>\n",
       "      <th>SubContent</th>\n",
       "      <th>Subject</th>\n",
       "      <th>Subspeech_index</th>\n",
       "      <th>Title</th>\n",
       "      <th>Type</th>\n",
       "      <th>URL</th>\n",
       "      <th>Year</th>\n",
       "    </tr>\n",
       "  </thead>\n",
       "  <tbody>\n",
       "    <tr>\n",
       "      <th>19105</th>\n",
       "      <td>John F. Kennedy</td>\n",
       "      <td>STUMP</td>\n",
       "      <td>PHOENIX</td>\n",
       "      <td>Ladies and gentlemen, I just hate to think--wo...</td>\n",
       "      <td>11/03</td>\n",
       "      <td>3.0</td>\n",
       "      <td>AIRPORT</td>\n",
       "      <td>11.0</td>\n",
       "      <td>Speech5234</td>\n",
       "      <td>ARIZONA</td>\n",
       "      <td>['Ladies and gentlemen, I just hate to think--...</td>\n",
       "      <td>-999</td>\n",
       "      <td>Speech5234_0:8</td>\n",
       "      <td>NaN</td>\n",
       "      <td>SPEECH</td>\n",
       "      <td>NaN</td>\n",
       "      <td>1960</td>\n",
       "    </tr>\n",
       "    <tr>\n",
       "      <th>19106</th>\n",
       "      <td>John F. Kennedy</td>\n",
       "      <td>STUMP</td>\n",
       "      <td>PHOENIX</td>\n",
       "      <td>My friend and colleague in the House, whom I a...</td>\n",
       "      <td>11/03</td>\n",
       "      <td>3.0</td>\n",
       "      <td>WESTWARD</td>\n",
       "      <td>11.0</td>\n",
       "      <td>Speech5235</td>\n",
       "      <td>ARIZONA</td>\n",
       "      <td>[\"My friend and colleague in the House, whom I...</td>\n",
       "      <td>-999</td>\n",
       "      <td>Speech5235_0:5</td>\n",
       "      <td>NaN</td>\n",
       "      <td>SPEECH</td>\n",
       "      <td>NaN</td>\n",
       "      <td>1960</td>\n",
       "    </tr>\n",
       "    <tr>\n",
       "      <th>19107</th>\n",
       "      <td>John F. Kennedy</td>\n",
       "      <td>STUMP</td>\n",
       "      <td>PHOENIX</td>\n",
       "      <td>Congressman Udall, my friend and colleague fro...</td>\n",
       "      <td>11/03</td>\n",
       "      <td>3.0</td>\n",
       "      <td>STREET</td>\n",
       "      <td>11.0</td>\n",
       "      <td>Speech5236</td>\n",
       "      <td>ARIZONA</td>\n",
       "      <td>['Congressman Udall, my friend and colleague f...</td>\n",
       "      <td>NATURAL</td>\n",
       "      <td>Speech5236_0:18</td>\n",
       "      <td>NaN</td>\n",
       "      <td>SPEECH</td>\n",
       "      <td>NaN</td>\n",
       "      <td>1960</td>\n",
       "    </tr>\n",
       "    <tr>\n",
       "      <th>19108</th>\n",
       "      <td>John F. Kennedy</td>\n",
       "      <td>STUMP</td>\n",
       "      <td>ALBUQUERQUE</td>\n",
       "      <td>Mr. Chairman, Governor Burroughs, Senator Chav...</td>\n",
       "      <td>11/03</td>\n",
       "      <td>3.0</td>\n",
       "      <td>-999</td>\n",
       "      <td>11.0</td>\n",
       "      <td>Speech5237</td>\n",
       "      <td>NEW</td>\n",
       "      <td>['Mr. Chairman, Governor Burroughs, Senator Ch...</td>\n",
       "      <td>CONGRESS,</td>\n",
       "      <td>Speech5237_0:17</td>\n",
       "      <td>NaN</td>\n",
       "      <td>SPEECH</td>\n",
       "      <td>NaN</td>\n",
       "      <td>1960</td>\n",
       "    </tr>\n",
       "    <tr>\n",
       "      <th>19109</th>\n",
       "      <td>John F. Kennedy</td>\n",
       "      <td>STUMP</td>\n",
       "      <td>AMARILLO</td>\n",
       "      <td>Lyndon; Ralph Yarborough; Mr. Mayor; Senator A...</td>\n",
       "      <td>11/03</td>\n",
       "      <td>3.0</td>\n",
       "      <td>AIRPORT</td>\n",
       "      <td>11.0</td>\n",
       "      <td>Speech5238</td>\n",
       "      <td>TEXAS</td>\n",
       "      <td>['Lyndon; Ralph Yarborough; Mr. Mayor; Senator...</td>\n",
       "      <td>ECONOMY--GENERAL,</td>\n",
       "      <td>Speech5238_0:15</td>\n",
       "      <td>NaN</td>\n",
       "      <td>SPEECH</td>\n",
       "      <td>NaN</td>\n",
       "      <td>1960</td>\n",
       "    </tr>\n",
       "  </tbody>\n",
       "</table>\n",
       "</div>"
      ],
      "text/plain": [
       "             Candidate Chanel         City  \\\n",
       "19105  John F. Kennedy  STUMP      PHOENIX   \n",
       "19106  John F. Kennedy  STUMP      PHOENIX   \n",
       "19107  John F. Kennedy  STUMP      PHOENIX   \n",
       "19108  John F. Kennedy  STUMP  ALBUQUERQUE   \n",
       "19109  John F. Kennedy  STUMP     AMARILLO   \n",
       "\n",
       "                                                 Content   Date  Day  \\\n",
       "19105  Ladies and gentlemen, I just hate to think--wo...  11/03  3.0   \n",
       "19106  My friend and colleague in the House, whom I a...  11/03  3.0   \n",
       "19107  Congressman Udall, my friend and colleague fro...  11/03  3.0   \n",
       "19108  Mr. Chairman, Governor Burroughs, Senator Chav...  11/03  3.0   \n",
       "19109  Lyndon; Ralph Yarborough; Mr. Mayor; Senator A...  11/03  3.0   \n",
       "\n",
       "      Description Month Speech_index    State  \\\n",
       "19105     AIRPORT  11.0   Speech5234  ARIZONA   \n",
       "19106    WESTWARD  11.0   Speech5235  ARIZONA   \n",
       "19107      STREET  11.0   Speech5236  ARIZONA   \n",
       "19108        -999  11.0   Speech5237      NEW   \n",
       "19109     AIRPORT  11.0   Speech5238    TEXAS   \n",
       "\n",
       "                                              SubContent            Subject  \\\n",
       "19105  ['Ladies and gentlemen, I just hate to think--...               -999   \n",
       "19106  [\"My friend and colleague in the House, whom I...               -999   \n",
       "19107  ['Congressman Udall, my friend and colleague f...            NATURAL   \n",
       "19108  ['Mr. Chairman, Governor Burroughs, Senator Ch...          CONGRESS,   \n",
       "19109  ['Lyndon; Ralph Yarborough; Mr. Mayor; Senator...  ECONOMY--GENERAL,   \n",
       "\n",
       "       Subspeech_index Title    Type  URL  Year  \n",
       "19105   Speech5234_0:8   NaN  SPEECH  NaN  1960  \n",
       "19106   Speech5235_0:5   NaN  SPEECH  NaN  1960  \n",
       "19107  Speech5236_0:18   NaN  SPEECH  NaN  1960  \n",
       "19108  Speech5237_0:17   NaN  SPEECH  NaN  1960  \n",
       "19109  Speech5238_0:15   NaN  SPEECH  NaN  1960  "
      ]
     },
     "execution_count": 10,
     "metadata": {},
     "output_type": "execute_result"
    }
   ],
   "source": [
    "Sub_Speech.tail()"
   ]
  },
  {
   "cell_type": "code",
   "execution_count": 11,
   "metadata": {},
   "outputs": [],
   "source": [
    "SubSpeech_coded = Sub_Speech.merge(coded_data, how = 'outer', left_on='Subspeech_index', right_on = 'Subspeech_index')"
   ]
  },
  {
   "cell_type": "code",
   "execution_count": 12,
   "metadata": {},
   "outputs": [
    {
     "data": {
      "text/plain": [
       "19110"
      ]
     },
     "execution_count": 12,
     "metadata": {},
     "output_type": "execute_result"
    }
   ],
   "source": [
    "len(SubSpeech_coded.Subspeech_index)"
   ]
  },
  {
   "cell_type": "code",
   "execution_count": 13,
   "metadata": {},
   "outputs": [],
   "source": [
    "overmonth = ['September', 'October', 'November']"
   ]
  },
  {
   "cell_type": "code",
   "execution_count": 15,
   "metadata": {},
   "outputs": [],
   "source": [
    "dup_index = SubSpeech_coded[SubSpeech_coded.Year.isin(PennSpeech.Year) & SubSpeech_coded.Type.isin(['Campaign Documents']) \n",
    "                            & SubSpeech_coded.Month.isin(overmonth)].index"
   ]
  },
  {
   "cell_type": "code",
   "execution_count": 17,
   "metadata": {},
   "outputs": [
    {
     "data": {
      "text/plain": [
       "2418"
      ]
     },
     "execution_count": 17,
     "metadata": {},
     "output_type": "execute_result"
    }
   ],
   "source": [
    "len(dup_index)"
   ]
  },
  {
   "cell_type": "code",
   "execution_count": 18,
   "metadata": {},
   "outputs": [],
   "source": [
    "coded_index = SubSpeech_coded[SubSpeech_coded.Year.isin(PennSpeech.Year) & \n",
    "                SubSpeech_coded.Month.isin(overmonth) & SubSpeech_coded.Type.isin(['Campaign Documents']) \n",
    "                              & SubSpeech_coded.Pop.isin(['reject','accept'])].index"
   ]
  },
  {
   "cell_type": "code",
   "execution_count": 19,
   "metadata": {},
   "outputs": [],
   "source": [
    "del_index = list(set(dup_index).difference(set(coded_index)))"
   ]
  },
  {
   "cell_type": "code",
   "execution_count": 20,
   "metadata": {},
   "outputs": [
    {
     "data": {
      "text/plain": [
       "2381"
      ]
     },
     "execution_count": 20,
     "metadata": {},
     "output_type": "execute_result"
    }
   ],
   "source": [
    "len(del_index)"
   ]
  },
  {
   "cell_type": "code",
   "execution_count": 22,
   "metadata": {},
   "outputs": [],
   "source": [
    "SubSpeech_coded_cleaned = SubSpeech_coded.drop(del_index)"
   ]
  },
  {
   "cell_type": "code",
   "execution_count": 23,
   "metadata": {},
   "outputs": [
    {
     "data": {
      "text/plain": [
       "16729"
      ]
     },
     "execution_count": 23,
     "metadata": {},
     "output_type": "execute_result"
    }
   ],
   "source": [
    "len(SubSpeech_coded_cleaned.Year)"
   ]
  },
  {
   "cell_type": "code",
   "execution_count": 24,
   "metadata": {},
   "outputs": [],
   "source": [
    "SubSpeech_all_cleaned = SubSpeech_coded_cleaned.drop(columns=[\"Pop\"])"
   ]
  },
  {
   "cell_type": "code",
   "execution_count": 26,
   "metadata": {},
   "outputs": [
    {
     "data": {
      "text/plain": [
       "16729"
      ]
     },
     "execution_count": 26,
     "metadata": {},
     "output_type": "execute_result"
    }
   ],
   "source": [
    "len(SubSpeech_all_cleaned.Year)"
   ]
  },
  {
   "cell_type": "code",
   "execution_count": 29,
   "metadata": {},
   "outputs": [
    {
     "data": {
      "text/plain": [
       "4325"
      ]
     },
     "execution_count": 29,
     "metadata": {},
     "output_type": "execute_result"
    }
   ],
   "source": [
    "len(SubSpeech_all_cleaned.loc[SubSpeech_all_cleaned.Year>=1952].Speech_index.unique())"
   ]
  },
  {
   "cell_type": "code",
   "execution_count": 35,
   "metadata": {},
   "outputs": [
    {
     "data": {
      "text/plain": [
       "4108"
      ]
     },
     "execution_count": 35,
     "metadata": {},
     "output_type": "execute_result"
    }
   ],
   "source": [
    "len(SubSpeech_all_cleaned.loc[SubSpeech_all_cleaned.Year.isin(list(range(1952,2016,1)))].Speech_index.unique())"
   ]
  },
  {
   "cell_type": "code",
   "execution_count": 30,
   "metadata": {},
   "outputs": [],
   "source": [
    "SubSpeech_coded.to_csv(\"SubSpeech_mergedcoded.csv\", index=False)"
   ]
  },
  {
   "cell_type": "code",
   "execution_count": 31,
   "metadata": {},
   "outputs": [],
   "source": [
    "SubSpeech_coded_cleaned.to_csv('SubSpeech_coded_cleaned.csv', index = False)"
   ]
  },
  {
   "cell_type": "code",
   "execution_count": 32,
   "metadata": {},
   "outputs": [],
   "source": [
    "SubSpeech_all_cleaned.to_csv(\"SubSpeech_all_cleaned.csv\", index = False)"
   ]
  },
  {
   "cell_type": "code",
   "execution_count": 38,
   "metadata": {},
   "outputs": [
    {
     "data": {
      "text/plain": [
       "4364"
      ]
     },
     "execution_count": 38,
     "metadata": {},
     "output_type": "execute_result"
    }
   ],
   "source": [
    "len(SubSpeech_all_cleaned.Speech_index.unique())"
   ]
  },
  {
   "cell_type": "code",
   "execution_count": null,
   "metadata": {},
   "outputs": [],
   "source": []
  },
  {
   "cell_type": "code",
   "execution_count": 39,
   "metadata": {},
   "outputs": [],
   "source": [
    "Speech_merged = pd.read_csv('CampaignSpeechMerged.csv')"
   ]
  },
  {
   "cell_type": "code",
   "execution_count": 40,
   "metadata": {},
   "outputs": [],
   "source": [
    "Speech_merged_cleaned = Speech_merged[Speech_merged.Speech_index.isin(SubSpeech_coded_cleaned.Speech_index)]"
   ]
  },
  {
   "cell_type": "code",
   "execution_count": 41,
   "metadata": {},
   "outputs": [
    {
     "data": {
      "text/plain": [
       "(5239, 4364)"
      ]
     },
     "execution_count": 41,
     "metadata": {},
     "output_type": "execute_result"
    }
   ],
   "source": [
    "len(Speech_merged.Speech_index), len(Speech_merged_cleaned.Speech_index)"
   ]
  },
  {
   "cell_type": "code",
   "execution_count": 42,
   "metadata": {},
   "outputs": [],
   "source": [
    "Speech_merged_cleaned.to_csv('CampaignSpeechMerged_cleaned.csv', index=False)"
   ]
  },
  {
   "cell_type": "code",
   "execution_count": null,
   "metadata": {},
   "outputs": [],
   "source": []
  },
  {
   "cell_type": "code",
   "execution_count": null,
   "metadata": {},
   "outputs": [],
   "source": []
  }
 ],
 "metadata": {
  "kernelspec": {
   "display_name": "Python 3",
   "language": "python",
   "name": "python3"
  },
  "language_info": {
   "codemirror_mode": {
    "name": "ipython",
    "version": 3
   },
   "file_extension": ".py",
   "mimetype": "text/x-python",
   "name": "python",
   "nbconvert_exporter": "python",
   "pygments_lexer": "ipython3",
   "version": "3.7.3"
  }
 },
 "nbformat": 4,
 "nbformat_minor": 2
}
