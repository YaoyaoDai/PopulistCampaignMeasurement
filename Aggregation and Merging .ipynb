{
 "cells": [
  {
   "cell_type": "code",
   "execution_count": 2,
   "metadata": {},
   "outputs": [],
   "source": [
    "import pandas as pd\n",
    "import numpy as np\n",
    "import csv\n",
    "import json\n",
    "import string\n",
    "import random\n",
    "import re\n",
    "from scipy.stats import pearsonr\n",
    "from matplotlib import pyplot\n",
    "\n",
    "# np.random.seed(1234)\n",
    "# random.seed(1234)"
   ]
  },
  {
   "cell_type": "code",
   "execution_count": 3,
   "metadata": {},
   "outputs": [],
   "source": [
    "from gensim.parsing.porter import PorterStemmer\n",
    "from gensim.parsing.preprocessing import STOPWORDS\n",
    "import string\n",
    "\n",
    "porter = PorterStemmer()\n",
    "punctuation_dictionary = {s:None for s in list(string.punctuation)}\n",
    "punctuation_dictionary[\"-\"] = \"_\"\n",
    "\n",
    "punctuation_translator = str.maketrans(punctuation_dictionary)\n",
    "\n",
    "def text_cleaner(text, punctuation_translator, stemmer):\n",
    "    text = \"\".join(re.split('xa0',text))\n",
    "    text = str(text).translate(punctuation_translator)\n",
    "    text = text.lower()\n",
    "    text = porter.stem(text)\n",
    "    return(text)"
   ]
  },
  {
   "cell_type": "code",
   "execution_count": 3,
   "metadata": {},
   "outputs": [],
   "source": [
    "#SubSpeech_predicted = pd.read_csv('SubSpeech_predicted_update.csv')"
   ]
  },
  {
   "cell_type": "code",
   "execution_count": 286,
   "metadata": {},
   "outputs": [],
   "source": [
    "#SubSpeech_predicted = pd.read_csv('SubSpeech_predicted_update_new.csv')\n",
    "SubSpeech_predicted = pd.read_csv('SubSpeech_predicted_final.csv')"
   ]
  },
  {
   "cell_type": "code",
   "execution_count": 287,
   "metadata": {},
   "outputs": [
    {
     "data": {
      "text/plain": [
       "16729"
      ]
     },
     "execution_count": 287,
     "metadata": {},
     "output_type": "execute_result"
    }
   ],
   "source": [
    "len(SubSpeech_predicted.Subspeech_index)"
   ]
  },
  {
   "cell_type": "code",
   "execution_count": 288,
   "metadata": {},
   "outputs": [
    {
     "data": {
      "text/plain": [
       "0    16302\n",
       "1      427\n",
       "Name: Pop_class, dtype: int64"
      ]
     },
     "execution_count": 288,
     "metadata": {},
     "output_type": "execute_result"
    }
   ],
   "source": [
    "SubSpeech_predicted.Pop_class.value_counts()"
   ]
  },
  {
   "cell_type": "code",
   "execution_count": 289,
   "metadata": {},
   "outputs": [],
   "source": [
    "Speech = pd.read_csv('CampaignSpeechMerged_cleaned.csv')"
   ]
  },
  {
   "cell_type": "code",
   "execution_count": 290,
   "metadata": {},
   "outputs": [
    {
     "data": {
      "text/plain": [
       "(4364, 4364)"
      ]
     },
     "execution_count": 290,
     "metadata": {},
     "output_type": "execute_result"
    }
   ],
   "source": [
    "len(Speech.Speech_index), len(SubSpeech_predicted.Speech_index.unique())"
   ]
  },
  {
   "cell_type": "code",
   "execution_count": 291,
   "metadata": {},
   "outputs": [],
   "source": [
    "Polls = pd.read_csv('Polls.csv')"
   ]
  },
  {
   "cell_type": "code",
   "execution_count": 292,
   "metadata": {},
   "outputs": [],
   "source": [
    "AllCandidate = pd.read_csv('AllCandidates.csv')"
   ]
  },
  {
   "cell_type": "code",
   "execution_count": 293,
   "metadata": {},
   "outputs": [],
   "source": [
    "#Speech.head()"
   ]
  },
  {
   "cell_type": "code",
   "execution_count": 294,
   "metadata": {
    "scrolled": true
   },
   "outputs": [
    {
     "data": {
      "text/html": [
       "<div>\n",
       "<style scoped>\n",
       "    .dataframe tbody tr th:only-of-type {\n",
       "        vertical-align: middle;\n",
       "    }\n",
       "\n",
       "    .dataframe tbody tr th {\n",
       "        vertical-align: top;\n",
       "    }\n",
       "\n",
       "    .dataframe thead th {\n",
       "        text-align: right;\n",
       "    }\n",
       "</style>\n",
       "<table border=\"1\" class=\"dataframe\">\n",
       "  <thead>\n",
       "    <tr style=\"text-align: right;\">\n",
       "      <th></th>\n",
       "      <th>Candidate</th>\n",
       "      <th>Year</th>\n",
       "      <th>Party</th>\n",
       "      <th>Third_can</th>\n",
       "      <th>Final</th>\n",
       "      <th>P2P</th>\n",
       "    </tr>\n",
       "  </thead>\n",
       "  <tbody>\n",
       "    <tr>\n",
       "      <th>0</th>\n",
       "      <td>Donald J. Trump</td>\n",
       "      <td>2016</td>\n",
       "      <td>R</td>\n",
       "      <td>0</td>\n",
       "      <td>1</td>\n",
       "      <td>0</td>\n",
       "    </tr>\n",
       "    <tr>\n",
       "      <th>1</th>\n",
       "      <td>Ted Cruz</td>\n",
       "      <td>2016</td>\n",
       "      <td>R</td>\n",
       "      <td>0</td>\n",
       "      <td>0</td>\n",
       "      <td>0</td>\n",
       "    </tr>\n",
       "    <tr>\n",
       "      <th>2</th>\n",
       "      <td>Marco Rubio</td>\n",
       "      <td>2016</td>\n",
       "      <td>R</td>\n",
       "      <td>0</td>\n",
       "      <td>0</td>\n",
       "      <td>0</td>\n",
       "    </tr>\n",
       "    <tr>\n",
       "      <th>3</th>\n",
       "      <td>John Kasich</td>\n",
       "      <td>2016</td>\n",
       "      <td>R</td>\n",
       "      <td>0</td>\n",
       "      <td>0</td>\n",
       "      <td>0</td>\n",
       "    </tr>\n",
       "    <tr>\n",
       "      <th>4</th>\n",
       "      <td>Ben Carson</td>\n",
       "      <td>2016</td>\n",
       "      <td>R</td>\n",
       "      <td>0</td>\n",
       "      <td>0</td>\n",
       "      <td>0</td>\n",
       "    </tr>\n",
       "  </tbody>\n",
       "</table>\n",
       "</div>"
      ],
      "text/plain": [
       "         Candidate  Year Party  Third_can  Final  P2P\n",
       "0  Donald J. Trump  2016     R          0      1    0\n",
       "1         Ted Cruz  2016     R          0      0    0\n",
       "2      Marco Rubio  2016     R          0      0    0\n",
       "3      John Kasich  2016     R          0      0    0\n",
       "4       Ben Carson  2016     R          0      0    0"
      ]
     },
     "execution_count": 294,
     "metadata": {},
     "output_type": "execute_result"
    }
   ],
   "source": [
    "AllCandidate.head()"
   ]
  },
  {
   "cell_type": "code",
   "execution_count": 295,
   "metadata": {},
   "outputs": [],
   "source": [
    "#corr, _ = pearsonr(SubSpeech_predicted['Pop_prob0'], SubSpeech_predicted['Pop_prob'])\n",
    "#print('Pearsons correlation: %.3f' % corr)"
   ]
  },
  {
   "cell_type": "code",
   "execution_count": 296,
   "metadata": {},
   "outputs": [],
   "source": [
    "#SubSpeech_predicted[SubSpeech_predicted.Pop.isna()].sort_values('Dif').head(20)"
   ]
  },
  {
   "cell_type": "code",
   "execution_count": 297,
   "metadata": {},
   "outputs": [],
   "source": [
    "#SubSpeech_predicted['CandiYear'].unique()"
   ]
  },
  {
   "cell_type": "code",
   "execution_count": 298,
   "metadata": {},
   "outputs": [
    {
     "data": {
      "text/plain": [
       "array(['November', 'October', 'September', 'August', 'July', 'June',\n",
       "       'March', 'May', 'April', 'February', 'January', 'December', '10.0',\n",
       "       '11.0', nan, '7.0', '9.0', '8.0'], dtype=object)"
      ]
     },
     "execution_count": 298,
     "metadata": {},
     "output_type": "execute_result"
    }
   ],
   "source": [
    "Speech.Month.unique()"
   ]
  },
  {
   "cell_type": "markdown",
   "metadata": {},
   "source": [
    "## Speech Level"
   ]
  },
  {
   "cell_type": "code",
   "execution_count": 299,
   "metadata": {},
   "outputs": [],
   "source": [
    "SubSpeech_predicted.Month.replace({'7.0': 'July', '8.0': 'August', '9.0': 'September', '10.0': 'October', '11.0': 'November', },\n",
    "                        inplace=True)"
   ]
  },
  {
   "cell_type": "code",
   "execution_count": 300,
   "metadata": {},
   "outputs": [],
   "source": [
    "Speech.Month.replace({'7.0': 'July', '8.0': 'August', '9.0': 'September', '10.0': 'October', '11.0': 'November', },\n",
    "                        inplace=True)"
   ]
  },
  {
   "cell_type": "code",
   "execution_count": 301,
   "metadata": {},
   "outputs": [],
   "source": [
    "SubSpeech_predicted['CandiYear'] = SubSpeech_predicted.Candidate + '_' + SubSpeech_predicted.Year.astype(str) "
   ]
  },
  {
   "cell_type": "code",
   "execution_count": 302,
   "metadata": {},
   "outputs": [],
   "source": [
    "CanditateYear = Polls.Candidate + '_' + Polls.Year.astype(str)"
   ]
  },
  {
   "cell_type": "code",
   "execution_count": 303,
   "metadata": {},
   "outputs": [],
   "source": [
    "CandiPop_SubSpeech = SubSpeech_predicted[SubSpeech_predicted.CandiYear.isin(CanditateYear)]"
   ]
  },
  {
   "cell_type": "code",
   "execution_count": 304,
   "metadata": {},
   "outputs": [
    {
     "data": {
      "text/plain": [
       "3495"
      ]
     },
     "execution_count": 304,
     "metadata": {},
     "output_type": "execute_result"
    }
   ],
   "source": [
    "len(CandiPop_SubSpeech.Speech_index.unique())"
   ]
  },
  {
   "cell_type": "code",
   "execution_count": 305,
   "metadata": {},
   "outputs": [],
   "source": [
    "CandiPop_SubSpeech = CandiPop_SubSpeech[['Candidate','Chanel','City','Year','Month','Day','Speech_index',\n",
    "                                         'Subspeech_index', 'Title','Type','Pop_class']]                         "
   ]
  },
  {
   "cell_type": "code",
   "execution_count": 306,
   "metadata": {},
   "outputs": [],
   "source": [
    "CandiPop_SubSpeech.to_csv('Subspeech_Level_Pop_MajorCand.csv', index=False)"
   ]
  },
  {
   "cell_type": "code",
   "execution_count": 307,
   "metadata": {},
   "outputs": [],
   "source": [
    "#CandiPop_SubSpeech.to_csv('Subspeech_Level_Pop_MajorCand_new.csv', index=False)"
   ]
  },
  {
   "cell_type": "code",
   "execution_count": 308,
   "metadata": {},
   "outputs": [],
   "source": [
    "Pop_prop = []\n",
    "SubSpeechCounts = []\n",
    "for x in Speech.Speech_index:\n",
    "    Pop_prop.append(np.mean(SubSpeech_predicted.Pop_class[SubSpeech_predicted.Speech_index == x]))\n",
    "    SubSpeechCounts.append(len(SubSpeech_predicted.Subspeech_index[SubSpeech_predicted.Speech_index == x]))"
   ]
  },
  {
   "cell_type": "code",
   "execution_count": 309,
   "metadata": {},
   "outputs": [],
   "source": [
    "Pop_Speech = Speech.assign(Pop_prop = Pop_prop)\n",
    "Pop_Speech = Pop_Speech.assign(SubSpeechCounts = SubSpeechCounts)"
   ]
  },
  {
   "cell_type": "code",
   "execution_count": 310,
   "metadata": {},
   "outputs": [],
   "source": [
    "#Pop_Speech.head()"
   ]
  },
  {
   "cell_type": "markdown",
   "metadata": {},
   "source": [
    "### Add speech word counts"
   ]
  },
  {
   "cell_type": "code",
   "execution_count": 311,
   "metadata": {},
   "outputs": [],
   "source": [
    "Speech['cleantext'] = Speech[\"Content\"].apply(lambda x: text_cleaner(x, punctuation_translator, porter))"
   ]
  },
  {
   "cell_type": "code",
   "execution_count": 312,
   "metadata": {},
   "outputs": [],
   "source": [
    "Speech['Speech_len'] = [len(x.split(' ')) for x in Speech['cleantext']]"
   ]
  },
  {
   "cell_type": "code",
   "execution_count": 313,
   "metadata": {},
   "outputs": [],
   "source": [
    "Speech_len = Speech[['Speech_index','Speech_len']]"
   ]
  },
  {
   "cell_type": "code",
   "execution_count": 314,
   "metadata": {},
   "outputs": [],
   "source": [
    "Pop_Speech = Pop_Speech.merge(Speech_len)"
   ]
  },
  {
   "cell_type": "code",
   "execution_count": 315,
   "metadata": {},
   "outputs": [],
   "source": [
    "Pop_Speech = Pop_Speech[['Candidate','Chanel','City','Year','Month','Day','Speech_index',\n",
    "                         'Title','Type','Pop_prop','SubSpeechCounts','Speech_len']]"
   ]
  },
  {
   "cell_type": "code",
   "execution_count": 316,
   "metadata": {},
   "outputs": [
    {
     "data": {
      "text/plain": [
       "array(['November', 'October', 'September', 'August', 'July', 'June',\n",
       "       'March', 'May', 'April', 'February', 'January', 'December', nan],\n",
       "      dtype=object)"
      ]
     },
     "execution_count": 316,
     "metadata": {},
     "output_type": "execute_result"
    }
   ],
   "source": [
    "Pop_Speech.Month.unique()"
   ]
  },
  {
   "cell_type": "code",
   "execution_count": 317,
   "metadata": {},
   "outputs": [
    {
     "data": {
      "text/plain": [
       "4325"
      ]
     },
     "execution_count": 317,
     "metadata": {},
     "output_type": "execute_result"
    }
   ],
   "source": [
    "len(Pop_Speech[Pop_Speech.Year>=1952].Title)"
   ]
  },
  {
   "cell_type": "code",
   "execution_count": 318,
   "metadata": {},
   "outputs": [],
   "source": [
    "#len(CandiPop_Speech.loc[CandiPop_Speech.Speech_len.isin(list(range(400,7000)))].Speech_len)/len(CandiPop_Speech.Title)"
   ]
  },
  {
   "cell_type": "code",
   "execution_count": 319,
   "metadata": {},
   "outputs": [],
   "source": [
    "Pop_Speech.to_csv(\"Speech_Level_Pop_All.csv\", index=False)"
   ]
  },
  {
   "cell_type": "code",
   "execution_count": 320,
   "metadata": {},
   "outputs": [],
   "source": [
    "#Pop_Speech.to_csv(\"Speech_Level_Pop_All_new.csv\", index=False)"
   ]
  },
  {
   "cell_type": "markdown",
   "metadata": {},
   "source": [
    "### Select Relevant Speeches"
   ]
  },
  {
   "cell_type": "code",
   "execution_count": 321,
   "metadata": {},
   "outputs": [
    {
     "data": {
      "text/plain": [
       "{'Alfred M. Landon',\n",
       " 'Gary Johnson',\n",
       " 'George Wallace',\n",
       " 'John Anderson',\n",
       " 'Ralph Nader',\n",
       " 'Strom Thurmond'}"
      ]
     },
     "execution_count": 321,
     "metadata": {},
     "output_type": "execute_result"
    }
   ],
   "source": [
    "set(Polls.Candidate).difference(set(Pop_Speech.Candidate))"
   ]
  },
  {
   "cell_type": "code",
   "execution_count": 322,
   "metadata": {},
   "outputs": [],
   "source": [
    "Pop_Speech['CandiYear'] = Pop_Speech.Candidate + '_' + Pop_Speech.Year.astype(str) "
   ]
  },
  {
   "cell_type": "code",
   "execution_count": 323,
   "metadata": {},
   "outputs": [],
   "source": [
    "CanditateYear = Polls.Candidate + '_' + Polls.Year.astype(str)"
   ]
  },
  {
   "cell_type": "code",
   "execution_count": 324,
   "metadata": {},
   "outputs": [],
   "source": [
    "CandiPop_Speech = Pop_Speech[Pop_Speech.CandiYear.isin(CanditateYear)]"
   ]
  },
  {
   "cell_type": "code",
   "execution_count": 325,
   "metadata": {},
   "outputs": [
    {
     "data": {
      "text/plain": [
       "3495"
      ]
     },
     "execution_count": 325,
     "metadata": {},
     "output_type": "execute_result"
    }
   ],
   "source": [
    "len(CandiPop_Speech.Title)"
   ]
  },
  {
   "cell_type": "code",
   "execution_count": 326,
   "metadata": {},
   "outputs": [
    {
     "data": {
      "text/plain": [
       "count     3495.000000\n",
       "mean      2167.230615\n",
       "std       1369.323702\n",
       "min         25.000000\n",
       "25%       1140.500000\n",
       "50%       1984.000000\n",
       "75%       2905.500000\n",
       "max      11057.000000\n",
       "Name: Speech_len, dtype: float64"
      ]
     },
     "execution_count": 326,
     "metadata": {},
     "output_type": "execute_result"
    }
   ],
   "source": [
    "CandiPop_Speech.Speech_len.describe()"
   ]
  },
  {
   "cell_type": "code",
   "execution_count": 327,
   "metadata": {},
   "outputs": [
    {
     "data": {
      "text/plain": [
       "0.9476394849785408"
      ]
     },
     "execution_count": 327,
     "metadata": {},
     "output_type": "execute_result"
    }
   ],
   "source": [
    "len(CandiPop_Speech.loc[CandiPop_Speech.Speech_len.isin(list(range(400,7000)))].Speech_len)/len(CandiPop_Speech.Title)"
   ]
  },
  {
   "cell_type": "code",
   "execution_count": 328,
   "metadata": {},
   "outputs": [
    {
     "data": {
      "text/html": [
       "<div>\n",
       "<style scoped>\n",
       "    .dataframe tbody tr th:only-of-type {\n",
       "        vertical-align: middle;\n",
       "    }\n",
       "\n",
       "    .dataframe tbody tr th {\n",
       "        vertical-align: top;\n",
       "    }\n",
       "\n",
       "    .dataframe thead th {\n",
       "        text-align: right;\n",
       "    }\n",
       "</style>\n",
       "<table border=\"1\" class=\"dataframe\">\n",
       "  <thead>\n",
       "    <tr style=\"text-align: right;\">\n",
       "      <th></th>\n",
       "      <th>Candidate</th>\n",
       "      <th>Chanel</th>\n",
       "      <th>City</th>\n",
       "      <th>Year</th>\n",
       "      <th>Month</th>\n",
       "      <th>Day</th>\n",
       "      <th>Speech_index</th>\n",
       "      <th>Title</th>\n",
       "      <th>Type</th>\n",
       "      <th>Pop_prop</th>\n",
       "      <th>SubSpeechCounts</th>\n",
       "      <th>Speech_len</th>\n",
       "      <th>CandiYear</th>\n",
       "    </tr>\n",
       "  </thead>\n",
       "  <tbody>\n",
       "    <tr>\n",
       "      <th>117</th>\n",
       "      <td>Donald J. Trump</td>\n",
       "      <td>NaN</td>\n",
       "      <td>NaN</td>\n",
       "      <td>2016</td>\n",
       "      <td>August</td>\n",
       "      <td>5.0</td>\n",
       "      <td>Speech117</td>\n",
       "      <td>\\nRemarks at the KI Convention Center in Green...</td>\n",
       "      <td>Campaign Documents</td>\n",
       "      <td>0.047619</td>\n",
       "      <td>21</td>\n",
       "      <td>9261</td>\n",
       "      <td>Donald J. Trump_2016</td>\n",
       "    </tr>\n",
       "    <tr>\n",
       "      <th>2224</th>\n",
       "      <td>Hubert H. Humphrey</td>\n",
       "      <td>STUMP</td>\n",
       "      <td>BUFFALO</td>\n",
       "      <td>1968</td>\n",
       "      <td>September</td>\n",
       "      <td>17.0</td>\n",
       "      <td>Speech3099</td>\n",
       "      <td>NaN</td>\n",
       "      <td>SPEECH</td>\n",
       "      <td>0.000000</td>\n",
       "      <td>8</td>\n",
       "      <td>9280</td>\n",
       "      <td>Hubert H. Humphrey_1968</td>\n",
       "    </tr>\n",
       "    <tr>\n",
       "      <th>191</th>\n",
       "      <td>Hillary Clinton</td>\n",
       "      <td>NaN</td>\n",
       "      <td>NaN</td>\n",
       "      <td>2016</td>\n",
       "      <td>February</td>\n",
       "      <td>3.0</td>\n",
       "      <td>Speech191</td>\n",
       "      <td>\\nRemarks at the CNN Democratic Presidential T...</td>\n",
       "      <td>Campaign Documents</td>\n",
       "      <td>0.000000</td>\n",
       "      <td>14</td>\n",
       "      <td>9327</td>\n",
       "      <td>Hillary Clinton_2016</td>\n",
       "    </tr>\n",
       "    <tr>\n",
       "      <th>119</th>\n",
       "      <td>Donald J. Trump</td>\n",
       "      <td>NaN</td>\n",
       "      <td>NaN</td>\n",
       "      <td>2016</td>\n",
       "      <td>July</td>\n",
       "      <td>27.0</td>\n",
       "      <td>Speech119</td>\n",
       "      <td>\\nNews Conference in Doral, Florida\\n</td>\n",
       "      <td>Campaign Documents</td>\n",
       "      <td>0.000000</td>\n",
       "      <td>32</td>\n",
       "      <td>9727</td>\n",
       "      <td>Donald J. Trump_2016</td>\n",
       "    </tr>\n",
       "    <tr>\n",
       "      <th>2248</th>\n",
       "      <td>Hubert H. Humphrey</td>\n",
       "      <td>STUMP</td>\n",
       "      <td>PORTLAND</td>\n",
       "      <td>1968</td>\n",
       "      <td>September</td>\n",
       "      <td>27.0</td>\n",
       "      <td>Speech3123</td>\n",
       "      <td>NaN</td>\n",
       "      <td>SPEECH</td>\n",
       "      <td>0.000000</td>\n",
       "      <td>12</td>\n",
       "      <td>11057</td>\n",
       "      <td>Hubert H. Humphrey_1968</td>\n",
       "    </tr>\n",
       "  </tbody>\n",
       "</table>\n",
       "</div>"
      ],
      "text/plain": [
       "               Candidate Chanel      City  Year      Month   Day Speech_index  \\\n",
       "117      Donald J. Trump    NaN       NaN  2016     August   5.0    Speech117   \n",
       "2224  Hubert H. Humphrey  STUMP   BUFFALO  1968  September  17.0   Speech3099   \n",
       "191      Hillary Clinton    NaN       NaN  2016   February   3.0    Speech191   \n",
       "119      Donald J. Trump    NaN       NaN  2016       July  27.0    Speech119   \n",
       "2248  Hubert H. Humphrey  STUMP  PORTLAND  1968  September  27.0   Speech3123   \n",
       "\n",
       "                                                  Title                Type  \\\n",
       "117   \\nRemarks at the KI Convention Center in Green...  Campaign Documents   \n",
       "2224                                                NaN              SPEECH   \n",
       "191   \\nRemarks at the CNN Democratic Presidential T...  Campaign Documents   \n",
       "119               \\nNews Conference in Doral, Florida\\n  Campaign Documents   \n",
       "2248                                                NaN              SPEECH   \n",
       "\n",
       "      Pop_prop  SubSpeechCounts  Speech_len                CandiYear  \n",
       "117   0.047619               21        9261     Donald J. Trump_2016  \n",
       "2224  0.000000                8        9280  Hubert H. Humphrey_1968  \n",
       "191   0.000000               14        9327     Hillary Clinton_2016  \n",
       "119   0.000000               32        9727     Donald J. Trump_2016  \n",
       "2248  0.000000               12       11057  Hubert H. Humphrey_1968  "
      ]
     },
     "execution_count": 328,
     "metadata": {},
     "output_type": "execute_result"
    }
   ],
   "source": [
    "CandiPop_Speech.sort_values(by=['Speech_len'], ascending=True).tail(5)"
   ]
  },
  {
   "cell_type": "code",
   "execution_count": 329,
   "metadata": {},
   "outputs": [],
   "source": [
    "CandiPop_Speech.to_csv(\"Speech_Level_Pop_MajorCand.csv\", index = False)"
   ]
  },
  {
   "cell_type": "code",
   "execution_count": 330,
   "metadata": {},
   "outputs": [],
   "source": [
    "#CandiPop_Speech.to_csv(\"Speech_Level_Pop_MajorCand_new.csv\", index = False)"
   ]
  },
  {
   "cell_type": "markdown",
   "metadata": {},
   "source": [
    "## Candidate level"
   ]
  },
  {
   "cell_type": "code",
   "execution_count": 331,
   "metadata": {},
   "outputs": [],
   "source": [
    "CandiPop = SubSpeech_predicted.groupby(['Candidate','Year']).Pop_class.mean().reset_index()"
   ]
  },
  {
   "cell_type": "code",
   "execution_count": 332,
   "metadata": {},
   "outputs": [],
   "source": [
    "CandiCounts = SubSpeech_predicted.groupby(['Candidate','Year']).Subspeech_index.count().reset_index()"
   ]
  },
  {
   "cell_type": "code",
   "execution_count": 333,
   "metadata": {},
   "outputs": [],
   "source": [
    "CandiSpeechCounts = Speech.groupby(['Candidate','Year']).Speech_index.count().reset_index()"
   ]
  },
  {
   "cell_type": "code",
   "execution_count": 334,
   "metadata": {},
   "outputs": [
    {
     "data": {
      "text/html": [
       "<div>\n",
       "<style scoped>\n",
       "    .dataframe tbody tr th:only-of-type {\n",
       "        vertical-align: middle;\n",
       "    }\n",
       "\n",
       "    .dataframe tbody tr th {\n",
       "        vertical-align: top;\n",
       "    }\n",
       "\n",
       "    .dataframe thead th {\n",
       "        text-align: right;\n",
       "    }\n",
       "</style>\n",
       "<table border=\"1\" class=\"dataframe\">\n",
       "  <thead>\n",
       "    <tr style=\"text-align: right;\">\n",
       "      <th></th>\n",
       "      <th>Candidate</th>\n",
       "      <th>Year</th>\n",
       "      <th>Pop_class</th>\n",
       "      <th>Subspeech_index</th>\n",
       "      <th>Speech_index</th>\n",
       "    </tr>\n",
       "  </thead>\n",
       "  <tbody>\n",
       "    <tr>\n",
       "      <th>0</th>\n",
       "      <td>Adlai Stevenson</td>\n",
       "      <td>1952</td>\n",
       "      <td>0.000000</td>\n",
       "      <td>409</td>\n",
       "      <td>186</td>\n",
       "    </tr>\n",
       "    <tr>\n",
       "      <th>1</th>\n",
       "      <td>Adlai Stevenson</td>\n",
       "      <td>1956</td>\n",
       "      <td>0.004032</td>\n",
       "      <td>248</td>\n",
       "      <td>75</td>\n",
       "    </tr>\n",
       "    <tr>\n",
       "      <th>2</th>\n",
       "      <td>Al Smith</td>\n",
       "      <td>1928</td>\n",
       "      <td>0.000000</td>\n",
       "      <td>9</td>\n",
       "      <td>1</td>\n",
       "    </tr>\n",
       "    <tr>\n",
       "      <th>3</th>\n",
       "      <td>Albert Gore, Jr.</td>\n",
       "      <td>1999</td>\n",
       "      <td>0.000000</td>\n",
       "      <td>7</td>\n",
       "      <td>1</td>\n",
       "    </tr>\n",
       "    <tr>\n",
       "      <th>4</th>\n",
       "      <td>Albert Gore, Jr.</td>\n",
       "      <td>2000</td>\n",
       "      <td>0.011628</td>\n",
       "      <td>86</td>\n",
       "      <td>14</td>\n",
       "    </tr>\n",
       "  </tbody>\n",
       "</table>\n",
       "</div>"
      ],
      "text/plain": [
       "          Candidate  Year  Pop_class  Subspeech_index  Speech_index\n",
       "0   Adlai Stevenson  1952   0.000000              409           186\n",
       "1   Adlai Stevenson  1956   0.004032              248            75\n",
       "2          Al Smith  1928   0.000000                9             1\n",
       "3  Albert Gore, Jr.  1999   0.000000                7             1\n",
       "4  Albert Gore, Jr.  2000   0.011628               86            14"
      ]
     },
     "execution_count": 334,
     "metadata": {},
     "output_type": "execute_result"
    }
   ],
   "source": [
    "CandiPop = CandiPop.merge(CandiCounts).merge(CandiSpeechCounts)\n",
    "CandiPop.head()"
   ]
  },
  {
   "cell_type": "code",
   "execution_count": 335,
   "metadata": {},
   "outputs": [
    {
     "data": {
      "text/plain": [
       "164"
      ]
     },
     "execution_count": 335,
     "metadata": {},
     "output_type": "execute_result"
    }
   ],
   "source": [
    "len(CandiPop.Subspeech_index)"
   ]
  },
  {
   "cell_type": "code",
   "execution_count": 336,
   "metadata": {},
   "outputs": [],
   "source": [
    "CandiPop.rename(columns={'Pop_class': 'Pop_prop', 'Subspeech_index': 'Subspeech_counts', 'Speech_index': 'Speech_counts' }, \n",
    "                      inplace = True)"
   ]
  },
  {
   "cell_type": "code",
   "execution_count": 337,
   "metadata": {},
   "outputs": [],
   "source": [
    "#CandiPop.head()"
   ]
  },
  {
   "cell_type": "code",
   "execution_count": 338,
   "metadata": {},
   "outputs": [],
   "source": [
    "CandiPop.to_csv('AllCandidateLevel.csv', index=False)"
   ]
  },
  {
   "cell_type": "code",
   "execution_count": 339,
   "metadata": {},
   "outputs": [],
   "source": [
    "#CandiPop = pd.read_csv('AllCandidateLevel.csv')"
   ]
  },
  {
   "cell_type": "code",
   "execution_count": 340,
   "metadata": {},
   "outputs": [],
   "source": [
    "CandiPop['CandiYear'] = CandiPop.Candidate + '_' + CandiPop.Year.astype(str) "
   ]
  },
  {
   "cell_type": "code",
   "execution_count": 341,
   "metadata": {},
   "outputs": [],
   "source": [
    "AllCandidate['CandiYear'] = AllCandidate.Candidate + '_' + AllCandidate.Year.astype(str) "
   ]
  },
  {
   "cell_type": "code",
   "execution_count": 342,
   "metadata": {},
   "outputs": [
    {
     "data": {
      "text/plain": [
       "{'Alfred M. Landon',\n",
       " 'Gary Johnson',\n",
       " 'George Wallace',\n",
       " 'Jim Gilmore',\n",
       " 'John Anderson',\n",
       " 'Ralph Nader',\n",
       " 'Strom Thurmond'}"
      ]
     },
     "execution_count": 342,
     "metadata": {},
     "output_type": "execute_result"
    }
   ],
   "source": [
    "set(AllCandidate.Candidate).difference(set(CandiPop.Candidate))"
   ]
  },
  {
   "cell_type": "code",
   "execution_count": 343,
   "metadata": {},
   "outputs": [],
   "source": [
    "#set(CandiPop.CandiYear).difference(set(AllCandidate.CandiYear))"
   ]
  },
  {
   "cell_type": "code",
   "execution_count": 344,
   "metadata": {},
   "outputs": [
    {
     "data": {
      "text/html": [
       "<div>\n",
       "<style scoped>\n",
       "    .dataframe tbody tr th:only-of-type {\n",
       "        vertical-align: middle;\n",
       "    }\n",
       "\n",
       "    .dataframe tbody tr th {\n",
       "        vertical-align: top;\n",
       "    }\n",
       "\n",
       "    .dataframe thead th {\n",
       "        text-align: right;\n",
       "    }\n",
       "</style>\n",
       "<table border=\"1\" class=\"dataframe\">\n",
       "  <thead>\n",
       "    <tr style=\"text-align: right;\">\n",
       "      <th></th>\n",
       "      <th>Candidate</th>\n",
       "      <th>Year</th>\n",
       "      <th>Party</th>\n",
       "      <th>Third_can</th>\n",
       "      <th>Final</th>\n",
       "      <th>P2P</th>\n",
       "      <th>CandiYear</th>\n",
       "    </tr>\n",
       "  </thead>\n",
       "  <tbody>\n",
       "    <tr>\n",
       "      <th>0</th>\n",
       "      <td>Donald J. Trump</td>\n",
       "      <td>2016</td>\n",
       "      <td>R</td>\n",
       "      <td>0</td>\n",
       "      <td>1</td>\n",
       "      <td>0</td>\n",
       "      <td>Donald J. Trump_2016</td>\n",
       "    </tr>\n",
       "    <tr>\n",
       "      <th>1</th>\n",
       "      <td>Ted Cruz</td>\n",
       "      <td>2016</td>\n",
       "      <td>R</td>\n",
       "      <td>0</td>\n",
       "      <td>0</td>\n",
       "      <td>0</td>\n",
       "      <td>Ted Cruz_2016</td>\n",
       "    </tr>\n",
       "    <tr>\n",
       "      <th>2</th>\n",
       "      <td>Marco Rubio</td>\n",
       "      <td>2016</td>\n",
       "      <td>R</td>\n",
       "      <td>0</td>\n",
       "      <td>0</td>\n",
       "      <td>0</td>\n",
       "      <td>Marco Rubio_2016</td>\n",
       "    </tr>\n",
       "    <tr>\n",
       "      <th>3</th>\n",
       "      <td>John Kasich</td>\n",
       "      <td>2016</td>\n",
       "      <td>R</td>\n",
       "      <td>0</td>\n",
       "      <td>0</td>\n",
       "      <td>0</td>\n",
       "      <td>John Kasich_2016</td>\n",
       "    </tr>\n",
       "    <tr>\n",
       "      <th>4</th>\n",
       "      <td>Ben Carson</td>\n",
       "      <td>2016</td>\n",
       "      <td>R</td>\n",
       "      <td>0</td>\n",
       "      <td>0</td>\n",
       "      <td>0</td>\n",
       "      <td>Ben Carson_2016</td>\n",
       "    </tr>\n",
       "  </tbody>\n",
       "</table>\n",
       "</div>"
      ],
      "text/plain": [
       "         Candidate  Year Party  Third_can  Final  P2P             CandiYear\n",
       "0  Donald J. Trump  2016     R          0      1    0  Donald J. Trump_2016\n",
       "1         Ted Cruz  2016     R          0      0    0         Ted Cruz_2016\n",
       "2      Marco Rubio  2016     R          0      0    0      Marco Rubio_2016\n",
       "3      John Kasich  2016     R          0      0    0      John Kasich_2016\n",
       "4       Ben Carson  2016     R          0      0    0       Ben Carson_2016"
      ]
     },
     "execution_count": 344,
     "metadata": {},
     "output_type": "execute_result"
    }
   ],
   "source": [
    "AllCandidate.head()"
   ]
  },
  {
   "cell_type": "code",
   "execution_count": 345,
   "metadata": {},
   "outputs": [],
   "source": [
    "CandiPop_All = CandiPop.merge(AllCandidate[['Party','Final','P2P','CandiYear']])"
   ]
  },
  {
   "cell_type": "code",
   "execution_count": 346,
   "metadata": {},
   "outputs": [],
   "source": [
    "#CandiPop.sort_values('Pop_prop').tail(30)\n",
    "CandiPop_All = CandiPop_All[CandiPop_All.Speech_counts > 4]"
   ]
  },
  {
   "cell_type": "code",
   "execution_count": 347,
   "metadata": {},
   "outputs": [],
   "source": [
    "CandiPop_All.to_csv('AllCandidate_Year_pop.csv', index = False)"
   ]
  },
  {
   "cell_type": "code",
   "execution_count": 348,
   "metadata": {},
   "outputs": [],
   "source": [
    "AllCandi_SubSpeech = SubSpeech_predicted[SubSpeech_predicted.CandiYear.isin(CandiPop_All.CandiYear)]\n",
    "AllCandi_SubSpeech = AllCandi_SubSpeech[['Candidate','Chanel','City','Year','Month','Day','Speech_index',\n",
    "                                         'Subspeech_index', 'Title','Type','Pop_class', 'CandiYear']]"
   ]
  },
  {
   "cell_type": "code",
   "execution_count": 349,
   "metadata": {},
   "outputs": [],
   "source": [
    "AllCandi_SubSpeech = AllCandi_SubSpeech.merge(AllCandidate[['Party','Final','P2P','CandiYear']])"
   ]
  },
  {
   "cell_type": "code",
   "execution_count": 350,
   "metadata": {},
   "outputs": [
    {
     "data": {
      "text/plain": [
       "count     12948\n",
       "unique        2\n",
       "top           D\n",
       "freq       7442\n",
       "Name: Party, dtype: object"
      ]
     },
     "execution_count": 350,
     "metadata": {},
     "output_type": "execute_result"
    }
   ],
   "source": [
    "AllCandi_SubSpeech.Party.describe()"
   ]
  },
  {
   "cell_type": "code",
   "execution_count": 351,
   "metadata": {},
   "outputs": [],
   "source": [
    "AllCandi_SubSpeech['YearCandi'] = AllCandi_SubSpeech.Year.astype(str) + ' ' + AllCandi_SubSpeech.Candidate "
   ]
  },
  {
   "cell_type": "code",
   "execution_count": 352,
   "metadata": {},
   "outputs": [],
   "source": [
    "AllCandi_SubSpeech.to_csv('AllCandidate_SubSpeech_Pop.csv', index = False)"
   ]
  },
  {
   "cell_type": "markdown",
   "metadata": {},
   "source": [
    "## Select final candidates"
   ]
  },
  {
   "cell_type": "code",
   "execution_count": 353,
   "metadata": {},
   "outputs": [],
   "source": [
    "# CandiPop = pd.read_csv('AllCandidateLevel.csv')"
   ]
  },
  {
   "cell_type": "code",
   "execution_count": 354,
   "metadata": {},
   "outputs": [],
   "source": [
    "#CandiPop.head()"
   ]
  },
  {
   "cell_type": "code",
   "execution_count": 355,
   "metadata": {},
   "outputs": [],
   "source": [
    "#CanditateYear = Polls.Candidate + '_' + Polls.Year.astype(str)"
   ]
  },
  {
   "cell_type": "code",
   "execution_count": 356,
   "metadata": {},
   "outputs": [],
   "source": [
    "#CandiPop[CandiPop.Speech_index >5].sort_values('Pop_class').tail(30)"
   ]
  },
  {
   "cell_type": "code",
   "execution_count": 357,
   "metadata": {},
   "outputs": [],
   "source": [
    "#CandiPop['CandiYear'] = CandiPop.Candidate + '_' + CandiPop.Year.astype(str) "
   ]
  },
  {
   "cell_type": "code",
   "execution_count": 358,
   "metadata": {},
   "outputs": [],
   "source": [
    "CandiPop_final = CandiPop[CandiPop.CandiYear.isin(CanditateYear)]"
   ]
  },
  {
   "cell_type": "code",
   "execution_count": 359,
   "metadata": {},
   "outputs": [
    {
     "data": {
      "text/html": [
       "<div>\n",
       "<style scoped>\n",
       "    .dataframe tbody tr th:only-of-type {\n",
       "        vertical-align: middle;\n",
       "    }\n",
       "\n",
       "    .dataframe tbody tr th {\n",
       "        vertical-align: top;\n",
       "    }\n",
       "\n",
       "    .dataframe thead th {\n",
       "        text-align: right;\n",
       "    }\n",
       "</style>\n",
       "<table border=\"1\" class=\"dataframe\">\n",
       "  <thead>\n",
       "    <tr style=\"text-align: right;\">\n",
       "      <th></th>\n",
       "      <th>Candidate</th>\n",
       "      <th>Year</th>\n",
       "      <th>Pop_prop</th>\n",
       "      <th>Subspeech_counts</th>\n",
       "      <th>Speech_counts</th>\n",
       "      <th>CandiYear</th>\n",
       "    </tr>\n",
       "  </thead>\n",
       "  <tbody>\n",
       "    <tr>\n",
       "      <th>0</th>\n",
       "      <td>Adlai Stevenson</td>\n",
       "      <td>1952</td>\n",
       "      <td>0.000000</td>\n",
       "      <td>409</td>\n",
       "      <td>186</td>\n",
       "      <td>Adlai Stevenson_1952</td>\n",
       "    </tr>\n",
       "    <tr>\n",
       "      <th>1</th>\n",
       "      <td>Adlai Stevenson</td>\n",
       "      <td>1956</td>\n",
       "      <td>0.004032</td>\n",
       "      <td>248</td>\n",
       "      <td>75</td>\n",
       "      <td>Adlai Stevenson_1956</td>\n",
       "    </tr>\n",
       "    <tr>\n",
       "      <th>4</th>\n",
       "      <td>Albert Gore, Jr.</td>\n",
       "      <td>2000</td>\n",
       "      <td>0.011628</td>\n",
       "      <td>86</td>\n",
       "      <td>14</td>\n",
       "      <td>Albert Gore, Jr._2000</td>\n",
       "    </tr>\n",
       "    <tr>\n",
       "      <th>8</th>\n",
       "      <td>Barack Obama</td>\n",
       "      <td>2008</td>\n",
       "      <td>0.083942</td>\n",
       "      <td>822</td>\n",
       "      <td>185</td>\n",
       "      <td>Barack Obama_2008</td>\n",
       "    </tr>\n",
       "    <tr>\n",
       "      <th>12</th>\n",
       "      <td>Barack Obama</td>\n",
       "      <td>2012</td>\n",
       "      <td>0.011650</td>\n",
       "      <td>1030</td>\n",
       "      <td>205</td>\n",
       "      <td>Barack Obama_2012</td>\n",
       "    </tr>\n",
       "  </tbody>\n",
       "</table>\n",
       "</div>"
      ],
      "text/plain": [
       "           Candidate  Year  Pop_prop  Subspeech_counts  Speech_counts  \\\n",
       "0    Adlai Stevenson  1952  0.000000               409            186   \n",
       "1    Adlai Stevenson  1956  0.004032               248             75   \n",
       "4   Albert Gore, Jr.  2000  0.011628                86             14   \n",
       "8       Barack Obama  2008  0.083942               822            185   \n",
       "12      Barack Obama  2012  0.011650              1030            205   \n",
       "\n",
       "                CandiYear  \n",
       "0    Adlai Stevenson_1952  \n",
       "1    Adlai Stevenson_1956  \n",
       "4   Albert Gore, Jr._2000  \n",
       "8       Barack Obama_2008  \n",
       "12      Barack Obama_2012  "
      ]
     },
     "execution_count": 359,
     "metadata": {},
     "output_type": "execute_result"
    }
   ],
   "source": [
    "CandiPop_final.head()"
   ]
  },
  {
   "cell_type": "code",
   "execution_count": 360,
   "metadata": {},
   "outputs": [],
   "source": [
    "#CandiPop_final.rename(columns={'Pop_class': 'Pop_prop', 'Subspeech_index': 'Subspeech_counts', 'Speech_index': 'Speech_counts' }, \n",
    "#                      inplace = True)"
   ]
  },
  {
   "cell_type": "code",
   "execution_count": 361,
   "metadata": {},
   "outputs": [],
   "source": [
    "#CandiPop_final.sort_values('Pop_prop', ascending= False).head(25)"
   ]
  },
  {
   "cell_type": "code",
   "execution_count": 362,
   "metadata": {},
   "outputs": [
    {
     "data": {
      "text/html": [
       "<div>\n",
       "<style scoped>\n",
       "    .dataframe tbody tr th:only-of-type {\n",
       "        vertical-align: middle;\n",
       "    }\n",
       "\n",
       "    .dataframe tbody tr th {\n",
       "        vertical-align: top;\n",
       "    }\n",
       "\n",
       "    .dataframe thead th {\n",
       "        text-align: right;\n",
       "    }\n",
       "</style>\n",
       "<table border=\"1\" class=\"dataframe\">\n",
       "  <thead>\n",
       "    <tr style=\"text-align: right;\">\n",
       "      <th></th>\n",
       "      <th>Candidate</th>\n",
       "      <th>Year</th>\n",
       "      <th>Pop_prop</th>\n",
       "      <th>Subspeech_counts</th>\n",
       "      <th>Speech_counts</th>\n",
       "      <th>CandiYear</th>\n",
       "    </tr>\n",
       "  </thead>\n",
       "  <tbody>\n",
       "    <tr>\n",
       "      <th>48</th>\n",
       "      <td>George McGovern</td>\n",
       "      <td>1972</td>\n",
       "      <td>0.050781</td>\n",
       "      <td>256</td>\n",
       "      <td>98</td>\n",
       "      <td>George McGovern_1972</td>\n",
       "    </tr>\n",
       "    <tr>\n",
       "      <th>68</th>\n",
       "      <td>Jimmy Carter</td>\n",
       "      <td>1976</td>\n",
       "      <td>0.019737</td>\n",
       "      <td>152</td>\n",
       "      <td>55</td>\n",
       "      <td>Jimmy Carter_1976</td>\n",
       "    </tr>\n",
       "    <tr>\n",
       "      <th>117</th>\n",
       "      <td>Richard Nixon</td>\n",
       "      <td>1968</td>\n",
       "      <td>0.014045</td>\n",
       "      <td>356</td>\n",
       "      <td>67</td>\n",
       "      <td>Richard Nixon_1968</td>\n",
       "    </tr>\n",
       "    <tr>\n",
       "      <th>36</th>\n",
       "      <td>Dwight Eisenhower</td>\n",
       "      <td>1952</td>\n",
       "      <td>0.009780</td>\n",
       "      <td>409</td>\n",
       "      <td>230</td>\n",
       "      <td>Dwight Eisenhower_1952</td>\n",
       "    </tr>\n",
       "    <tr>\n",
       "      <th>99</th>\n",
       "      <td>Michael S. Dukakis</td>\n",
       "      <td>1988</td>\n",
       "      <td>0.007692</td>\n",
       "      <td>260</td>\n",
       "      <td>66</td>\n",
       "      <td>Michael S. Dukakis_1988</td>\n",
       "    </tr>\n",
       "    <tr>\n",
       "      <th>95</th>\n",
       "      <td>Lyndon B. Johnson</td>\n",
       "      <td>1964</td>\n",
       "      <td>0.006608</td>\n",
       "      <td>454</td>\n",
       "      <td>111</td>\n",
       "      <td>Lyndon B. Johnson_1964</td>\n",
       "    </tr>\n",
       "    <tr>\n",
       "      <th>44</th>\n",
       "      <td>George Bush</td>\n",
       "      <td>1988</td>\n",
       "      <td>0.005181</td>\n",
       "      <td>193</td>\n",
       "      <td>43</td>\n",
       "      <td>George Bush_1988</td>\n",
       "    </tr>\n",
       "    <tr>\n",
       "      <th>150</th>\n",
       "      <td>Walter F. Mondale</td>\n",
       "      <td>1984</td>\n",
       "      <td>0.004149</td>\n",
       "      <td>241</td>\n",
       "      <td>67</td>\n",
       "      <td>Walter F. Mondale_1984</td>\n",
       "    </tr>\n",
       "    <tr>\n",
       "      <th>1</th>\n",
       "      <td>Adlai Stevenson</td>\n",
       "      <td>1956</td>\n",
       "      <td>0.004032</td>\n",
       "      <td>248</td>\n",
       "      <td>75</td>\n",
       "      <td>Adlai Stevenson_1956</td>\n",
       "    </tr>\n",
       "    <tr>\n",
       "      <th>156</th>\n",
       "      <td>William J. Clinton</td>\n",
       "      <td>1992</td>\n",
       "      <td>0.003195</td>\n",
       "      <td>313</td>\n",
       "      <td>76</td>\n",
       "      <td>William J. Clinton_1992</td>\n",
       "    </tr>\n",
       "    <tr>\n",
       "      <th>134</th>\n",
       "      <td>Ronald Reagan</td>\n",
       "      <td>1984</td>\n",
       "      <td>0.002725</td>\n",
       "      <td>367</td>\n",
       "      <td>108</td>\n",
       "      <td>Ronald Reagan_1984</td>\n",
       "    </tr>\n",
       "    <tr>\n",
       "      <th>116</th>\n",
       "      <td>Richard Nixon</td>\n",
       "      <td>1960</td>\n",
       "      <td>0.001942</td>\n",
       "      <td>515</td>\n",
       "      <td>159</td>\n",
       "      <td>Richard Nixon_1960</td>\n",
       "    </tr>\n",
       "    <tr>\n",
       "      <th>126</th>\n",
       "      <td>Robert Dole</td>\n",
       "      <td>1996</td>\n",
       "      <td>0.001764</td>\n",
       "      <td>567</td>\n",
       "      <td>111</td>\n",
       "      <td>Robert Dole_1996</td>\n",
       "    </tr>\n",
       "    <tr>\n",
       "      <th>63</th>\n",
       "      <td>Hubert H. Humphrey</td>\n",
       "      <td>1968</td>\n",
       "      <td>0.001344</td>\n",
       "      <td>744</td>\n",
       "      <td>154</td>\n",
       "      <td>Hubert H. Humphrey_1968</td>\n",
       "    </tr>\n",
       "    <tr>\n",
       "      <th>0</th>\n",
       "      <td>Adlai Stevenson</td>\n",
       "      <td>1952</td>\n",
       "      <td>0.000000</td>\n",
       "      <td>409</td>\n",
       "      <td>186</td>\n",
       "      <td>Adlai Stevenson_1952</td>\n",
       "    </tr>\n",
       "    <tr>\n",
       "      <th>118</th>\n",
       "      <td>Richard Nixon</td>\n",
       "      <td>1972</td>\n",
       "      <td>0.000000</td>\n",
       "      <td>137</td>\n",
       "      <td>59</td>\n",
       "      <td>Richard Nixon_1972</td>\n",
       "    </tr>\n",
       "    <tr>\n",
       "      <th>133</th>\n",
       "      <td>Ronald Reagan</td>\n",
       "      <td>1980</td>\n",
       "      <td>0.000000</td>\n",
       "      <td>189</td>\n",
       "      <td>71</td>\n",
       "      <td>Ronald Reagan_1980</td>\n",
       "    </tr>\n",
       "    <tr>\n",
       "      <th>69</th>\n",
       "      <td>Jimmy Carter</td>\n",
       "      <td>1980</td>\n",
       "      <td>0.000000</td>\n",
       "      <td>190</td>\n",
       "      <td>89</td>\n",
       "      <td>Jimmy Carter_1980</td>\n",
       "    </tr>\n",
       "    <tr>\n",
       "      <th>80</th>\n",
       "      <td>John F. Kennedy</td>\n",
       "      <td>1960</td>\n",
       "      <td>0.000000</td>\n",
       "      <td>509</td>\n",
       "      <td>378</td>\n",
       "      <td>John F. Kennedy_1960</td>\n",
       "    </tr>\n",
       "    <tr>\n",
       "      <th>55</th>\n",
       "      <td>H. Ross Perot</td>\n",
       "      <td>1992</td>\n",
       "      <td>0.000000</td>\n",
       "      <td>3</td>\n",
       "      <td>1</td>\n",
       "      <td>H. Ross Perot_1992</td>\n",
       "    </tr>\n",
       "    <tr>\n",
       "      <th>54</th>\n",
       "      <td>Gerald R. Ford</td>\n",
       "      <td>1976</td>\n",
       "      <td>0.000000</td>\n",
       "      <td>215</td>\n",
       "      <td>128</td>\n",
       "      <td>Gerald R. Ford_1976</td>\n",
       "    </tr>\n",
       "    <tr>\n",
       "      <th>45</th>\n",
       "      <td>George Bush</td>\n",
       "      <td>1992</td>\n",
       "      <td>0.000000</td>\n",
       "      <td>328</td>\n",
       "      <td>126</td>\n",
       "      <td>George Bush_1992</td>\n",
       "    </tr>\n",
       "    <tr>\n",
       "      <th>37</th>\n",
       "      <td>Dwight Eisenhower</td>\n",
       "      <td>1956</td>\n",
       "      <td>0.000000</td>\n",
       "      <td>141</td>\n",
       "      <td>43</td>\n",
       "      <td>Dwight Eisenhower_1956</td>\n",
       "    </tr>\n",
       "    <tr>\n",
       "      <th>17</th>\n",
       "      <td>Barry Goldwater</td>\n",
       "      <td>1964</td>\n",
       "      <td>0.000000</td>\n",
       "      <td>1</td>\n",
       "      <td>1</td>\n",
       "      <td>Barry Goldwater_1964</td>\n",
       "    </tr>\n",
       "    <tr>\n",
       "      <th>157</th>\n",
       "      <td>William J. Clinton</td>\n",
       "      <td>1996</td>\n",
       "      <td>0.000000</td>\n",
       "      <td>385</td>\n",
       "      <td>111</td>\n",
       "      <td>William J. Clinton_1996</td>\n",
       "    </tr>\n",
       "  </tbody>\n",
       "</table>\n",
       "</div>"
      ],
      "text/plain": [
       "              Candidate  Year  Pop_prop  Subspeech_counts  Speech_counts  \\\n",
       "48      George McGovern  1972  0.050781               256             98   \n",
       "68         Jimmy Carter  1976  0.019737               152             55   \n",
       "117       Richard Nixon  1968  0.014045               356             67   \n",
       "36    Dwight Eisenhower  1952  0.009780               409            230   \n",
       "99   Michael S. Dukakis  1988  0.007692               260             66   \n",
       "95    Lyndon B. Johnson  1964  0.006608               454            111   \n",
       "44          George Bush  1988  0.005181               193             43   \n",
       "150   Walter F. Mondale  1984  0.004149               241             67   \n",
       "1       Adlai Stevenson  1956  0.004032               248             75   \n",
       "156  William J. Clinton  1992  0.003195               313             76   \n",
       "134       Ronald Reagan  1984  0.002725               367            108   \n",
       "116       Richard Nixon  1960  0.001942               515            159   \n",
       "126         Robert Dole  1996  0.001764               567            111   \n",
       "63   Hubert H. Humphrey  1968  0.001344               744            154   \n",
       "0       Adlai Stevenson  1952  0.000000               409            186   \n",
       "118       Richard Nixon  1972  0.000000               137             59   \n",
       "133       Ronald Reagan  1980  0.000000               189             71   \n",
       "69         Jimmy Carter  1980  0.000000               190             89   \n",
       "80      John F. Kennedy  1960  0.000000               509            378   \n",
       "55        H. Ross Perot  1992  0.000000                 3              1   \n",
       "54       Gerald R. Ford  1976  0.000000               215            128   \n",
       "45          George Bush  1992  0.000000               328            126   \n",
       "37    Dwight Eisenhower  1956  0.000000               141             43   \n",
       "17      Barry Goldwater  1964  0.000000                 1              1   \n",
       "157  William J. Clinton  1996  0.000000               385            111   \n",
       "\n",
       "                   CandiYear  \n",
       "48      George McGovern_1972  \n",
       "68         Jimmy Carter_1976  \n",
       "117       Richard Nixon_1968  \n",
       "36    Dwight Eisenhower_1952  \n",
       "99   Michael S. Dukakis_1988  \n",
       "95    Lyndon B. Johnson_1964  \n",
       "44          George Bush_1988  \n",
       "150   Walter F. Mondale_1984  \n",
       "1       Adlai Stevenson_1956  \n",
       "156  William J. Clinton_1992  \n",
       "134       Ronald Reagan_1984  \n",
       "116       Richard Nixon_1960  \n",
       "126         Robert Dole_1996  \n",
       "63   Hubert H. Humphrey_1968  \n",
       "0       Adlai Stevenson_1952  \n",
       "118       Richard Nixon_1972  \n",
       "133       Ronald Reagan_1980  \n",
       "69         Jimmy Carter_1980  \n",
       "80      John F. Kennedy_1960  \n",
       "55        H. Ross Perot_1992  \n",
       "54       Gerald R. Ford_1976  \n",
       "45          George Bush_1992  \n",
       "37    Dwight Eisenhower_1956  \n",
       "17      Barry Goldwater_1964  \n",
       "157  William J. Clinton_1996  "
      ]
     },
     "execution_count": 362,
     "metadata": {},
     "output_type": "execute_result"
    }
   ],
   "source": [
    "CandiPop_final[CandiPop_final.Year.isin(list(range(1952,1997)))].sort_values('Pop_prop', ascending= False)"
   ]
  },
  {
   "cell_type": "code",
   "execution_count": 363,
   "metadata": {},
   "outputs": [
    {
     "data": {
      "text/plain": [
       "41"
      ]
     },
     "execution_count": 363,
     "metadata": {},
     "output_type": "execute_result"
    }
   ],
   "source": [
    "len(CandiPop_final.Candidate)"
   ]
  },
  {
   "cell_type": "code",
   "execution_count": 364,
   "metadata": {
    "scrolled": false
   },
   "outputs": [
    {
     "data": {
      "text/plain": [
       "Year\n",
       "1936    0.000000\n",
       "1940    0.000000\n",
       "1944    0.000000\n",
       "1948    0.000000\n",
       "1952    0.004890\n",
       "1956    0.002016\n",
       "1960    0.000971\n",
       "1964    0.003304\n",
       "1968    0.007695\n",
       "1972    0.025391\n",
       "1976    0.009868\n",
       "1980    0.000000\n",
       "1984    0.003437\n",
       "1988    0.006437\n",
       "1992    0.001065\n",
       "1996    0.000882\n",
       "2000    0.025814\n",
       "2004    0.001458\n",
       "2008    0.047933\n",
       "2012    0.008083\n",
       "2016    0.139651\n",
       "Name: Pop_prop, dtype: float64"
      ]
     },
     "execution_count": 364,
     "metadata": {},
     "output_type": "execute_result"
    }
   ],
   "source": [
    "CandiPop_final.groupby(['Year']).Pop_prop.mean()"
   ]
  },
  {
   "cell_type": "code",
   "execution_count": 365,
   "metadata": {},
   "outputs": [],
   "source": [
    "CandiPop_final.to_csv('CandidateMerged_Level.csv', index= False)"
   ]
  },
  {
   "cell_type": "code",
   "execution_count": 366,
   "metadata": {},
   "outputs": [],
   "source": [
    "#CandiPop_final.to_csv('CandidateMerged_Level_new.csv', index= False)"
   ]
  },
  {
   "cell_type": "code",
   "execution_count": 367,
   "metadata": {},
   "outputs": [],
   "source": [
    "#CandiPop_final = pd.read_csv('CandidateMerged_Level_new.csv') "
   ]
  },
  {
   "cell_type": "markdown",
   "metadata": {},
   "source": [
    "## Candidate Month"
   ]
  },
  {
   "cell_type": "code",
   "execution_count": 368,
   "metadata": {},
   "outputs": [
    {
     "data": {
      "text/plain": [
       "array(['November', 'October', 'September', 'August', 'July', 'June',\n",
       "       'March', 'May', 'April', 'February', 'January', 'December', nan],\n",
       "      dtype=object)"
      ]
     },
     "execution_count": 368,
     "metadata": {},
     "output_type": "execute_result"
    }
   ],
   "source": [
    "SubSpeech_predicted.Month.unique()"
   ]
  },
  {
   "cell_type": "code",
   "execution_count": 369,
   "metadata": {},
   "outputs": [],
   "source": [
    "CandiPopMonth = SubSpeech_predicted.groupby(['Candidate','Year','Month']).Pop_class.mean().reset_index()"
   ]
  },
  {
   "cell_type": "code",
   "execution_count": 370,
   "metadata": {},
   "outputs": [],
   "source": [
    "CandiCountsMonth = SubSpeech_predicted.groupby(['Candidate','Year', 'Month']).Subspeech_index.count().reset_index()"
   ]
  },
  {
   "cell_type": "code",
   "execution_count": 371,
   "metadata": {},
   "outputs": [],
   "source": [
    "CandiSpeechCountsMonth = Speech.groupby(['Candidate','Year','Month']).Speech_index.count().reset_index()"
   ]
  },
  {
   "cell_type": "code",
   "execution_count": 372,
   "metadata": {},
   "outputs": [
    {
     "data": {
      "text/html": [
       "<div>\n",
       "<style scoped>\n",
       "    .dataframe tbody tr th:only-of-type {\n",
       "        vertical-align: middle;\n",
       "    }\n",
       "\n",
       "    .dataframe tbody tr th {\n",
       "        vertical-align: top;\n",
       "    }\n",
       "\n",
       "    .dataframe thead th {\n",
       "        text-align: right;\n",
       "    }\n",
       "</style>\n",
       "<table border=\"1\" class=\"dataframe\">\n",
       "  <thead>\n",
       "    <tr style=\"text-align: right;\">\n",
       "      <th></th>\n",
       "      <th>Candidate</th>\n",
       "      <th>Year</th>\n",
       "      <th>Month</th>\n",
       "      <th>Pop_class</th>\n",
       "      <th>Subspeech_index</th>\n",
       "      <th>Speech_index</th>\n",
       "    </tr>\n",
       "  </thead>\n",
       "  <tbody>\n",
       "    <tr>\n",
       "      <th>0</th>\n",
       "      <td>Adlai Stevenson</td>\n",
       "      <td>1952</td>\n",
       "      <td>August</td>\n",
       "      <td>0.0</td>\n",
       "      <td>10</td>\n",
       "      <td>4</td>\n",
       "    </tr>\n",
       "    <tr>\n",
       "      <th>1</th>\n",
       "      <td>Adlai Stevenson</td>\n",
       "      <td>1952</td>\n",
       "      <td>July</td>\n",
       "      <td>0.0</td>\n",
       "      <td>3</td>\n",
       "      <td>2</td>\n",
       "    </tr>\n",
       "    <tr>\n",
       "      <th>2</th>\n",
       "      <td>Adlai Stevenson</td>\n",
       "      <td>1952</td>\n",
       "      <td>November</td>\n",
       "      <td>0.0</td>\n",
       "      <td>10</td>\n",
       "      <td>4</td>\n",
       "    </tr>\n",
       "    <tr>\n",
       "      <th>3</th>\n",
       "      <td>Adlai Stevenson</td>\n",
       "      <td>1952</td>\n",
       "      <td>October</td>\n",
       "      <td>0.0</td>\n",
       "      <td>271</td>\n",
       "      <td>124</td>\n",
       "    </tr>\n",
       "    <tr>\n",
       "      <th>4</th>\n",
       "      <td>Adlai Stevenson</td>\n",
       "      <td>1952</td>\n",
       "      <td>September</td>\n",
       "      <td>0.0</td>\n",
       "      <td>109</td>\n",
       "      <td>46</td>\n",
       "    </tr>\n",
       "  </tbody>\n",
       "</table>\n",
       "</div>"
      ],
      "text/plain": [
       "         Candidate  Year      Month  Pop_class  Subspeech_index  Speech_index\n",
       "0  Adlai Stevenson  1952     August        0.0               10             4\n",
       "1  Adlai Stevenson  1952       July        0.0                3             2\n",
       "2  Adlai Stevenson  1952   November        0.0               10             4\n",
       "3  Adlai Stevenson  1952    October        0.0              271           124\n",
       "4  Adlai Stevenson  1952  September        0.0              109            46"
      ]
     },
     "execution_count": 372,
     "metadata": {},
     "output_type": "execute_result"
    }
   ],
   "source": [
    "CandiPopMonth = CandiPopMonth.merge(CandiCountsMonth).merge(CandiSpeechCountsMonth)\n",
    "CandiPopMonth.head()"
   ]
  },
  {
   "cell_type": "code",
   "execution_count": 373,
   "metadata": {},
   "outputs": [],
   "source": [
    "CandiPopMonth.rename(columns={'Pop_class': 'Pop_prop', 'Subspeech_index': 'Subspeech_counts', 'Speech_index': 'Speech_counts' }, \n",
    "                      inplace = True)"
   ]
  },
  {
   "cell_type": "code",
   "execution_count": 374,
   "metadata": {},
   "outputs": [],
   "source": [
    "CandiPopMonth['CandiYear'] = CandiPopMonth.Candidate + '_' + CandiPopMonth.Year.astype(str) "
   ]
  },
  {
   "cell_type": "code",
   "execution_count": 375,
   "metadata": {},
   "outputs": [],
   "source": [
    "CandiPopMonth = CandiPopMonth[CandiPopMonth.CandiYear.isin(CanditateYear)]"
   ]
  },
  {
   "cell_type": "code",
   "execution_count": 376,
   "metadata": {},
   "outputs": [],
   "source": [
    "CandiPopMonth.to_csv('CandidateYearMonth_Level_Pop.csv', index=False)"
   ]
  },
  {
   "cell_type": "code",
   "execution_count": 377,
   "metadata": {},
   "outputs": [],
   "source": [
    "#CandiPopMonth.to_csv('CandidateYearMonth_Level_Pop_new.csv', index=False)"
   ]
  },
  {
   "cell_type": "markdown",
   "metadata": {},
   "source": [
    "## Average Year Level "
   ]
  },
  {
   "cell_type": "code",
   "execution_count": 378,
   "metadata": {},
   "outputs": [],
   "source": [
    "PopYear_level = SubSpeech_predicted.groupby(['Year']).Pop_class.mean().reset_index()"
   ]
  },
  {
   "cell_type": "code",
   "execution_count": 379,
   "metadata": {},
   "outputs": [
    {
     "data": {
      "text/plain": [
       "count    48.000000\n",
       "mean      0.013444\n",
       "std       0.035219\n",
       "min       0.000000\n",
       "25%       0.000000\n",
       "50%       0.000000\n",
       "75%       0.007005\n",
       "max       0.181818\n",
       "Name: Pop_class, dtype: float64"
      ]
     },
     "execution_count": 379,
     "metadata": {},
     "output_type": "execute_result"
    }
   ],
   "source": [
    "PopYear_level.Pop_class.describe()"
   ]
  },
  {
   "cell_type": "code",
   "execution_count": 98,
   "metadata": {},
   "outputs": [],
   "source": [
    "PopYear_level.to_csv('PopYear_level.csv', index =False)"
   ]
  },
  {
   "cell_type": "code",
   "execution_count": 99,
   "metadata": {},
   "outputs": [
    {
     "data": {
      "text/plain": [
       "87"
      ]
     },
     "execution_count": 99,
     "metadata": {},
     "output_type": "execute_result"
    }
   ],
   "source": [
    "len(SubSpeech_predicted[SubSpeech_predicted.Candidate == \"Donald J. Trump\"].Speech_index.unique())"
   ]
  },
  {
   "cell_type": "code",
   "execution_count": null,
   "metadata": {},
   "outputs": [],
   "source": []
  },
  {
   "cell_type": "code",
   "execution_count": null,
   "metadata": {},
   "outputs": [],
   "source": []
  },
  {
   "cell_type": "code",
   "execution_count": null,
   "metadata": {},
   "outputs": [],
   "source": []
  }
 ],
 "metadata": {
  "kernelspec": {
   "display_name": "Python 3",
   "language": "python",
   "name": "python3"
  },
  "language_info": {
   "codemirror_mode": {
    "name": "ipython",
    "version": 3
   },
   "file_extension": ".py",
   "mimetype": "text/x-python",
   "name": "python",
   "nbconvert_exporter": "python",
   "pygments_lexer": "ipython3",
   "version": "3.7.3"
  }
 },
 "nbformat": 4,
 "nbformat_minor": 2
}
