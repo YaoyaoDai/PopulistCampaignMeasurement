{
 "cells": [
  {
   "cell_type": "code",
   "execution_count": 2,
   "metadata": {},
   "outputs": [],
   "source": [
    "import pandas as pd\n",
    "import numpy as np\n",
    "import csv\n",
    "import json\n",
    "import string\n",
    "import random\n",
    "import re\n",
    "from scipy.stats import pearsonr\n",
    "from matplotlib import pyplot\n",
    "\n",
    "np.random.seed(1234)\n",
    "random.seed(1234)"
   ]
  },
  {
   "cell_type": "code",
   "execution_count": 3,
   "metadata": {},
   "outputs": [],
   "source": [
    "from gensim.parsing.porter import PorterStemmer\n",
    "from gensim.parsing.preprocessing import STOPWORDS\n",
    "import string\n",
    "\n",
    "porter = PorterStemmer()\n",
    "punctuation_dictionary = {s:None for s in list(string.punctuation)}\n",
    "punctuation_dictionary[\"-\"] = \"_\"\n",
    "\n",
    "punctuation_translator = str.maketrans(punctuation_dictionary)\n",
    "\n",
    "def text_cleaner(text, punctuation_translator, stemmer):\n",
    "    text = \"\".join(re.split('xa0',text))\n",
    "    text = str(text).translate(punctuation_translator)\n",
    "    text = text.lower()\n",
    "    text = porter.stem(text)\n",
    "    return(text)"
   ]
  },
  {
   "cell_type": "code",
   "execution_count": 9,
   "metadata": {},
   "outputs": [],
   "source": [
    "SubSpeech_predicted = pd.read_csv('SubSpeech_predicted_update.csv')"
   ]
  },
  {
   "cell_type": "code",
   "execution_count": 319,
   "metadata": {},
   "outputs": [],
   "source": [
    "#SubSpeech_predicted = pd.read_csv('SubSpeech_predicted_update_new.csv')"
   ]
  },
  {
   "cell_type": "code",
   "execution_count": 4,
   "metadata": {},
   "outputs": [],
   "source": [
    "Speech = pd.read_csv('CampaignSpeechMerged_cleaned.csv')"
   ]
  },
  {
   "cell_type": "code",
   "execution_count": 147,
   "metadata": {},
   "outputs": [],
   "source": [
    "Polls = pd.read_csv('Polls.csv')"
   ]
  },
  {
   "cell_type": "code",
   "execution_count": 434,
   "metadata": {},
   "outputs": [],
   "source": [
    "AllCandidate = pd.read_csv('AllCandidates.csv')"
   ]
  },
  {
   "cell_type": "code",
   "execution_count": 9,
   "metadata": {},
   "outputs": [],
   "source": [
    "#Speech.head()"
   ]
  },
  {
   "cell_type": "code",
   "execution_count": 10,
   "metadata": {
    "scrolled": true
   },
   "outputs": [],
   "source": [
    "#Polls.head()"
   ]
  },
  {
   "cell_type": "code",
   "execution_count": 372,
   "metadata": {},
   "outputs": [
    {
     "name": "stdout",
     "output_type": "stream",
     "text": [
      "Pearsons correlation: 0.755\n"
     ]
    }
   ],
   "source": [
    "corr, _ = pearsonr(SubSpeech_predicted['Pop_prob0'], SubSpeech_predicted['Pop_prob'])\n",
    "print('Pearsons correlation: %.3f' % corr)"
   ]
  },
  {
   "cell_type": "code",
   "execution_count": 325,
   "metadata": {},
   "outputs": [],
   "source": [
    "#SubSpeech_predicted[SubSpeech_predicted.Pop.isna()].sort_values('Dif').head(20)"
   ]
  },
  {
   "cell_type": "code",
   "execution_count": 399,
   "metadata": {},
   "outputs": [
    {
     "data": {
      "text/plain": [
       "'/documents/remarks-rally-the-pensacola-bay-center-pensacola-florida'"
      ]
     },
     "execution_count": 399,
     "metadata": {},
     "output_type": "execute_result"
    }
   ],
   "source": [
    "SubSpeech_predicted.URL[821]"
   ]
  },
  {
   "cell_type": "code",
   "execution_count": 398,
   "metadata": {},
   "outputs": [
    {
     "data": {
      "text/plain": [
       "'change is coming all the people whove rigged the system for their own personal benefit are trying to stop our change campaign because they know that their gravy train has reached its last stop its your turn now this is your time the fact that so many encrusted old political insiders oppose our campaign is the best proof you will ever need that we are fighting for real change – not partisan change we are fighting for all americans – democrats republicans independents conservatives liberals – whove been failed by this corrupt system were fighting for everyone who doesnt have a voice were also fighting for every region of this country for every part of florida and every part of america from pensacola to pittsburgh from baltimore to baton rouge we are fighting for every last city and every last person in this country hillary clinton is the candidate of the past ours is the campaign of the future in this future we are going to pursue new trade policies that put american workers first – and that keep jobs in our country all the people who got nafta wrong and china wrong and who are trying to give us the trans_pacific partnership – are the same failed voices pushing for hillary clinton our trade deficit with the world is now nearly 800 billion dollars weve lost one_third of our manufacturing jobs since bill and hillary clinton gave us nafta china is manipulating its currency and taking our jobs we are going to stop companies from leaving our country and keep those jobs right here in america the era of economic surrender is ov'"
      ]
     },
     "execution_count": 398,
     "metadata": {},
     "output_type": "execute_result"
    }
   ],
   "source": [
    "SubSpeech_predicted0.clean_text[821]"
   ]
  },
  {
   "cell_type": "markdown",
   "metadata": {},
   "source": [
    "## Speech Level"
   ]
  },
  {
   "cell_type": "code",
   "execution_count": 468,
   "metadata": {},
   "outputs": [],
   "source": [
    "SubSpeech_predicted.Month.replace({'7.0': 'July', '8.0': 'August', '9.0': 'September', '10.0': 'October', '11.0': 'November', },\n",
    "                        inplace=True)"
   ]
  },
  {
   "cell_type": "code",
   "execution_count": 149,
   "metadata": {},
   "outputs": [],
   "source": [
    "Speech.Month.replace({'7.0': 'July', '8.0': 'August', '9.0': 'September', '10.0': 'October', '11.0': 'November', },\n",
    "                        inplace=True)"
   ]
  },
  {
   "cell_type": "code",
   "execution_count": 469,
   "metadata": {},
   "outputs": [],
   "source": [
    "SubSpeech_predicted['CandiYear'] = SubSpeech_predicted.Candidate + '_' + SubSpeech_predicted.Year.astype(str) "
   ]
  },
  {
   "cell_type": "code",
   "execution_count": 328,
   "metadata": {},
   "outputs": [],
   "source": [
    "CanditateYear = Polls.Candidate + '_' + Polls.Year.astype(str)"
   ]
  },
  {
   "cell_type": "code",
   "execution_count": 329,
   "metadata": {},
   "outputs": [],
   "source": [
    "CandiPop_SubSpeech = SubSpeech_predicted[SubSpeech_predicted.CandiYear.isin(CanditateYear)]"
   ]
  },
  {
   "cell_type": "code",
   "execution_count": 330,
   "metadata": {},
   "outputs": [
    {
     "data": {
      "text/plain": [
       "3494"
      ]
     },
     "execution_count": 330,
     "metadata": {},
     "output_type": "execute_result"
    }
   ],
   "source": [
    "len(CandiPop_SubSpeech.Speech_index.unique())"
   ]
  },
  {
   "cell_type": "code",
   "execution_count": 331,
   "metadata": {},
   "outputs": [],
   "source": [
    "CandiPop_SubSpeech = CandiPop_SubSpeech[['Candidate','Chanel','City','Year','Month','Day','Speech_index',\n",
    "                                         'Subspeech_index', 'Title','Type','Pop_class']]\n",
    "                         \n"
   ]
  },
  {
   "cell_type": "code",
   "execution_count": 144,
   "metadata": {},
   "outputs": [],
   "source": [
    "CandiPop_SubSpeech.to_csv('Subspeech_Level_Pop_MajorCand.csv', index=False)"
   ]
  },
  {
   "cell_type": "code",
   "execution_count": 332,
   "metadata": {},
   "outputs": [],
   "source": [
    "#CandiPop_SubSpeech.to_csv('Subspeech_Level_Pop_MajorCand_new.csv', index=False)"
   ]
  },
  {
   "cell_type": "code",
   "execution_count": 333,
   "metadata": {},
   "outputs": [],
   "source": [
    "Pop_prop = []\n",
    "SubSpeechCounts = []\n",
    "for x in Speech.Speech_index:\n",
    "    Pop_prop.append(np.mean(SubSpeech_predicted.Pop_class[SubSpeech_predicted.Speech_index == x]))\n",
    "    SubSpeechCounts.append(len(SubSpeech_predicted.Subspeech_index[SubSpeech_predicted.Speech_index == x]))"
   ]
  },
  {
   "cell_type": "code",
   "execution_count": 334,
   "metadata": {},
   "outputs": [],
   "source": [
    "Pop_Speech = Speech.assign(Pop_prop = Pop_prop)\n",
    "Pop_Speech = Pop_Speech.assign(SubSpeechCounts = SubSpeechCounts)"
   ]
  },
  {
   "cell_type": "code",
   "execution_count": 10,
   "metadata": {},
   "outputs": [],
   "source": [
    "#Pop_Speech.head()"
   ]
  },
  {
   "cell_type": "markdown",
   "metadata": {},
   "source": [
    "### Add speech word counts"
   ]
  },
  {
   "cell_type": "code",
   "execution_count": 187,
   "metadata": {},
   "outputs": [],
   "source": [
    "Speech['cleantext'] = Speech[\"Content\"].apply(lambda x: text_cleaner(x, punctuation_translator, porter))"
   ]
  },
  {
   "cell_type": "code",
   "execution_count": 188,
   "metadata": {},
   "outputs": [],
   "source": [
    "Speech['Speech_len'] = [len(x.split(' ')) for x in Speech['cleantext']]"
   ]
  },
  {
   "cell_type": "code",
   "execution_count": 189,
   "metadata": {},
   "outputs": [],
   "source": [
    "Speech_len = Speech[['Speech_index','Speech_len']]"
   ]
  },
  {
   "cell_type": "code",
   "execution_count": 335,
   "metadata": {},
   "outputs": [],
   "source": [
    "Pop_Speech = Pop_Speech.merge(Speech_len)"
   ]
  },
  {
   "cell_type": "code",
   "execution_count": 336,
   "metadata": {},
   "outputs": [],
   "source": [
    "Pop_Speech = Pop_Speech[['Candidate','Chanel','City','Year','Month','Day','Speech_index',\n",
    "                         'Title','Type','Pop_prop','SubSpeechCounts','Speech_len']]"
   ]
  },
  {
   "cell_type": "code",
   "execution_count": 337,
   "metadata": {},
   "outputs": [
    {
     "data": {
      "text/plain": [
       "array(['November', 'October', 'September', 'August', 'July', 'June',\n",
       "       'March', 'May', 'April', 'February', 'January', 'December', nan],\n",
       "      dtype=object)"
      ]
     },
     "execution_count": 337,
     "metadata": {},
     "output_type": "execute_result"
    }
   ],
   "source": [
    "Pop_Speech.Month.unique()"
   ]
  },
  {
   "cell_type": "code",
   "execution_count": 369,
   "metadata": {},
   "outputs": [
    {
     "data": {
      "text/plain": [
       "4324"
      ]
     },
     "execution_count": 369,
     "metadata": {},
     "output_type": "execute_result"
    }
   ],
   "source": [
    "len(Pop_Speech[Pop_Speech.Year>=1952].Title)"
   ]
  },
  {
   "cell_type": "code",
   "execution_count": 122,
   "metadata": {},
   "outputs": [],
   "source": [
    "Pop_Speech.to_csv(\"Speech_Level_Pop_All.csv\", index=False)"
   ]
  },
  {
   "cell_type": "code",
   "execution_count": 338,
   "metadata": {},
   "outputs": [],
   "source": [
    "Pop_Speech.to_csv(\"Speech_Level_Pop_All_new.csv\", index=False)"
   ]
  },
  {
   "cell_type": "markdown",
   "metadata": {},
   "source": [
    "### Select Relevant Speeches"
   ]
  },
  {
   "cell_type": "code",
   "execution_count": 194,
   "metadata": {},
   "outputs": [
    {
     "data": {
      "text/plain": [
       "{'Alfred M. Landon',\n",
       " 'Gary Johnson',\n",
       " 'George Wallace',\n",
       " 'John Anderson',\n",
       " 'Ralph Nader',\n",
       " 'Strom Thurmond'}"
      ]
     },
     "execution_count": 194,
     "metadata": {},
     "output_type": "execute_result"
    }
   ],
   "source": [
    "set(Polls.Candidate).difference(set(Pop_Speech.Candidate))"
   ]
  },
  {
   "cell_type": "code",
   "execution_count": 339,
   "metadata": {},
   "outputs": [],
   "source": [
    "Pop_Speech['CandiYear'] = Pop_Speech.Candidate + '_' + Pop_Speech.Year.astype(str) "
   ]
  },
  {
   "cell_type": "code",
   "execution_count": 340,
   "metadata": {},
   "outputs": [],
   "source": [
    "CanditateYear = Polls.Candidate + '_' + Polls.Year.astype(str)"
   ]
  },
  {
   "cell_type": "code",
   "execution_count": 341,
   "metadata": {},
   "outputs": [],
   "source": [
    "CandiPop_Speech = Pop_Speech[Pop_Speech.CandiYear.isin(CanditateYear)]"
   ]
  },
  {
   "cell_type": "code",
   "execution_count": 342,
   "metadata": {},
   "outputs": [
    {
     "data": {
      "text/plain": [
       "3494"
      ]
     },
     "execution_count": 342,
     "metadata": {},
     "output_type": "execute_result"
    }
   ],
   "source": [
    "len(CandiPop_Speech.Title)"
   ]
  },
  {
   "cell_type": "code",
   "execution_count": 343,
   "metadata": {},
   "outputs": [
    {
     "data": {
      "text/plain": [
       "count     3494.000000\n",
       "mean      2167.556382\n",
       "std       1369.384238\n",
       "min         25.000000\n",
       "25%       1142.250000\n",
       "50%       1984.000000\n",
       "75%       2905.750000\n",
       "max      11057.000000\n",
       "Name: Speech_len, dtype: float64"
      ]
     },
     "execution_count": 343,
     "metadata": {},
     "output_type": "execute_result"
    }
   ],
   "source": [
    "CandiPop_Speech.Speech_len.describe()"
   ]
  },
  {
   "cell_type": "code",
   "execution_count": 344,
   "metadata": {},
   "outputs": [
    {
     "data": {
      "text/html": [
       "<div>\n",
       "<style scoped>\n",
       "    .dataframe tbody tr th:only-of-type {\n",
       "        vertical-align: middle;\n",
       "    }\n",
       "\n",
       "    .dataframe tbody tr th {\n",
       "        vertical-align: top;\n",
       "    }\n",
       "\n",
       "    .dataframe thead th {\n",
       "        text-align: right;\n",
       "    }\n",
       "</style>\n",
       "<table border=\"1\" class=\"dataframe\">\n",
       "  <thead>\n",
       "    <tr style=\"text-align: right;\">\n",
       "      <th></th>\n",
       "      <th>Candidate</th>\n",
       "      <th>Chanel</th>\n",
       "      <th>City</th>\n",
       "      <th>Year</th>\n",
       "      <th>Month</th>\n",
       "      <th>Day</th>\n",
       "      <th>Speech_index</th>\n",
       "      <th>Title</th>\n",
       "      <th>Type</th>\n",
       "      <th>Pop_prop</th>\n",
       "      <th>SubSpeechCounts</th>\n",
       "      <th>Speech_len</th>\n",
       "      <th>CandiYear</th>\n",
       "    </tr>\n",
       "  </thead>\n",
       "  <tbody>\n",
       "    <tr>\n",
       "      <th>57</th>\n",
       "      <td>Donald J. Trump</td>\n",
       "      <td>NaN</td>\n",
       "      <td>NaN</td>\n",
       "      <td>2016</td>\n",
       "      <td>October</td>\n",
       "      <td>11.0</td>\n",
       "      <td>Speech57</td>\n",
       "      <td>\\nExcerpts of Remarks at Aaron Bessant Park in...</td>\n",
       "      <td>Campaign Documents</td>\n",
       "      <td>1.0</td>\n",
       "      <td>3</td>\n",
       "      <td>1088</td>\n",
       "      <td>Donald J. Trump_2016</td>\n",
       "    </tr>\n",
       "    <tr>\n",
       "      <th>950</th>\n",
       "      <td>John McCain</td>\n",
       "      <td>NaN</td>\n",
       "      <td>NaN</td>\n",
       "      <td>2008</td>\n",
       "      <td>September</td>\n",
       "      <td>18.0</td>\n",
       "      <td>Speech950</td>\n",
       "      <td>\\nRemarks in Cedar Rapids, Iowa\\n</td>\n",
       "      <td>Campaign Documents</td>\n",
       "      <td>1.0</td>\n",
       "      <td>1</td>\n",
       "      <td>982</td>\n",
       "      <td>John McCain_2008</td>\n",
       "    </tr>\n",
       "    <tr>\n",
       "      <th>3477</th>\n",
       "      <td>George Bush</td>\n",
       "      <td>STUMP</td>\n",
       "      <td>Findlay</td>\n",
       "      <td>1992</td>\n",
       "      <td>September</td>\n",
       "      <td>26.0</td>\n",
       "      <td>Speech4353</td>\n",
       "      <td>NaN</td>\n",
       "      <td>SPEECH</td>\n",
       "      <td>1.0</td>\n",
       "      <td>1</td>\n",
       "      <td>306</td>\n",
       "      <td>George Bush_1992</td>\n",
       "    </tr>\n",
       "    <tr>\n",
       "      <th>29</th>\n",
       "      <td>Donald J. Trump</td>\n",
       "      <td>NaN</td>\n",
       "      <td>NaN</td>\n",
       "      <td>2016</td>\n",
       "      <td>October</td>\n",
       "      <td>29.0</td>\n",
       "      <td>Speech29</td>\n",
       "      <td>\\nRemarks at the Jeffco Fairgrounds Event Cent...</td>\n",
       "      <td>Campaign Documents</td>\n",
       "      <td>1.0</td>\n",
       "      <td>4</td>\n",
       "      <td>768</td>\n",
       "      <td>Donald J. Trump_2016</td>\n",
       "    </tr>\n",
       "    <tr>\n",
       "      <th>2538</th>\n",
       "      <td>George McGovern</td>\n",
       "      <td>STUMP</td>\n",
       "      <td>CLEVELAND</td>\n",
       "      <td>1972</td>\n",
       "      <td>October</td>\n",
       "      <td>25.0</td>\n",
       "      <td>Speech3414</td>\n",
       "      <td>NaN</td>\n",
       "      <td>SPEECH</td>\n",
       "      <td>1.0</td>\n",
       "      <td>1</td>\n",
       "      <td>250</td>\n",
       "      <td>George McGovern_1972</td>\n",
       "    </tr>\n",
       "    <tr>\n",
       "      <th>963</th>\n",
       "      <td>Barack Obama</td>\n",
       "      <td>NaN</td>\n",
       "      <td>NaN</td>\n",
       "      <td>2008</td>\n",
       "      <td>September</td>\n",
       "      <td>12.0</td>\n",
       "      <td>Speech963</td>\n",
       "      <td>\\nRemarks in Dover, New Hampshire\\n</td>\n",
       "      <td>Campaign Documents</td>\n",
       "      <td>1.0</td>\n",
       "      <td>2</td>\n",
       "      <td>1834</td>\n",
       "      <td>Barack Obama_2008</td>\n",
       "    </tr>\n",
       "    <tr>\n",
       "      <th>962</th>\n",
       "      <td>John McCain</td>\n",
       "      <td>NaN</td>\n",
       "      <td>NaN</td>\n",
       "      <td>2008</td>\n",
       "      <td>September</td>\n",
       "      <td>13.0</td>\n",
       "      <td>Speech962</td>\n",
       "      <td>\\nSenator McCain's Weekly Radio Address\\n</td>\n",
       "      <td>Campaign Documents</td>\n",
       "      <td>1.0</td>\n",
       "      <td>1</td>\n",
       "      <td>742</td>\n",
       "      <td>John McCain_2008</td>\n",
       "    </tr>\n",
       "    <tr>\n",
       "      <th>901</th>\n",
       "      <td>Barack Obama</td>\n",
       "      <td>NaN</td>\n",
       "      <td>NaN</td>\n",
       "      <td>2008</td>\n",
       "      <td>October</td>\n",
       "      <td>11.0</td>\n",
       "      <td>Speech901</td>\n",
       "      <td>\\nRemarks in Philadelphia, Pennsylvania\\n</td>\n",
       "      <td>Campaign Documents</td>\n",
       "      <td>1.0</td>\n",
       "      <td>2</td>\n",
       "      <td>1560</td>\n",
       "      <td>Barack Obama_2008</td>\n",
       "    </tr>\n",
       "    <tr>\n",
       "      <th>1651</th>\n",
       "      <td>John F. Kerry</td>\n",
       "      <td>NaN</td>\n",
       "      <td>NaN</td>\n",
       "      <td>2004</td>\n",
       "      <td>March</td>\n",
       "      <td>9.0</td>\n",
       "      <td>Speech1651</td>\n",
       "      <td>\\nRemarks Following the Florida, Louisiana, Mi...</td>\n",
       "      <td>Campaign Documents</td>\n",
       "      <td>1.0</td>\n",
       "      <td>1</td>\n",
       "      <td>652</td>\n",
       "      <td>John F. Kerry_2004</td>\n",
       "    </tr>\n",
       "    <tr>\n",
       "      <th>2318</th>\n",
       "      <td>Hubert H. Humphrey</td>\n",
       "      <td>STUMP</td>\n",
       "      <td>WATTS</td>\n",
       "      <td>1968</td>\n",
       "      <td>October</td>\n",
       "      <td>23.0</td>\n",
       "      <td>Speech3194</td>\n",
       "      <td>NaN</td>\n",
       "      <td>SPEECH</td>\n",
       "      <td>1.0</td>\n",
       "      <td>1</td>\n",
       "      <td>409</td>\n",
       "      <td>Hubert H. Humphrey_1968</td>\n",
       "    </tr>\n",
       "  </tbody>\n",
       "</table>\n",
       "</div>"
      ],
      "text/plain": [
       "               Candidate Chanel       City  Year      Month   Day  \\\n",
       "57       Donald J. Trump    NaN        NaN  2016    October  11.0   \n",
       "950          John McCain    NaN        NaN  2008  September  18.0   \n",
       "3477         George Bush  STUMP    Findlay  1992  September  26.0   \n",
       "29       Donald J. Trump    NaN        NaN  2016    October  29.0   \n",
       "2538     George McGovern  STUMP  CLEVELAND  1972    October  25.0   \n",
       "963         Barack Obama    NaN        NaN  2008  September  12.0   \n",
       "962          John McCain    NaN        NaN  2008  September  13.0   \n",
       "901         Barack Obama    NaN        NaN  2008    October  11.0   \n",
       "1651       John F. Kerry    NaN        NaN  2004      March   9.0   \n",
       "2318  Hubert H. Humphrey  STUMP      WATTS  1968    October  23.0   \n",
       "\n",
       "     Speech_index                                              Title  \\\n",
       "57       Speech57  \\nExcerpts of Remarks at Aaron Bessant Park in...   \n",
       "950     Speech950                  \\nRemarks in Cedar Rapids, Iowa\\n   \n",
       "3477   Speech4353                                                NaN   \n",
       "29       Speech29  \\nRemarks at the Jeffco Fairgrounds Event Cent...   \n",
       "2538   Speech3414                                                NaN   \n",
       "963     Speech963                \\nRemarks in Dover, New Hampshire\\n   \n",
       "962     Speech962          \\nSenator McCain's Weekly Radio Address\\n   \n",
       "901     Speech901          \\nRemarks in Philadelphia, Pennsylvania\\n   \n",
       "1651   Speech1651  \\nRemarks Following the Florida, Louisiana, Mi...   \n",
       "2318   Speech3194                                                NaN   \n",
       "\n",
       "                    Type  Pop_prop  SubSpeechCounts  Speech_len  \\\n",
       "57    Campaign Documents       1.0                3        1088   \n",
       "950   Campaign Documents       1.0                1         982   \n",
       "3477              SPEECH       1.0                1         306   \n",
       "29    Campaign Documents       1.0                4         768   \n",
       "2538              SPEECH       1.0                1         250   \n",
       "963   Campaign Documents       1.0                2        1834   \n",
       "962   Campaign Documents       1.0                1         742   \n",
       "901   Campaign Documents       1.0                2        1560   \n",
       "1651  Campaign Documents       1.0                1         652   \n",
       "2318              SPEECH       1.0                1         409   \n",
       "\n",
       "                    CandiYear  \n",
       "57       Donald J. Trump_2016  \n",
       "950          John McCain_2008  \n",
       "3477         George Bush_1992  \n",
       "29       Donald J. Trump_2016  \n",
       "2538     George McGovern_1972  \n",
       "963         Barack Obama_2008  \n",
       "962          John McCain_2008  \n",
       "901         Barack Obama_2008  \n",
       "1651       John F. Kerry_2004  \n",
       "2318  Hubert H. Humphrey_1968  "
      ]
     },
     "execution_count": 344,
     "metadata": {},
     "output_type": "execute_result"
    }
   ],
   "source": [
    "CandiPop_Speech.sort_values(by=['Pop_prop'], ascending=False).head(10)"
   ]
  },
  {
   "cell_type": "code",
   "execution_count": 75,
   "metadata": {},
   "outputs": [],
   "source": [
    "CandiPop_Speech.to_csv(\"Speech_Level_Pop_MajorCand.csv\", index = False)"
   ]
  },
  {
   "cell_type": "code",
   "execution_count": 345,
   "metadata": {},
   "outputs": [],
   "source": [
    "#CandiPop_Speech.to_csv(\"Speech_Level_Pop_MajorCand_new.csv\", index = False)"
   ]
  },
  {
   "cell_type": "markdown",
   "metadata": {},
   "source": [
    "## Candidate level"
   ]
  },
  {
   "cell_type": "code",
   "execution_count": 346,
   "metadata": {},
   "outputs": [],
   "source": [
    "CandiPop = SubSpeech_predicted.groupby(['Candidate','Year']).Pop_class.mean().reset_index()"
   ]
  },
  {
   "cell_type": "code",
   "execution_count": 347,
   "metadata": {},
   "outputs": [],
   "source": [
    "CandiCounts = SubSpeech_predicted.groupby(['Candidate','Year']).Subspeech_index.count().reset_index()"
   ]
  },
  {
   "cell_type": "code",
   "execution_count": 348,
   "metadata": {},
   "outputs": [],
   "source": [
    "CandiSpeechCounts = Speech.groupby(['Candidate','Year']).Speech_index.count().reset_index()"
   ]
  },
  {
   "cell_type": "code",
   "execution_count": 349,
   "metadata": {},
   "outputs": [
    {
     "data": {
      "text/html": [
       "<div>\n",
       "<style scoped>\n",
       "    .dataframe tbody tr th:only-of-type {\n",
       "        vertical-align: middle;\n",
       "    }\n",
       "\n",
       "    .dataframe tbody tr th {\n",
       "        vertical-align: top;\n",
       "    }\n",
       "\n",
       "    .dataframe thead th {\n",
       "        text-align: right;\n",
       "    }\n",
       "</style>\n",
       "<table border=\"1\" class=\"dataframe\">\n",
       "  <thead>\n",
       "    <tr style=\"text-align: right;\">\n",
       "      <th></th>\n",
       "      <th>Candidate</th>\n",
       "      <th>Year</th>\n",
       "      <th>Pop_class</th>\n",
       "      <th>Subspeech_index</th>\n",
       "      <th>Speech_index</th>\n",
       "    </tr>\n",
       "  </thead>\n",
       "  <tbody>\n",
       "    <tr>\n",
       "      <th>0</th>\n",
       "      <td>Adlai Stevenson</td>\n",
       "      <td>1952</td>\n",
       "      <td>0.000000</td>\n",
       "      <td>409</td>\n",
       "      <td>186</td>\n",
       "    </tr>\n",
       "    <tr>\n",
       "      <th>1</th>\n",
       "      <td>Adlai Stevenson</td>\n",
       "      <td>1956</td>\n",
       "      <td>0.012097</td>\n",
       "      <td>248</td>\n",
       "      <td>75</td>\n",
       "    </tr>\n",
       "    <tr>\n",
       "      <th>2</th>\n",
       "      <td>Al Smith</td>\n",
       "      <td>1928</td>\n",
       "      <td>0.000000</td>\n",
       "      <td>9</td>\n",
       "      <td>1</td>\n",
       "    </tr>\n",
       "    <tr>\n",
       "      <th>3</th>\n",
       "      <td>Albert Gore, Jr.</td>\n",
       "      <td>1999</td>\n",
       "      <td>0.000000</td>\n",
       "      <td>7</td>\n",
       "      <td>1</td>\n",
       "    </tr>\n",
       "    <tr>\n",
       "      <th>4</th>\n",
       "      <td>Albert Gore, Jr.</td>\n",
       "      <td>2000</td>\n",
       "      <td>0.021277</td>\n",
       "      <td>188</td>\n",
       "      <td>14</td>\n",
       "    </tr>\n",
       "  </tbody>\n",
       "</table>\n",
       "</div>"
      ],
      "text/plain": [
       "          Candidate  Year  Pop_class  Subspeech_index  Speech_index\n",
       "0   Adlai Stevenson  1952   0.000000              409           186\n",
       "1   Adlai Stevenson  1956   0.012097              248            75\n",
       "2          Al Smith  1928   0.000000                9             1\n",
       "3  Albert Gore, Jr.  1999   0.000000                7             1\n",
       "4  Albert Gore, Jr.  2000   0.021277              188            14"
      ]
     },
     "execution_count": 349,
     "metadata": {},
     "output_type": "execute_result"
    }
   ],
   "source": [
    "CandiPop = CandiPop.merge(CandiCounts).merge(CandiSpeechCounts)\n",
    "CandiPop.head()"
   ]
  },
  {
   "cell_type": "code",
   "execution_count": 350,
   "metadata": {},
   "outputs": [
    {
     "data": {
      "text/plain": [
       "164"
      ]
     },
     "execution_count": 350,
     "metadata": {},
     "output_type": "execute_result"
    }
   ],
   "source": [
    "len(CandiPop.Subspeech_index)"
   ]
  },
  {
   "cell_type": "code",
   "execution_count": 351,
   "metadata": {},
   "outputs": [],
   "source": [
    "CandiPop.rename(columns={'Pop_class': 'Pop_prop', 'Subspeech_index': 'Subspeech_counts', 'Speech_index': 'Speech_counts' }, \n",
    "                      inplace = True)"
   ]
  },
  {
   "cell_type": "code",
   "execution_count": 94,
   "metadata": {},
   "outputs": [],
   "source": [
    "CandiPop.to_csv('AllCandidateLevel.csv', index=False)"
   ]
  },
  {
   "cell_type": "code",
   "execution_count": 435,
   "metadata": {},
   "outputs": [],
   "source": [
    "CandiPop = pd.read_csv('AllCandidateLevel.csv')"
   ]
  },
  {
   "cell_type": "code",
   "execution_count": 437,
   "metadata": {},
   "outputs": [],
   "source": [
    "AllCandidate['CandiYear'] = AllCandidate.Candidate + '_' + AllCandidate.Year.astype(str) "
   ]
  },
  {
   "cell_type": "code",
   "execution_count": 442,
   "metadata": {},
   "outputs": [
    {
     "data": {
      "text/plain": [
       "{'Alfred M. Landon',\n",
       " 'Gary Johnson',\n",
       " 'George Wallace',\n",
       " 'Jim Gilmore',\n",
       " 'John Anderson',\n",
       " 'Ralph Nader',\n",
       " 'Strom Thurmond'}"
      ]
     },
     "execution_count": 442,
     "metadata": {},
     "output_type": "execute_result"
    }
   ],
   "source": [
    "set(AllCandidate.Candidate).difference(set(CandiPop.Candidate))"
   ]
  },
  {
   "cell_type": "code",
   "execution_count": 445,
   "metadata": {},
   "outputs": [],
   "source": [
    "#set(CandiPop.CandiYear).difference(set(AllCandidate.CandiYear))"
   ]
  },
  {
   "cell_type": "code",
   "execution_count": 446,
   "metadata": {},
   "outputs": [],
   "source": [
    "CandiPop_All = CandiPop.merge(AllCandidate[['Party','Final','P2P','CandiYear']])"
   ]
  },
  {
   "cell_type": "code",
   "execution_count": 457,
   "metadata": {},
   "outputs": [],
   "source": [
    "#CandiPop.sort_values('Pop_prop').tail(30)\n",
    "CandiPop_All = CandiPop_All[CandiPop_All.Speech_counts > 4]"
   ]
  },
  {
   "cell_type": "code",
   "execution_count": 461,
   "metadata": {},
   "outputs": [],
   "source": [
    "CandiPop_All.to_csv('AllCandidate_Year_pop.csv', index = False)"
   ]
  },
  {
   "cell_type": "code",
   "execution_count": 471,
   "metadata": {},
   "outputs": [],
   "source": [
    "AllCandi_SubSpeech = SubSpeech_predicted[SubSpeech_predicted.CandiYear.isin(CandiPop_All.CandiYear)]\n",
    "AllCandi_SubSpeech = AllCandi_SubSpeech[['Candidate','Chanel','City','Year','Month','Day','Speech_index',\n",
    "                                         'Subspeech_index', 'Title','Type','Pop_class', 'CandiYear']]"
   ]
  },
  {
   "cell_type": "code",
   "execution_count": 475,
   "metadata": {},
   "outputs": [],
   "source": [
    "AllCandi_SubSpeech = AllCandi_SubSpeech.merge(AllCandidate[['Party','Final','P2P','CandiYear']])"
   ]
  },
  {
   "cell_type": "code",
   "execution_count": 476,
   "metadata": {},
   "outputs": [],
   "source": [
    "AllCandi_SubSpeech.to_csv('AllCandidate_SubSpeech_Pop.csv', index = False)"
   ]
  },
  {
   "cell_type": "markdown",
   "metadata": {},
   "source": [
    "## Select final candidates"
   ]
  },
  {
   "cell_type": "code",
   "execution_count": 5,
   "metadata": {},
   "outputs": [],
   "source": [
    "CandiPop = pd.read_csv('AllCandidateLevel.csv')"
   ]
  },
  {
   "cell_type": "code",
   "execution_count": 352,
   "metadata": {},
   "outputs": [],
   "source": [
    "CanditateYear = Polls.Candidate + '_' + Polls.Year.astype(str)"
   ]
  },
  {
   "cell_type": "code",
   "execution_count": 83,
   "metadata": {},
   "outputs": [],
   "source": [
    "#CandiPop[CandiPop.Speech_index >5].sort_values('Pop_class').tail(30)"
   ]
  },
  {
   "cell_type": "code",
   "execution_count": 353,
   "metadata": {},
   "outputs": [],
   "source": [
    "CandiPop['CandiYear'] = CandiPop.Candidate + '_' + CandiPop.Year.astype(str) "
   ]
  },
  {
   "cell_type": "code",
   "execution_count": 354,
   "metadata": {},
   "outputs": [],
   "source": [
    "CandiPop_final = CandiPop[CandiPop.CandiYear.isin(CanditateYear)]"
   ]
  },
  {
   "cell_type": "code",
   "execution_count": 355,
   "metadata": {},
   "outputs": [
    {
     "name": "stderr",
     "output_type": "stream",
     "text": [
      "//anaconda3/lib/python3.7/site-packages/pandas/core/frame.py:4025: SettingWithCopyWarning: \n",
      "A value is trying to be set on a copy of a slice from a DataFrame\n",
      "\n",
      "See the caveats in the documentation: http://pandas.pydata.org/pandas-docs/stable/indexing.html#indexing-view-versus-copy\n",
      "  return super(DataFrame, self).rename(**kwargs)\n"
     ]
    }
   ],
   "source": [
    "CandiPop_final.rename(columns={'Pop_class': 'Pop_prop', 'Subspeech_index': 'Subspeech_counts', 'Speech_index': 'Speech_counts' }, \n",
    "                      inplace = True)"
   ]
  },
  {
   "cell_type": "code",
   "execution_count": 356,
   "metadata": {},
   "outputs": [
    {
     "data": {
      "text/html": [
       "<div>\n",
       "<style scoped>\n",
       "    .dataframe tbody tr th:only-of-type {\n",
       "        vertical-align: middle;\n",
       "    }\n",
       "\n",
       "    .dataframe tbody tr th {\n",
       "        vertical-align: top;\n",
       "    }\n",
       "\n",
       "    .dataframe thead th {\n",
       "        text-align: right;\n",
       "    }\n",
       "</style>\n",
       "<table border=\"1\" class=\"dataframe\">\n",
       "  <thead>\n",
       "    <tr style=\"text-align: right;\">\n",
       "      <th></th>\n",
       "      <th>Candidate</th>\n",
       "      <th>Year</th>\n",
       "      <th>Pop_prop</th>\n",
       "      <th>Subspeech_counts</th>\n",
       "      <th>Speech_counts</th>\n",
       "      <th>CandiYear</th>\n",
       "    </tr>\n",
       "  </thead>\n",
       "  <tbody>\n",
       "    <tr>\n",
       "      <th>34</th>\n",
       "      <td>Donald J. Trump</td>\n",
       "      <td>2016</td>\n",
       "      <td>0.313725</td>\n",
       "      <td>816</td>\n",
       "      <td>75</td>\n",
       "      <td>Donald J. Trump_2016</td>\n",
       "    </tr>\n",
       "    <tr>\n",
       "      <th>8</th>\n",
       "      <td>Barack Obama</td>\n",
       "      <td>2008</td>\n",
       "      <td>0.132184</td>\n",
       "      <td>870</td>\n",
       "      <td>185</td>\n",
       "      <td>Barack Obama_2008</td>\n",
       "    </tr>\n",
       "    <tr>\n",
       "      <th>48</th>\n",
       "      <td>George McGovern</td>\n",
       "      <td>1972</td>\n",
       "      <td>0.070312</td>\n",
       "      <td>256</td>\n",
       "      <td>98</td>\n",
       "      <td>George McGovern_1972</td>\n",
       "    </tr>\n",
       "    <tr>\n",
       "      <th>99</th>\n",
       "      <td>Michael S. Dukakis</td>\n",
       "      <td>1988</td>\n",
       "      <td>0.046154</td>\n",
       "      <td>260</td>\n",
       "      <td>66</td>\n",
       "      <td>Michael S. Dukakis_1988</td>\n",
       "    </tr>\n",
       "    <tr>\n",
       "      <th>88</th>\n",
       "      <td>John McCain</td>\n",
       "      <td>2008</td>\n",
       "      <td>0.043924</td>\n",
       "      <td>683</td>\n",
       "      <td>143</td>\n",
       "      <td>John McCain_2008</td>\n",
       "    </tr>\n",
       "    <tr>\n",
       "      <th>82</th>\n",
       "      <td>John F. Kerry</td>\n",
       "      <td>2004</td>\n",
       "      <td>0.036675</td>\n",
       "      <td>409</td>\n",
       "      <td>88</td>\n",
       "      <td>John F. Kerry_2004</td>\n",
       "    </tr>\n",
       "    <tr>\n",
       "      <th>150</th>\n",
       "      <td>Walter F. Mondale</td>\n",
       "      <td>1984</td>\n",
       "      <td>0.029046</td>\n",
       "      <td>241</td>\n",
       "      <td>67</td>\n",
       "      <td>Walter F. Mondale_1984</td>\n",
       "    </tr>\n",
       "    <tr>\n",
       "      <th>12</th>\n",
       "      <td>Barack Obama</td>\n",
       "      <td>2012</td>\n",
       "      <td>0.026902</td>\n",
       "      <td>1078</td>\n",
       "      <td>205</td>\n",
       "      <td>Barack Obama_2012</td>\n",
       "    </tr>\n",
       "    <tr>\n",
       "      <th>4</th>\n",
       "      <td>Albert Gore, Jr.</td>\n",
       "      <td>2000</td>\n",
       "      <td>0.021277</td>\n",
       "      <td>188</td>\n",
       "      <td>14</td>\n",
       "      <td>Albert Gore, Jr._2000</td>\n",
       "    </tr>\n",
       "    <tr>\n",
       "      <th>68</th>\n",
       "      <td>Jimmy Carter</td>\n",
       "      <td>1976</td>\n",
       "      <td>0.019737</td>\n",
       "      <td>152</td>\n",
       "      <td>55</td>\n",
       "      <td>Jimmy Carter_1976</td>\n",
       "    </tr>\n",
       "    <tr>\n",
       "      <th>156</th>\n",
       "      <td>William J. Clinton</td>\n",
       "      <td>1992</td>\n",
       "      <td>0.012780</td>\n",
       "      <td>313</td>\n",
       "      <td>76</td>\n",
       "      <td>William J. Clinton_1992</td>\n",
       "    </tr>\n",
       "    <tr>\n",
       "      <th>45</th>\n",
       "      <td>George Bush</td>\n",
       "      <td>1992</td>\n",
       "      <td>0.012195</td>\n",
       "      <td>328</td>\n",
       "      <td>126</td>\n",
       "      <td>George Bush_1992</td>\n",
       "    </tr>\n",
       "  </tbody>\n",
       "</table>\n",
       "</div>"
      ],
      "text/plain": [
       "              Candidate  Year  Pop_prop  Subspeech_counts  Speech_counts  \\\n",
       "34      Donald J. Trump  2016  0.313725               816             75   \n",
       "8          Barack Obama  2008  0.132184               870            185   \n",
       "48      George McGovern  1972  0.070312               256             98   \n",
       "99   Michael S. Dukakis  1988  0.046154               260             66   \n",
       "88          John McCain  2008  0.043924               683            143   \n",
       "82        John F. Kerry  2004  0.036675               409             88   \n",
       "150   Walter F. Mondale  1984  0.029046               241             67   \n",
       "12         Barack Obama  2012  0.026902              1078            205   \n",
       "4      Albert Gore, Jr.  2000  0.021277               188             14   \n",
       "68         Jimmy Carter  1976  0.019737               152             55   \n",
       "156  William J. Clinton  1992  0.012780               313             76   \n",
       "45          George Bush  1992  0.012195               328            126   \n",
       "\n",
       "                   CandiYear  \n",
       "34      Donald J. Trump_2016  \n",
       "8          Barack Obama_2008  \n",
       "48      George McGovern_1972  \n",
       "99   Michael S. Dukakis_1988  \n",
       "88          John McCain_2008  \n",
       "82        John F. Kerry_2004  \n",
       "150   Walter F. Mondale_1984  \n",
       "12         Barack Obama_2012  \n",
       "4      Albert Gore, Jr._2000  \n",
       "68         Jimmy Carter_1976  \n",
       "156  William J. Clinton_1992  \n",
       "45          George Bush_1992  "
      ]
     },
     "execution_count": 356,
     "metadata": {},
     "output_type": "execute_result"
    }
   ],
   "source": [
    "CandiPop_final.sort_values('Pop_prop', ascending= False).head(12)"
   ]
  },
  {
   "cell_type": "code",
   "execution_count": 357,
   "metadata": {},
   "outputs": [
    {
     "data": {
      "text/html": [
       "<div>\n",
       "<style scoped>\n",
       "    .dataframe tbody tr th:only-of-type {\n",
       "        vertical-align: middle;\n",
       "    }\n",
       "\n",
       "    .dataframe tbody tr th {\n",
       "        vertical-align: top;\n",
       "    }\n",
       "\n",
       "    .dataframe thead th {\n",
       "        text-align: right;\n",
       "    }\n",
       "</style>\n",
       "<table border=\"1\" class=\"dataframe\">\n",
       "  <thead>\n",
       "    <tr style=\"text-align: right;\">\n",
       "      <th></th>\n",
       "      <th>Candidate</th>\n",
       "      <th>Year</th>\n",
       "      <th>Pop_prop</th>\n",
       "      <th>Subspeech_counts</th>\n",
       "      <th>Speech_counts</th>\n",
       "      <th>CandiYear</th>\n",
       "    </tr>\n",
       "  </thead>\n",
       "  <tbody>\n",
       "    <tr>\n",
       "      <th>48</th>\n",
       "      <td>George McGovern</td>\n",
       "      <td>1972</td>\n",
       "      <td>0.070312</td>\n",
       "      <td>256</td>\n",
       "      <td>98</td>\n",
       "      <td>George McGovern_1972</td>\n",
       "    </tr>\n",
       "    <tr>\n",
       "      <th>99</th>\n",
       "      <td>Michael S. Dukakis</td>\n",
       "      <td>1988</td>\n",
       "      <td>0.046154</td>\n",
       "      <td>260</td>\n",
       "      <td>66</td>\n",
       "      <td>Michael S. Dukakis_1988</td>\n",
       "    </tr>\n",
       "    <tr>\n",
       "      <th>150</th>\n",
       "      <td>Walter F. Mondale</td>\n",
       "      <td>1984</td>\n",
       "      <td>0.029046</td>\n",
       "      <td>241</td>\n",
       "      <td>67</td>\n",
       "      <td>Walter F. Mondale_1984</td>\n",
       "    </tr>\n",
       "    <tr>\n",
       "      <th>68</th>\n",
       "      <td>Jimmy Carter</td>\n",
       "      <td>1976</td>\n",
       "      <td>0.019737</td>\n",
       "      <td>152</td>\n",
       "      <td>55</td>\n",
       "      <td>Jimmy Carter_1976</td>\n",
       "    </tr>\n",
       "    <tr>\n",
       "      <th>156</th>\n",
       "      <td>William J. Clinton</td>\n",
       "      <td>1992</td>\n",
       "      <td>0.012780</td>\n",
       "      <td>313</td>\n",
       "      <td>76</td>\n",
       "      <td>William J. Clinton_1992</td>\n",
       "    </tr>\n",
       "    <tr>\n",
       "      <th>45</th>\n",
       "      <td>George Bush</td>\n",
       "      <td>1992</td>\n",
       "      <td>0.012195</td>\n",
       "      <td>328</td>\n",
       "      <td>126</td>\n",
       "      <td>George Bush_1992</td>\n",
       "    </tr>\n",
       "    <tr>\n",
       "      <th>1</th>\n",
       "      <td>Adlai Stevenson</td>\n",
       "      <td>1956</td>\n",
       "      <td>0.012097</td>\n",
       "      <td>248</td>\n",
       "      <td>75</td>\n",
       "      <td>Adlai Stevenson_1956</td>\n",
       "    </tr>\n",
       "    <tr>\n",
       "      <th>126</th>\n",
       "      <td>Robert Dole</td>\n",
       "      <td>1996</td>\n",
       "      <td>0.008818</td>\n",
       "      <td>567</td>\n",
       "      <td>111</td>\n",
       "      <td>Robert Dole_1996</td>\n",
       "    </tr>\n",
       "    <tr>\n",
       "      <th>117</th>\n",
       "      <td>Richard Nixon</td>\n",
       "      <td>1968</td>\n",
       "      <td>0.005618</td>\n",
       "      <td>356</td>\n",
       "      <td>67</td>\n",
       "      <td>Richard Nixon_1968</td>\n",
       "    </tr>\n",
       "    <tr>\n",
       "      <th>63</th>\n",
       "      <td>Hubert H. Humphrey</td>\n",
       "      <td>1968</td>\n",
       "      <td>0.004032</td>\n",
       "      <td>744</td>\n",
       "      <td>154</td>\n",
       "      <td>Hubert H. Humphrey_1968</td>\n",
       "    </tr>\n",
       "    <tr>\n",
       "      <th>36</th>\n",
       "      <td>Dwight Eisenhower</td>\n",
       "      <td>1952</td>\n",
       "      <td>0.002445</td>\n",
       "      <td>409</td>\n",
       "      <td>230</td>\n",
       "      <td>Dwight Eisenhower_1952</td>\n",
       "    </tr>\n",
       "    <tr>\n",
       "      <th>118</th>\n",
       "      <td>Richard Nixon</td>\n",
       "      <td>1972</td>\n",
       "      <td>0.000000</td>\n",
       "      <td>137</td>\n",
       "      <td>59</td>\n",
       "      <td>Richard Nixon_1972</td>\n",
       "    </tr>\n",
       "  </tbody>\n",
       "</table>\n",
       "</div>"
      ],
      "text/plain": [
       "              Candidate  Year  Pop_prop  Subspeech_counts  Speech_counts  \\\n",
       "48      George McGovern  1972  0.070312               256             98   \n",
       "99   Michael S. Dukakis  1988  0.046154               260             66   \n",
       "150   Walter F. Mondale  1984  0.029046               241             67   \n",
       "68         Jimmy Carter  1976  0.019737               152             55   \n",
       "156  William J. Clinton  1992  0.012780               313             76   \n",
       "45          George Bush  1992  0.012195               328            126   \n",
       "1       Adlai Stevenson  1956  0.012097               248             75   \n",
       "126         Robert Dole  1996  0.008818               567            111   \n",
       "117       Richard Nixon  1968  0.005618               356             67   \n",
       "63   Hubert H. Humphrey  1968  0.004032               744            154   \n",
       "36    Dwight Eisenhower  1952  0.002445               409            230   \n",
       "118       Richard Nixon  1972  0.000000               137             59   \n",
       "\n",
       "                   CandiYear  \n",
       "48      George McGovern_1972  \n",
       "99   Michael S. Dukakis_1988  \n",
       "150   Walter F. Mondale_1984  \n",
       "68         Jimmy Carter_1976  \n",
       "156  William J. Clinton_1992  \n",
       "45          George Bush_1992  \n",
       "1       Adlai Stevenson_1956  \n",
       "126         Robert Dole_1996  \n",
       "117       Richard Nixon_1968  \n",
       "63   Hubert H. Humphrey_1968  \n",
       "36    Dwight Eisenhower_1952  \n",
       "118       Richard Nixon_1972  "
      ]
     },
     "execution_count": 357,
     "metadata": {},
     "output_type": "execute_result"
    }
   ],
   "source": [
    "CandiPop_final[CandiPop_final.Year <=1996].sort_values('Pop_prop', ascending= False).head(12)"
   ]
  },
  {
   "cell_type": "code",
   "execution_count": 406,
   "metadata": {},
   "outputs": [
    {
     "data": {
      "text/plain": [
       "41"
      ]
     },
     "execution_count": 406,
     "metadata": {},
     "output_type": "execute_result"
    }
   ],
   "source": [
    "len(CandiPop_final.Candidate)"
   ]
  },
  {
   "cell_type": "code",
   "execution_count": 358,
   "metadata": {
    "scrolled": false
   },
   "outputs": [
    {
     "data": {
      "text/plain": [
       "Year\n",
       "1936    0.000000\n",
       "1940    0.000000\n",
       "1944    0.000000\n",
       "1948    0.000000\n",
       "1952    0.001222\n",
       "1956    0.006048\n",
       "1960    0.000000\n",
       "1964    0.000000\n",
       "1968    0.004825\n",
       "1972    0.035156\n",
       "1976    0.009868\n",
       "1980    0.000000\n",
       "1984    0.014523\n",
       "1988    0.023077\n",
       "1992    0.008325\n",
       "1996    0.004409\n",
       "2000    0.010638\n",
       "2004    0.018337\n",
       "2008    0.088054\n",
       "2012    0.016363\n",
       "2016    0.160613\n",
       "Name: Pop_prop, dtype: float64"
      ]
     },
     "execution_count": 358,
     "metadata": {},
     "output_type": "execute_result"
    }
   ],
   "source": [
    "CandiPop_final.groupby(['Year']).Pop_prop.mean()"
   ]
  },
  {
   "cell_type": "code",
   "execution_count": 134,
   "metadata": {},
   "outputs": [],
   "source": [
    "CandiPop_final.to_csv('CandidateMerged_Level.csv', index= False)"
   ]
  },
  {
   "cell_type": "code",
   "execution_count": 359,
   "metadata": {},
   "outputs": [],
   "source": [
    "CandiPop_final.to_csv('CandidateMerged_Level_new.csv', index= False)"
   ]
  },
  {
   "cell_type": "code",
   "execution_count": 315,
   "metadata": {},
   "outputs": [],
   "source": [
    "CandiPop_final = pd.read_csv('CandidateMerged_Level_new.csv') "
   ]
  },
  {
   "cell_type": "markdown",
   "metadata": {},
   "source": [
    "## Candidate Month"
   ]
  },
  {
   "cell_type": "code",
   "execution_count": 360,
   "metadata": {},
   "outputs": [
    {
     "data": {
      "text/plain": [
       "array(['November', 'October', 'September', 'August', 'July', 'June',\n",
       "       'March', 'May', 'April', 'February', 'January', 'December', nan],\n",
       "      dtype=object)"
      ]
     },
     "execution_count": 360,
     "metadata": {},
     "output_type": "execute_result"
    }
   ],
   "source": [
    "SubSpeech_predicted.Month.unique()"
   ]
  },
  {
   "cell_type": "code",
   "execution_count": 361,
   "metadata": {},
   "outputs": [],
   "source": [
    "CandiPopMonth = SubSpeech_predicted.groupby(['Candidate','Year','Month']).Pop_class.mean().reset_index()"
   ]
  },
  {
   "cell_type": "code",
   "execution_count": 362,
   "metadata": {},
   "outputs": [],
   "source": [
    "CandiCountsMonth = SubSpeech_predicted.groupby(['Candidate','Year', 'Month']).Subspeech_index.count().reset_index()"
   ]
  },
  {
   "cell_type": "code",
   "execution_count": 363,
   "metadata": {},
   "outputs": [],
   "source": [
    "CandiSpeechCountsMonth = Speech.groupby(['Candidate','Year','Month']).Speech_index.count().reset_index()"
   ]
  },
  {
   "cell_type": "code",
   "execution_count": 364,
   "metadata": {},
   "outputs": [
    {
     "data": {
      "text/html": [
       "<div>\n",
       "<style scoped>\n",
       "    .dataframe tbody tr th:only-of-type {\n",
       "        vertical-align: middle;\n",
       "    }\n",
       "\n",
       "    .dataframe tbody tr th {\n",
       "        vertical-align: top;\n",
       "    }\n",
       "\n",
       "    .dataframe thead th {\n",
       "        text-align: right;\n",
       "    }\n",
       "</style>\n",
       "<table border=\"1\" class=\"dataframe\">\n",
       "  <thead>\n",
       "    <tr style=\"text-align: right;\">\n",
       "      <th></th>\n",
       "      <th>Candidate</th>\n",
       "      <th>Year</th>\n",
       "      <th>Month</th>\n",
       "      <th>Pop_class</th>\n",
       "      <th>Subspeech_index</th>\n",
       "      <th>Speech_index</th>\n",
       "    </tr>\n",
       "  </thead>\n",
       "  <tbody>\n",
       "    <tr>\n",
       "      <th>0</th>\n",
       "      <td>Adlai Stevenson</td>\n",
       "      <td>1952</td>\n",
       "      <td>August</td>\n",
       "      <td>0.0</td>\n",
       "      <td>10</td>\n",
       "      <td>4</td>\n",
       "    </tr>\n",
       "    <tr>\n",
       "      <th>1</th>\n",
       "      <td>Adlai Stevenson</td>\n",
       "      <td>1952</td>\n",
       "      <td>July</td>\n",
       "      <td>0.0</td>\n",
       "      <td>3</td>\n",
       "      <td>2</td>\n",
       "    </tr>\n",
       "    <tr>\n",
       "      <th>2</th>\n",
       "      <td>Adlai Stevenson</td>\n",
       "      <td>1952</td>\n",
       "      <td>November</td>\n",
       "      <td>0.0</td>\n",
       "      <td>10</td>\n",
       "      <td>4</td>\n",
       "    </tr>\n",
       "    <tr>\n",
       "      <th>3</th>\n",
       "      <td>Adlai Stevenson</td>\n",
       "      <td>1952</td>\n",
       "      <td>October</td>\n",
       "      <td>0.0</td>\n",
       "      <td>271</td>\n",
       "      <td>124</td>\n",
       "    </tr>\n",
       "    <tr>\n",
       "      <th>4</th>\n",
       "      <td>Adlai Stevenson</td>\n",
       "      <td>1952</td>\n",
       "      <td>September</td>\n",
       "      <td>0.0</td>\n",
       "      <td>109</td>\n",
       "      <td>46</td>\n",
       "    </tr>\n",
       "  </tbody>\n",
       "</table>\n",
       "</div>"
      ],
      "text/plain": [
       "         Candidate  Year      Month  Pop_class  Subspeech_index  Speech_index\n",
       "0  Adlai Stevenson  1952     August        0.0               10             4\n",
       "1  Adlai Stevenson  1952       July        0.0                3             2\n",
       "2  Adlai Stevenson  1952   November        0.0               10             4\n",
       "3  Adlai Stevenson  1952    October        0.0              271           124\n",
       "4  Adlai Stevenson  1952  September        0.0              109            46"
      ]
     },
     "execution_count": 364,
     "metadata": {},
     "output_type": "execute_result"
    }
   ],
   "source": [
    "CandiPopMonth = CandiPopMonth.merge(CandiCountsMonth).merge(CandiSpeechCountsMonth)\n",
    "CandiPopMonth.head()"
   ]
  },
  {
   "cell_type": "code",
   "execution_count": 365,
   "metadata": {},
   "outputs": [],
   "source": [
    "CandiPopMonth.rename(columns={'Pop_class': 'Pop_prop', 'Subspeech_index': 'Subspeech_counts', 'Speech_index': 'Speech_counts' }, \n",
    "                      inplace = True)"
   ]
  },
  {
   "cell_type": "code",
   "execution_count": 366,
   "metadata": {},
   "outputs": [],
   "source": [
    "CandiPopMonth['CandiYear'] = CandiPopMonth.Candidate + '_' + CandiPopMonth.Year.astype(str) "
   ]
  },
  {
   "cell_type": "code",
   "execution_count": 367,
   "metadata": {},
   "outputs": [],
   "source": [
    "CandiPopMonth = CandiPopMonth[CandiPopMonth.CandiYear.isin(CanditateYear)]"
   ]
  },
  {
   "cell_type": "code",
   "execution_count": 132,
   "metadata": {},
   "outputs": [],
   "source": [
    "CandiPopMonth.to_csv('CandidateYearMonth_Level_Pop.csv', index=False)"
   ]
  },
  {
   "cell_type": "code",
   "execution_count": 368,
   "metadata": {},
   "outputs": [],
   "source": [
    "CandiPopMonth.to_csv('CandidateYearMonth_Level_Pop_new.csv', index=False)"
   ]
  },
  {
   "cell_type": "markdown",
   "metadata": {},
   "source": [
    "## Average Year Level "
   ]
  },
  {
   "cell_type": "code",
   "execution_count": 179,
   "metadata": {},
   "outputs": [],
   "source": [
    "PopYear_level = SubSpeech_predicted.groupby(['Year']).Pop_class.mean().reset_index()"
   ]
  },
  {
   "cell_type": "code",
   "execution_count": 181,
   "metadata": {},
   "outputs": [
    {
     "data": {
      "text/plain": [
       "count    48.000000\n",
       "mean      0.017818\n",
       "std       0.042235\n",
       "min       0.000000\n",
       "25%       0.000000\n",
       "50%       0.000000\n",
       "75%       0.012120\n",
       "max       0.184961\n",
       "Name: Pop_class, dtype: float64"
      ]
     },
     "execution_count": 181,
     "metadata": {},
     "output_type": "execute_result"
    }
   ],
   "source": [
    "PopYear_level.Pop_class.describe()"
   ]
  },
  {
   "cell_type": "code",
   "execution_count": 182,
   "metadata": {},
   "outputs": [],
   "source": [
    "PopYear_level.to_csv('PopYear_level.csv', index =False)"
   ]
  },
  {
   "cell_type": "code",
   "execution_count": 11,
   "metadata": {},
   "outputs": [
    {
     "data": {
      "text/plain": [
       "87"
      ]
     },
     "execution_count": 11,
     "metadata": {},
     "output_type": "execute_result"
    }
   ],
   "source": [
    "len(SubSpeech_predicted[SubSpeech_predicted.Candidate == \"Donald J. Trump\"].Speech_index.unique())"
   ]
  },
  {
   "cell_type": "code",
   "execution_count": null,
   "metadata": {},
   "outputs": [],
   "source": []
  }
 ],
 "metadata": {
  "kernelspec": {
   "display_name": "Python 3",
   "language": "python",
   "name": "python3"
  },
  "language_info": {
   "codemirror_mode": {
    "name": "ipython",
    "version": 3
   },
   "file_extension": ".py",
   "mimetype": "text/x-python",
   "name": "python",
   "nbconvert_exporter": "python",
   "pygments_lexer": "ipython3",
   "version": "3.7.3"
  }
 },
 "nbformat": 4,
 "nbformat_minor": 2
}
