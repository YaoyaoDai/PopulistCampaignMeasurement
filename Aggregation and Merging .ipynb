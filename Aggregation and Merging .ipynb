{
 "cells": [
  {
   "cell_type": "code",
   "execution_count": 168,
   "metadata": {},
   "outputs": [],
   "source": [
    "import pandas as pd\n",
    "import numpy as np\n",
    "import csv\n",
    "import json\n",
    "import string\n",
    "import random\n",
    "import re\n",
    "from scipy.stats import pearsonr\n",
    "from matplotlib import pyplot\n",
    "\n",
    "np.random.seed(1234)\n",
    "random.seed(1234)"
   ]
  },
  {
   "cell_type": "code",
   "execution_count": 9,
   "metadata": {},
   "outputs": [],
   "source": [
    "from gensim.parsing.porter import PorterStemmer\n",
    "from gensim.parsing.preprocessing import STOPWORDS\n",
    "import string\n",
    "\n",
    "porter = PorterStemmer()\n",
    "punctuation_dictionary = {s:None for s in list(string.punctuation)}\n",
    "punctuation_dictionary[\"-\"] = \"_\"\n",
    "\n",
    "punctuation_translator = str.maketrans(punctuation_dictionary)\n",
    "\n",
    "def text_cleaner(text, punctuation_translator, stemmer):\n",
    "    text = \"\".join(re.split('xa0',text))\n",
    "    text = str(text).translate(punctuation_translator)\n",
    "    text = text.lower()\n",
    "    text = porter.stem(text)\n",
    "    return(text)"
   ]
  },
  {
   "cell_type": "code",
   "execution_count": 159,
   "metadata": {},
   "outputs": [],
   "source": [
    "SubSpeech_predicted0 = pd.read_csv('SubSpeech_predicted_update.csv')"
   ]
  },
  {
   "cell_type": "code",
   "execution_count": 319,
   "metadata": {},
   "outputs": [],
   "source": [
    "SubSpeech_predicted = pd.read_csv('SubSpeech_predicted_update_new.csv')"
   ]
  },
  {
   "cell_type": "code",
   "execution_count": 146,
   "metadata": {},
   "outputs": [],
   "source": [
    "Speech = pd.read_csv('CampaignSpeechMerged_cleaned.csv')"
   ]
  },
  {
   "cell_type": "code",
   "execution_count": 147,
   "metadata": {},
   "outputs": [],
   "source": [
    "Polls = pd.read_csv('Polls.csv')"
   ]
  },
  {
   "cell_type": "code",
   "execution_count": 9,
   "metadata": {},
   "outputs": [],
   "source": [
    "#Speech.head()"
   ]
  },
  {
   "cell_type": "code",
   "execution_count": 10,
   "metadata": {
    "scrolled": true
   },
   "outputs": [],
   "source": [
    "#Polls.head()"
   ]
  },
  {
   "cell_type": "code",
   "execution_count": 49,
   "metadata": {},
   "outputs": [],
   "source": [
    "#SubSpeech_predicted.head()"
   ]
  },
  {
   "cell_type": "code",
   "execution_count": 370,
   "metadata": {},
   "outputs": [],
   "source": [
    "SubSpeech_predicted['Pop_class0'] = SubSpeech_predicted0.Pop_class"
   ]
  },
  {
   "cell_type": "code",
   "execution_count": 170,
   "metadata": {},
   "outputs": [],
   "source": [
    "SubSpeech_predicted['Dif'] = SubSpeech_predicted.Pop_class - SubSpeech_predicted['Pop_class0']"
   ]
  },
  {
   "cell_type": "code",
   "execution_count": 324,
   "metadata": {},
   "outputs": [
    {
     "data": {
      "text/plain": [
       "count    17453.000000\n",
       "mean         0.039993\n",
       "std          0.195949\n",
       "min          0.000000\n",
       "25%          0.000000\n",
       "50%          0.000000\n",
       "75%          0.000000\n",
       "max          1.000000\n",
       "Name: Pop_class, dtype: float64"
      ]
     },
     "execution_count": 324,
     "metadata": {},
     "output_type": "execute_result"
    }
   ],
   "source": [
    "SubSpeech_predicted.Pop_class.describe()"
   ]
  },
  {
   "cell_type": "code",
   "execution_count": 372,
   "metadata": {},
   "outputs": [
    {
     "name": "stdout",
     "output_type": "stream",
     "text": [
      "Pearsons correlation: 0.755\n"
     ]
    }
   ],
   "source": [
    "corr, _ = pearsonr(SubSpeech_predicted['Pop_prob0'], SubSpeech_predicted['Pop_prob'])\n",
    "print('Pearsons correlation: %.3f' % corr)"
   ]
  },
  {
   "cell_type": "code",
   "execution_count": 325,
   "metadata": {},
   "outputs": [],
   "source": [
    "#SubSpeech_predicted[SubSpeech_predicted.Pop.isna()].sort_values('Dif').head(20)"
   ]
  },
  {
   "cell_type": "code",
   "execution_count": 394,
   "metadata": {},
   "outputs": [
    {
     "data": {
      "text/html": [
       "<div>\n",
       "<style scoped>\n",
       "    .dataframe tbody tr th:only-of-type {\n",
       "        vertical-align: middle;\n",
       "    }\n",
       "\n",
       "    .dataframe tbody tr th {\n",
       "        vertical-align: top;\n",
       "    }\n",
       "\n",
       "    .dataframe thead th {\n",
       "        text-align: right;\n",
       "    }\n",
       "</style>\n",
       "<table border=\"1\" class=\"dataframe\">\n",
       "  <thead>\n",
       "    <tr style=\"text-align: right;\">\n",
       "      <th></th>\n",
       "      <th>Candidate</th>\n",
       "      <th>Chanel</th>\n",
       "      <th>City</th>\n",
       "      <th>Content</th>\n",
       "      <th>Date</th>\n",
       "      <th>Day</th>\n",
       "      <th>Description</th>\n",
       "      <th>Month</th>\n",
       "      <th>Speech_index</th>\n",
       "      <th>State</th>\n",
       "      <th>...</th>\n",
       "      <th>Subspeech_index</th>\n",
       "      <th>Title</th>\n",
       "      <th>Type</th>\n",
       "      <th>URL</th>\n",
       "      <th>Year</th>\n",
       "      <th>Pop</th>\n",
       "      <th>clean_text</th>\n",
       "      <th>phrased_text</th>\n",
       "      <th>Pop_class</th>\n",
       "      <th>Pop_prob</th>\n",
       "    </tr>\n",
       "  </thead>\n",
       "  <tbody>\n",
       "    <tr>\n",
       "      <th>858</th>\n",
       "      <td>Donald J. Trump</td>\n",
       "      <td>NaN</td>\n",
       "      <td>NaN</td>\n",
       "      <td>\\nThank you. It's great to be back in North Ca...</td>\n",
       "      <td>\\nSeptember 06, 2016</td>\n",
       "      <td>6.0</td>\n",
       "      <td>NaN</td>\n",
       "      <td>September</td>\n",
       "      <td>Speech101</td>\n",
       "      <td>NaN</td>\n",
       "      <td>...</td>\n",
       "      <td>Speech101_0:10</td>\n",
       "      <td>\\nRemarks at a Rally at the Greenville Convent...</td>\n",
       "      <td>Campaign Documents</td>\n",
       "      <td>/documents/remarks-rally-the-greenville-conven...</td>\n",
       "      <td>2016</td>\n",
       "      <td>NaN</td>\n",
       "      <td>thank you its great to be back in north carol...</td>\n",
       "      <td>thank_you its great to be back in north_caroli...</td>\n",
       "      <td>1</td>\n",
       "      <td>0.73913</td>\n",
       "    </tr>\n",
       "    <tr>\n",
       "      <th>821</th>\n",
       "      <td>Donald J. Trump</td>\n",
       "      <td>NaN</td>\n",
       "      <td>NaN</td>\n",
       "      <td>\\nIt is so great to be back in Florida, my sec...</td>\n",
       "      <td>\\nSeptember 09, 2016</td>\n",
       "      <td>9.0</td>\n",
       "      <td>NaN</td>\n",
       "      <td>September</td>\n",
       "      <td>Speech97</td>\n",
       "      <td>NaN</td>\n",
       "      <td>...</td>\n",
       "      <td>Speech97_10:20</td>\n",
       "      <td>\\nRemarks at a Rally at the Pensacola Bay Cent...</td>\n",
       "      <td>Campaign Documents</td>\n",
       "      <td>/documents/remarks-rally-the-pensacola-bay-cen...</td>\n",
       "      <td>2016</td>\n",
       "      <td>NaN</td>\n",
       "      <td>change is coming all the people whove rigged t...</td>\n",
       "      <td>change is coming all the people whove rigged t...</td>\n",
       "      <td>1</td>\n",
       "      <td>0.73913</td>\n",
       "    </tr>\n",
       "    <tr>\n",
       "      <th>6406</th>\n",
       "      <td>Barack Obama</td>\n",
       "      <td>NaN</td>\n",
       "      <td>NaN</td>\n",
       "      <td>\\nWe meet here at a time of challenge and unce...</td>\n",
       "      <td>\\nApril 02, 2008</td>\n",
       "      <td>2.0</td>\n",
       "      <td>NaN</td>\n",
       "      <td>April</td>\n",
       "      <td>Speech1183</td>\n",
       "      <td>NaN</td>\n",
       "      <td>...</td>\n",
       "      <td>Speech1183_10:20</td>\n",
       "      <td>\\nRemarks to the AFL-CIO in Philadelphia\\n</td>\n",
       "      <td>Campaign Documents</td>\n",
       "      <td>/documents/remarks-the-afl-cio-philadelphia</td>\n",
       "      <td>2008</td>\n",
       "      <td>NaN</td>\n",
       "      <td>so while i know theres been some talk about wh...</td>\n",
       "      <td>so while i know theres been some talk_about wh...</td>\n",
       "      <td>1</td>\n",
       "      <td>0.73913</td>\n",
       "    </tr>\n",
       "    <tr>\n",
       "      <th>279</th>\n",
       "      <td>Donald J. Trump</td>\n",
       "      <td>NaN</td>\n",
       "      <td>NaN</td>\n",
       "      <td>\\nThis is amazing. What a great place. Thank y...</td>\n",
       "      <td>\\nNovember 07, 2016</td>\n",
       "      <td>7.0</td>\n",
       "      <td>NaN</td>\n",
       "      <td>November</td>\n",
       "      <td>Speech14</td>\n",
       "      <td>NaN</td>\n",
       "      <td>...</td>\n",
       "      <td>Speech14_0:10</td>\n",
       "      <td>\\nRemarks at J.S Dorton Arena in Raleigh, Nort...</td>\n",
       "      <td>Campaign Documents</td>\n",
       "      <td>/documents/remarks-js-dorton-arena-raleigh-nor...</td>\n",
       "      <td>2016</td>\n",
       "      <td>1.0</td>\n",
       "      <td>this is amazing what a great place thank you ...</td>\n",
       "      <td>this is amazing what a great place thank_you v...</td>\n",
       "      <td>1</td>\n",
       "      <td>0.73913</td>\n",
       "    </tr>\n",
       "    <tr>\n",
       "      <th>282</th>\n",
       "      <td>Donald J. Trump</td>\n",
       "      <td>NaN</td>\n",
       "      <td>NaN</td>\n",
       "      <td>\\nThis is amazing. What a great place. Thank y...</td>\n",
       "      <td>\\nNovember 07, 2016</td>\n",
       "      <td>7.0</td>\n",
       "      <td>NaN</td>\n",
       "      <td>November</td>\n",
       "      <td>Speech14</td>\n",
       "      <td>NaN</td>\n",
       "      <td>...</td>\n",
       "      <td>Speech14_30:40</td>\n",
       "      <td>\\nRemarks at J.S Dorton Arena in Raleigh, Nort...</td>\n",
       "      <td>Campaign Documents</td>\n",
       "      <td>/documents/remarks-js-dorton-arena-raleigh-nor...</td>\n",
       "      <td>2016</td>\n",
       "      <td>0.0</td>\n",
       "      <td>thank you thank you thank you applause people ...</td>\n",
       "      <td>thank_you thank_you thank_you applause people ...</td>\n",
       "      <td>1</td>\n",
       "      <td>0.73913</td>\n",
       "    </tr>\n",
       "    <tr>\n",
       "      <th>299</th>\n",
       "      <td>Donald J. Trump</td>\n",
       "      <td>NaN</td>\n",
       "      <td>NaN</td>\n",
       "      <td>\\nThis is amazing. What a great place. Thank y...</td>\n",
       "      <td>\\nNovember 07, 2016</td>\n",
       "      <td>7.0</td>\n",
       "      <td>NaN</td>\n",
       "      <td>November</td>\n",
       "      <td>Speech14</td>\n",
       "      <td>NaN</td>\n",
       "      <td>...</td>\n",
       "      <td>Speech14_200:220</td>\n",
       "      <td>\\nRemarks at J.S Dorton Arena in Raleigh, Nort...</td>\n",
       "      <td>Campaign Documents</td>\n",
       "      <td>/documents/remarks-js-dorton-arena-raleigh-nor...</td>\n",
       "      <td>2016</td>\n",
       "      <td>1.0</td>\n",
       "      <td>there has never been a movement like this even...</td>\n",
       "      <td>there has never been a movement like this even...</td>\n",
       "      <td>1</td>\n",
       "      <td>0.73913</td>\n",
       "    </tr>\n",
       "    <tr>\n",
       "      <th>353</th>\n",
       "      <td>Donald J. Trump</td>\n",
       "      <td>NaN</td>\n",
       "      <td>NaN</td>\n",
       "      <td>\\nThank you. Thank you. [applause]\\nI love tha...</td>\n",
       "      <td>\\nNovember 02, 2016</td>\n",
       "      <td>2.0</td>\n",
       "      <td>NaN</td>\n",
       "      <td>November</td>\n",
       "      <td>Speech22</td>\n",
       "      <td>NaN</td>\n",
       "      <td>...</td>\n",
       "      <td>Speech22_130:145</td>\n",
       "      <td>\\nRemarks at the Bayfront Park Amphitheater in...</td>\n",
       "      <td>Campaign Documents</td>\n",
       "      <td>/documents/remarks-the-bayfront-park-amphithea...</td>\n",
       "      <td>2016</td>\n",
       "      <td>NaN</td>\n",
       "      <td>there is no challenge too great no dream outsi...</td>\n",
       "      <td>there is no challenge too great no dream outsi...</td>\n",
       "      <td>1</td>\n",
       "      <td>0.73913</td>\n",
       "    </tr>\n",
       "    <tr>\n",
       "      <th>511</th>\n",
       "      <td>Donald J. Trump</td>\n",
       "      <td>NaN</td>\n",
       "      <td>NaN</td>\n",
       "      <td>\\nIn 21 days, we are going to win the state of...</td>\n",
       "      <td>\\nOctober 18, 2016</td>\n",
       "      <td>18.0</td>\n",
       "      <td>NaN</td>\n",
       "      <td>October</td>\n",
       "      <td>Speech48</td>\n",
       "      <td>NaN</td>\n",
       "      <td>...</td>\n",
       "      <td>Speech48_90:108</td>\n",
       "      <td>\\nRemarks at the Norris-Penrose Event Center i...</td>\n",
       "      <td>Campaign Documents</td>\n",
       "      <td>/documents/remarks-the-norris-penrose-event-ce...</td>\n",
       "      <td>2016</td>\n",
       "      <td>NaN</td>\n",
       "      <td>either we win this election or we lose our cou...</td>\n",
       "      <td>either we win this election or we lose our cou...</td>\n",
       "      <td>1</td>\n",
       "      <td>0.73913</td>\n",
       "    </tr>\n",
       "    <tr>\n",
       "      <th>520</th>\n",
       "      <td>Donald J. Trump</td>\n",
       "      <td>NaN</td>\n",
       "      <td>NaN</td>\n",
       "      <td>\\nThank you.\\nIn 22 days, we are going to win ...</td>\n",
       "      <td>\\nOctober 17, 2016</td>\n",
       "      <td>17.0</td>\n",
       "      <td>NaN</td>\n",
       "      <td>October</td>\n",
       "      <td>Speech49</td>\n",
       "      <td>NaN</td>\n",
       "      <td>...</td>\n",
       "      <td>Speech49_80:94</td>\n",
       "      <td>\\nRemarks at the KI Convention Center in Green...</td>\n",
       "      <td>Campaign Documents</td>\n",
       "      <td>/documents/remarks-the-ki-convention-center-gr...</td>\n",
       "      <td>2016</td>\n",
       "      <td>NaN</td>\n",
       "      <td>on november 8th the arrogance of washington dc...</td>\n",
       "      <td>on_november_8th the arrogance of washington_dc...</td>\n",
       "      <td>1</td>\n",
       "      <td>0.73913</td>\n",
       "    </tr>\n",
       "    <tr>\n",
       "      <th>662</th>\n",
       "      <td>Donald J. Trump</td>\n",
       "      <td>NaN</td>\n",
       "      <td>NaN</td>\n",
       "      <td>\\nI am going to fight so hard for all of you, ...</td>\n",
       "      <td>\\nSeptember 30, 2016</td>\n",
       "      <td>30.0</td>\n",
       "      <td>NaN</td>\n",
       "      <td>September</td>\n",
       "      <td>Speech69</td>\n",
       "      <td>NaN</td>\n",
       "      <td>...</td>\n",
       "      <td>Speech69_20:30</td>\n",
       "      <td>\\nRemarks at the Suburban Collection Showplace...</td>\n",
       "      <td>Campaign Documents</td>\n",
       "      <td>/documents/remarks-the-suburban-collection-sho...</td>\n",
       "      <td>2016</td>\n",
       "      <td>NaN</td>\n",
       "      <td>i am an outsider fighting for you hillary clin...</td>\n",
       "      <td>i am an_outsider fighting for you hillary_clin...</td>\n",
       "      <td>1</td>\n",
       "      <td>0.73913</td>\n",
       "    </tr>\n",
       "  </tbody>\n",
       "</table>\n",
       "<p>10 rows × 22 columns</p>\n",
       "</div>"
      ],
      "text/plain": [
       "            Candidate Chanel City  \\\n",
       "858   Donald J. Trump    NaN  NaN   \n",
       "821   Donald J. Trump    NaN  NaN   \n",
       "6406     Barack Obama    NaN  NaN   \n",
       "279   Donald J. Trump    NaN  NaN   \n",
       "282   Donald J. Trump    NaN  NaN   \n",
       "299   Donald J. Trump    NaN  NaN   \n",
       "353   Donald J. Trump    NaN  NaN   \n",
       "511   Donald J. Trump    NaN  NaN   \n",
       "520   Donald J. Trump    NaN  NaN   \n",
       "662   Donald J. Trump    NaN  NaN   \n",
       "\n",
       "                                                Content  \\\n",
       "858   \\nThank you. It's great to be back in North Ca...   \n",
       "821   \\nIt is so great to be back in Florida, my sec...   \n",
       "6406  \\nWe meet here at a time of challenge and unce...   \n",
       "279   \\nThis is amazing. What a great place. Thank y...   \n",
       "282   \\nThis is amazing. What a great place. Thank y...   \n",
       "299   \\nThis is amazing. What a great place. Thank y...   \n",
       "353   \\nThank you. Thank you. [applause]\\nI love tha...   \n",
       "511   \\nIn 21 days, we are going to win the state of...   \n",
       "520   \\nThank you.\\nIn 22 days, we are going to win ...   \n",
       "662   \\nI am going to fight so hard for all of you, ...   \n",
       "\n",
       "                       Date   Day Description      Month Speech_index State  \\\n",
       "858   \\nSeptember 06, 2016    6.0         NaN  September    Speech101   NaN   \n",
       "821   \\nSeptember 09, 2016    9.0         NaN  September     Speech97   NaN   \n",
       "6406      \\nApril 02, 2008    2.0         NaN      April   Speech1183   NaN   \n",
       "279    \\nNovember 07, 2016    7.0         NaN   November     Speech14   NaN   \n",
       "282    \\nNovember 07, 2016    7.0         NaN   November     Speech14   NaN   \n",
       "299    \\nNovember 07, 2016    7.0         NaN   November     Speech14   NaN   \n",
       "353    \\nNovember 02, 2016    2.0         NaN   November     Speech22   NaN   \n",
       "511     \\nOctober 18, 2016   18.0         NaN    October     Speech48   NaN   \n",
       "520     \\nOctober 17, 2016   17.0         NaN    October     Speech49   NaN   \n",
       "662   \\nSeptember 30, 2016   30.0         NaN  September     Speech69   NaN   \n",
       "\n",
       "      ...   Subspeech_index  \\\n",
       "858   ...    Speech101_0:10   \n",
       "821   ...    Speech97_10:20   \n",
       "6406  ...  Speech1183_10:20   \n",
       "279   ...     Speech14_0:10   \n",
       "282   ...    Speech14_30:40   \n",
       "299   ...  Speech14_200:220   \n",
       "353   ...  Speech22_130:145   \n",
       "511   ...   Speech48_90:108   \n",
       "520   ...    Speech49_80:94   \n",
       "662   ...    Speech69_20:30   \n",
       "\n",
       "                                                  Title                Type  \\\n",
       "858   \\nRemarks at a Rally at the Greenville Convent...  Campaign Documents   \n",
       "821   \\nRemarks at a Rally at the Pensacola Bay Cent...  Campaign Documents   \n",
       "6406         \\nRemarks to the AFL-CIO in Philadelphia\\n  Campaign Documents   \n",
       "279   \\nRemarks at J.S Dorton Arena in Raleigh, Nort...  Campaign Documents   \n",
       "282   \\nRemarks at J.S Dorton Arena in Raleigh, Nort...  Campaign Documents   \n",
       "299   \\nRemarks at J.S Dorton Arena in Raleigh, Nort...  Campaign Documents   \n",
       "353   \\nRemarks at the Bayfront Park Amphitheater in...  Campaign Documents   \n",
       "511   \\nRemarks at the Norris-Penrose Event Center i...  Campaign Documents   \n",
       "520   \\nRemarks at the KI Convention Center in Green...  Campaign Documents   \n",
       "662   \\nRemarks at the Suburban Collection Showplace...  Campaign Documents   \n",
       "\n",
       "                                                    URL  Year  Pop  \\\n",
       "858   /documents/remarks-rally-the-greenville-conven...  2016  NaN   \n",
       "821   /documents/remarks-rally-the-pensacola-bay-cen...  2016  NaN   \n",
       "6406        /documents/remarks-the-afl-cio-philadelphia  2008  NaN   \n",
       "279   /documents/remarks-js-dorton-arena-raleigh-nor...  2016  1.0   \n",
       "282   /documents/remarks-js-dorton-arena-raleigh-nor...  2016  0.0   \n",
       "299   /documents/remarks-js-dorton-arena-raleigh-nor...  2016  1.0   \n",
       "353   /documents/remarks-the-bayfront-park-amphithea...  2016  NaN   \n",
       "511   /documents/remarks-the-norris-penrose-event-ce...  2016  NaN   \n",
       "520   /documents/remarks-the-ki-convention-center-gr...  2016  NaN   \n",
       "662   /documents/remarks-the-suburban-collection-sho...  2016  NaN   \n",
       "\n",
       "                                             clean_text  \\\n",
       "858    thank you its great to be back in north carol...   \n",
       "821   change is coming all the people whove rigged t...   \n",
       "6406  so while i know theres been some talk about wh...   \n",
       "279    this is amazing what a great place thank you ...   \n",
       "282   thank you thank you thank you applause people ...   \n",
       "299   there has never been a movement like this even...   \n",
       "353   there is no challenge too great no dream outsi...   \n",
       "511   either we win this election or we lose our cou...   \n",
       "520   on november 8th the arrogance of washington dc...   \n",
       "662   i am an outsider fighting for you hillary clin...   \n",
       "\n",
       "                                           phrased_text Pop_class Pop_prob  \n",
       "858   thank_you its great to be back in north_caroli...         1  0.73913  \n",
       "821   change is coming all the people whove rigged t...         1  0.73913  \n",
       "6406  so while i know theres been some talk_about wh...         1  0.73913  \n",
       "279   this is amazing what a great place thank_you v...         1  0.73913  \n",
       "282   thank_you thank_you thank_you applause people ...         1  0.73913  \n",
       "299   there has never been a movement like this even...         1  0.73913  \n",
       "353   there is no challenge too great no dream outsi...         1  0.73913  \n",
       "511   either we win this election or we lose our cou...         1  0.73913  \n",
       "520   on_november_8th the arrogance of washington_dc...         1  0.73913  \n",
       "662   i am an_outsider fighting for you hillary_clin...         1  0.73913  \n",
       "\n",
       "[10 rows x 22 columns]"
      ]
     },
     "execution_count": 394,
     "metadata": {},
     "output_type": "execute_result"
    }
   ],
   "source": [
    "SubSpeech_predicted0.sort_values('Pop_prob', ascending= False).head(10)"
   ]
  },
  {
   "cell_type": "code",
   "execution_count": 390,
   "metadata": {},
   "outputs": [
    {
     "data": {
      "text/plain": [
       "0.7391304347826086"
      ]
     },
     "execution_count": 390,
     "metadata": {},
     "output_type": "execute_result"
    }
   ],
   "source": [
    "SubSpeech_predicted0.Pop_prob[6406]"
   ]
  },
  {
   "cell_type": "code",
   "execution_count": 393,
   "metadata": {},
   "outputs": [
    {
     "data": {
      "text/plain": [
       "'four more years of a president who supports privatizing social security four more years of a war that has cost us thousands of lives and a trillion dollars without making us safer while we run up a mountain of debt that is mortgaging our childrens future four more years of a white house that is run by the kind of lobbyists who run john mccains campaign while washington tells the american people – “youre on your own” well we know that the american people cannot afford any more of the bush_mccain program not this time not when the stakes are so high not when the opportunities are so great we need a new direction in washington we need new leadership in the white house we know that government cannot solve all of our problems and we dont expect it to we dont want our tax dollars wasted on programs that dont work or perks for special interests that dont work for us we understand that we cannot stop every job from going overseas or build a wall around our economy and we know we shouldnt but that is not an excuse to spend another four years doing nothing to reclaim the american dream for working people were the nation that built the largest middle class in history we all have a stake in each others success we cant continue an economic program that rewards wall street at the expense of main street because then we all end up hurting its time to end a failed approach that tries to build prosperity from the top down and renew our common prosperity from the bottom up instead of a tax code that rewards wealth and not work well provide an income tax cut of up to 1000 for a working family and eliminate income taxes altogether for any retiree making less than 50000 per year instead of more inaction on health care well finally bring this country together stand up to the drug companies and insurance companies and make health care affordable and accessible for every single american instead of putting a secure retirement at risk well safeguard social security well protect pensions instead of ceo bonuses and well help all americans save more so they can have a retirement that is dignified and secure instead of gimmicks like a gas tax holiday that rewards the oil companies while doing nothing to lower gas prices in the long_term well raise fuel efficiency standards invest in alternative energy and create millions of green jobs that will free this country from our addiction to oil instead of a blank check to fight an endless war in iraq we can end this war restore our military finish the fight against al qaeada and invest some of those dollars to put millions of americans to work rebuilding our roads and bridges laying down new rail lines and new broadband and making sure that all of america can compete and win in the 21st century thats the new direction we need in this country the other party has already decided to run on the failed policies of the past thats why we need to be the party that stands for the future everywhere i go i meet americans who cant wait another day for change change that refuses to let lobbyists drown out the voices of the american people change that puts folks back to work change that finally delivers on the promise of health care you can afford and an energy policy that makes sense change that leaves behind partisanship that stands in the way of progress because were all in this together as americans this is our chance to build a new majority of democrats and independents and republicans who know that four more years of george bush just wont do this is our moment to turn the page on the divisions and distractions that pass for politics in washington so that we can write the next chapter in the history of american prosperity for all americans '"
      ]
     },
     "execution_count": 393,
     "metadata": {},
     "output_type": "execute_result"
    }
   ],
   "source": [
    "SubSpeech_predicted0.clean_text[6153]"
   ]
  },
  {
   "cell_type": "markdown",
   "metadata": {},
   "source": [
    "## Speech Level"
   ]
  },
  {
   "cell_type": "code",
   "execution_count": 326,
   "metadata": {},
   "outputs": [],
   "source": [
    "SubSpeech_predicted.Month.replace({'7.0': 'July', '8.0': 'August', '9.0': 'September', '10.0': 'October', '11.0': 'November', },\n",
    "                        inplace=True)"
   ]
  },
  {
   "cell_type": "code",
   "execution_count": 149,
   "metadata": {},
   "outputs": [],
   "source": [
    "Speech.Month.replace({'7.0': 'July', '8.0': 'August', '9.0': 'September', '10.0': 'October', '11.0': 'November', },\n",
    "                        inplace=True)"
   ]
  },
  {
   "cell_type": "code",
   "execution_count": 327,
   "metadata": {},
   "outputs": [],
   "source": [
    "SubSpeech_predicted['CandiYear'] = SubSpeech_predicted.Candidate + '_' + SubSpeech_predicted.Year.astype(str) "
   ]
  },
  {
   "cell_type": "code",
   "execution_count": 328,
   "metadata": {},
   "outputs": [],
   "source": [
    "CanditateYear = Polls.Candidate + '_' + Polls.Year.astype(str)"
   ]
  },
  {
   "cell_type": "code",
   "execution_count": 329,
   "metadata": {},
   "outputs": [],
   "source": [
    "CandiPop_SubSpeech = SubSpeech_predicted[SubSpeech_predicted.CandiYear.isin(CanditateYear)]"
   ]
  },
  {
   "cell_type": "code",
   "execution_count": 330,
   "metadata": {},
   "outputs": [
    {
     "data": {
      "text/plain": [
       "3494"
      ]
     },
     "execution_count": 330,
     "metadata": {},
     "output_type": "execute_result"
    }
   ],
   "source": [
    "len(CandiPop_SubSpeech.Speech_index.unique())"
   ]
  },
  {
   "cell_type": "code",
   "execution_count": 331,
   "metadata": {},
   "outputs": [],
   "source": [
    "CandiPop_SubSpeech = CandiPop_SubSpeech[['Candidate','Chanel','City','Year','Month','Day','Speech_index',\n",
    "                                         'Subspeech_index', 'Title','Type','Pop_class']]\n",
    "                         \n"
   ]
  },
  {
   "cell_type": "code",
   "execution_count": 144,
   "metadata": {},
   "outputs": [],
   "source": [
    "CandiPop_SubSpeech.to_csv('Subspeech_Level_Pop_MajorCand.csv', index=False)"
   ]
  },
  {
   "cell_type": "code",
   "execution_count": 332,
   "metadata": {},
   "outputs": [],
   "source": [
    "CandiPop_SubSpeech.to_csv('Subspeech_Level_Pop_MajorCand_new.csv', index=False)"
   ]
  },
  {
   "cell_type": "code",
   "execution_count": 333,
   "metadata": {},
   "outputs": [],
   "source": [
    "Pop_prop = []\n",
    "SubSpeechCounts = []\n",
    "for x in Speech.Speech_index:\n",
    "    Pop_prop.append(np.mean(SubSpeech_predicted.Pop_class[SubSpeech_predicted.Speech_index == x]))\n",
    "    SubSpeechCounts.append(len(SubSpeech_predicted.Subspeech_index[SubSpeech_predicted.Speech_index == x]))"
   ]
  },
  {
   "cell_type": "code",
   "execution_count": 334,
   "metadata": {},
   "outputs": [],
   "source": [
    "Pop_Speech = Speech.assign(Pop_prop = Pop_prop)\n",
    "Pop_Speech = Pop_Speech.assign(SubSpeechCounts = SubSpeechCounts)"
   ]
  },
  {
   "cell_type": "code",
   "execution_count": 10,
   "metadata": {},
   "outputs": [],
   "source": [
    "#Pop_Speech.head()"
   ]
  },
  {
   "cell_type": "code",
   "execution_count": null,
   "metadata": {},
   "outputs": [],
   "source": []
  },
  {
   "cell_type": "markdown",
   "metadata": {},
   "source": [
    "### Add speech word counts"
   ]
  },
  {
   "cell_type": "code",
   "execution_count": 187,
   "metadata": {},
   "outputs": [],
   "source": [
    "Speech['cleantext'] = Speech[\"Content\"].apply(lambda x: text_cleaner(x, punctuation_translator, porter))\n"
   ]
  },
  {
   "cell_type": "code",
   "execution_count": 188,
   "metadata": {},
   "outputs": [],
   "source": [
    "Speech['Speech_len'] = [len(x.split(' ')) for x in Speech['cleantext']]"
   ]
  },
  {
   "cell_type": "code",
   "execution_count": 189,
   "metadata": {},
   "outputs": [],
   "source": [
    "Speech_len = Speech[['Speech_index','Speech_len']]"
   ]
  },
  {
   "cell_type": "code",
   "execution_count": 335,
   "metadata": {},
   "outputs": [],
   "source": [
    "Pop_Speech = Pop_Speech.merge(Speech_len)"
   ]
  },
  {
   "cell_type": "code",
   "execution_count": 336,
   "metadata": {},
   "outputs": [],
   "source": [
    "Pop_Speech = Pop_Speech[['Candidate','Chanel','City','Year','Month','Day','Speech_index',\n",
    "                         'Title','Type','Pop_prop','SubSpeechCounts','Speech_len']]"
   ]
  },
  {
   "cell_type": "code",
   "execution_count": 337,
   "metadata": {},
   "outputs": [
    {
     "data": {
      "text/plain": [
       "array(['November', 'October', 'September', 'August', 'July', 'June',\n",
       "       'March', 'May', 'April', 'February', 'January', 'December', nan],\n",
       "      dtype=object)"
      ]
     },
     "execution_count": 337,
     "metadata": {},
     "output_type": "execute_result"
    }
   ],
   "source": [
    "Pop_Speech.Month.unique()"
   ]
  },
  {
   "cell_type": "code",
   "execution_count": 369,
   "metadata": {},
   "outputs": [
    {
     "data": {
      "text/plain": [
       "4324"
      ]
     },
     "execution_count": 369,
     "metadata": {},
     "output_type": "execute_result"
    }
   ],
   "source": [
    "len(Pop_Speech[Pop_Speech.Year>=1952].Title)"
   ]
  },
  {
   "cell_type": "code",
   "execution_count": 122,
   "metadata": {},
   "outputs": [],
   "source": [
    "Pop_Speech.to_csv(\"Speech_Level_Pop_All.csv\", index=False)"
   ]
  },
  {
   "cell_type": "code",
   "execution_count": 338,
   "metadata": {},
   "outputs": [],
   "source": [
    "Pop_Speech.to_csv(\"Speech_Level_Pop_All_new.csv\", index=False)"
   ]
  },
  {
   "cell_type": "markdown",
   "metadata": {},
   "source": [
    "### Select Relevant Speeches"
   ]
  },
  {
   "cell_type": "code",
   "execution_count": 194,
   "metadata": {},
   "outputs": [
    {
     "data": {
      "text/plain": [
       "{'Alfred M. Landon',\n",
       " 'Gary Johnson',\n",
       " 'George Wallace',\n",
       " 'John Anderson',\n",
       " 'Ralph Nader',\n",
       " 'Strom Thurmond'}"
      ]
     },
     "execution_count": 194,
     "metadata": {},
     "output_type": "execute_result"
    }
   ],
   "source": [
    "set(Polls.Candidate).difference(set(Pop_Speech.Candidate))"
   ]
  },
  {
   "cell_type": "code",
   "execution_count": 339,
   "metadata": {},
   "outputs": [],
   "source": [
    "Pop_Speech['CandiYear'] = Pop_Speech.Candidate + '_' + Pop_Speech.Year.astype(str) "
   ]
  },
  {
   "cell_type": "code",
   "execution_count": 340,
   "metadata": {},
   "outputs": [],
   "source": [
    "CanditateYear = Polls.Candidate + '_' + Polls.Year.astype(str)"
   ]
  },
  {
   "cell_type": "code",
   "execution_count": 341,
   "metadata": {},
   "outputs": [],
   "source": [
    "CandiPop_Speech = Pop_Speech[Pop_Speech.CandiYear.isin(CanditateYear)]"
   ]
  },
  {
   "cell_type": "code",
   "execution_count": 342,
   "metadata": {},
   "outputs": [
    {
     "data": {
      "text/plain": [
       "3494"
      ]
     },
     "execution_count": 342,
     "metadata": {},
     "output_type": "execute_result"
    }
   ],
   "source": [
    "len(CandiPop_Speech.Title)"
   ]
  },
  {
   "cell_type": "code",
   "execution_count": 343,
   "metadata": {},
   "outputs": [
    {
     "data": {
      "text/plain": [
       "count     3494.000000\n",
       "mean      2167.556382\n",
       "std       1369.384238\n",
       "min         25.000000\n",
       "25%       1142.250000\n",
       "50%       1984.000000\n",
       "75%       2905.750000\n",
       "max      11057.000000\n",
       "Name: Speech_len, dtype: float64"
      ]
     },
     "execution_count": 343,
     "metadata": {},
     "output_type": "execute_result"
    }
   ],
   "source": [
    "CandiPop_Speech.Speech_len.describe()"
   ]
  },
  {
   "cell_type": "code",
   "execution_count": 344,
   "metadata": {},
   "outputs": [
    {
     "data": {
      "text/html": [
       "<div>\n",
       "<style scoped>\n",
       "    .dataframe tbody tr th:only-of-type {\n",
       "        vertical-align: middle;\n",
       "    }\n",
       "\n",
       "    .dataframe tbody tr th {\n",
       "        vertical-align: top;\n",
       "    }\n",
       "\n",
       "    .dataframe thead th {\n",
       "        text-align: right;\n",
       "    }\n",
       "</style>\n",
       "<table border=\"1\" class=\"dataframe\">\n",
       "  <thead>\n",
       "    <tr style=\"text-align: right;\">\n",
       "      <th></th>\n",
       "      <th>Candidate</th>\n",
       "      <th>Chanel</th>\n",
       "      <th>City</th>\n",
       "      <th>Year</th>\n",
       "      <th>Month</th>\n",
       "      <th>Day</th>\n",
       "      <th>Speech_index</th>\n",
       "      <th>Title</th>\n",
       "      <th>Type</th>\n",
       "      <th>Pop_prop</th>\n",
       "      <th>SubSpeechCounts</th>\n",
       "      <th>Speech_len</th>\n",
       "      <th>CandiYear</th>\n",
       "    </tr>\n",
       "  </thead>\n",
       "  <tbody>\n",
       "    <tr>\n",
       "      <th>57</th>\n",
       "      <td>Donald J. Trump</td>\n",
       "      <td>NaN</td>\n",
       "      <td>NaN</td>\n",
       "      <td>2016</td>\n",
       "      <td>October</td>\n",
       "      <td>11.0</td>\n",
       "      <td>Speech57</td>\n",
       "      <td>\\nExcerpts of Remarks at Aaron Bessant Park in...</td>\n",
       "      <td>Campaign Documents</td>\n",
       "      <td>1.0</td>\n",
       "      <td>3</td>\n",
       "      <td>1088</td>\n",
       "      <td>Donald J. Trump_2016</td>\n",
       "    </tr>\n",
       "    <tr>\n",
       "      <th>950</th>\n",
       "      <td>John McCain</td>\n",
       "      <td>NaN</td>\n",
       "      <td>NaN</td>\n",
       "      <td>2008</td>\n",
       "      <td>September</td>\n",
       "      <td>18.0</td>\n",
       "      <td>Speech950</td>\n",
       "      <td>\\nRemarks in Cedar Rapids, Iowa\\n</td>\n",
       "      <td>Campaign Documents</td>\n",
       "      <td>1.0</td>\n",
       "      <td>1</td>\n",
       "      <td>982</td>\n",
       "      <td>John McCain_2008</td>\n",
       "    </tr>\n",
       "    <tr>\n",
       "      <th>3477</th>\n",
       "      <td>George Bush</td>\n",
       "      <td>STUMP</td>\n",
       "      <td>Findlay</td>\n",
       "      <td>1992</td>\n",
       "      <td>September</td>\n",
       "      <td>26.0</td>\n",
       "      <td>Speech4353</td>\n",
       "      <td>NaN</td>\n",
       "      <td>SPEECH</td>\n",
       "      <td>1.0</td>\n",
       "      <td>1</td>\n",
       "      <td>306</td>\n",
       "      <td>George Bush_1992</td>\n",
       "    </tr>\n",
       "    <tr>\n",
       "      <th>29</th>\n",
       "      <td>Donald J. Trump</td>\n",
       "      <td>NaN</td>\n",
       "      <td>NaN</td>\n",
       "      <td>2016</td>\n",
       "      <td>October</td>\n",
       "      <td>29.0</td>\n",
       "      <td>Speech29</td>\n",
       "      <td>\\nRemarks at the Jeffco Fairgrounds Event Cent...</td>\n",
       "      <td>Campaign Documents</td>\n",
       "      <td>1.0</td>\n",
       "      <td>4</td>\n",
       "      <td>768</td>\n",
       "      <td>Donald J. Trump_2016</td>\n",
       "    </tr>\n",
       "    <tr>\n",
       "      <th>2538</th>\n",
       "      <td>George McGovern</td>\n",
       "      <td>STUMP</td>\n",
       "      <td>CLEVELAND</td>\n",
       "      <td>1972</td>\n",
       "      <td>October</td>\n",
       "      <td>25.0</td>\n",
       "      <td>Speech3414</td>\n",
       "      <td>NaN</td>\n",
       "      <td>SPEECH</td>\n",
       "      <td>1.0</td>\n",
       "      <td>1</td>\n",
       "      <td>250</td>\n",
       "      <td>George McGovern_1972</td>\n",
       "    </tr>\n",
       "    <tr>\n",
       "      <th>963</th>\n",
       "      <td>Barack Obama</td>\n",
       "      <td>NaN</td>\n",
       "      <td>NaN</td>\n",
       "      <td>2008</td>\n",
       "      <td>September</td>\n",
       "      <td>12.0</td>\n",
       "      <td>Speech963</td>\n",
       "      <td>\\nRemarks in Dover, New Hampshire\\n</td>\n",
       "      <td>Campaign Documents</td>\n",
       "      <td>1.0</td>\n",
       "      <td>2</td>\n",
       "      <td>1834</td>\n",
       "      <td>Barack Obama_2008</td>\n",
       "    </tr>\n",
       "    <tr>\n",
       "      <th>962</th>\n",
       "      <td>John McCain</td>\n",
       "      <td>NaN</td>\n",
       "      <td>NaN</td>\n",
       "      <td>2008</td>\n",
       "      <td>September</td>\n",
       "      <td>13.0</td>\n",
       "      <td>Speech962</td>\n",
       "      <td>\\nSenator McCain's Weekly Radio Address\\n</td>\n",
       "      <td>Campaign Documents</td>\n",
       "      <td>1.0</td>\n",
       "      <td>1</td>\n",
       "      <td>742</td>\n",
       "      <td>John McCain_2008</td>\n",
       "    </tr>\n",
       "    <tr>\n",
       "      <th>901</th>\n",
       "      <td>Barack Obama</td>\n",
       "      <td>NaN</td>\n",
       "      <td>NaN</td>\n",
       "      <td>2008</td>\n",
       "      <td>October</td>\n",
       "      <td>11.0</td>\n",
       "      <td>Speech901</td>\n",
       "      <td>\\nRemarks in Philadelphia, Pennsylvania\\n</td>\n",
       "      <td>Campaign Documents</td>\n",
       "      <td>1.0</td>\n",
       "      <td>2</td>\n",
       "      <td>1560</td>\n",
       "      <td>Barack Obama_2008</td>\n",
       "    </tr>\n",
       "    <tr>\n",
       "      <th>1651</th>\n",
       "      <td>John F. Kerry</td>\n",
       "      <td>NaN</td>\n",
       "      <td>NaN</td>\n",
       "      <td>2004</td>\n",
       "      <td>March</td>\n",
       "      <td>9.0</td>\n",
       "      <td>Speech1651</td>\n",
       "      <td>\\nRemarks Following the Florida, Louisiana, Mi...</td>\n",
       "      <td>Campaign Documents</td>\n",
       "      <td>1.0</td>\n",
       "      <td>1</td>\n",
       "      <td>652</td>\n",
       "      <td>John F. Kerry_2004</td>\n",
       "    </tr>\n",
       "    <tr>\n",
       "      <th>2318</th>\n",
       "      <td>Hubert H. Humphrey</td>\n",
       "      <td>STUMP</td>\n",
       "      <td>WATTS</td>\n",
       "      <td>1968</td>\n",
       "      <td>October</td>\n",
       "      <td>23.0</td>\n",
       "      <td>Speech3194</td>\n",
       "      <td>NaN</td>\n",
       "      <td>SPEECH</td>\n",
       "      <td>1.0</td>\n",
       "      <td>1</td>\n",
       "      <td>409</td>\n",
       "      <td>Hubert H. Humphrey_1968</td>\n",
       "    </tr>\n",
       "  </tbody>\n",
       "</table>\n",
       "</div>"
      ],
      "text/plain": [
       "               Candidate Chanel       City  Year      Month   Day  \\\n",
       "57       Donald J. Trump    NaN        NaN  2016    October  11.0   \n",
       "950          John McCain    NaN        NaN  2008  September  18.0   \n",
       "3477         George Bush  STUMP    Findlay  1992  September  26.0   \n",
       "29       Donald J. Trump    NaN        NaN  2016    October  29.0   \n",
       "2538     George McGovern  STUMP  CLEVELAND  1972    October  25.0   \n",
       "963         Barack Obama    NaN        NaN  2008  September  12.0   \n",
       "962          John McCain    NaN        NaN  2008  September  13.0   \n",
       "901         Barack Obama    NaN        NaN  2008    October  11.0   \n",
       "1651       John F. Kerry    NaN        NaN  2004      March   9.0   \n",
       "2318  Hubert H. Humphrey  STUMP      WATTS  1968    October  23.0   \n",
       "\n",
       "     Speech_index                                              Title  \\\n",
       "57       Speech57  \\nExcerpts of Remarks at Aaron Bessant Park in...   \n",
       "950     Speech950                  \\nRemarks in Cedar Rapids, Iowa\\n   \n",
       "3477   Speech4353                                                NaN   \n",
       "29       Speech29  \\nRemarks at the Jeffco Fairgrounds Event Cent...   \n",
       "2538   Speech3414                                                NaN   \n",
       "963     Speech963                \\nRemarks in Dover, New Hampshire\\n   \n",
       "962     Speech962          \\nSenator McCain's Weekly Radio Address\\n   \n",
       "901     Speech901          \\nRemarks in Philadelphia, Pennsylvania\\n   \n",
       "1651   Speech1651  \\nRemarks Following the Florida, Louisiana, Mi...   \n",
       "2318   Speech3194                                                NaN   \n",
       "\n",
       "                    Type  Pop_prop  SubSpeechCounts  Speech_len  \\\n",
       "57    Campaign Documents       1.0                3        1088   \n",
       "950   Campaign Documents       1.0                1         982   \n",
       "3477              SPEECH       1.0                1         306   \n",
       "29    Campaign Documents       1.0                4         768   \n",
       "2538              SPEECH       1.0                1         250   \n",
       "963   Campaign Documents       1.0                2        1834   \n",
       "962   Campaign Documents       1.0                1         742   \n",
       "901   Campaign Documents       1.0                2        1560   \n",
       "1651  Campaign Documents       1.0                1         652   \n",
       "2318              SPEECH       1.0                1         409   \n",
       "\n",
       "                    CandiYear  \n",
       "57       Donald J. Trump_2016  \n",
       "950          John McCain_2008  \n",
       "3477         George Bush_1992  \n",
       "29       Donald J. Trump_2016  \n",
       "2538     George McGovern_1972  \n",
       "963         Barack Obama_2008  \n",
       "962          John McCain_2008  \n",
       "901         Barack Obama_2008  \n",
       "1651       John F. Kerry_2004  \n",
       "2318  Hubert H. Humphrey_1968  "
      ]
     },
     "execution_count": 344,
     "metadata": {},
     "output_type": "execute_result"
    }
   ],
   "source": [
    "CandiPop_Speech.sort_values(by=['Pop_prop'], ascending=False).head(10)"
   ]
  },
  {
   "cell_type": "code",
   "execution_count": 75,
   "metadata": {},
   "outputs": [],
   "source": [
    "CandiPop_Speech.to_csv(\"Speech_Level_Pop_MajorCand.csv\", index = False)"
   ]
  },
  {
   "cell_type": "code",
   "execution_count": 345,
   "metadata": {},
   "outputs": [],
   "source": [
    "CandiPop_Speech.to_csv(\"Speech_Level_Pop_MajorCand_new.csv\", index = False)"
   ]
  },
  {
   "cell_type": "markdown",
   "metadata": {},
   "source": [
    "## Candidate level"
   ]
  },
  {
   "cell_type": "code",
   "execution_count": 346,
   "metadata": {},
   "outputs": [],
   "source": [
    "CandiPop = SubSpeech_predicted.groupby(['Candidate','Year']).Pop_class.mean().reset_index()"
   ]
  },
  {
   "cell_type": "code",
   "execution_count": 347,
   "metadata": {},
   "outputs": [],
   "source": [
    "CandiCounts = SubSpeech_predicted.groupby(['Candidate','Year']).Subspeech_index.count().reset_index()"
   ]
  },
  {
   "cell_type": "code",
   "execution_count": 348,
   "metadata": {},
   "outputs": [],
   "source": [
    "CandiSpeechCounts = Speech.groupby(['Candidate','Year']).Speech_index.count().reset_index()"
   ]
  },
  {
   "cell_type": "code",
   "execution_count": 349,
   "metadata": {},
   "outputs": [
    {
     "data": {
      "text/html": [
       "<div>\n",
       "<style scoped>\n",
       "    .dataframe tbody tr th:only-of-type {\n",
       "        vertical-align: middle;\n",
       "    }\n",
       "\n",
       "    .dataframe tbody tr th {\n",
       "        vertical-align: top;\n",
       "    }\n",
       "\n",
       "    .dataframe thead th {\n",
       "        text-align: right;\n",
       "    }\n",
       "</style>\n",
       "<table border=\"1\" class=\"dataframe\">\n",
       "  <thead>\n",
       "    <tr style=\"text-align: right;\">\n",
       "      <th></th>\n",
       "      <th>Candidate</th>\n",
       "      <th>Year</th>\n",
       "      <th>Pop_class</th>\n",
       "      <th>Subspeech_index</th>\n",
       "      <th>Speech_index</th>\n",
       "    </tr>\n",
       "  </thead>\n",
       "  <tbody>\n",
       "    <tr>\n",
       "      <th>0</th>\n",
       "      <td>Adlai Stevenson</td>\n",
       "      <td>1952</td>\n",
       "      <td>0.000000</td>\n",
       "      <td>409</td>\n",
       "      <td>186</td>\n",
       "    </tr>\n",
       "    <tr>\n",
       "      <th>1</th>\n",
       "      <td>Adlai Stevenson</td>\n",
       "      <td>1956</td>\n",
       "      <td>0.012097</td>\n",
       "      <td>248</td>\n",
       "      <td>75</td>\n",
       "    </tr>\n",
       "    <tr>\n",
       "      <th>2</th>\n",
       "      <td>Al Smith</td>\n",
       "      <td>1928</td>\n",
       "      <td>0.000000</td>\n",
       "      <td>9</td>\n",
       "      <td>1</td>\n",
       "    </tr>\n",
       "    <tr>\n",
       "      <th>3</th>\n",
       "      <td>Albert Gore, Jr.</td>\n",
       "      <td>1999</td>\n",
       "      <td>0.000000</td>\n",
       "      <td>7</td>\n",
       "      <td>1</td>\n",
       "    </tr>\n",
       "    <tr>\n",
       "      <th>4</th>\n",
       "      <td>Albert Gore, Jr.</td>\n",
       "      <td>2000</td>\n",
       "      <td>0.021277</td>\n",
       "      <td>188</td>\n",
       "      <td>14</td>\n",
       "    </tr>\n",
       "  </tbody>\n",
       "</table>\n",
       "</div>"
      ],
      "text/plain": [
       "          Candidate  Year  Pop_class  Subspeech_index  Speech_index\n",
       "0   Adlai Stevenson  1952   0.000000              409           186\n",
       "1   Adlai Stevenson  1956   0.012097              248            75\n",
       "2          Al Smith  1928   0.000000                9             1\n",
       "3  Albert Gore, Jr.  1999   0.000000                7             1\n",
       "4  Albert Gore, Jr.  2000   0.021277              188            14"
      ]
     },
     "execution_count": 349,
     "metadata": {},
     "output_type": "execute_result"
    }
   ],
   "source": [
    "CandiPop = CandiPop.merge(CandiCounts).merge(CandiSpeechCounts)\n",
    "CandiPop.head()"
   ]
  },
  {
   "cell_type": "code",
   "execution_count": 350,
   "metadata": {},
   "outputs": [
    {
     "data": {
      "text/plain": [
       "164"
      ]
     },
     "execution_count": 350,
     "metadata": {},
     "output_type": "execute_result"
    }
   ],
   "source": [
    "len(CandiPop.Subspeech_index)"
   ]
  },
  {
   "cell_type": "code",
   "execution_count": 351,
   "metadata": {},
   "outputs": [],
   "source": [
    "CandiPop.rename(columns={'Pop_class': 'Pop_prop', 'Subspeech_index': 'Subspeech_counts', 'Speech_index': 'Speech_counts' }, \n",
    "                      inplace = True)"
   ]
  },
  {
   "cell_type": "code",
   "execution_count": 94,
   "metadata": {},
   "outputs": [],
   "source": [
    "CandiPop.to_csv('AllCandidateLevel.csv', index=False)"
   ]
  },
  {
   "cell_type": "markdown",
   "metadata": {},
   "source": [
    "## Select final candidates"
   ]
  },
  {
   "cell_type": "code",
   "execution_count": 5,
   "metadata": {},
   "outputs": [],
   "source": [
    "CandiPop = pd.read_csv('AllCandidateLevel.csv')"
   ]
  },
  {
   "cell_type": "code",
   "execution_count": 352,
   "metadata": {},
   "outputs": [],
   "source": [
    "CanditateYear = Polls.Candidate + '_' + Polls.Year.astype(str)"
   ]
  },
  {
   "cell_type": "code",
   "execution_count": 83,
   "metadata": {},
   "outputs": [],
   "source": [
    "#CandiPop[CandiPop.Speech_index >5].sort_values('Pop_class').tail(30)"
   ]
  },
  {
   "cell_type": "code",
   "execution_count": 353,
   "metadata": {},
   "outputs": [],
   "source": [
    "CandiPop['CandiYear'] = CandiPop.Candidate + '_' + CandiPop.Year.astype(str) "
   ]
  },
  {
   "cell_type": "code",
   "execution_count": 354,
   "metadata": {},
   "outputs": [],
   "source": [
    "CandiPop_final = CandiPop[CandiPop.CandiYear.isin(CanditateYear)]"
   ]
  },
  {
   "cell_type": "code",
   "execution_count": 355,
   "metadata": {},
   "outputs": [
    {
     "name": "stderr",
     "output_type": "stream",
     "text": [
      "//anaconda3/lib/python3.7/site-packages/pandas/core/frame.py:4025: SettingWithCopyWarning: \n",
      "A value is trying to be set on a copy of a slice from a DataFrame\n",
      "\n",
      "See the caveats in the documentation: http://pandas.pydata.org/pandas-docs/stable/indexing.html#indexing-view-versus-copy\n",
      "  return super(DataFrame, self).rename(**kwargs)\n"
     ]
    }
   ],
   "source": [
    "CandiPop_final.rename(columns={'Pop_class': 'Pop_prop', 'Subspeech_index': 'Subspeech_counts', 'Speech_index': 'Speech_counts' }, \n",
    "                      inplace = True)"
   ]
  },
  {
   "cell_type": "code",
   "execution_count": 356,
   "metadata": {},
   "outputs": [
    {
     "data": {
      "text/html": [
       "<div>\n",
       "<style scoped>\n",
       "    .dataframe tbody tr th:only-of-type {\n",
       "        vertical-align: middle;\n",
       "    }\n",
       "\n",
       "    .dataframe tbody tr th {\n",
       "        vertical-align: top;\n",
       "    }\n",
       "\n",
       "    .dataframe thead th {\n",
       "        text-align: right;\n",
       "    }\n",
       "</style>\n",
       "<table border=\"1\" class=\"dataframe\">\n",
       "  <thead>\n",
       "    <tr style=\"text-align: right;\">\n",
       "      <th></th>\n",
       "      <th>Candidate</th>\n",
       "      <th>Year</th>\n",
       "      <th>Pop_prop</th>\n",
       "      <th>Subspeech_counts</th>\n",
       "      <th>Speech_counts</th>\n",
       "      <th>CandiYear</th>\n",
       "    </tr>\n",
       "  </thead>\n",
       "  <tbody>\n",
       "    <tr>\n",
       "      <th>34</th>\n",
       "      <td>Donald J. Trump</td>\n",
       "      <td>2016</td>\n",
       "      <td>0.313725</td>\n",
       "      <td>816</td>\n",
       "      <td>75</td>\n",
       "      <td>Donald J. Trump_2016</td>\n",
       "    </tr>\n",
       "    <tr>\n",
       "      <th>8</th>\n",
       "      <td>Barack Obama</td>\n",
       "      <td>2008</td>\n",
       "      <td>0.132184</td>\n",
       "      <td>870</td>\n",
       "      <td>185</td>\n",
       "      <td>Barack Obama_2008</td>\n",
       "    </tr>\n",
       "    <tr>\n",
       "      <th>48</th>\n",
       "      <td>George McGovern</td>\n",
       "      <td>1972</td>\n",
       "      <td>0.070312</td>\n",
       "      <td>256</td>\n",
       "      <td>98</td>\n",
       "      <td>George McGovern_1972</td>\n",
       "    </tr>\n",
       "    <tr>\n",
       "      <th>99</th>\n",
       "      <td>Michael S. Dukakis</td>\n",
       "      <td>1988</td>\n",
       "      <td>0.046154</td>\n",
       "      <td>260</td>\n",
       "      <td>66</td>\n",
       "      <td>Michael S. Dukakis_1988</td>\n",
       "    </tr>\n",
       "    <tr>\n",
       "      <th>88</th>\n",
       "      <td>John McCain</td>\n",
       "      <td>2008</td>\n",
       "      <td>0.043924</td>\n",
       "      <td>683</td>\n",
       "      <td>143</td>\n",
       "      <td>John McCain_2008</td>\n",
       "    </tr>\n",
       "    <tr>\n",
       "      <th>82</th>\n",
       "      <td>John F. Kerry</td>\n",
       "      <td>2004</td>\n",
       "      <td>0.036675</td>\n",
       "      <td>409</td>\n",
       "      <td>88</td>\n",
       "      <td>John F. Kerry_2004</td>\n",
       "    </tr>\n",
       "    <tr>\n",
       "      <th>150</th>\n",
       "      <td>Walter F. Mondale</td>\n",
       "      <td>1984</td>\n",
       "      <td>0.029046</td>\n",
       "      <td>241</td>\n",
       "      <td>67</td>\n",
       "      <td>Walter F. Mondale_1984</td>\n",
       "    </tr>\n",
       "    <tr>\n",
       "      <th>12</th>\n",
       "      <td>Barack Obama</td>\n",
       "      <td>2012</td>\n",
       "      <td>0.026902</td>\n",
       "      <td>1078</td>\n",
       "      <td>205</td>\n",
       "      <td>Barack Obama_2012</td>\n",
       "    </tr>\n",
       "    <tr>\n",
       "      <th>4</th>\n",
       "      <td>Albert Gore, Jr.</td>\n",
       "      <td>2000</td>\n",
       "      <td>0.021277</td>\n",
       "      <td>188</td>\n",
       "      <td>14</td>\n",
       "      <td>Albert Gore, Jr._2000</td>\n",
       "    </tr>\n",
       "    <tr>\n",
       "      <th>68</th>\n",
       "      <td>Jimmy Carter</td>\n",
       "      <td>1976</td>\n",
       "      <td>0.019737</td>\n",
       "      <td>152</td>\n",
       "      <td>55</td>\n",
       "      <td>Jimmy Carter_1976</td>\n",
       "    </tr>\n",
       "    <tr>\n",
       "      <th>156</th>\n",
       "      <td>William J. Clinton</td>\n",
       "      <td>1992</td>\n",
       "      <td>0.012780</td>\n",
       "      <td>313</td>\n",
       "      <td>76</td>\n",
       "      <td>William J. Clinton_1992</td>\n",
       "    </tr>\n",
       "    <tr>\n",
       "      <th>45</th>\n",
       "      <td>George Bush</td>\n",
       "      <td>1992</td>\n",
       "      <td>0.012195</td>\n",
       "      <td>328</td>\n",
       "      <td>126</td>\n",
       "      <td>George Bush_1992</td>\n",
       "    </tr>\n",
       "  </tbody>\n",
       "</table>\n",
       "</div>"
      ],
      "text/plain": [
       "              Candidate  Year  Pop_prop  Subspeech_counts  Speech_counts  \\\n",
       "34      Donald J. Trump  2016  0.313725               816             75   \n",
       "8          Barack Obama  2008  0.132184               870            185   \n",
       "48      George McGovern  1972  0.070312               256             98   \n",
       "99   Michael S. Dukakis  1988  0.046154               260             66   \n",
       "88          John McCain  2008  0.043924               683            143   \n",
       "82        John F. Kerry  2004  0.036675               409             88   \n",
       "150   Walter F. Mondale  1984  0.029046               241             67   \n",
       "12         Barack Obama  2012  0.026902              1078            205   \n",
       "4      Albert Gore, Jr.  2000  0.021277               188             14   \n",
       "68         Jimmy Carter  1976  0.019737               152             55   \n",
       "156  William J. Clinton  1992  0.012780               313             76   \n",
       "45          George Bush  1992  0.012195               328            126   \n",
       "\n",
       "                   CandiYear  \n",
       "34      Donald J. Trump_2016  \n",
       "8          Barack Obama_2008  \n",
       "48      George McGovern_1972  \n",
       "99   Michael S. Dukakis_1988  \n",
       "88          John McCain_2008  \n",
       "82        John F. Kerry_2004  \n",
       "150   Walter F. Mondale_1984  \n",
       "12         Barack Obama_2012  \n",
       "4      Albert Gore, Jr._2000  \n",
       "68         Jimmy Carter_1976  \n",
       "156  William J. Clinton_1992  \n",
       "45          George Bush_1992  "
      ]
     },
     "execution_count": 356,
     "metadata": {},
     "output_type": "execute_result"
    }
   ],
   "source": [
    "CandiPop_final.sort_values('Pop_prop', ascending= False).head(12)"
   ]
  },
  {
   "cell_type": "code",
   "execution_count": 357,
   "metadata": {},
   "outputs": [
    {
     "data": {
      "text/html": [
       "<div>\n",
       "<style scoped>\n",
       "    .dataframe tbody tr th:only-of-type {\n",
       "        vertical-align: middle;\n",
       "    }\n",
       "\n",
       "    .dataframe tbody tr th {\n",
       "        vertical-align: top;\n",
       "    }\n",
       "\n",
       "    .dataframe thead th {\n",
       "        text-align: right;\n",
       "    }\n",
       "</style>\n",
       "<table border=\"1\" class=\"dataframe\">\n",
       "  <thead>\n",
       "    <tr style=\"text-align: right;\">\n",
       "      <th></th>\n",
       "      <th>Candidate</th>\n",
       "      <th>Year</th>\n",
       "      <th>Pop_prop</th>\n",
       "      <th>Subspeech_counts</th>\n",
       "      <th>Speech_counts</th>\n",
       "      <th>CandiYear</th>\n",
       "    </tr>\n",
       "  </thead>\n",
       "  <tbody>\n",
       "    <tr>\n",
       "      <th>48</th>\n",
       "      <td>George McGovern</td>\n",
       "      <td>1972</td>\n",
       "      <td>0.070312</td>\n",
       "      <td>256</td>\n",
       "      <td>98</td>\n",
       "      <td>George McGovern_1972</td>\n",
       "    </tr>\n",
       "    <tr>\n",
       "      <th>99</th>\n",
       "      <td>Michael S. Dukakis</td>\n",
       "      <td>1988</td>\n",
       "      <td>0.046154</td>\n",
       "      <td>260</td>\n",
       "      <td>66</td>\n",
       "      <td>Michael S. Dukakis_1988</td>\n",
       "    </tr>\n",
       "    <tr>\n",
       "      <th>150</th>\n",
       "      <td>Walter F. Mondale</td>\n",
       "      <td>1984</td>\n",
       "      <td>0.029046</td>\n",
       "      <td>241</td>\n",
       "      <td>67</td>\n",
       "      <td>Walter F. Mondale_1984</td>\n",
       "    </tr>\n",
       "    <tr>\n",
       "      <th>68</th>\n",
       "      <td>Jimmy Carter</td>\n",
       "      <td>1976</td>\n",
       "      <td>0.019737</td>\n",
       "      <td>152</td>\n",
       "      <td>55</td>\n",
       "      <td>Jimmy Carter_1976</td>\n",
       "    </tr>\n",
       "    <tr>\n",
       "      <th>156</th>\n",
       "      <td>William J. Clinton</td>\n",
       "      <td>1992</td>\n",
       "      <td>0.012780</td>\n",
       "      <td>313</td>\n",
       "      <td>76</td>\n",
       "      <td>William J. Clinton_1992</td>\n",
       "    </tr>\n",
       "    <tr>\n",
       "      <th>45</th>\n",
       "      <td>George Bush</td>\n",
       "      <td>1992</td>\n",
       "      <td>0.012195</td>\n",
       "      <td>328</td>\n",
       "      <td>126</td>\n",
       "      <td>George Bush_1992</td>\n",
       "    </tr>\n",
       "    <tr>\n",
       "      <th>1</th>\n",
       "      <td>Adlai Stevenson</td>\n",
       "      <td>1956</td>\n",
       "      <td>0.012097</td>\n",
       "      <td>248</td>\n",
       "      <td>75</td>\n",
       "      <td>Adlai Stevenson_1956</td>\n",
       "    </tr>\n",
       "    <tr>\n",
       "      <th>126</th>\n",
       "      <td>Robert Dole</td>\n",
       "      <td>1996</td>\n",
       "      <td>0.008818</td>\n",
       "      <td>567</td>\n",
       "      <td>111</td>\n",
       "      <td>Robert Dole_1996</td>\n",
       "    </tr>\n",
       "    <tr>\n",
       "      <th>117</th>\n",
       "      <td>Richard Nixon</td>\n",
       "      <td>1968</td>\n",
       "      <td>0.005618</td>\n",
       "      <td>356</td>\n",
       "      <td>67</td>\n",
       "      <td>Richard Nixon_1968</td>\n",
       "    </tr>\n",
       "    <tr>\n",
       "      <th>63</th>\n",
       "      <td>Hubert H. Humphrey</td>\n",
       "      <td>1968</td>\n",
       "      <td>0.004032</td>\n",
       "      <td>744</td>\n",
       "      <td>154</td>\n",
       "      <td>Hubert H. Humphrey_1968</td>\n",
       "    </tr>\n",
       "    <tr>\n",
       "      <th>36</th>\n",
       "      <td>Dwight Eisenhower</td>\n",
       "      <td>1952</td>\n",
       "      <td>0.002445</td>\n",
       "      <td>409</td>\n",
       "      <td>230</td>\n",
       "      <td>Dwight Eisenhower_1952</td>\n",
       "    </tr>\n",
       "    <tr>\n",
       "      <th>118</th>\n",
       "      <td>Richard Nixon</td>\n",
       "      <td>1972</td>\n",
       "      <td>0.000000</td>\n",
       "      <td>137</td>\n",
       "      <td>59</td>\n",
       "      <td>Richard Nixon_1972</td>\n",
       "    </tr>\n",
       "  </tbody>\n",
       "</table>\n",
       "</div>"
      ],
      "text/plain": [
       "              Candidate  Year  Pop_prop  Subspeech_counts  Speech_counts  \\\n",
       "48      George McGovern  1972  0.070312               256             98   \n",
       "99   Michael S. Dukakis  1988  0.046154               260             66   \n",
       "150   Walter F. Mondale  1984  0.029046               241             67   \n",
       "68         Jimmy Carter  1976  0.019737               152             55   \n",
       "156  William J. Clinton  1992  0.012780               313             76   \n",
       "45          George Bush  1992  0.012195               328            126   \n",
       "1       Adlai Stevenson  1956  0.012097               248             75   \n",
       "126         Robert Dole  1996  0.008818               567            111   \n",
       "117       Richard Nixon  1968  0.005618               356             67   \n",
       "63   Hubert H. Humphrey  1968  0.004032               744            154   \n",
       "36    Dwight Eisenhower  1952  0.002445               409            230   \n",
       "118       Richard Nixon  1972  0.000000               137             59   \n",
       "\n",
       "                   CandiYear  \n",
       "48      George McGovern_1972  \n",
       "99   Michael S. Dukakis_1988  \n",
       "150   Walter F. Mondale_1984  \n",
       "68         Jimmy Carter_1976  \n",
       "156  William J. Clinton_1992  \n",
       "45          George Bush_1992  \n",
       "1       Adlai Stevenson_1956  \n",
       "126         Robert Dole_1996  \n",
       "117       Richard Nixon_1968  \n",
       "63   Hubert H. Humphrey_1968  \n",
       "36    Dwight Eisenhower_1952  \n",
       "118       Richard Nixon_1972  "
      ]
     },
     "execution_count": 357,
     "metadata": {},
     "output_type": "execute_result"
    }
   ],
   "source": [
    "CandiPop_final[CandiPop_final.Year <=1996].sort_values('Pop_prop', ascending= False).head(12)"
   ]
  },
  {
   "cell_type": "code",
   "execution_count": 358,
   "metadata": {
    "scrolled": false
   },
   "outputs": [
    {
     "data": {
      "text/plain": [
       "Year\n",
       "1936    0.000000\n",
       "1940    0.000000\n",
       "1944    0.000000\n",
       "1948    0.000000\n",
       "1952    0.001222\n",
       "1956    0.006048\n",
       "1960    0.000000\n",
       "1964    0.000000\n",
       "1968    0.004825\n",
       "1972    0.035156\n",
       "1976    0.009868\n",
       "1980    0.000000\n",
       "1984    0.014523\n",
       "1988    0.023077\n",
       "1992    0.008325\n",
       "1996    0.004409\n",
       "2000    0.010638\n",
       "2004    0.018337\n",
       "2008    0.088054\n",
       "2012    0.016363\n",
       "2016    0.160613\n",
       "Name: Pop_prop, dtype: float64"
      ]
     },
     "execution_count": 358,
     "metadata": {},
     "output_type": "execute_result"
    }
   ],
   "source": [
    "CandiPop_final.groupby(['Year']).Pop_prop.mean()"
   ]
  },
  {
   "cell_type": "code",
   "execution_count": 134,
   "metadata": {},
   "outputs": [],
   "source": [
    "CandiPop_final.to_csv('CandidateMerged_Level.csv', index= False)"
   ]
  },
  {
   "cell_type": "code",
   "execution_count": 359,
   "metadata": {},
   "outputs": [],
   "source": [
    "CandiPop_final.to_csv('CandidateMerged_Level_new.csv', index= False)"
   ]
  },
  {
   "cell_type": "code",
   "execution_count": 315,
   "metadata": {},
   "outputs": [],
   "source": [
    "CandiPop_final = pd.read_csv('CandidateMerged_Level_new.csv') "
   ]
  },
  {
   "cell_type": "markdown",
   "metadata": {},
   "source": [
    "## Candidate Month"
   ]
  },
  {
   "cell_type": "code",
   "execution_count": 360,
   "metadata": {},
   "outputs": [
    {
     "data": {
      "text/plain": [
       "array(['November', 'October', 'September', 'August', 'July', 'June',\n",
       "       'March', 'May', 'April', 'February', 'January', 'December', nan],\n",
       "      dtype=object)"
      ]
     },
     "execution_count": 360,
     "metadata": {},
     "output_type": "execute_result"
    }
   ],
   "source": [
    "SubSpeech_predicted.Month.unique()"
   ]
  },
  {
   "cell_type": "code",
   "execution_count": 361,
   "metadata": {},
   "outputs": [],
   "source": [
    "CandiPopMonth = SubSpeech_predicted.groupby(['Candidate','Year','Month']).Pop_class.mean().reset_index()"
   ]
  },
  {
   "cell_type": "code",
   "execution_count": 362,
   "metadata": {},
   "outputs": [],
   "source": [
    "CandiCountsMonth = SubSpeech_predicted.groupby(['Candidate','Year', 'Month']).Subspeech_index.count().reset_index()"
   ]
  },
  {
   "cell_type": "code",
   "execution_count": 363,
   "metadata": {},
   "outputs": [],
   "source": [
    "CandiSpeechCountsMonth = Speech.groupby(['Candidate','Year','Month']).Speech_index.count().reset_index()"
   ]
  },
  {
   "cell_type": "code",
   "execution_count": 364,
   "metadata": {},
   "outputs": [
    {
     "data": {
      "text/html": [
       "<div>\n",
       "<style scoped>\n",
       "    .dataframe tbody tr th:only-of-type {\n",
       "        vertical-align: middle;\n",
       "    }\n",
       "\n",
       "    .dataframe tbody tr th {\n",
       "        vertical-align: top;\n",
       "    }\n",
       "\n",
       "    .dataframe thead th {\n",
       "        text-align: right;\n",
       "    }\n",
       "</style>\n",
       "<table border=\"1\" class=\"dataframe\">\n",
       "  <thead>\n",
       "    <tr style=\"text-align: right;\">\n",
       "      <th></th>\n",
       "      <th>Candidate</th>\n",
       "      <th>Year</th>\n",
       "      <th>Month</th>\n",
       "      <th>Pop_class</th>\n",
       "      <th>Subspeech_index</th>\n",
       "      <th>Speech_index</th>\n",
       "    </tr>\n",
       "  </thead>\n",
       "  <tbody>\n",
       "    <tr>\n",
       "      <th>0</th>\n",
       "      <td>Adlai Stevenson</td>\n",
       "      <td>1952</td>\n",
       "      <td>August</td>\n",
       "      <td>0.0</td>\n",
       "      <td>10</td>\n",
       "      <td>4</td>\n",
       "    </tr>\n",
       "    <tr>\n",
       "      <th>1</th>\n",
       "      <td>Adlai Stevenson</td>\n",
       "      <td>1952</td>\n",
       "      <td>July</td>\n",
       "      <td>0.0</td>\n",
       "      <td>3</td>\n",
       "      <td>2</td>\n",
       "    </tr>\n",
       "    <tr>\n",
       "      <th>2</th>\n",
       "      <td>Adlai Stevenson</td>\n",
       "      <td>1952</td>\n",
       "      <td>November</td>\n",
       "      <td>0.0</td>\n",
       "      <td>10</td>\n",
       "      <td>4</td>\n",
       "    </tr>\n",
       "    <tr>\n",
       "      <th>3</th>\n",
       "      <td>Adlai Stevenson</td>\n",
       "      <td>1952</td>\n",
       "      <td>October</td>\n",
       "      <td>0.0</td>\n",
       "      <td>271</td>\n",
       "      <td>124</td>\n",
       "    </tr>\n",
       "    <tr>\n",
       "      <th>4</th>\n",
       "      <td>Adlai Stevenson</td>\n",
       "      <td>1952</td>\n",
       "      <td>September</td>\n",
       "      <td>0.0</td>\n",
       "      <td>109</td>\n",
       "      <td>46</td>\n",
       "    </tr>\n",
       "  </tbody>\n",
       "</table>\n",
       "</div>"
      ],
      "text/plain": [
       "         Candidate  Year      Month  Pop_class  Subspeech_index  Speech_index\n",
       "0  Adlai Stevenson  1952     August        0.0               10             4\n",
       "1  Adlai Stevenson  1952       July        0.0                3             2\n",
       "2  Adlai Stevenson  1952   November        0.0               10             4\n",
       "3  Adlai Stevenson  1952    October        0.0              271           124\n",
       "4  Adlai Stevenson  1952  September        0.0              109            46"
      ]
     },
     "execution_count": 364,
     "metadata": {},
     "output_type": "execute_result"
    }
   ],
   "source": [
    "CandiPopMonth = CandiPopMonth.merge(CandiCountsMonth).merge(CandiSpeechCountsMonth)\n",
    "CandiPopMonth.head()"
   ]
  },
  {
   "cell_type": "code",
   "execution_count": 365,
   "metadata": {},
   "outputs": [],
   "source": [
    "CandiPopMonth.rename(columns={'Pop_class': 'Pop_prop', 'Subspeech_index': 'Subspeech_counts', 'Speech_index': 'Speech_counts' }, \n",
    "                      inplace = True)"
   ]
  },
  {
   "cell_type": "code",
   "execution_count": 366,
   "metadata": {},
   "outputs": [],
   "source": [
    "CandiPopMonth['CandiYear'] = CandiPopMonth.Candidate + '_' + CandiPopMonth.Year.astype(str) "
   ]
  },
  {
   "cell_type": "code",
   "execution_count": 367,
   "metadata": {},
   "outputs": [],
   "source": [
    "CandiPopMonth = CandiPopMonth[CandiPopMonth.CandiYear.isin(CanditateYear)]"
   ]
  },
  {
   "cell_type": "code",
   "execution_count": 132,
   "metadata": {},
   "outputs": [],
   "source": [
    "CandiPopMonth.to_csv('CandidateYearMonth_Level_Pop.csv', index=False)"
   ]
  },
  {
   "cell_type": "code",
   "execution_count": 368,
   "metadata": {},
   "outputs": [],
   "source": [
    "CandiPopMonth.to_csv('CandidateYearMonth_Level_Pop_new.csv', index=False)"
   ]
  },
  {
   "cell_type": "markdown",
   "metadata": {},
   "source": [
    "## Average Year Level "
   ]
  },
  {
   "cell_type": "code",
   "execution_count": 179,
   "metadata": {},
   "outputs": [],
   "source": [
    "PopYear_level = SubSpeech_predicted.groupby(['Year']).Pop_class.mean().reset_index()"
   ]
  },
  {
   "cell_type": "code",
   "execution_count": 181,
   "metadata": {},
   "outputs": [
    {
     "data": {
      "text/plain": [
       "count    48.000000\n",
       "mean      0.017818\n",
       "std       0.042235\n",
       "min       0.000000\n",
       "25%       0.000000\n",
       "50%       0.000000\n",
       "75%       0.012120\n",
       "max       0.184961\n",
       "Name: Pop_class, dtype: float64"
      ]
     },
     "execution_count": 181,
     "metadata": {},
     "output_type": "execute_result"
    }
   ],
   "source": [
    "PopYear_level.Pop_class.describe()"
   ]
  },
  {
   "cell_type": "code",
   "execution_count": 182,
   "metadata": {},
   "outputs": [],
   "source": [
    "PopYear_level.to_csv('PopYear_level.csv', index =False)"
   ]
  },
  {
   "cell_type": "code",
   "execution_count": null,
   "metadata": {},
   "outputs": [],
   "source": []
  }
 ],
 "metadata": {
  "kernelspec": {
   "display_name": "Python 3",
   "language": "python",
   "name": "python3"
  },
  "language_info": {
   "codemirror_mode": {
    "name": "ipython",
    "version": 3
   },
   "file_extension": ".py",
   "mimetype": "text/x-python",
   "name": "python",
   "nbconvert_exporter": "python",
   "pygments_lexer": "ipython3",
   "version": "3.7.3"
  }
 },
 "nbformat": 4,
 "nbformat_minor": 2
}
