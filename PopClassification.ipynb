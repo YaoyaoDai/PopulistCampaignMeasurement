{
 "cells": [
  {
   "cell_type": "code",
   "execution_count": 1,
   "metadata": {},
   "outputs": [],
   "source": [
    "from gensim.models.doc2vec import Doc2Vec, TaggedDocument\n",
    "from gensim.models.deprecated.doc2vec import LabeledSentence\n",
    "from gensim.models.word2vec import Word2Vec\n",
    "from gensim.models.phrases import Phraser, Phrases\n",
    "from gensim.parsing.porter import PorterStemmer\n",
    "from gensim.parsing.preprocessing import STOPWORDS\n",
    "import pandas as pd\n",
    "import numpy as np\n",
    "\n",
    "from sklearn.ensemble import GradientBoostingClassifier, RandomForestClassifier\n",
    "from sklearn.model_selection import train_test_split, KFold, cross_val_score, GridSearchCV\n",
    "from sklearn import metrics\n",
    "#from sklearn.grid_search import GridSearchCV\n",
    "from sklearn.calibration import CalibratedClassifierCV\n",
    "from sklearn.metrics import confusion_matrix\n",
    "from sklearn.feature_extraction.text import CountVectorizer\n",
    "from sklearn.utils.multiclass import unique_labels\n",
    "\n",
    "from collections import Counter\n",
    "import matplotlib.pyplot as plt\n",
    "import string\n",
    "import re\n",
    "import random\n",
    "import glob\n",
    "import itertools\n",
    "\n",
    "np.random.seed(1234)\n",
    "random.seed(1234)\n",
    "\n",
    "porter = PorterStemmer()\n",
    "punctuation_dictionary = {s:None for s in list(string.punctuation)}\n",
    "punctuation_dictionary[\"-\"] = \"_\"\n",
    "punctuation_translator = str.maketrans(punctuation_dictionary)\n",
    "\n",
    "def text_cleaner(text, punctuation_translator, stemmer):\n",
    "    text = str(text).translate(punctuation_translator)\n",
    "    text = text.lower()\n",
    "    text = porter.stem(text)\n",
    "    return(text)"
   ]
  },
  {
   "cell_type": "markdown",
   "metadata": {
    "collapsed": true
   },
   "source": [
    "## Load Speech & Clean"
   ]
  },
  {
   "cell_type": "code",
   "execution_count": 10,
   "metadata": {},
   "outputs": [
    {
     "data": {
      "text/html": [
       "<div>\n",
       "<style scoped>\n",
       "    .dataframe tbody tr th:only-of-type {\n",
       "        vertical-align: middle;\n",
       "    }\n",
       "\n",
       "    .dataframe tbody tr th {\n",
       "        vertical-align: top;\n",
       "    }\n",
       "\n",
       "    .dataframe thead th {\n",
       "        text-align: right;\n",
       "    }\n",
       "</style>\n",
       "<table border=\"1\" class=\"dataframe\">\n",
       "  <thead>\n",
       "    <tr style=\"text-align: right;\">\n",
       "      <th></th>\n",
       "      <th>Unnamed: 0</th>\n",
       "      <th>Subspeech_index</th>\n",
       "      <th>SubContent</th>\n",
       "      <th>Speech_index</th>\n",
       "      <th>Candidate</th>\n",
       "      <th>Title</th>\n",
       "      <th>Date</th>\n",
       "      <th>Content</th>\n",
       "      <th>Type</th>\n",
       "      <th>URL</th>\n",
       "      <th>Year</th>\n",
       "      <th>Month</th>\n",
       "      <th>Day</th>\n",
       "      <th>Pop</th>\n",
       "    </tr>\n",
       "  </thead>\n",
       "  <tbody>\n",
       "    <tr>\n",
       "      <th>0</th>\n",
       "      <td>0</td>\n",
       "      <td>Speech0_0:10</td>\n",
       "      <td>['', \"PRESIDENT DONALD TRUMP: Thank you, thank...</td>\n",
       "      <td>Speech0</td>\n",
       "      <td>Donald J. Trump</td>\n",
       "      <td>\\nRemarks at a \"Make America Great Again\" Rall...</td>\n",
       "      <td>\\nNovember 26, 2018</td>\n",
       "      <td>\\nPRESIDENT DONALD TRUMP: Thank you, thank you...</td>\n",
       "      <td>Campaign Documents</td>\n",
       "      <td>/documents/remarks-make-america-great-again-ra...</td>\n",
       "      <td>2018</td>\n",
       "      <td>November</td>\n",
       "      <td>26</td>\n",
       "      <td>NaN</td>\n",
       "    </tr>\n",
       "    <tr>\n",
       "      <th>1</th>\n",
       "      <td>1</td>\n",
       "      <td>Speech0_10:20</td>\n",
       "      <td>['The unemployment rate just hit the lowest le...</td>\n",
       "      <td>Speech0</td>\n",
       "      <td>Donald J. Trump</td>\n",
       "      <td>\\nRemarks at a \"Make America Great Again\" Rall...</td>\n",
       "      <td>\\nNovember 26, 2018</td>\n",
       "      <td>\\nPRESIDENT DONALD TRUMP: Thank you, thank you...</td>\n",
       "      <td>Campaign Documents</td>\n",
       "      <td>/documents/remarks-make-america-great-again-ra...</td>\n",
       "      <td>2018</td>\n",
       "      <td>November</td>\n",
       "      <td>26</td>\n",
       "      <td>NaN</td>\n",
       "    </tr>\n",
       "    <tr>\n",
       "      <th>2</th>\n",
       "      <td>2</td>\n",
       "      <td>Speech0_20:30</td>\n",
       "      <td>[\"And I'll tell you, a little—a little tricky ...</td>\n",
       "      <td>Speech0</td>\n",
       "      <td>Donald J. Trump</td>\n",
       "      <td>\\nRemarks at a \"Make America Great Again\" Rall...</td>\n",
       "      <td>\\nNovember 26, 2018</td>\n",
       "      <td>\\nPRESIDENT DONALD TRUMP: Thank you, thank you...</td>\n",
       "      <td>Campaign Documents</td>\n",
       "      <td>/documents/remarks-make-america-great-again-ra...</td>\n",
       "      <td>2018</td>\n",
       "      <td>November</td>\n",
       "      <td>26</td>\n",
       "      <td>NaN</td>\n",
       "    </tr>\n",
       "    <tr>\n",
       "      <th>3</th>\n",
       "      <td>3</td>\n",
       "      <td>Speech0_30:40</td>\n",
       "      <td>['You are here, he is here to help elect Cindy...</td>\n",
       "      <td>Speech0</td>\n",
       "      <td>Donald J. Trump</td>\n",
       "      <td>\\nRemarks at a \"Make America Great Again\" Rall...</td>\n",
       "      <td>\\nNovember 26, 2018</td>\n",
       "      <td>\\nPRESIDENT DONALD TRUMP: Thank you, thank you...</td>\n",
       "      <td>Campaign Documents</td>\n",
       "      <td>/documents/remarks-make-america-great-again-ra...</td>\n",
       "      <td>2018</td>\n",
       "      <td>November</td>\n",
       "      <td>26</td>\n",
       "      <td>NaN</td>\n",
       "    </tr>\n",
       "    <tr>\n",
       "      <th>4</th>\n",
       "      <td>4</td>\n",
       "      <td>Speech0_40:50</td>\n",
       "      <td>[\"What a great crowd we have tonight for you. ...</td>\n",
       "      <td>Speech0</td>\n",
       "      <td>Donald J. Trump</td>\n",
       "      <td>\\nRemarks at a \"Make America Great Again\" Rall...</td>\n",
       "      <td>\\nNovember 26, 2018</td>\n",
       "      <td>\\nPRESIDENT DONALD TRUMP: Thank you, thank you...</td>\n",
       "      <td>Campaign Documents</td>\n",
       "      <td>/documents/remarks-make-america-great-again-ra...</td>\n",
       "      <td>2018</td>\n",
       "      <td>November</td>\n",
       "      <td>26</td>\n",
       "      <td>NaN</td>\n",
       "    </tr>\n",
       "  </tbody>\n",
       "</table>\n",
       "</div>"
      ],
      "text/plain": [
       "   Unnamed: 0 Subspeech_index  \\\n",
       "0           0    Speech0_0:10   \n",
       "1           1   Speech0_10:20   \n",
       "2           2   Speech0_20:30   \n",
       "3           3   Speech0_30:40   \n",
       "4           4   Speech0_40:50   \n",
       "\n",
       "                                          SubContent Speech_index  \\\n",
       "0  ['', \"PRESIDENT DONALD TRUMP: Thank you, thank...      Speech0   \n",
       "1  ['The unemployment rate just hit the lowest le...      Speech0   \n",
       "2  [\"And I'll tell you, a little—a little tricky ...      Speech0   \n",
       "3  ['You are here, he is here to help elect Cindy...      Speech0   \n",
       "4  [\"What a great crowd we have tonight for you. ...      Speech0   \n",
       "\n",
       "         Candidate                                              Title  \\\n",
       "0  Donald J. Trump  \\nRemarks at a \"Make America Great Again\" Rall...   \n",
       "1  Donald J. Trump  \\nRemarks at a \"Make America Great Again\" Rall...   \n",
       "2  Donald J. Trump  \\nRemarks at a \"Make America Great Again\" Rall...   \n",
       "3  Donald J. Trump  \\nRemarks at a \"Make America Great Again\" Rall...   \n",
       "4  Donald J. Trump  \\nRemarks at a \"Make America Great Again\" Rall...   \n",
       "\n",
       "                   Date                                            Content  \\\n",
       "0  \\nNovember 26, 2018   \\nPRESIDENT DONALD TRUMP: Thank you, thank you...   \n",
       "1  \\nNovember 26, 2018   \\nPRESIDENT DONALD TRUMP: Thank you, thank you...   \n",
       "2  \\nNovember 26, 2018   \\nPRESIDENT DONALD TRUMP: Thank you, thank you...   \n",
       "3  \\nNovember 26, 2018   \\nPRESIDENT DONALD TRUMP: Thank you, thank you...   \n",
       "4  \\nNovember 26, 2018   \\nPRESIDENT DONALD TRUMP: Thank you, thank you...   \n",
       "\n",
       "                 Type                                                URL  \\\n",
       "0  Campaign Documents  /documents/remarks-make-america-great-again-ra...   \n",
       "1  Campaign Documents  /documents/remarks-make-america-great-again-ra...   \n",
       "2  Campaign Documents  /documents/remarks-make-america-great-again-ra...   \n",
       "3  Campaign Documents  /documents/remarks-make-america-great-again-ra...   \n",
       "4  Campaign Documents  /documents/remarks-make-america-great-again-ra...   \n",
       "\n",
       "   Year     Month  Day  Pop  \n",
       "0  2018  November   26  NaN  \n",
       "1  2018  November   26  NaN  \n",
       "2  2018  November   26  NaN  \n",
       "3  2018  November   26  NaN  \n",
       "4  2018  November   26  NaN  "
      ]
     },
     "execution_count": 10,
     "metadata": {},
     "output_type": "execute_result"
    }
   ],
   "source": [
    "SubSpeech = pd.read_csv('SubSpeech_coded.csv')\n",
    "SubSpeech.head()"
   ]
  },
  {
   "cell_type": "code",
   "execution_count": 11,
   "metadata": {},
   "outputs": [],
   "source": [
    "SubSpeech[\"clean_text\"] = SubSpeech[\"SubContent\"].apply(lambda x: text_cleaner(x, punctuation_translator, porter))"
   ]
  },
  {
   "cell_type": "code",
   "execution_count": 16,
   "metadata": {},
   "outputs": [],
   "source": [
    "#SubSpeech.head()"
   ]
  },
  {
   "cell_type": "code",
   "execution_count": 14,
   "metadata": {},
   "outputs": [],
   "source": [
    "phrases1 = Phrases(map(lambda x: x.split(), SubSpeech[\"clean_text\"].tolist()))\n",
    "phrases2 = Phrases(phrases1[map(lambda x: x.split(), SubSpeech[\"clean_text\"].tolist())])\n",
    "SubSpeech[\"phrased_text\"] = SubSpeech[\"clean_text\"].apply(lambda x: \" \".join(phrases2[phrases1[x.split()]]))"
   ]
  },
  {
   "cell_type": "markdown",
   "metadata": {},
   "source": [
    "## Doc2Vev Model"
   ]
  },
  {
   "cell_type": "code",
   "execution_count": 17,
   "metadata": {},
   "outputs": [],
   "source": [
    "docs = list(zip(SubSpeech[\"phrased_text\"].tolist(), SubSpeech[\"Subspeech_index\"].tolist()))\n",
    "\n",
    "\n",
    "## Define an iterator to feed documents and tags to Doc2Vec\n",
    "class Sentences(object):\n",
    "  def __init__(self, docs):\n",
    "    self.docs = docs\n",
    "  def __iter__(self):\n",
    "    for doc in self.docs:\n",
    "      yield TaggedDocument(words=str(doc[0]).split(), tags=[doc[1]])\n",
    "\n",
    "## Train and save models\n",
    "model = Doc2Vec(Sentences(docs), vector_size=100, window=10, min_count=5, negative=10, epochs=20, dm=0, dbow_words=1)"
   ]
  },
  {
   "cell_type": "code",
   "execution_count": 18,
   "metadata": {},
   "outputs": [],
   "source": [
    "model.wv.save_word2vec_format(\"doc2vec_wordvecs.txt\", binary=False)"
   ]
  },
  {
   "cell_type": "code",
   "execution_count": 24,
   "metadata": {},
   "outputs": [
    {
     "name": "stderr",
     "output_type": "stream",
     "text": [
      "//anaconda3/lib/python3.7/site-packages/ipykernel_launcher.py:1: DeprecationWarning: Call to deprecated `most_similar` (Method will be removed in 4.0.0, use self.wv.most_similar() instead).\n",
      "  \"\"\"Entry point for launching an IPython kernel.\n"
     ]
    },
    {
     "data": {
      "text/plain": [
       "[('oligarchy', 0.6355602145195007),\n",
       " ('democraci', 0.6329881548881531),\n",
       " ('democracies', 0.6227595210075378),\n",
       " ('civil_society', 0.6198344230651855),\n",
       " ('republic', 0.6092904806137085),\n",
       " ('human_rights', 0.6092815399169922),\n",
       " ('incite', 0.604902982711792),\n",
       " ('autocratic', 0.6041953563690186),\n",
       " ('most_powerful_force', 0.5965070724487305),\n",
       " ('self_determination', 0.5929067134857178)]"
      ]
     },
     "execution_count": 24,
     "metadata": {},
     "output_type": "execute_result"
    }
   ],
   "source": [
    "model.most_similar('democracy')"
   ]
  },
  {
   "cell_type": "code",
   "execution_count": 30,
   "metadata": {},
   "outputs": [
    {
     "name": "stdout",
     "output_type": "stream",
     "text": [
      "20\n",
      "['everything you need to know about hillary_clinton can be understood with this simple but very_important phrase follow the money the large_corporations who support terrible_trade_deals that offshore jobs – they_are_donating to hillary_clinton follow the money the wall_street_investors who have rigged the regulations against the middle_class – they_are_donating to hillary_clinton follow the money the wealthy_donors who want to shut_down american energy – they_are_donating to hillary_clinton follow the money the special_interests who want open_borders are_donating to hillary_clinton again just follow the money in her campaign for president hillary_clinton has received 100_million dollars in contributions from wall_street and the hedge_fund']\n"
     ]
    },
    {
     "data": {
      "text/plain": [
       "[('they_are_donating', 0.8732218742370605),\n",
       " ('are_donating', 0.8328096270561218),\n",
       " ('wall_street_investors', 0.7575371265411377),\n",
       " ('wealthy_donors', 0.6677073240280151),\n",
       " ('large_corporations', 0.6174898743629456),\n",
       " ('everyday_americans', 0.6121031045913696),\n",
       " ('hedge_funds', 0.6065245270729065),\n",
       " ('terrible_trade_deals', 0.5971208214759827),\n",
       " ('jobs_overseas_–', 0.5858529806137085),\n",
       " ('breaking_up', 0.5806970000267029)]"
      ]
     },
     "execution_count": 30,
     "metadata": {},
     "output_type": "execute_result"
    }
   ],
   "source": [
    "#Most similar phrase to populist doc\n",
    "populist_index = list(set(SubSpeech.loc[SubSpeech['Pop'] == \"accept\", \"Subspeech_index\"].tolist()))\n",
    "print(len(populist_index))\n",
    "i = 0\n",
    "\n",
    "value = SubSpeech.loc[SubSpeech['Subspeech_index']==populist_index[i]][\"phrased_text\"].tolist()\n",
    "print(value)\n",
    "model.wv.most_similar([model.docvecs[populist_index[i]]])"
   ]
  },
  {
   "cell_type": "markdown",
   "metadata": {},
   "source": [
    "## Classification"
   ]
  },
  {
   "cell_type": "code",
   "execution_count": 32,
   "metadata": {},
   "outputs": [],
   "source": [
    "SubSpeech.Pop.replace('accept',1, inplace=True)"
   ]
  },
  {
   "cell_type": "code",
   "execution_count": 33,
   "metadata": {},
   "outputs": [],
   "source": [
    "SubSpeech.Pop.replace('reject',0, inplace=True)"
   ]
  },
  {
   "cell_type": "code",
   "execution_count": 34,
   "metadata": {},
   "outputs": [
    {
     "name": "stdout",
     "output_type": "stream",
     "text": [
      "                  Pop\n",
      "Subspeech_index      \n",
      "Speech1482_0:10   0.0\n",
      "Speech1482_10:20  0.0\n",
      "Speech1482_20:30  0.0\n",
      "Speech1482_30:42  0.0\n",
      "Speech1515_0:10   0.0\n",
      "(200, 1)\n",
      "(200, 100)\n",
      "[0 0 0 0 0 0 0 0 0 0 0 0 0 0 0 0 0 0 1 1 0 0 0 0 0 0 0 0 0 0 0 0 0 0 0 0 0\n",
      " 0 0 0 0 0 0 0 0 0 0 0 0 0 0 0 0 0 0 0 0 0 0 0 0 0 0 0 0 0 0 0 0 0 0 0 0 0\n",
      " 0 0 0 0 0 0 0 0 0 0 0 0 0 0 0 0 0 1 0 0 1 0 0 0 0 0 0 0 1 0 0 0 0 0 0 0 1\n",
      " 0 0 0 0 0 0 0 0 0 0 0 0 0 0 0 0 0 0 0 0 0 0 0 0 0 0 0 0 0 1 1 1 1 0 0 0 0\n",
      " 0 0 0 0 1 0 0 0 0 0 1 0 0 0 0 0 0 1 0 0 0 0 0 0 0 0 0 1 1 1 0 1 1 1 1 0 0\n",
      " 0 0 0 0 0 0 0 0 0 0 0 0 0 0 0]\n"
     ]
    }
   ],
   "source": [
    "labelled_data = SubSpeech.loc[SubSpeech['Pop'].isin([0,1])][[\"Subspeech_index\",\"Pop\"]]\n",
    "labelled_data = labelled_data.groupby([\"Subspeech_index\"]).mean()\n",
    "print(labelled_data.head())\n",
    "print(labelled_data.shape)\n",
    "\n",
    "X = np.asarray([model.docvecs[i] for i in labelled_data.index.tolist()])\n",
    "Y = np.asarray(labelled_data['Pop'].tolist(), dtype=\"int\")\n",
    "\n",
    "# ## Get the words most closely associated with all of the \"populist\" articles\n",
    "# for k, v in model.most_similar(model.docvecs[populist_indices], topn=50):\n",
    "#   print(k) \n",
    "\n",
    "kf = KFold(n_splits=5)\n",
    "print(X.shape)\n",
    "print(Y)"
   ]
  },
  {
   "cell_type": "code",
   "execution_count": 48,
   "metadata": {},
   "outputs": [
    {
     "name": "stderr",
     "output_type": "stream",
     "text": [
      "//anaconda3/lib/python3.7/site-packages/ipykernel_launcher.py:18: MatplotlibDeprecationWarning: Adding an axes using the same arguments as a previous axes currently reuses the earlier instance.  In a future version, a new instance will always be created and returned.  Meanwhile, this warning can be suppressed, and the future behavior ensured, by passing a unique label to each axes instance.\n"
     ]
    },
    {
     "name": "stdout",
     "output_type": "stream",
     "text": [
      "AUC: 0.8457207207207207\n",
      "Accuracy: 0.925\n",
      "Mean AUC: 0.8457207207207207\n",
      "Mean Accuracy: 0.925\n"
     ]
    },
    {
     "data": {
      "image/png": "[encoded data removed]",
      "text/plain": [
       "<Figure size 432x288 with 1 Axes>"
      ]
     },
     "metadata": {},
     "output_type": "display_data"
    }
   ],
   "source": [
    "auc_scores_d2v = []\n",
    "accuracy_scores_d2v = []\n",
    "\n",
    "np.random.seed(1234) \n",
    "random.seed(1234)\n",
    "\n",
    "plt.figure()\n",
    "plt.rcParams['figure.facecolor'] = 'white'\n",
    "plt.rcParams['axes.facecolor'] = 'white'\n",
    "plt.rcParams['axes.edgecolor'] = 'black'\n",
    "plt.rcParams['xtick.color'] = 'black'\n",
    "plt.rcParams['ytick.color'] = 'black'\n",
    "plt.rcParams['axes.labelcolor'] = 'black'\n",
    "plt.rcParams['savefig.transparent'] = 'false'\n",
    "\n",
    "plt.xlim([-0.01, 1.00])\n",
    "plt.ylim([-0.01, 1.01])\n",
    "plt.axes().set_aspect('equal')\n",
    "plt.plot([0, 1], [0, 1], color='gray', lw=2, linestyle='--')\n",
    "plt.xlabel('False Positive Rate', fontsize=16)\n",
    "plt.ylabel('True Positive Rate', fontsize=16)\n",
    "#plt.title('ROC curve', fontsize=16)\n",
    "for i in range(1):\n",
    "    ## Create a test and train set\n",
    "    test_size = 80\n",
    "    test_set = random.sample(range(0,len(Y)), test_size)\n",
    "    train_set = list(set(list(range(0,len(Y)))) - set(test_set))\n",
    "    ## Initialize a gradient boosting classifier\n",
    "    gbc = RandomForestClassifier(n_estimators=5000, max_depth=10, random_state=0, class_weight=\"balanced\")\n",
    "  # gbc = GradientBoostingClassifier(loss=\"deviance\",\n",
    "  #   learning_rate=0.1,\n",
    "  #   n_estimators=20000,\n",
    "  #   subsample=1.0,\n",
    "  #   min_samples_split=2,\n",
    "  #   min_samples_leaf=1,\n",
    "  #   max_depth=4,\n",
    "  #   init=None,\n",
    "  #   random_state=None,\n",
    "  #   max_features=None,\n",
    "  #   verbose=0)\n",
    "    gbc = CalibratedClassifierCV(gbc, cv=2, method=\"isotonic\")\n",
    "    ## Fit the model to the training set\n",
    "    gbc.fit(X[np.asarray(train_set, dtype=\"int\")], Y[np.asarray(train_set, dtype=\"int\")])\n",
    "    ## Predict out-of-sample on the test set and compute AUC\n",
    "    preds = gbc.predict_proba(X[np.asarray(test_set, dtype=\"int\")])\n",
    "    fpr_d2v, tpr_d2v, thresholds_d2v = metrics.roc_curve(Y[np.asarray(test_set, dtype=\"int\")], preds[:,1], pos_label=1)\n",
    "    auc_scores_d2v = auc_scores_d2v + [metrics.auc(fpr_d2v, tpr_d2v)]\n",
    "    plt.plot(fpr_d2v, tpr_d2v, lw=2, linestyle='--', label=\"AUC:\" + str(metrics.auc(fpr_d2v, tpr_d2v))[0:4],color='#fd8d3c')\n",
    "    print(\"AUC: \"+str(metrics.auc(fpr_d2v, tpr_d2v)))\n",
    "    accuracy_d2v = metrics.accuracy_score(Y[np.asarray(test_set, dtype=\"int\")], gbc.predict(X[np.asarray(test_set, dtype=\"int\")]), normalize=True)\n",
    "    accuracy_scores_d2v = accuracy_scores_d2v + [accuracy_d2v]\n",
    "    print(\"Accuracy: \" + str(accuracy_d2v))\n",
    "leg = plt.legend(framealpha = 0,loc='lower right', fontsize=13)\n",
    "for text in leg.get_texts():\n",
    "    plt.setp(text, color = 'black')\n",
    "plt.savefig('images/d2v_rocs.png')\n",
    "# vocab = model.wv.vocab.keys()\n",
    "# vectors = [model[v] for v in vocab]\n",
    "# vectors = np.asarray(vectors)\n",
    "\n",
    "# word_preds = gbc.predict_proba(vectors)\n",
    "# word_scores = dict(zip(vocab, word_preds[:,1].tolist()))\n",
    "# sorted_keys = sorted(word_scores, key=word_scores.get, reverse=True)\n",
    "# for r in sorted_keys[0:100]:\n",
    "#     print(str(r))\n",
    "print(\"Mean AUC: \" + str(np.mean(auc_scores_d2v)))\n",
    "print(\"Mean Accuracy: \" + str(np.mean(accuracy_scores_d2v)))"
   ]
  },
  {
   "cell_type": "code",
   "execution_count": 60,
   "metadata": {},
   "outputs": [
    {
     "name": "stdout",
     "output_type": "stream",
     "text": [
      "[[74  0]\n",
      " [ 6  0]]\n"
     ]
    }
   ],
   "source": [
    "predicted = gbc.predict(X[np.asarray(test_set, dtype=\"int\")])\n",
    "confusion = confusion_matrix(Y[np.asarray(test_set, dtype=\"int\")], predicted)\n",
    "print(confusion)"
   ]
  },
  {
   "cell_type": "code",
   "execution_count": 69,
   "metadata": {},
   "outputs": [],
   "source": [
    "def plot_confusion_matrix(y_true, y_pred,\n",
    "                          normalize=False,\n",
    "                          title=None,\n",
    "                          cmap=plt.cm.Blues):\n",
    "    \"\"\"\n",
    "    This function prints and plots the confusion matrix.\n",
    "    Normalization can be applied by setting `normalize=True`.\n",
    "    \"\"\"\n",
    "    if not title:\n",
    "        if normalize:\n",
    "            title = 'Normalized confusion matrix'\n",
    "        else:\n",
    "            title = 'Confusion matrix, without normalization'\n",
    "\n",
    "    # Compute confusion matrix\n",
    "    cm = confusion_matrix(y_true, y_pred)\n",
    "    # Only use the labels that appear in the data\n",
    "    classes = unique_labels(y_true, y_pred)\n",
    "    if normalize:\n",
    "        cm = cm.astype('float') / cm.sum(axis=1)[:, np.newaxis]\n",
    "        print(\"Normalized confusion matrix\")\n",
    "    else:\n",
    "        print('Confusion matrix, without normalization')\n",
    "\n",
    "    print(cm)\n",
    "\n",
    "    fig, ax = plt.subplots()\n",
    "    im = ax.imshow(cm, interpolation='nearest', cmap=cmap)\n",
    "    ax.figure.colorbar(im, ax=ax)\n",
    "    # We want to show all ticks...\n",
    "    ax.set(xticks=np.arange(cm.shape[1]),\n",
    "           yticks=np.arange(cm.shape[0]),\n",
    "           # ... and label them with the respective list entries\n",
    "           xticklabels=classes, yticklabels=classes,\n",
    "           title=title,\n",
    "           ylabel='True label',\n",
    "           xlabel='Predicted label')\n",
    "\n",
    "    # Rotate the tick labels and set their alignment.\n",
    "    plt.setp(ax.get_xticklabels(), rotation=45, ha=\"right\",\n",
    "             rotation_mode=\"anchor\")\n",
    "\n",
    "    # Loop over data dimensions and create text annotations.\n",
    "    fmt = '.2f' if normalize else 'd'\n",
    "    thresh = cm.max() / 2.\n",
    "    for i in range(cm.shape[0]):\n",
    "        for j in range(cm.shape[1]):\n",
    "            ax.text(j, i, format(cm[i, j], fmt),\n",
    "                    ha=\"center\", va=\"center\",\n",
    "                    color=\"white\" if cm[i, j] > thresh else \"black\")\n",
    "    fig.tight_layout()\n",
    "    return ax"
   ]
  },
  {
   "cell_type": "code",
   "execution_count": 70,
   "metadata": {},
   "outputs": [
    {
     "name": "stdout",
     "output_type": "stream",
     "text": [
      "Confusion matrix, without normalization\n",
      "[[74  0]\n",
      " [ 6  0]]\n"
     ]
    },
    {
     "data": {
      "text/plain": [
       "<matplotlib.axes._subplots.AxesSubplot at 0x1a31c61e80>"
      ]
     },
     "execution_count": 70,
     "metadata": {},
     "output_type": "execute_result"
    },
    {
     "data": {
      "image/png": "[encoded data removed]",
      "text/plain": [
       "<Figure size 432x288 with 2 Axes>"
      ]
     },
     "metadata": {},
     "output_type": "display_data"
    }
   ],
   "source": [
    "plot_confusion_matrix(Y[np.asarray(test_set, dtype=\"int\")], predicted, \n",
    "                      title='Confusion matrix, without normalization')"
   ]
  },
  {
   "cell_type": "code",
   "execution_count": 72,
   "metadata": {},
   "outputs": [],
   "source": [
    "scores = gbc.predict_proba(np.asarray([model.docvecs[a] for a in SubSpeech[\"Subspeech_index\"]]))\n",
    "predictions = gbc.predict(np.asarray([model.docvecs[a] for a in SubSpeech[\"Subspeech_index\"]]))"
   ]
  },
  {
   "cell_type": "code",
   "execution_count": 73,
   "metadata": {},
   "outputs": [],
   "source": [
    "SubSpeech[\"Pop_class\"] = predictions.tolist()\n",
    "SubSpeech[\"Pop_prob\"] = scores[:,1].tolist()"
   ]
  },
  {
   "cell_type": "code",
   "execution_count": 75,
   "metadata": {},
   "outputs": [
    {
     "data": {
      "text/plain": [
       "count    11929.000000\n",
       "mean         0.111542\n",
       "std          0.077663\n",
       "min          0.043860\n",
       "25%          0.043860\n",
       "50%          0.111167\n",
       "75%          0.111167\n",
       "max          0.400641\n",
       "Name: Pop_prob, dtype: float64"
      ]
     },
     "execution_count": 75,
     "metadata": {},
     "output_type": "execute_result"
    }
   ],
   "source": [
    "SubSpeech[\"Pop_prob\"].describe()"
   ]
  },
  {
   "cell_type": "code",
   "execution_count": 77,
   "metadata": {},
   "outputs": [],
   "source": [
    "#SubSpeech.sort_values(by=['Pop_prob']).tail()"
   ]
  },
  {
   "cell_type": "code",
   "execution_count": 119,
   "metadata": {},
   "outputs": [],
   "source": [
    "SubSpeech[\"Pop_class\"] = [1 if x>=0.4 else 0 for x in SubSpeech[\"Pop_prob\"]]"
   ]
  },
  {
   "cell_type": "code",
   "execution_count": 120,
   "metadata": {},
   "outputs": [
    {
     "data": {
      "text/plain": [
       "0.04501634671808199"
      ]
     },
     "execution_count": 120,
     "metadata": {},
     "output_type": "execute_result"
    }
   ],
   "source": [
    "np.mean(SubSpeech[\"Pop_class\"])"
   ]
  },
  {
   "cell_type": "code",
   "execution_count": 121,
   "metadata": {},
   "outputs": [
    {
     "name": "stdout",
     "output_type": "stream",
     "text": [
      "Confusion matrix, without normalization\n",
      "[[179   1]\n",
      " [  8  12]]\n"
     ]
    },
    {
     "data": {
      "text/plain": [
       "<matplotlib.axes._subplots.AxesSubplot at 0x1a33a33400>"
      ]
     },
     "execution_count": 121,
     "metadata": {},
     "output_type": "execute_result"
    },
    {
     "data": {
      "image/png": "[encoded data removed]",
      "text/plain": [
       "<Figure size 432x288 with 2 Axes>"
      ]
     },
     "metadata": {},
     "output_type": "display_data"
    }
   ],
   "source": [
    "plot_confusion_matrix(SubSpeech.loc[SubSpeech['Pop'].isin([0,1])][\"Pop\"], \n",
    "                      SubSpeech.loc[SubSpeech['Pop'].isin([0,1])][\"Pop_class\"])"
   ]
  },
  {
   "cell_type": "code",
   "execution_count": 125,
   "metadata": {},
   "outputs": [],
   "source": [
    "SubSpeech.to_csv('SubSpeech_predicted.csv', index=False)"
   ]
  },
  {
   "cell_type": "markdown",
   "metadata": {},
   "source": [
    "## Blind Test (prodigy)"
   ]
  },
  {
   "cell_type": "code",
   "execution_count": 2,
   "metadata": {},
   "outputs": [],
   "source": [
    "SubSpeech_predicted = pd.read_csv('SubSpeech_predicted.csv')"
   ]
  },
  {
   "cell_type": "code",
   "execution_count": 128,
   "metadata": {},
   "outputs": [],
   "source": [
    "#SubSpeech_predicted.head()"
   ]
  },
  {
   "cell_type": "code",
   "execution_count": 133,
   "metadata": {},
   "outputs": [],
   "source": [
    "virgintext = SubSpeech.loc[-SubSpeech['Pop'].isin([0,1])]"
   ]
  },
  {
   "cell_type": "code",
   "execution_count": 139,
   "metadata": {},
   "outputs": [],
   "source": [
    "#virgintext.Subspeech_index[virgintext.Pop_class==1]"
   ]
  },
  {
   "cell_type": "code",
   "execution_count": 172,
   "metadata": {},
   "outputs": [],
   "source": [
    "blind_index = list(np.random.choice(virgintext.Subspeech_index[virgintext.Pop_class==1], 10, replace=False)) + list(\n",
    "    np.random.choice(virgintext.Subspeech_index[virgintext.Pop_class==0], 5, replace=False)) "
   ]
  },
  {
   "cell_type": "code",
   "execution_count": 173,
   "metadata": {},
   "outputs": [],
   "source": [
    "blindspeech_index = [re.split('_',x)[0] for x in blind_index]"
   ]
  },
  {
   "cell_type": "code",
   "execution_count": 174,
   "metadata": {},
   "outputs": [],
   "source": [
    "blindspeech_sample = SubSpeech[['Speech_index', 'Subspeech_index','SubContent']].loc[\n",
    "    SubSpeech.Speech_index.isin(blindspeech_index)]"
   ]
  },
  {
   "cell_type": "code",
   "execution_count": 175,
   "metadata": {},
   "outputs": [],
   "source": [
    "blindspeech_sample['text'] = [blindspeech_sample.Subspeech_index[i] + '## ' + ''.join(blindspeech_sample.SubContent[i])\n",
    "                           for i in blindspeech_sample.Subspeech_index.index]"
   ]
  },
  {
   "cell_type": "code",
   "execution_count": 176,
   "metadata": {},
   "outputs": [
    {
     "data": {
      "text/plain": [
       "126"
      ]
     },
     "execution_count": 176,
     "metadata": {},
     "output_type": "execute_result"
    }
   ],
   "source": [
    "len(blindspeech_sample.Subspeech_index)"
   ]
  },
  {
   "cell_type": "code",
   "execution_count": 177,
   "metadata": {},
   "outputs": [],
   "source": [
    "blindspeech_sample.to_csv('blindspeech_sample.csv')"
   ]
  },
  {
   "cell_type": "code",
   "execution_count": 11,
   "metadata": {},
   "outputs": [],
   "source": [
    "blindspeech_sample = pd.read_csv(\"blindspeech_sample.csv\")"
   ]
  },
  {
   "cell_type": "code",
   "execution_count": 20,
   "metadata": {},
   "outputs": [],
   "source": [
    "#SubSpeech_predicted.Candidate[SubSpeech_predicted.Speech_index.isin(blindspeech_sample.Speech_index)]"
   ]
  },
  {
   "cell_type": "code",
   "execution_count": 181,
   "metadata": {},
   "outputs": [
    {
     "data": {
      "text/plain": [
       "41"
      ]
     },
     "execution_count": 181,
     "metadata": {},
     "output_type": "execute_result"
    }
   ],
   "source": [
    "len(SubSpeech.Speech_index.loc[SubSpeech['Pop'].isin([0,1])].value_counts())"
   ]
  },
  {
   "cell_type": "code",
   "execution_count": 22,
   "metadata": {},
   "outputs": [
    {
     "data": {
      "text/html": [
       "<div>\n",
       "<style scoped>\n",
       "    .dataframe tbody tr th:only-of-type {\n",
       "        vertical-align: middle;\n",
       "    }\n",
       "\n",
       "    .dataframe tbody tr th {\n",
       "        vertical-align: top;\n",
       "    }\n",
       "\n",
       "    .dataframe thead th {\n",
       "        text-align: right;\n",
       "    }\n",
       "</style>\n",
       "<table border=\"1\" class=\"dataframe\">\n",
       "  <thead>\n",
       "    <tr style=\"text-align: right;\">\n",
       "      <th></th>\n",
       "      <th>Unnamed: 0</th>\n",
       "      <th>Subspeech_index</th>\n",
       "      <th>SubContent</th>\n",
       "      <th>Speech_index</th>\n",
       "      <th>Candidate</th>\n",
       "      <th>Title</th>\n",
       "      <th>Date</th>\n",
       "      <th>Content</th>\n",
       "      <th>Type</th>\n",
       "      <th>URL</th>\n",
       "      <th>Year</th>\n",
       "      <th>Month</th>\n",
       "      <th>Day</th>\n",
       "      <th>Pop</th>\n",
       "      <th>clean_text</th>\n",
       "      <th>phrased_text</th>\n",
       "      <th>Pop_class</th>\n",
       "      <th>Pop_prob</th>\n",
       "    </tr>\n",
       "  </thead>\n",
       "  <tbody>\n",
       "    <tr>\n",
       "      <th>1274</th>\n",
       "      <td>1274</td>\n",
       "      <td>Speech146_0:10</td>\n",
       "      <td>['', 'Thank you for the opportunity to speak t...</td>\n",
       "      <td>Speech146</td>\n",
       "      <td>Donald J. Trump</td>\n",
       "      <td>\\nRemarks on Foreign Policy \\n</td>\n",
       "      <td>\\nApril 27, 2016</td>\n",
       "      <td>\\nThank you for the opportunity to speak to yo...</td>\n",
       "      <td>Campaign Documents</td>\n",
       "      <td>/documents/remarks-foreign-policy</td>\n",
       "      <td>2016</td>\n",
       "      <td>April</td>\n",
       "      <td>27</td>\n",
       "      <td>NaN</td>\n",
       "      <td>thank you for the opportunity to speak to you...</td>\n",
       "      <td>thank_you for the opportunity to speak to you ...</td>\n",
       "      <td>0</td>\n",
       "      <td>0.321102</td>\n",
       "    </tr>\n",
       "    <tr>\n",
       "      <th>1275</th>\n",
       "      <td>1275</td>\n",
       "      <td>Speech146_10:20</td>\n",
       "      <td>['First, our resources are totally over extend...</td>\n",
       "      <td>Speech146</td>\n",
       "      <td>Donald J. Trump</td>\n",
       "      <td>\\nRemarks on Foreign Policy \\n</td>\n",
       "      <td>\\nApril 27, 2016</td>\n",
       "      <td>\\nThank you for the opportunity to speak to yo...</td>\n",
       "      <td>Campaign Documents</td>\n",
       "      <td>/documents/remarks-foreign-policy</td>\n",
       "      <td>2016</td>\n",
       "      <td>April</td>\n",
       "      <td>27</td>\n",
       "      <td>NaN</td>\n",
       "      <td>first our resources are totally over extended ...</td>\n",
       "      <td>first our resources are totally over extended ...</td>\n",
       "      <td>0</td>\n",
       "      <td>0.111167</td>\n",
       "    </tr>\n",
       "    <tr>\n",
       "      <th>1276</th>\n",
       "      <td>1276</td>\n",
       "      <td>Speech146_20:30</td>\n",
       "      <td>['When the other side knows you’re not going t...</td>\n",
       "      <td>Speech146</td>\n",
       "      <td>Donald J. Trump</td>\n",
       "      <td>\\nRemarks on Foreign Policy \\n</td>\n",
       "      <td>\\nApril 27, 2016</td>\n",
       "      <td>\\nThank you for the opportunity to speak to yo...</td>\n",
       "      <td>Campaign Documents</td>\n",
       "      <td>/documents/remarks-foreign-policy</td>\n",
       "      <td>2016</td>\n",
       "      <td>April</td>\n",
       "      <td>27</td>\n",
       "      <td>NaN</td>\n",
       "      <td>when the other side knows you’re not going to ...</td>\n",
       "      <td>when the other_side knows you’re not going to ...</td>\n",
       "      <td>0</td>\n",
       "      <td>0.111167</td>\n",
       "    </tr>\n",
       "    <tr>\n",
       "      <th>1277</th>\n",
       "      <td>1277</td>\n",
       "      <td>Speech146_30:40</td>\n",
       "      <td>['We’re a humanitarian nation, but the legacy ...</td>\n",
       "      <td>Speech146</td>\n",
       "      <td>Donald J. Trump</td>\n",
       "      <td>\\nRemarks on Foreign Policy \\n</td>\n",
       "      <td>\\nApril 27, 2016</td>\n",
       "      <td>\\nThank you for the opportunity to speak to yo...</td>\n",
       "      <td>Campaign Documents</td>\n",
       "      <td>/documents/remarks-foreign-policy</td>\n",
       "      <td>2016</td>\n",
       "      <td>April</td>\n",
       "      <td>27</td>\n",
       "      <td>NaN</td>\n",
       "      <td>we’re a humanitarian nation but the legacy of ...</td>\n",
       "      <td>we’re a humanitarian nation but the legacy of ...</td>\n",
       "      <td>0</td>\n",
       "      <td>0.111167</td>\n",
       "    </tr>\n",
       "    <tr>\n",
       "      <th>1278</th>\n",
       "      <td>1278</td>\n",
       "      <td>Speech146_40:50</td>\n",
       "      <td>['We should work — thank you. [Applause]', 'We...</td>\n",
       "      <td>Speech146</td>\n",
       "      <td>Donald J. Trump</td>\n",
       "      <td>\\nRemarks on Foreign Policy \\n</td>\n",
       "      <td>\\nApril 27, 2016</td>\n",
       "      <td>\\nThank you for the opportunity to speak to yo...</td>\n",
       "      <td>Campaign Documents</td>\n",
       "      <td>/documents/remarks-foreign-policy</td>\n",
       "      <td>2016</td>\n",
       "      <td>April</td>\n",
       "      <td>27</td>\n",
       "      <td>NaN</td>\n",
       "      <td>we should work — thank you applause we should ...</td>\n",
       "      <td>we should work — thank_you applause we should ...</td>\n",
       "      <td>0</td>\n",
       "      <td>0.237557</td>\n",
       "    </tr>\n",
       "    <tr>\n",
       "      <th>1279</th>\n",
       "      <td>1279</td>\n",
       "      <td>Speech146_50:60</td>\n",
       "      <td>['This will ensure that our own workers, right...</td>\n",
       "      <td>Speech146</td>\n",
       "      <td>Donald J. Trump</td>\n",
       "      <td>\\nRemarks on Foreign Policy \\n</td>\n",
       "      <td>\\nApril 27, 2016</td>\n",
       "      <td>\\nThank you for the opportunity to speak to yo...</td>\n",
       "      <td>Campaign Documents</td>\n",
       "      <td>/documents/remarks-foreign-policy</td>\n",
       "      <td>2016</td>\n",
       "      <td>April</td>\n",
       "      <td>27</td>\n",
       "      <td>NaN</td>\n",
       "      <td>this will ensure that our own workers right he...</td>\n",
       "      <td>this will ensure that our own workers right_he...</td>\n",
       "      <td>0</td>\n",
       "      <td>0.043860</td>\n",
       "    </tr>\n",
       "    <tr>\n",
       "      <th>1280</th>\n",
       "      <td>1280</td>\n",
       "      <td>Speech146_60:70</td>\n",
       "      <td>['Some say the Russians won’t be reasonable. I...</td>\n",
       "      <td>Speech146</td>\n",
       "      <td>Donald J. Trump</td>\n",
       "      <td>\\nRemarks on Foreign Policy \\n</td>\n",
       "      <td>\\nApril 27, 2016</td>\n",
       "      <td>\\nThank you for the opportunity to speak to yo...</td>\n",
       "      <td>Campaign Documents</td>\n",
       "      <td>/documents/remarks-foreign-policy</td>\n",
       "      <td>2016</td>\n",
       "      <td>April</td>\n",
       "      <td>27</td>\n",
       "      <td>NaN</td>\n",
       "      <td>some say the russians won’t be reasonable i in...</td>\n",
       "      <td>some say the russians won’t be reasonable i in...</td>\n",
       "      <td>0</td>\n",
       "      <td>0.127476</td>\n",
       "    </tr>\n",
       "    <tr>\n",
       "      <th>1281</th>\n",
       "      <td>1281</td>\n",
       "      <td>Speech146_70:80</td>\n",
       "      <td>['Our power will be used if others do not play...</td>\n",
       "      <td>Speech146</td>\n",
       "      <td>Donald J. Trump</td>\n",
       "      <td>\\nRemarks on Foreign Policy \\n</td>\n",
       "      <td>\\nApril 27, 2016</td>\n",
       "      <td>\\nThank you for the opportunity to speak to yo...</td>\n",
       "      <td>Campaign Documents</td>\n",
       "      <td>/documents/remarks-foreign-policy</td>\n",
       "      <td>2016</td>\n",
       "      <td>April</td>\n",
       "      <td>27</td>\n",
       "      <td>NaN</td>\n",
       "      <td>our power will be used if others do not play b...</td>\n",
       "      <td>our power will be used if others do not play b...</td>\n",
       "      <td>0</td>\n",
       "      <td>0.111167</td>\n",
       "    </tr>\n",
       "    <tr>\n",
       "      <th>1282</th>\n",
       "      <td>1282</td>\n",
       "      <td>Speech146_80:91</td>\n",
       "      <td>['No country has ever prospered that failed to...</td>\n",
       "      <td>Speech146</td>\n",
       "      <td>Donald J. Trump</td>\n",
       "      <td>\\nRemarks on Foreign Policy \\n</td>\n",
       "      <td>\\nApril 27, 2016</td>\n",
       "      <td>\\nThank you for the opportunity to speak to yo...</td>\n",
       "      <td>Campaign Documents</td>\n",
       "      <td>/documents/remarks-foreign-policy</td>\n",
       "      <td>2016</td>\n",
       "      <td>April</td>\n",
       "      <td>27</td>\n",
       "      <td>NaN</td>\n",
       "      <td>no country has ever prospered that failed to p...</td>\n",
       "      <td>no country has ever prospered that failed to p...</td>\n",
       "      <td>1</td>\n",
       "      <td>0.400641</td>\n",
       "    </tr>\n",
       "  </tbody>\n",
       "</table>\n",
       "</div>"
      ],
      "text/plain": [
       "      Unnamed: 0  Subspeech_index  \\\n",
       "1274        1274   Speech146_0:10   \n",
       "1275        1275  Speech146_10:20   \n",
       "1276        1276  Speech146_20:30   \n",
       "1277        1277  Speech146_30:40   \n",
       "1278        1278  Speech146_40:50   \n",
       "1279        1279  Speech146_50:60   \n",
       "1280        1280  Speech146_60:70   \n",
       "1281        1281  Speech146_70:80   \n",
       "1282        1282  Speech146_80:91   \n",
       "\n",
       "                                             SubContent Speech_index  \\\n",
       "1274  ['', 'Thank you for the opportunity to speak t...    Speech146   \n",
       "1275  ['First, our resources are totally over extend...    Speech146   \n",
       "1276  ['When the other side knows you’re not going t...    Speech146   \n",
       "1277  ['We’re a humanitarian nation, but the legacy ...    Speech146   \n",
       "1278  ['We should work — thank you. [Applause]', 'We...    Speech146   \n",
       "1279  ['This will ensure that our own workers, right...    Speech146   \n",
       "1280  ['Some say the Russians won’t be reasonable. I...    Speech146   \n",
       "1281  ['Our power will be used if others do not play...    Speech146   \n",
       "1282  ['No country has ever prospered that failed to...    Speech146   \n",
       "\n",
       "            Candidate                           Title               Date  \\\n",
       "1274  Donald J. Trump  \\nRemarks on Foreign Policy \\n  \\nApril 27, 2016    \n",
       "1275  Donald J. Trump  \\nRemarks on Foreign Policy \\n  \\nApril 27, 2016    \n",
       "1276  Donald J. Trump  \\nRemarks on Foreign Policy \\n  \\nApril 27, 2016    \n",
       "1277  Donald J. Trump  \\nRemarks on Foreign Policy \\n  \\nApril 27, 2016    \n",
       "1278  Donald J. Trump  \\nRemarks on Foreign Policy \\n  \\nApril 27, 2016    \n",
       "1279  Donald J. Trump  \\nRemarks on Foreign Policy \\n  \\nApril 27, 2016    \n",
       "1280  Donald J. Trump  \\nRemarks on Foreign Policy \\n  \\nApril 27, 2016    \n",
       "1281  Donald J. Trump  \\nRemarks on Foreign Policy \\n  \\nApril 27, 2016    \n",
       "1282  Donald J. Trump  \\nRemarks on Foreign Policy \\n  \\nApril 27, 2016    \n",
       "\n",
       "                                                Content                Type  \\\n",
       "1274  \\nThank you for the opportunity to speak to yo...  Campaign Documents   \n",
       "1275  \\nThank you for the opportunity to speak to yo...  Campaign Documents   \n",
       "1276  \\nThank you for the opportunity to speak to yo...  Campaign Documents   \n",
       "1277  \\nThank you for the opportunity to speak to yo...  Campaign Documents   \n",
       "1278  \\nThank you for the opportunity to speak to yo...  Campaign Documents   \n",
       "1279  \\nThank you for the opportunity to speak to yo...  Campaign Documents   \n",
       "1280  \\nThank you for the opportunity to speak to yo...  Campaign Documents   \n",
       "1281  \\nThank you for the opportunity to speak to yo...  Campaign Documents   \n",
       "1282  \\nThank you for the opportunity to speak to yo...  Campaign Documents   \n",
       "\n",
       "                                    URL  Year  Month  Day  Pop  \\\n",
       "1274  /documents/remarks-foreign-policy  2016  April   27  NaN   \n",
       "1275  /documents/remarks-foreign-policy  2016  April   27  NaN   \n",
       "1276  /documents/remarks-foreign-policy  2016  April   27  NaN   \n",
       "1277  /documents/remarks-foreign-policy  2016  April   27  NaN   \n",
       "1278  /documents/remarks-foreign-policy  2016  April   27  NaN   \n",
       "1279  /documents/remarks-foreign-policy  2016  April   27  NaN   \n",
       "1280  /documents/remarks-foreign-policy  2016  April   27  NaN   \n",
       "1281  /documents/remarks-foreign-policy  2016  April   27  NaN   \n",
       "1282  /documents/remarks-foreign-policy  2016  April   27  NaN   \n",
       "\n",
       "                                             clean_text  \\\n",
       "1274   thank you for the opportunity to speak to you...   \n",
       "1275  first our resources are totally over extended ...   \n",
       "1276  when the other side knows you’re not going to ...   \n",
       "1277  we’re a humanitarian nation but the legacy of ...   \n",
       "1278  we should work — thank you applause we should ...   \n",
       "1279  this will ensure that our own workers right he...   \n",
       "1280  some say the russians won’t be reasonable i in...   \n",
       "1281  our power will be used if others do not play b...   \n",
       "1282  no country has ever prospered that failed to p...   \n",
       "\n",
       "                                           phrased_text  Pop_class  Pop_prob  \n",
       "1274  thank_you for the opportunity to speak to you ...          0  0.321102  \n",
       "1275  first our resources are totally over extended ...          0  0.111167  \n",
       "1276  when the other_side knows you’re not going to ...          0  0.111167  \n",
       "1277  we’re a humanitarian nation but the legacy of ...          0  0.111167  \n",
       "1278  we should work — thank_you applause we should ...          0  0.237557  \n",
       "1279  this will ensure that our own workers right_he...          0  0.043860  \n",
       "1280  some say the russians won’t be reasonable i in...          0  0.127476  \n",
       "1281  our power will be used if others do not play b...          0  0.111167  \n",
       "1282  no country has ever prospered that failed to p...          1  0.400641  "
      ]
     },
     "execution_count": 22,
     "metadata": {},
     "output_type": "execute_result"
    }
   ],
   "source": [
    "SubSpeech_predicted.loc[SubSpeech_predicted.Speech_index == \"Speech146\"]"
   ]
  },
  {
   "cell_type": "code",
   "execution_count": null,
   "metadata": {},
   "outputs": [],
   "source": []
  }
 ],
 "metadata": {
  "kernelspec": {
   "display_name": "Python 3",
   "language": "python",
   "name": "python3"
  },
  "language_info": {
   "codemirror_mode": {
    "name": "ipython",
    "version": 3
   },
   "file_extension": ".py",
   "mimetype": "text/x-python",
   "name": "python",
   "nbconvert_exporter": "python",
   "pygments_lexer": "ipython3",
   "version": "3.7.3"
  }
 },
 "nbformat": 4,
 "nbformat_minor": 2
}
