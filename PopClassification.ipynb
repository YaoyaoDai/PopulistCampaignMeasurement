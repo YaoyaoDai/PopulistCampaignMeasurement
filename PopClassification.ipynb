{
 "cells": [
  {
   "cell_type": "code",
   "execution_count": 12,
   "metadata": {},
   "outputs": [],
   "source": [
    "from gensim.models.doc2vec import Doc2Vec, TaggedDocument\n",
    "from gensim.models.deprecated.doc2vec import LabeledSentence\n",
    "from gensim.models.word2vec import Word2Vec\n",
    "from gensim.models.phrases import Phraser, Phrases\n",
    "from gensim.parsing.porter import PorterStemmer\n",
    "from gensim.parsing.preprocessing import STOPWORDS\n",
    "import pandas as pd\n",
    "import numpy as np\n",
    "\n",
    "from sklearn.ensemble import GradientBoostingClassifier, RandomForestClassifier\n",
    "from sklearn.model_selection import train_test_split, KFold, cross_val_score, GridSearchCV\n",
    "from sklearn import metrics\n",
    "#from sklearn.grid_search import GridSearchCV\n",
    "from sklearn.calibration import CalibratedClassifierCV\n",
    "from sklearn.metrics import confusion_matrix\n",
    "from sklearn.feature_extraction.text import CountVectorizer\n",
    "from sklearn.utils.multiclass import unique_labels\n",
    "\n",
    "from collections import Counter\n",
    "import matplotlib.pyplot as plt\n",
    "import string\n",
    "import re\n",
    "import random\n",
    "import glob\n",
    "import itertools\n",
    "\n",
    "import json\n",
    "\n",
    "np.random.seed(1234)\n",
    "random.seed(1234)\n",
    "\n",
    "porter = PorterStemmer()\n",
    "punctuation_dictionary = {s:None for s in list(string.punctuation)}\n",
    "punctuation_dictionary[\"-\"] = \"_\"\n",
    "\n",
    "punctuation_translator = str.maketrans(punctuation_dictionary)\n",
    "\n",
    "def text_cleaner(text, punctuation_translator, stemmer):\n",
    "    text = \"\".join(re.split('xa0',text))\n",
    "    text = str(text).translate(punctuation_translator)\n",
    "    text = text.lower()\n",
    "    text = porter.stem(text)\n",
    "    return(text)"
   ]
  },
  {
   "cell_type": "markdown",
   "metadata": {
    "collapsed": true
   },
   "source": [
    "## Load Speech & Clean"
   ]
  },
  {
   "cell_type": "code",
   "execution_count": 42,
   "metadata": {},
   "outputs": [
    {
     "data": {
      "text/html": [
       "<div>\n",
       "<style scoped>\n",
       "    .dataframe tbody tr th:only-of-type {\n",
       "        vertical-align: middle;\n",
       "    }\n",
       "\n",
       "    .dataframe tbody tr th {\n",
       "        vertical-align: top;\n",
       "    }\n",
       "\n",
       "    .dataframe thead th {\n",
       "        text-align: right;\n",
       "    }\n",
       "</style>\n",
       "<table border=\"1\" class=\"dataframe\">\n",
       "  <thead>\n",
       "    <tr style=\"text-align: right;\">\n",
       "      <th></th>\n",
       "      <th>Candidate</th>\n",
       "      <th>Chanel</th>\n",
       "      <th>City</th>\n",
       "      <th>Content</th>\n",
       "      <th>Date</th>\n",
       "      <th>Day</th>\n",
       "      <th>Description</th>\n",
       "      <th>Month</th>\n",
       "      <th>Speech_index</th>\n",
       "      <th>State</th>\n",
       "      <th>SubContent</th>\n",
       "      <th>Subject</th>\n",
       "      <th>Subspeech_index</th>\n",
       "      <th>Title</th>\n",
       "      <th>Type</th>\n",
       "      <th>URL</th>\n",
       "      <th>Year</th>\n",
       "      <th>Pop</th>\n",
       "    </tr>\n",
       "  </thead>\n",
       "  <tbody>\n",
       "    <tr>\n",
       "      <th>17448</th>\n",
       "      <td>John F. Kennedy</td>\n",
       "      <td>STUMP</td>\n",
       "      <td>PHOENIX</td>\n",
       "      <td>Ladies and gentlemen, I just hate to think--wo...</td>\n",
       "      <td>11/03</td>\n",
       "      <td>3.0</td>\n",
       "      <td>AIRPORT</td>\n",
       "      <td>11.0</td>\n",
       "      <td>Speech5234</td>\n",
       "      <td>ARIZONA</td>\n",
       "      <td>['Ladies and gentlemen, I just hate to think--...</td>\n",
       "      <td>-999</td>\n",
       "      <td>Speech5234_0:8</td>\n",
       "      <td>NaN</td>\n",
       "      <td>SPEECH</td>\n",
       "      <td>NaN</td>\n",
       "      <td>1960</td>\n",
       "      <td>NaN</td>\n",
       "    </tr>\n",
       "    <tr>\n",
       "      <th>17449</th>\n",
       "      <td>John F. Kennedy</td>\n",
       "      <td>STUMP</td>\n",
       "      <td>PHOENIX</td>\n",
       "      <td>My friend and colleague in the House, whom I a...</td>\n",
       "      <td>11/03</td>\n",
       "      <td>3.0</td>\n",
       "      <td>WESTWARD</td>\n",
       "      <td>11.0</td>\n",
       "      <td>Speech5235</td>\n",
       "      <td>ARIZONA</td>\n",
       "      <td>[\"My friend and colleague in the House, whom I...</td>\n",
       "      <td>-999</td>\n",
       "      <td>Speech5235_0:5</td>\n",
       "      <td>NaN</td>\n",
       "      <td>SPEECH</td>\n",
       "      <td>NaN</td>\n",
       "      <td>1960</td>\n",
       "      <td>NaN</td>\n",
       "    </tr>\n",
       "    <tr>\n",
       "      <th>17450</th>\n",
       "      <td>John F. Kennedy</td>\n",
       "      <td>STUMP</td>\n",
       "      <td>PHOENIX</td>\n",
       "      <td>Congressman Udall, my friend and colleague fro...</td>\n",
       "      <td>11/03</td>\n",
       "      <td>3.0</td>\n",
       "      <td>STREET</td>\n",
       "      <td>11.0</td>\n",
       "      <td>Speech5236</td>\n",
       "      <td>ARIZONA</td>\n",
       "      <td>['Congressman Udall, my friend and colleague f...</td>\n",
       "      <td>NATURAL</td>\n",
       "      <td>Speech5236_0:18</td>\n",
       "      <td>NaN</td>\n",
       "      <td>SPEECH</td>\n",
       "      <td>NaN</td>\n",
       "      <td>1960</td>\n",
       "      <td>NaN</td>\n",
       "    </tr>\n",
       "    <tr>\n",
       "      <th>17451</th>\n",
       "      <td>John F. Kennedy</td>\n",
       "      <td>STUMP</td>\n",
       "      <td>ALBUQUERQUE</td>\n",
       "      <td>Mr. Chairman, Governor Burroughs, Senator Chav...</td>\n",
       "      <td>11/03</td>\n",
       "      <td>3.0</td>\n",
       "      <td>-999</td>\n",
       "      <td>11.0</td>\n",
       "      <td>Speech5237</td>\n",
       "      <td>NEW</td>\n",
       "      <td>['Mr. Chairman, Governor Burroughs, Senator Ch...</td>\n",
       "      <td>CONGRESS,</td>\n",
       "      <td>Speech5237_0:17</td>\n",
       "      <td>NaN</td>\n",
       "      <td>SPEECH</td>\n",
       "      <td>NaN</td>\n",
       "      <td>1960</td>\n",
       "      <td>NaN</td>\n",
       "    </tr>\n",
       "    <tr>\n",
       "      <th>17452</th>\n",
       "      <td>John F. Kennedy</td>\n",
       "      <td>STUMP</td>\n",
       "      <td>AMARILLO</td>\n",
       "      <td>Lyndon; Ralph Yarborough; Mr. Mayor; Senator A...</td>\n",
       "      <td>11/03</td>\n",
       "      <td>3.0</td>\n",
       "      <td>AIRPORT</td>\n",
       "      <td>11.0</td>\n",
       "      <td>Speech5238</td>\n",
       "      <td>TEXAS</td>\n",
       "      <td>['Lyndon; Ralph Yarborough; Mr. Mayor; Senator...</td>\n",
       "      <td>ECONOMY--GENERAL,</td>\n",
       "      <td>Speech5238_0:15</td>\n",
       "      <td>NaN</td>\n",
       "      <td>SPEECH</td>\n",
       "      <td>NaN</td>\n",
       "      <td>1960</td>\n",
       "      <td>NaN</td>\n",
       "    </tr>\n",
       "  </tbody>\n",
       "</table>\n",
       "</div>"
      ],
      "text/plain": [
       "             Candidate Chanel         City  \\\n",
       "17448  John F. Kennedy  STUMP      PHOENIX   \n",
       "17449  John F. Kennedy  STUMP      PHOENIX   \n",
       "17450  John F. Kennedy  STUMP      PHOENIX   \n",
       "17451  John F. Kennedy  STUMP  ALBUQUERQUE   \n",
       "17452  John F. Kennedy  STUMP     AMARILLO   \n",
       "\n",
       "                                                 Content   Date  Day  \\\n",
       "17448  Ladies and gentlemen, I just hate to think--wo...  11/03  3.0   \n",
       "17449  My friend and colleague in the House, whom I a...  11/03  3.0   \n",
       "17450  Congressman Udall, my friend and colleague fro...  11/03  3.0   \n",
       "17451  Mr. Chairman, Governor Burroughs, Senator Chav...  11/03  3.0   \n",
       "17452  Lyndon; Ralph Yarborough; Mr. Mayor; Senator A...  11/03  3.0   \n",
       "\n",
       "      Description Month Speech_index    State  \\\n",
       "17448     AIRPORT  11.0   Speech5234  ARIZONA   \n",
       "17449    WESTWARD  11.0   Speech5235  ARIZONA   \n",
       "17450      STREET  11.0   Speech5236  ARIZONA   \n",
       "17451        -999  11.0   Speech5237      NEW   \n",
       "17452     AIRPORT  11.0   Speech5238    TEXAS   \n",
       "\n",
       "                                              SubContent            Subject  \\\n",
       "17448  ['Ladies and gentlemen, I just hate to think--...               -999   \n",
       "17449  [\"My friend and colleague in the House, whom I...               -999   \n",
       "17450  ['Congressman Udall, my friend and colleague f...            NATURAL   \n",
       "17451  ['Mr. Chairman, Governor Burroughs, Senator Ch...          CONGRESS,   \n",
       "17452  ['Lyndon; Ralph Yarborough; Mr. Mayor; Senator...  ECONOMY--GENERAL,   \n",
       "\n",
       "       Subspeech_index Title    Type  URL  Year  Pop  \n",
       "17448   Speech5234_0:8   NaN  SPEECH  NaN  1960  NaN  \n",
       "17449   Speech5235_0:5   NaN  SPEECH  NaN  1960  NaN  \n",
       "17450  Speech5236_0:18   NaN  SPEECH  NaN  1960  NaN  \n",
       "17451  Speech5237_0:17   NaN  SPEECH  NaN  1960  NaN  \n",
       "17452  Speech5238_0:15   NaN  SPEECH  NaN  1960  NaN  "
      ]
     },
     "execution_count": 42,
     "metadata": {},
     "output_type": "execute_result"
    }
   ],
   "source": [
    "SubSpeech = pd.read_csv('SubSpeech_coded_cleaned.csv')\n",
    "SubSpeech.tail()"
   ]
  },
  {
   "cell_type": "code",
   "execution_count": 43,
   "metadata": {},
   "outputs": [
    {
     "data": {
      "text/plain": [
       "(4363, 17453)"
      ]
     },
     "execution_count": 43,
     "metadata": {},
     "output_type": "execute_result"
    }
   ],
   "source": [
    "len(SubSpeech.Speech_index.unique()), len(SubSpeech.Subspeech_index)"
   ]
  },
  {
   "cell_type": "code",
   "execution_count": 44,
   "metadata": {},
   "outputs": [
    {
     "data": {
      "text/plain": [
       "65"
      ]
     },
     "execution_count": 44,
     "metadata": {},
     "output_type": "execute_result"
    }
   ],
   "source": [
    "len(SubSpeech[SubSpeech.Pop.isin(['accept','reject'])].Speech_index.unique())"
   ]
  },
  {
   "cell_type": "code",
   "execution_count": 45,
   "metadata": {},
   "outputs": [
    {
     "data": {
      "text/plain": [
       "419"
      ]
     },
     "execution_count": 45,
     "metadata": {},
     "output_type": "execute_result"
    }
   ],
   "source": [
    "len(SubSpeech[SubSpeech.Pop.isin(['accept','reject'])].Subspeech_index.unique())"
   ]
  },
  {
   "cell_type": "code",
   "execution_count": 46,
   "metadata": {},
   "outputs": [
    {
     "data": {
      "text/plain": [
       "reject    357\n",
       "accept     62\n",
       "Name: Pop, dtype: int64"
      ]
     },
     "execution_count": 46,
     "metadata": {},
     "output_type": "execute_result"
    }
   ],
   "source": [
    "SubSpeech.Pop.value_counts()"
   ]
  },
  {
   "cell_type": "code",
   "execution_count": 11,
   "metadata": {},
   "outputs": [
    {
     "data": {
      "text/plain": [
       "0.14797136038186157"
      ]
     },
     "execution_count": 11,
     "metadata": {},
     "output_type": "execute_result"
    }
   ],
   "source": [
    "62/419"
   ]
  },
  {
   "cell_type": "code",
   "execution_count": 47,
   "metadata": {},
   "outputs": [],
   "source": [
    "SubSpeech[\"clean_text\"] = SubSpeech[\"SubContent\"].apply(lambda x: text_cleaner(x, punctuation_translator, porter))"
   ]
  },
  {
   "cell_type": "code",
   "execution_count": 6,
   "metadata": {},
   "outputs": [],
   "source": [
    "#SubSpeech.head()"
   ]
  },
  {
   "cell_type": "code",
   "execution_count": 48,
   "metadata": {},
   "outputs": [],
   "source": [
    "phrases1 = Phrases(map(lambda x: x.split(), SubSpeech[\"clean_text\"].tolist()))\n",
    "phrases2 = Phrases(phrases1[map(lambda x: x.split(), SubSpeech[\"clean_text\"].tolist())])\n",
    "SubSpeech[\"phrased_text\"] = SubSpeech[\"clean_text\"].apply(lambda x: \" \".join(phrases2[phrases1[x.split()]]))"
   ]
  },
  {
   "cell_type": "markdown",
   "metadata": {},
   "source": [
    "## Doc2Vev Model"
   ]
  },
  {
   "cell_type": "code",
   "execution_count": 49,
   "metadata": {},
   "outputs": [],
   "source": [
    "docs = list(zip(SubSpeech[\"phrased_text\"].tolist(), SubSpeech[\"Subspeech_index\"].tolist()))\n",
    "\n",
    "\n",
    "## Define an iterator to feed documents and tags to Doc2Vec\n",
    "class Sentences(object):\n",
    "  def __init__(self, docs):\n",
    "    self.docs = docs\n",
    "  def __iter__(self):\n",
    "    for doc in self.docs:\n",
    "      yield TaggedDocument(words=str(doc[0]).split(), tags=[doc[1]])\n",
    "\n",
    "## Train and save models\n",
    "model = Doc2Vec(Sentences(docs), vector_size=150, window=10, min_count=5, negative=10, epochs=20, dm=0, dbow_words=1)"
   ]
  },
  {
   "cell_type": "code",
   "execution_count": 37,
   "metadata": {},
   "outputs": [],
   "source": [
    "#model.wv.save_word2vec_format(\"doc2vec_wordvecs.txt\", binary=False)"
   ]
  },
  {
   "cell_type": "code",
   "execution_count": 50,
   "metadata": {},
   "outputs": [],
   "source": [
    "model.save(\"doc2vec_wordvecs.model\")"
   ]
  },
  {
   "cell_type": "code",
   "execution_count": 51,
   "metadata": {},
   "outputs": [
    {
     "data": {
      "text/plain": [
       "[('freedom', 0.619663655757904),\n",
       " ('democraci', 0.5839061737060547),\n",
       " ('genuine_believers', 0.5610077977180481),\n",
       " ('export_terror_they', 0.558754563331604),\n",
       " ('democracies', 0.5499882698059082),\n",
       " ('modernity', 0.5475199222564697),\n",
       " ('communism', 0.5471711158752441),\n",
       " ('miskito_indians_abuse', 0.5424227714538574),\n",
       " ('republic', 0.5357458591461182),\n",
       " ('sandinistas_immediately_began', 0.531105637550354)]"
      ]
     },
     "execution_count": 51,
     "metadata": {},
     "output_type": "execute_result"
    }
   ],
   "source": [
    "model.wv.most_similar('democracy')"
   ]
  },
  {
   "cell_type": "code",
   "execution_count": 57,
   "metadata": {},
   "outputs": [
    {
     "name": "stdout",
     "output_type": "stream",
     "text": [
      "62\n",
      "['\\nThis is amazing. What a great place. Thank you very much. We have thousands of people outside trying to get in. But we should start. Do we agree? [applause]\\nWe should start. So they\\'ll come in. They\\'ll come in.\\nFirst of all I want to thank you. Special, special place. It\\'s a special place with incredible people. In one day, do you believe this? One day we are going to win the great state of North Carolina... [applause]\\nAnd we are going to win back the White House. [applause]\\nThis election will decide whether we are ruled by a corrupt political class. You\\'re seeing what\\'s happening. Everybody\\'s watching. Or whether we are ruled by the people. We\\'re going to be ruled by the people, folks. [applause]\\nThat is going to be the choice. A failed political establishment has delivered nothing but poverty, nothing but problems, nothing but losses. Nothing but losses. We don\\'t win anymore as a country. We\\'re going to start winning again. [applause]\\nThey get rich by making America poorer in many cases. It\\'s time to reject the media and political elite that has bled our country dry. [applause]\\nAnd these are among the most dishonest people. They don\\'t give you the truth, folks. They don\\'t give you the truth. [booing]\\nThey rarely give you the truth. You know it. And they know it. That\\'s the scary part. They know it.\\nIt\\'s time to fight for America. I\\'m not a politician, I can say proudly. My only special interest is you. It\\'s you. [applause]\\nWe\\'re going to bring back the jobs that have been stolen from you. We\\'re going to bring back the wealth that has been taken from our country. We\\'re going to bring back the miners and the factory workers and the steel workers. We\\'re going to put them back to work. [applause]\\nThe economic policies of Bill and Hillary Clinton have destroyed manufacturing in your state and throughout the entire country.\\nThe corrupt Clintons gave us NAFTA. China\\'s too horrible entry into the World Trade Organization. One of the disasters. The job-killing deal with South Korea. That was a Hillary Clinton beauty. And the Trans-Pacific Partnership, which will be a total disaster. [booing]\\nThat Hillary Clinton said this is the gold standard. And you know what? It is the gold -- she lied. She lied during the debate. She said -- hey, by the way, who won the debate? Did we win that debate? [applause]\\nBut she lied during the debate. She lied during the debate. She said it\\'s the gold standard. And then she said she never said it.\\nDon\\'t worry about coal. We\\'re bringing back coal, sir. He\\'s holding up a couple of...[applause]\\nClean coal. Clean coal. Right? We\\'re going to do clean coal, the miners. The miners are going to be back. Not if Hillary Clinton gets in. The miners, I guess you got to start thinking about something else. But the miners are going to be back. Clean coal. Clean coal\\nYou know, thinking about it, though. Also, people, the press doesn\\'t talk about it. Donna Brazile gets the questions through a debate...[booing]...but then it turns out to be a number of debates. [booing]\\nWho cares about Donna Brazile? She\\'s turned out to be not what people thought. She gets, illegally -- illegally. She gets the questions to the debate. She then takes those questions and gives them to crooked Hillary Clinton. [booing]\\nNow, does crooked Hillary report it? Does she say I shouldn\\'t have these questions or these answers? I think they gave them the answers also, right? No, she doesn\\'t. They doesn\\'t.\\nI wonder if she had -- I wonder if she had the questions in my debates. I don\\'t think so because she didn\\'t do that well. I don\\'t think so. I don\\'t think so. But the years of betrayal will end. And they will end. And they\\'re going to end quickly. They\\'re going to end as of the day we take office, which is going to be very, very soon. [applause]\\nThe theft of North Carolina jobs will end. You\\'ve taken in harder than most states.\\nReal change begins with immediately repealing and replacing Obamacare. [applause]\\nSadly, it\\'s just been announced that the residents of North Carolina are going to experience massive double-digit premium hikes. Ninety-five...[booing]...of the 100 North Carolina counties will only have one insurer in the Obamacare exchange next year. Lots of luck negotiating.\\nHonestly, it\\'s not going to matter because we\\'re going to win and we\\'re going to terminate it. You\\'re going to have such great health care...[applause]...for much less money. It won\\'t matter. [applause]\\nPremiums are searching. Companies are leaving. Insurers are fleeing. Doctors are quitting.\\nBy the way, doctors, they\\'re leaving. They\\'re quitting. I have a friend who\\'s a doctor. He said that I have more accountants than I have nurses, it\\'s so complicated.\\nAnd deductibles are going through the roof. Yet Hillary Clinton wants to double down and expand Obamacare and make it even more expensive. [booing]\\nI\\'m asking for your vote so we can repeal and replace Obamacare, and save health care for every family in North Carolina. [applause]\\nThank you. Thank you.\\nThank you. [applause]\\nPeople are pouring in, folks. They\\'re pouring in.\\nDid you see last night in Michigan the crowd we had? And the crowd we had -- by the way, how about 24,000 maybe 25,000 right next to Fort Brag. You saw that the other night. [applause]\\nAnd we went to Minnesota. Minnesota\\'s been treated very, very badly. We went to Minnesota where we\\'re doing very well. Everyone said why Minnesota? That doesn\\'t go Republican. It\\'s going Republican this year, I\\'ll tell you. Minnesota. Great place.\\nAnd you know, you\\'ve been watching and you\\'ve been seeing and these people are being driven crazy, the dishonest media. We\\'re winning Ohio. We\\'re winning Iowa. We\\'re winning, we think, New Hampshire. We\\'re going to do great in New Hampshire. I hear we\\'re winning North Carolina big... [applause]\\nI hear.\\nWe\\'re winning Florida. We\\'re winning Florida, doing really well. Headlines today are on drudge. how well we\\'re doing in Florida. And I think we\\'re going to win the great state of Pennsylvania, I do.\\nThen we\\'re winning plenty of other places. So we have to go. The big key, you have to go. You don\\'t win a rigged system, folks. We\\'re in a rigged system. You got to go. You got to vote. Got to make sure that vote gets registered.\\nReal change also means restoring honesty to our government\\nThank you. Thank you. Wow. Great, great spirit.\\nI have a job right next to -- we have a beautiful, beautiful property right next to -- right near Charlotte. You know about it, folks? It\\'s great right? Some of the people. But it\\'s an amazing place. It\\'s an amazing place to work and to live, and we love it.\\nHillary Clinton is the most corrupt person ever to seek the office of the presidency of the United States. [booing]\\nShe threatened national security, she sold her office to the highest bidder. And then to cover her tracks...[booing]...she deleted 33,000 emails after receiving a congressional subpoena, nothing happens to her. Nothing happens [booing]\\nShe\\'s being protected by a totally rigged system -- General James Cartwright. A four-star general. Two weeks ago probably going to jail for up to five years for doing nothing by comparison. But he said he did it for national security reasons and I can understand that. Go to jail for up to five years. General betrayes, his life was destroyed and here she is she is running for president 25 times worse than anybody has ever dreamt. It\\'s a rigged system. It is a rigged rigged system. [booing]\\nDon\\'t worry, folks. The cameras will never spin around and show this crowd. They never do. They show my face and the two people behind me, not the thousands behind me. They never do. They never do. [applause] [booing]\\nSo dishonest. There they are. There they are. My group. Women for Trump. [applause]\\nWomen for Trump. [applause]\\nThey\\'ve been following me, these ladies, for a long time. How are we doing? Are we doing well?\\nGreat people. Women for Trump.\\nAnd now it\\'s up to the American people to deliver the justice that we deserve at the ballot box tomorrow. At the ballot box. We\\'re going to win.\\nI think it\\'s a great way of showing what we have to show in light of what\\'s going on with justice in this country. I really do. I think it\\'s a great way. You show it tomorrow. We show it tomorrow.\\nMy contract with the American voter begins with a plan to end government corruption and to take our country back from the special interests. [applause]\\nAnd folks, I was on the other side for a long time. It\\'s a very good place to be. But I love the country. I love this country. I\\'ve really gotten to love the people of this country because I have been everywhere. We have the greatest people on earth. But I love this country.\\nAnd I couldn\\'t watch it when they made the Iran deal. They gave them $150 billion, a terrorist state. [booing]\\nA state that was ready to collapse until we made them rich and powerful. We gave them a path to nuclear weapons. They were ready to collapse. We gave them, remember, $400 billion, right? We gave them $400 million. Then we found out that was -- it wasn\\'t $400 million. It was $1.7 billion in cash. In cash. Do you know what $1.7 billion in cash is? You could take that whole side of the arena and you wouldn\\'t have enough room. How stupid are we to allow this to happen? Our leaders are incompetent. President Obama is campaigning today with Hillary Clinton because she can\\'t campaign. [booing]\\nShe can\\'t campaign. [booing]\\nSo Obama is taking Air Force One, which costs a fortune. You know he\\'s very much into the environment. And he\\'ll take a massive, old engine 747. Very much into the environment. Very much into the ozone layer. And yet he\\'ll fly that 747 all over the place to campaign for crooked Hillary.\\nAnd I don\\'t think it\\'s going to work. And she\\'s not getting any crowds. So she gets Beyonce and Jay-Z. I like them. [booing]\\nI like them. [booing]\\nAnd you know what they do? I get bigger crowds than they do. [applause]\\nIt\\'s true. I get far bigger crowds. [applause]\\nLook at this place. I mean, look at the crowds we had in Michigan.\\nBy the way, Michigan is in play. It hasn\\'t been in play for Republicans for 30 something years. Michigan is in play because they\\'re tired of watching their car factories be taken out. They\\'re tired of losing their jobs to Mexico.\\nFord. Ford right now moved all of its small car production to Mexico. They\\'re building the biggest plants in the world in Mexico. And Michigan has been complaining about it for five years to Mexico. [applause]\\nNo, we\\'re going to have some -- tomorrow\\'s going to be a very historic day. I really believe that. I think it\\'s going to show -- I think it\\'s going to be a Brexit plus, plus, plus. Does that make sense? [applause]\\nPlus, plus, plus. [applause]\\nIt will be amazing. It will be amazing.\\nI want the entire corrupt Washington establishment to hear the words we\\'re all about to say. This is a phrase, I told you. I didn\\'t like it. I thought it was hokie. But it\\'s not hokie. It\\'s called \"drain the swamp.\"\\nWe\\'re going to go to Washington. We\\'re going to drain the swamp. Can\\'t believe it.\\nI told the story. I hated that expression. I said no way I\\'m going to say that, no way. That\\'s so hokie. And I said it. The place went crazy.\\nThen I said it to another place. It went crazier. Then I said it with more confidence because you know confidence is -- and it went wild. Now I love the expression. I think it was genius.\\nDrain the swamp. Drain the swamp. [laughter]\\nIs there any place better to be than a Trump rally? Are we having fun? [applause]\\nAre we having fun? No? And I don\\'t have a guitar. And I don\\'t have a piano. All we have is great concepts for our country, which is the most important thing. Because frankly, when people get on stage, and they\\'re entertainers, and they entertain in order to get people to fill up a room for Hillary Clinton.\\nAnd by the way, they use the dirtiest language the other night. And it was -- many of the people left. You know they\\'re political people. They heard words they\\'ve never heard before. They left.\\nSo the place was half empty by the time -- actually, it never got full, even with them. Then it was pretty much empty midway through. And then most of the people just left. And when Hillary got up there was practically -- she might as well just have started with a few people. It would\\'ve been easier. [laughter]\\nBut you know she hears those words. I won\\'t use the words. I won\\'t even address the words. Because if I do the crooked media will say \"did you hear what Donald Trump said today?\" [booing]\\nBut honestly -- yes. [booing]\\nThose words were disgusting. If I ever said those words that Jay-Z said or that Beyonce said the other night, you know what would happen to me? The reinstitution of the electric chair.\\nIt would be -- how about if I got the answers to the debate? Or if I got the questions? Supposing instead of Hillary getting the questions to the debate, which is cheating. She\\'s a cheat. She is a cheat. She never reported it. She is a cheat.\\nSo supposing instead of her -- supposing somebody gave Donald Trump the questions to the debate. Headlines all over the world. He must withdraw from the race. You don\\'t even hear anything about crooked Hillary. She got the questions.\\nTo me that\\'s such a big difference. Some people say, my people, oh don\\'t mention that, it\\'s just -- I say to me it\\'s a big deal.\\nIt\\'s a big deal. But it\\'s not a big deal for the dishonest media to say. They don\\'t want to report it. But just think about it, supposing it was us.\\nAt the core of my contract is my plan to bring back our jobs. Bring them back to America. [applause]\\nAnd by the way, you have a great governor. Support your governor. He\\'s a great guy. [applause] Where is he? He\\'s here someplace. He\\'s a great guy and he\\'s in a tough fight. And he\\'s going to win that fight. But he\\'s a great guy. So hopefully you\\'ll support your governor.\\nNorth Carolina has lost nearly half of its manufacturing jobs since NAFTA, a deal signed by Bill Clinton and his lovely wife, Hillary. [booing]\\nWell think of it. Think of it. Think of the numbers of jobs.\\nHere\\'s the one that gets me the most. Two things get me the most. Two things that just don\\'t seem real. Because we\\'re going to take care of our veterans, right? Like big league. Because our veterans are great.\\nBut two statistics I can\\'t believe. Twenty-two suicides a day for our veterans.\\nThink of it. You wouldn\\'t think that\\'s possible. Because they\\'re treated so badly. They wait on line for six, seven, eight days for simple procedure that could solve their problem or for a prescription.\\nBut two numbers I don\\'t -- it just doesn\\'t make sense. Twenty- two suicides a day for our veterans. OK? It doesn\\'t make sense.\\nAnd here\\'s another one. America has lost 70,000 factories. Now I thought they meant 700 or 7,000 maybe. It\\'s 70,000 factories since China entered the World Trade Organization, another Bill and Hillary Clinton-backed disaster.\\nThink of it though. [booing]\\nThink of what 70,000 factories is.\\nSo those are the two numbers. They just don\\'t seem to be real. Sad numbers. Sad numbers. Especially the vets, to be honest with you.\\nWe\\'re living through the greatest jobs theft in the history of our world. There\\'s never been anything happened to a country like has been happening to the United States. Our jobs are fleeing. Our companies are being taken. And leaving. And leaving.\\nA Trump administration will stop the jobs from leaving America. And we will stop the jobs from leaving North Carolina. Believe me. [applause]\\nIf a company wants to fire their workers and leave, as an example North Carolina, and move to another country, and then ship their products back into the United States through what will be a very strong border, by the way.\\nWe will make them pay a 35 percent tax on every product that they ship back here. [applause]\\nAnd here\\'s what\\'s going to happen. They\\'re not going to leave. They\\'re not going to leave.\\nNow your politicians, some of them don\\'t understand it. Some only cut taxes for the middle class. And by the way, Hillary Clinton wants to raise your taxes, and you know that [booing]\\nSubstantially.\\nSo one of the highest taxes in the world, she wants to raise your taxes. Same old story.\\nWe will unleash the power of American energy including shale, oil, natural gas and clean coal. Our plan will end the EPA intrusion into your family farms, and stop double taxation of a family farm at that. [applause]\\nWe will cancel billions in global warming payments to the United Nations. Billions and billions of dollars. And we have no idea what they do with that money. I actually have a pretty good idea. You\\'re not going to like it. And use that -- we\\'re going to use that money to rebuild the infrastructure of our country. [applause]\\nAnd we will rebuild our inner cities. The African-American community, the Hispanic community...[applause]...have had such lies told to them. They live -- many, many people living in the inner cities of our country, they\\'re getting worse and worse. The crime is unbelievable. You can\\'t walk to the store and get a loaf of bread. Often you get shot.\\nChicago. Thousands and thousands of shootings since Jan. 1. You read it. The murder rate of the United States is the highest it\\'s been in 45 years. The dishonest media doesn\\'t tell you that stuff because they want you to like Obama. They want you to think Obama is doing a good job. And he\\'s not. [booing] And he\\'s not. [booing]\\nAnd he\\'s not. [booing]\\nSo you live in the inner cities. You\\'re African-American. You\\'re Hispanic. The schools are no good. There are no jobs. And it\\'s totally unsafe. And I say I will fix it. What the hell do you have to lose? I\\'m going to fix it. [applause]\\nWe are all going to fix it. [applause]\\nWe\\'re going to fix it. We\\'re going to bring back jobs. We\\'re going to bring back safety. And we\\'re going to get really good education going. There is tremendous potential, folks, in the inner cities, believe me, tremendous potential.\\nWe will become a rich nation again. But to be a rich nation, we must also be a safe nation. Hillary Clinton wants a 550 percent increase in Syrian refugees flowing into our country. [booing]\\nUnbelievable. It\\'s unbelievable. [booing]\\nHer plan will import generations of terrorism, extremism and radicalism into your schools and throughout your communities. And you don\\'t even know where they\\'re going. Your government doesn\\'t even know where they\\'re going.\\nWhen I\\'m elected president, we will suspend the Syrian refugee program...[applause]...and we will keep radical Islamic terrorists the hell out of our country. [applause]\\nHave no choice. [applause]\\nWe have no choice.\\nAUDIENCE: USA. USA. USA.\\nTRUMP: We have no choice.\\nBut we\\'re going to work because we all have hearts and it\\'s a big problem, caused to a large extent by Obama and Hillary Clinton.\\nThe migration, caused to a large extent -- ISIS was caused by them. They left a big vacuum. There was no ISIS when she first served as secretary. There was no ISIS. She created it.\\nNow she stands at the debate, \"I will fight ISIS.\" She\\'s got no chance. She\\'s going to fight nobody. She wants to go home and go to sleep. [laughter]\\nUnbelievable. She\\'s going to fight ISIS.\\nSo we\\'re going to build -- we\\'re going to build, we are going to build safe havens. We\\'re going to have the Gulf States who have nothing but money, they\\'re going to pay for it. We have $20 trillion in debt. And if it\\'s OK, I\\'m not going to spend a penny. We have $20 trillion in debt. And we still have to rebuild our country.\\nYou know it\\'s one thing like when you buy a company and it\\'s got some debt. We have $20 trillion in debt. But the country\\'s a mess. The roads are bad. The bridges are bad. The schools are bad. The hospitals are bad. The tunnels are bad. Everything\\'s bad. The military needs massive amounts of money.\\nSo we have all this horrible debt. It\\'s one thing if we had it and everything\\'s in tippy top shape. I like to say. You know I like the properties. Give me them. I want them. Give me them. But we have them and they\\'re a mess. And we have $20 trillion, which is far too much.\\nSo we\\'re going to get it down. And we\\'re going to rebuild our country. We have so many things we\\'re going to be doing. We\\'re going to be a rich nation again. [applause]\\nA Trump administration will also secure and defend the borders of the United States. [applause]\\nAnd yes, we will build a great wall and Mexico will pay for the wall 100 percent. [applause]\\nOne hundred percent. [applause]\\nMexico will pay. If you look at the incredible -- if you look at the incredible deficits we have with Mexico, it\\'s unbelievable. What we have, the cost of that wall is peanuts, is peanuts compared to the numbers you\\'re talking about on trade with Mexico.\\nAnd the numbers with China? Trade deficit? I mean we will have a trade deficit with China of close to $500 billion this year. We are going to lose in worldwide trade of goods, we\\'re going to lose worldwide close to $800 billion. What are we doing?\\nYou really ask, who is negotiating these deals? Where do these people come? You know where they come from? They\\'re political hacks.\\nYou\\'re dealing with the smartest people in the world. You have Chinese people, every -- you have from Japan, you have from all these other countries. They put their smartest and the best. We put political hacks that don\\'t know what they\\'re doing.\\nSo we have an -- and we have the greatest in the world. We have the greatest business people. We have the greatest negotiators. We don\\'t use them. We don\\'t use them. We use political people. Some of them got their job because they give campaign contributions. [booing]\\nWe\\'re going to get it straightened out, folks, starting tomorrow. Go vote. Go vote. [applause]\\nRight?\\nMy women. Hillary supports totally open borders. There goes your country. And strongly supports sanctuary cities like San Francisco where Kate Steinle was murdered violently by an illegal immigrant deported at least five times. We will cancel all federal funding to sanctuary cities. [applause]\\nWe will stop illegal immigration, deport all criminal aliens and dismantle every last criminal gang and cartel threatening our citizens. [applause]\\nWe will also repeal the Obama-Clinton Defense sequester, and rebuild our badly depleted military. [applause]\\nThere have been few times in our history where we\\'ve needed it more, few times. North Carolina will be at the very center of this effort with brand new advanced fighters flying from Seymour Johnson Air Force Base. [applause]\\nBeautiful. Beautiful. Beautiful, beautiful new fighters from Seymour Johnson.\\nAnd we\\'re going to have more battalions. You know the Marines are way, way off in terms of numbers. You know that. I know. Has there ever been? Yes, there have been. But rarely do we have times when we need this strong presence like now. The world hates us. The world hates us.\\nSo we\\'re going to increase -- thank you. We\\'re going to increase Marine battalions at Camp Lejeune. I\\'ve been to Camp Lejeune...[applause]\\nThey make major new investments. Where I was the other night, right next to it. I guess like 25,000 or 27,000 people at Fort Bragg. [applause]\\nGreat people. All soldiers are tough. A couple of them shook my hand. It was like oy, whoa. Take it easy, fellas. They are tough cookies. They are strong. They don\\'t know how strong they are. These are great people.\\nAnd new military technologies will be researched and developed right here at the Research Triangle. Right here. [applause]\\nI\\'m honored to have the endorsements of more than 200 top admirals and generals, and 22 Medal of Honor recipients. And every day those numbers go up big league. Big league. Show Less Text\\nAnd I asked some of the generals and admirals the other night by Fort Bragg. I asked them. I said fellas, let me ask you a question. They want to take over Mosul. Am I getting something wrong? Whatever happened to the element of surprise for us?\\nI\\'m talking to admirals now and generals. That\\'s what they do. I do other things. But you know it\\'s called like common sense.\\nYou got to say we\\'ve made a lot of right calls. I said why is it that four months away from going into Mosul they\\'re announcing \"we are going into Mosul?\" We\\'re going into Mosul because we want to get the leaders of ISIS and they\\'re staying in Mosul. And then three months they\\'re saying \"we are going in, in three months to Mosul.\" And then we\\'re going in, in two months.\\nAnd every time I hear, I put my hands, I go like this. I don\\'t want to hear this, please. And as you know, they\\'ve been met with tremendous resistance, much more than they would\\'ve been\\nAnd I guarantee you this. I can\\'t say it with certainty, only about 99.9 percent, OK? I can\\'t say -- nothing\\'s 100 percent. Even our victory isn\\'t 100 percent. But it\\'s starting to look pretty close, isn\\'t it? [applause]\\nThose numbers. Those numbers. [applause]\\nOh, these guys are unhappy. Look at them. They\\'re not happy. They are unhappy campers. Starting to look good. [booing]\\nStarting to look good.\\nBut wouldn\\'t it be nice if instead of announcing four months ago and there months ago. Then they have last -- two weeks ago they go next week we\\'re getting ready to raid.\\nThe leaders all left. They\\'re gone. And the other people are putting up much more of a fight. Horrible. They\\'re using human shields. It\\'s a horrible situation. I mean it\\'s hell. It\\'s hell.\\nBut why do we just watch what\\'s going on. Hillary and her failed establishment have trillion dollars on wars in the Middle East that we never win. We just keep fighting and fighting. It\\'s like a hose. The money just keeps pouring out. We never win.\\nAnd now the Middle East is in worse shape by far than it\\'s ever been. We have the Great Migration, the whole thing. They\\'ve dragged -- thank you. [applause]\\nI don\\'t even want to look. I\\'ll get myself. I don\\'t want to look. [laughter]\\nThey\\'ll make it -- I won\\'t even say I love you too because they\\'re going to make it a major headline if I said that. World\\'s most dishonest people. The world\\'s really dishonest people. [booing]\\nThey dragged us into foreign wars that have made us less safe. Shipped our jobs and wealth all over -- right open at home. You ever notice we send these incredible troops, so much death, so much injury, in order to create a border for a country that most people have never even heard of. And yet we don\\'t protect our own borders. Isn\\'t it an incredible thing?\\nThat will change starting tomorrow. [applause]\\nBecause from now on it\\'s going to be America first, America first. [applause]\\nSo just in summing up, to all Americans I say it\\'s time for a real leadership and time for change. We have to have change. [applause]\\nCan you imagine having Hillary for four years? [booing]\\nI\\'m being serious about that. I wouldn\\'t want to watch the news every night.\\nI mean look at what she\\'s done with the e-mails as an example. I mean did you ever see a mess like this? Did you ever see -- of course the FBI -- the director was obviously under tremendous pressure. So they went through 650,000 e-mails in eight days. Right.\\nSo sad what\\'s going on. And she still deleted them after getting a subpoena from Congress. I mean that\\'s a crime. What happened? That\\'s a crime. You don\\'t even need the new stuff. She shouldn\\'t be allowed to run. Shouldn\\'t be allowed to run.\\nJust think about what we can accomplish in the first 100 days of a Trump administration. [applause]\\nWe\\'re going to have the biggest tax cuts since Ronald Reagan.\\nAnd Hillary is going to raise your taxes substantially.\\nWe\\'re going to save and protect your Social Security and Medicare. [applause]\\nAnd Hillary is going to cut your Social Security and really injure Medicare. That\\'s what\\'s going to happen.\\nWe will eliminate every unnecessary, job-killing regulation. We\\'ll cancel every illegal Obama executive order. [applause]\\nBy the way, a man that loves this state. It\\'s his birthday today. Billy Graham, 98. [applause]\\nThe father of Franklin. Billy Graham. What a great one, right? Ninety-eight years old. He is a fantastic man. Franklin\\'s a fantastic man. And it\\'s so wonderful to have support of people like that.\\nWe\\'re going to protect religious liberty...[applause]...rebuild our military and take care of our great veterans. We\\'re going to take care of our veterans. [applause]\\nWe will provide school choice and put an end to Common Core. We move our education locally. [applause]\\nWe will support the men and women -- these are great people, the men and women of law enforcement. [applause]\\nWe\\'re going to save our Second Amendment. [applause]\\nAnd appoint justices to the United States Supreme Court who will uphold and defend the Constitution of the United States. [applause]\\nThis sounds so good to me because I started this on June 16th of last year because I couldn\\'t stand when I looked at what was going on with our country, I couldn\\'t stand it. I couldn\\'t stand it.\\nComing down the escalator, right, with Melania. Coming down that escalator June 16 of last year. And they were all saying -- there were all the dishonest pundits. Actually a few of them thought I had a hell of a chance if you want to know the -- the smarter ones. But they were all saying but he\\'s not involved with -- I\\'ve been involved with politics all my life, on the other side. But I\\'ve been involved.\\nWe had 17 people -- by the way, one of the great people in here tonight, Mike Huckabee. Where is Mike Huckabee? [applause]\\nHe\\'s such -- is he here someplace? He is here. He is so great. Mike, wherever you are, come on out because you are great. I just saw him.\\nBut we had 17 people of great talent. Ben Carson endorsed us. Mike...[applause]\\nMike endorsed us. Tremendous -- I mean very talented people. And one by one by one -- and they used to say -- well I remember we were down to like 13 or 14. In one state I got 49 percent. And one of these clowns said \"he has not reached the 50 percent mark.\" I got 49 percent with like 14 people. How do you get 49 percent with 14 people? And they said he hasn\\'t reached the 50 percent mark. They\\'re very dishonest people.\\nSo we ended up with 17 people, right? Don\\'t forget that\\'s hard because nobody else ever had a field that big or that violent, or that violent.\\nAnd we have a couple that didn\\'t endorse and that\\'s too bad. You know they signed a pledge. They didn\\'t honor it. But...[booing]\\nBut -- no. But for the most part...[booing]\\nNo. For the most part they were very honorable. But it was rough. They said it was the roughest primary every. I would say this is the roughest election.\\nYou know the NFL ratings are way down. You know why? Because everyone\\'s watching this. It\\'s actually tougher. It\\'s actually tougher. [applause]\\nEveryone\\'s watching. The NFL ratings are way down. A lot of people say it\\'s because of this.\\nSo you had 17 people. You\\'ve came down -- but we\\'ve got -- and this is a tribute to everybody in this room. We got the highest number of voters in the history of the Republican primary system. [applause]\\nSo well done. [applause]\\nThat\\'s a long time. You know, starting with Honest Abe Lincoln, right. That\\'s a long time. I got more than Honest Abe. That\\'s really the only thing I did better than Honest Abe. Honest Abe was pretty -- he was pretty good.\\nSo here\\'s the beauty. You have one day until the election. And it\\'s not even one day. It\\'s a half a day. To make every dream you\\'ve ever dreamed for your country and for your family to come true. You have one magnificent chance. And honestly, in four years it\\'s over, folks.\\nThere has never been a movement like this. Even these dishonest people in the media say there has never -- Bill O\\'Reilly. He said it\\'s the single greatest political phenomena that he\\'s witnessed in his life. That\\'s a pretty good statement. [applause]\\nBut others have said it. Others have said it. Others have said it. And it\\'s not going to happen again. It won\\'t be able to happen again. Four years it\\'ll never happen. So you got to get out there and you got to vote. Got to get out.\\nSomebody said what you\\'ve done has never been done before. It doesn\\'t matter if you win or lose. I said believe me, it matters. No, they said that. It\\'ll be down in the history books. I said you know what? You may be right about that.\\nBut if we don\\'t win I will consider this the single greatest waste of time, energy. Wow do I -- you need energy for this. The single greatest waste of time, energy and money.\\nI have over $100 million. That\\'s a lot of money that I don\\'t take in from the special interests because I don\\'t need it. That\\'s nice.\\nAnd we have the biggest Internet -- you know the small donors? The small donors are giving us money at record clips. I think we had $82 million and then we had close to $100 million. And it comes in. And I think the average was like $61 each. I love those people. Those are people that love this country. [applause]\\nAnd usually that\\'s for the Democrats. You know in all fairness, that\\'s usually for the Democrats to do that. But we\\'re beating everybody. Nobody\\'s seen anything like what we\\'re doing.\\nSo we don\\'t want to blow it. We don\\'t want to waste it. Go vote. Go vote. Because believe me, if we don\\'t win, all of us, honestly we\\'ve all wasted our time, I\\'ll be honest. Because nothing\\'s going to happen.\\nThey may say good things about us as a movement. Won\\'t mean a damn thing, folks. You got to go out. We got to vote and we got to win. Change. [applause]\\nChange.\\nSo you have one magnificent chance to beat the corrupt system that you\\'re witnessing today, and to deliver justice for every forgotten man and woman and child in this nation. Do not let this opportunity slip away. We\\'re fighting for every citizen who believes that government should serve the people, not the donors and not the special interests. [applause]\\nAnd we\\'re fighting, we\\'re fighting to bring us all together as Americans. We\\'re a very divided country. People don\\'t realize we are an unbelievably divided country. We\\'re going to come together.\\nJust imagine what our country could accomplish if we started working together as one people under one God, saluting one American flag. [applause]\\nJust imagine.\\nI\\'m asking you to dream big because with your vote we are just one day away from the change you\\'ve been waiting for, for your entire life. [applause]\\nBecause if we win tomorrow, we will be able to make America wealthy again, to make America strong again, to make America safe again, and to make America great again.\\nGod bless you, everybody. [applause]\\nThank you. God bless you. Thank you, North Carolina. [applause]\\nThank you, folks. Thank you. [applause]\\n']\n"
     ]
    },
    {
     "data": {
      "text/plain": [
       "[('crooked_hillary', 0.5500898361206055),\n",
       " ('buzzing', 0.48584043979644775),\n",
       " ('crooked_hillary_clinton', 0.4827480912208557),\n",
       " ('pretty_amazing', 0.4824979305267334),\n",
       " ('monei', 0.4736645519733429),\n",
       " ('lock_her_up_lock', 0.47317051887512207),\n",
       " ('booing', 0.46610695123672485),\n",
       " ('errand', 0.46151503920555115),\n",
       " ('iran_deal', 0.46104520559310913),\n",
       " ('totally_dishonest', 0.45536530017852783)]"
      ]
     },
     "execution_count": 57,
     "metadata": {},
     "output_type": "execute_result"
    }
   ],
   "source": [
    "#Most similar phrase to populist doc\n",
    "populist_index = list(set(SubSpeech.loc[SubSpeech['Pop'] == \"accept\", \"Subspeech_index\"].tolist()))\n",
    "print(len(populist_index))\n",
    "i = 13\n",
    "\n",
    "value = SubSpeech.loc[SubSpeech['Subspeech_index']==populist_index[i]][\"Content\"].tolist()\n",
    "print(value)\n",
    "model.wv.most_similar([model.docvecs[populist_index[i]]])"
   ]
  },
  {
   "cell_type": "markdown",
   "metadata": {},
   "source": [
    "## Classification"
   ]
  },
  {
   "cell_type": "code",
   "execution_count": 20,
   "metadata": {},
   "outputs": [],
   "source": [
    "SubSpeech = pd.read_csv('SubSpeech_coded_cleaned.csv')"
   ]
  },
  {
   "cell_type": "code",
   "execution_count": 25,
   "metadata": {},
   "outputs": [],
   "source": [
    "#SubSpeech.head()"
   ]
  },
  {
   "cell_type": "code",
   "execution_count": 14,
   "metadata": {},
   "outputs": [],
   "source": [
    "model = Word2Vec.load(\"doc2vec_wordvecs.model\")"
   ]
  },
  {
   "cell_type": "code",
   "execution_count": 59,
   "metadata": {},
   "outputs": [],
   "source": [
    "SubSpeech.Pop.replace('accept',1, inplace=True)"
   ]
  },
  {
   "cell_type": "code",
   "execution_count": 60,
   "metadata": {},
   "outputs": [],
   "source": [
    "SubSpeech.Pop.replace('reject',0, inplace=True)"
   ]
  },
  {
   "cell_type": "code",
   "execution_count": 61,
   "metadata": {},
   "outputs": [
    {
     "data": {
      "text/plain": [
       "0.0    357\n",
       "1.0     62\n",
       "Name: Pop, dtype: int64"
      ]
     },
     "execution_count": 61,
     "metadata": {},
     "output_type": "execute_result"
    }
   ],
   "source": [
    "SubSpeech.Pop.value_counts()"
   ]
  },
  {
   "cell_type": "code",
   "execution_count": 62,
   "metadata": {},
   "outputs": [
    {
     "name": "stdout",
     "output_type": "stream",
     "text": [
      "                    Pop\n",
      "Subspeech_index        \n",
      "Speech1025_0:10     0.0\n",
      "Speech1025_100:110  0.0\n",
      "Speech1025_10:20    0.0\n",
      "Speech1025_110:120  0.0\n",
      "Speech1025_120:130  0.0\n",
      "(419, 1)\n",
      "(419, 150)\n",
      "[0 0 0 0 0 0 0 0 0 0 0 0 0 0 0 0 0 0 1 0 0 0 1 1 0 0 1 1 1 0 0 1 1 1 0 1 0\n",
      " 0 0 0 0 0 0 0 0 0 0 0 0 0 0 0 0 0 0 0 0 0 0 0 0 1 1 0 0 0 0 0 0 0 0 0 1 0\n",
      " 1 0 0 0 0 0 0 0 0 0 1 1 0 0 1 1 0 0 0 0 0 0 0 0 0 0 0 0 0 0 0 0 0 0 0 1 0\n",
      " 0 0 1 1 0 0 0 0 0 0 0 1 1 0 0 0 0 0 0 0 0 0 0 0 0 0 0 0 0 0 0 0 0 0 0 0 0\n",
      " 0 0 0 0 0 0 0 0 0 0 0 0 0 0 0 0 0 0 0 0 0 1 1 1 1 0 0 0 0 0 0 0 0 0 0 0 0\n",
      " 0 0 0 0 0 0 0 0 0 0 0 0 0 0 0 0 0 0 0 0 0 0 0 0 0 0 0 0 0 0 0 0 0 0 0 0 0\n",
      " 0 0 1 0 0 0 0 0 0 1 0 0 1 0 0 0 0 0 0 0 1 0 0 0 0 0 0 0 1 0 0 0 0 0 0 0 0\n",
      " 0 0 0 0 0 0 0 0 0 0 0 0 0 0 0 0 0 0 0 0 0 1 1 1 1 0 0 0 0 0 0 0 0 1 0 0 0\n",
      " 0 0 1 0 0 0 0 0 0 1 0 0 0 0 0 0 0 0 0 0 0 0 1 0 1 0 0 0 1 1 0 0 0 0 0 0 0\n",
      " 0 0 0 0 0 0 0 1 0 0 0 0 0 0 0 0 0 0 0 0 0 0 0 0 1 1 1 0 1 1 1 1 0 0 0 0 0\n",
      " 0 0 0 0 0 0 0 0 0 0 0 0 0 1 1 0 0 0 1 1 0 0 0 0 0 0 0 0 0 0 0 0 1 1 1 1 0\n",
      " 0 1 0 1 1 0 0 0 0 0 0 0]\n"
     ]
    }
   ],
   "source": [
    "labelled_data = SubSpeech.loc[SubSpeech['Pop'].isin([0,1])][[\"Subspeech_index\",\"Pop\"]]\n",
    "labelled_data = labelled_data.groupby([\"Subspeech_index\"]).mean()\n",
    "print(labelled_data.head())\n",
    "print(labelled_data.shape)\n",
    "\n",
    "X = np.asarray([model.docvecs[i] for i in labelled_data.index.tolist()])\n",
    "Y = np.asarray(labelled_data['Pop'].tolist(), dtype=\"int\")\n",
    "\n",
    "# ## Get the words most closely associated with all of the \"populist\" articles\n",
    "# for k, v in model.most_similar(model.docvecs[populist_indices], topn=50):\n",
    "#   print(k) \n",
    "#kf = KFold(n_splits=5)\n",
    "\n",
    "print(X.shape)\n",
    "print(Y)"
   ]
  },
  {
   "cell_type": "code",
   "execution_count": 233,
   "metadata": {},
   "outputs": [
    {
     "name": "stderr",
     "output_type": "stream",
     "text": [
      "//anaconda3/lib/python3.7/site-packages/ipykernel_launcher.py:18: MatplotlibDeprecationWarning: Adding an axes using the same arguments as a previous axes currently reuses the earlier instance.  In a future version, a new instance will always be created and returned.  Meanwhile, this warning can be suppressed, and the future behavior ensured, by passing a unique label to each axes instance.\n"
     ]
    },
    {
     "name": "stdout",
     "output_type": "stream",
     "text": [
      "AUC: 0.9367588932806323\n",
      "Accuracy: 0.9\n",
      "Mean AUC: 0.9367588932806323\n",
      "Mean Accuracy: 0.9\n"
     ]
    },
    {
     "data": {
      "image/png": "[encoded data removed]",
      "text/plain": [
       "<Figure size 432x288 with 1 Axes>"
      ]
     },
     "metadata": {},
     "output_type": "display_data"
    }
   ],
   "source": [
    "auc_scores_d2v = []\n",
    "accuracy_scores_d2v = []\n",
    "\n",
    "np.random.seed(234) \n",
    "random.seed(234)\n",
    "\n",
    "plt.figure()\n",
    "plt.rcParams['figure.facecolor'] = 'white'\n",
    "plt.rcParams['axes.facecolor'] = 'white'\n",
    "plt.rcParams['axes.edgecolor'] = 'black'\n",
    "plt.rcParams['xtick.color'] = 'black'\n",
    "plt.rcParams['ytick.color'] = 'black'\n",
    "plt.rcParams['axes.labelcolor'] = 'black'\n",
    "plt.rcParams['savefig.transparent'] = 'false'\n",
    "\n",
    "plt.xlim([-0.01, 1.00])\n",
    "plt.ylim([-0.01, 1.01])\n",
    "plt.axes().set_aspect('equal')\n",
    "plt.plot([0, 1], [0, 1], color='gray', lw=2, linestyle='--')\n",
    "plt.xlabel('False Positive Rate', fontsize=16)\n",
    "plt.ylabel('True Positive Rate', fontsize=16)\n",
    "#plt.title('ROC curve', fontsize=16)\n",
    "for i in range(1):\n",
    "    ## Create a test and train set\n",
    "    test_size = 80\n",
    "    test_set = random.sample(range(0,len(Y)), test_size)\n",
    "    train_set = list(set(list(range(0,len(Y)))) - set(test_set))\n",
    "    ## Initialize a random forest classifier\n",
    "    gbc = RandomForestClassifier(n_estimators=5000, max_depth=10, random_state=0, class_weight=\"balanced\")\n",
    "  # gbc = GradientBoostingClassifier(loss=\"deviance\",\n",
    "  #   learning_rate=0.1,\n",
    "  #   n_estimators=20000,\n",
    "  #   subsample=1.0,\n",
    "  #   min_samples_split=2,\n",
    "  #   min_samples_leaf=1,\n",
    "  #   max_depth=4,\n",
    "  #   init=None,\n",
    "  #   random_state=None,\n",
    "  #   max_features=None,\n",
    "  #   verbose=0)\n",
    "    gbc = CalibratedClassifierCV(gbc, cv=3, method=\"sigmoid\")\n",
    "    #gbc = CalibratedClassifierCV(gbc, cv=2, method=\"isotonic\")\n",
    "    ## Fit the model to the training set\n",
    "    gbc.fit(X[np.asarray(train_set, dtype=\"int\")], Y[np.asarray(train_set, dtype=\"int\")])\n",
    "    ## Predict out-of-sample on the test set and compute AUC\n",
    "    preds = gbc.predict_proba(X[np.asarray(test_set, dtype=\"int\")])\n",
    "    fpr_d2v, tpr_d2v, thresholds_d2v = metrics.roc_curve(Y[np.asarray(test_set, dtype=\"int\")], preds[:,1], pos_label=1)\n",
    "    auc_scores_d2v = auc_scores_d2v + [metrics.auc(fpr_d2v, tpr_d2v)]\n",
    "    plt.plot(fpr_d2v, tpr_d2v, lw=2, linestyle='--', label=\"AUC:\" + str(metrics.auc(fpr_d2v, tpr_d2v))[0:4],color='#fd8d3c')\n",
    "    print(\"AUC: \"+str(metrics.auc(fpr_d2v, tpr_d2v)))\n",
    "    accuracy_d2v = metrics.accuracy_score(Y[np.asarray(test_set, dtype=\"int\")], gbc.predict(X[np.asarray(test_set, dtype=\"int\")]), normalize=True)\n",
    "    accuracy_scores_d2v = accuracy_scores_d2v + [accuracy_d2v]\n",
    "    print(\"Accuracy: \" + str(accuracy_d2v))\n",
    "leg = plt.legend(framealpha = 0,loc='lower right', fontsize=13)\n",
    "for text in leg.get_texts():\n",
    "    plt.setp(text, color = 'black')\n",
    "plt.savefig('images/d2v_rocs.png')\n",
    "# vocab = model.wv.vocab.keys()\n",
    "# vectors = [model[v] for v in vocab]\n",
    "# vectors = np.asarray(vectors)\n",
    "\n",
    "# word_preds = gbc.predict_proba(vectors)\n",
    "# word_scores = dict(zip(vocab, word_preds[:,1].tolist()))\n",
    "# sorted_keys = sorted(word_scores, key=word_scores.get, reverse=True)\n",
    "# for r in sorted_keys[0:100]:\n",
    "#     print(str(r))\n",
    "print(\"Mean AUC: \" + str(np.mean(auc_scores_d2v)))\n",
    "print(\"Mean Accuracy: \" + str(np.mean(accuracy_scores_d2v)))"
   ]
  },
  {
   "cell_type": "code",
   "execution_count": 228,
   "metadata": {},
   "outputs": [
    {
     "name": "stdout",
     "output_type": "stream",
     "text": [
      "[[69  0]\n",
      " [ 8  3]]\n"
     ]
    }
   ],
   "source": [
    "predicted = gbc.predict(X[np.asarray(test_set, dtype=\"int\")])\n",
    "confusion = confusion_matrix(Y[np.asarray(test_set, dtype=\"int\")], predicted)\n",
    "print(confusion)"
   ]
  },
  {
   "cell_type": "code",
   "execution_count": 75,
   "metadata": {},
   "outputs": [],
   "source": [
    "def plot_confusion_matrix(y_true, y_pred,\n",
    "                          normalize=False,\n",
    "                          title=None,\n",
    "                          cmap=plt.cm.Blues):\n",
    "    \"\"\"\n",
    "    This function prints and plots the confusion matrix.\n",
    "    Normalization can be applied by setting `normalize=True`.\n",
    "    \"\"\"\n",
    "    if not title:\n",
    "        if normalize:\n",
    "            title = 'Normalized confusion matrix'\n",
    "        else:\n",
    "            title = 'Confusion matrix, without normalization'\n",
    "\n",
    "    # Compute confusion matrix\n",
    "    cm = confusion_matrix(y_true, y_pred)\n",
    "    # Only use the labels that appear in the data\n",
    "    classes = unique_labels(y_true, y_pred)\n",
    "    if normalize:\n",
    "        cm = cm.astype('float') / cm.sum(axis=1)[:, np.newaxis]\n",
    "        print(\"Normalized confusion matrix\")\n",
    "    else:\n",
    "        print('Confusion matrix, without normalization')\n",
    "\n",
    "    print(cm)\n",
    "\n",
    "    fig, ax = plt.subplots()\n",
    "    im = ax.imshow(cm, interpolation='nearest', cmap=cmap)\n",
    "    ax.figure.colorbar(im, ax=ax)\n",
    "    # We want to show all ticks...\n",
    "    ax.set(xticks=np.arange(cm.shape[1]),\n",
    "           yticks=np.arange(cm.shape[0]),\n",
    "           # ... and label them with the respective list entries\n",
    "           xticklabels=classes, yticklabels=classes,\n",
    "           title=title,\n",
    "           ylabel='True label',\n",
    "           xlabel='Predicted label')\n",
    "\n",
    "    # Rotate the tick labels and set their alignment.\n",
    "    plt.setp(ax.get_xticklabels(), rotation=45, ha=\"right\",\n",
    "             rotation_mode=\"anchor\")\n",
    "\n",
    "    # Loop over data dimensions and create text annotations.\n",
    "    fmt = '.2f' if normalize else 'd'\n",
    "    thresh = cm.max() / 2.\n",
    "    for i in range(cm.shape[0]):\n",
    "        for j in range(cm.shape[1]):\n",
    "            ax.text(j, i, format(cm[i, j], fmt),\n",
    "                    ha=\"center\", va=\"center\",\n",
    "                    color=\"white\" if cm[i, j] > thresh else \"black\")\n",
    "    fig.tight_layout()\n",
    "    return ax\n"
   ]
  },
  {
   "cell_type": "code",
   "execution_count": 76,
   "metadata": {},
   "outputs": [
    {
     "name": "stdout",
     "output_type": "stream",
     "text": [
      "Confusion matrix, without normalization\n",
      "[[69  0]\n",
      " [ 8  3]]\n"
     ]
    },
    {
     "data": {
      "text/plain": [
       "<matplotlib.axes._subplots.AxesSubplot at 0x1a2dde9c18>"
      ]
     },
     "execution_count": 76,
     "metadata": {},
     "output_type": "execute_result"
    },
    {
     "data": {
      "image/png": "[encoded data removed]",
      "text/plain": [
       "<Figure size 432x288 with 2 Axes>"
      ]
     },
     "metadata": {},
     "output_type": "display_data"
    }
   ],
   "source": [
    "plot_confusion_matrix(Y[np.asarray(test_set, dtype=\"int\")], predicted, \n",
    "                      title='Confusion matrix, without normalization')"
   ]
  },
  {
   "cell_type": "code",
   "execution_count": 234,
   "metadata": {},
   "outputs": [],
   "source": [
    "scores = gbc.predict_proba(np.asarray([model.docvecs[a] for a in SubSpeech[\"Subspeech_index\"]]))\n",
    "predictions = gbc.predict(np.asarray([model.docvecs[a] for a in SubSpeech[\"Subspeech_index\"]]))"
   ]
  },
  {
   "cell_type": "code",
   "execution_count": 235,
   "metadata": {},
   "outputs": [],
   "source": [
    "SubSpeech[\"Pop_class\"] = predictions.tolist()\n",
    "SubSpeech[\"Pop_prob\"] = scores[:,1].tolist()"
   ]
  },
  {
   "cell_type": "code",
   "execution_count": 236,
   "metadata": {},
   "outputs": [
    {
     "data": {
      "text/plain": [
       "count    17453.000000\n",
       "mean         0.122770\n",
       "std          0.099268\n",
       "min          0.022972\n",
       "25%          0.062613\n",
       "50%          0.090324\n",
       "75%          0.143656\n",
       "max          0.932032\n",
       "Name: Pop_prob, dtype: float64"
      ]
     },
     "execution_count": 236,
     "metadata": {},
     "output_type": "execute_result"
    }
   ],
   "source": [
    "SubSpeech[\"Pop_prob\"].describe()"
   ]
  },
  {
   "cell_type": "code",
   "execution_count": 77,
   "metadata": {},
   "outputs": [],
   "source": [
    "#SubSpeech.sort_values(by=['Pop_prob']).tail()"
   ]
  },
  {
   "cell_type": "code",
   "execution_count": 239,
   "metadata": {},
   "outputs": [],
   "source": [
    "SubSpeech[\"Pop_class\"] = [1 if x>=0.35 else 0 for x in SubSpeech[\"Pop_prob\"]]"
   ]
  },
  {
   "cell_type": "code",
   "execution_count": 240,
   "metadata": {},
   "outputs": [
    {
     "data": {
      "text/plain": [
       "0.03999312439122214"
      ]
     },
     "execution_count": 240,
     "metadata": {},
     "output_type": "execute_result"
    }
   ],
   "source": [
    "np.mean(SubSpeech[\"Pop_class\"])"
   ]
  },
  {
   "cell_type": "code",
   "execution_count": 241,
   "metadata": {
    "scrolled": true
   },
   "outputs": [
    {
     "name": "stdout",
     "output_type": "stream",
     "text": [
      "Confusion matrix, without normalization\n",
      "[[354   3]\n",
      " [  5  57]]\n"
     ]
    },
    {
     "data": {
      "text/plain": [
       "<matplotlib.axes._subplots.AxesSubplot at 0x1a3299c5c0>"
      ]
     },
     "execution_count": 241,
     "metadata": {},
     "output_type": "execute_result"
    },
    {
     "data": {
      "image/png": "[encoded data removed]",
      "text/plain": [
       "<Figure size 432x288 with 2 Axes>"
      ]
     },
     "metadata": {},
     "output_type": "display_data"
    }
   ],
   "source": [
    "plot_confusion_matrix(SubSpeech.loc[SubSpeech['Pop'].isin([0,1])][\"Pop\"], \n",
    "                      SubSpeech.loc[SubSpeech['Pop'].isin([0,1])][\"Pop_class\"])"
   ]
  },
  {
   "cell_type": "code",
   "execution_count": 242,
   "metadata": {},
   "outputs": [],
   "source": [
    "test_proba = gbc.predict_proba(X[np.asarray(test_set, dtype=\"int\")])[:,1]\n",
    "test_class = [1 if x>=0.35 else 0 for x in test_proba]"
   ]
  },
  {
   "cell_type": "code",
   "execution_count": 243,
   "metadata": {},
   "outputs": [
    {
     "name": "stdout",
     "output_type": "stream",
     "text": [
      "Confusion matrix, without normalization\n",
      "[[67  2]\n",
      " [ 5  6]]\n"
     ]
    },
    {
     "data": {
      "text/plain": [
       "<matplotlib.axes._subplots.AxesSubplot at 0x1a299504a8>"
      ]
     },
     "execution_count": 243,
     "metadata": {},
     "output_type": "execute_result"
    },
    {
     "data": {
      "image/png": "[encoded data removed]",
      "text/plain": [
       "<Figure size 432x288 with 2 Axes>"
      ]
     },
     "metadata": {},
     "output_type": "display_data"
    }
   ],
   "source": [
    "plot_confusion_matrix(Y[np.asarray(test_set, dtype=\"int\")], test_class, \n",
    "                      title='Confusion matrix, without normalization')"
   ]
  },
  {
   "cell_type": "code",
   "execution_count": 68,
   "metadata": {},
   "outputs": [],
   "source": [
    "SubSpeech.to_csv('SubSpeech_predicted_update.csv', index=False)"
   ]
  },
  {
   "cell_type": "code",
   "execution_count": 244,
   "metadata": {},
   "outputs": [],
   "source": [
    "SubSpeech.to_csv('SubSpeech_predicted_update_new.csv', index=False)"
   ]
  },
  {
   "cell_type": "markdown",
   "metadata": {},
   "source": [
    "## Example for paper"
   ]
  },
  {
   "cell_type": "code",
   "execution_count": 122,
   "metadata": {},
   "outputs": [],
   "source": [
    "outsample = SubSpeech[SubSpeech.Pop.isna()]"
   ]
  },
  {
   "cell_type": "code",
   "execution_count": 124,
   "metadata": {},
   "outputs": [
    {
     "data": {
      "text/html": [
       "<div>\n",
       "<style scoped>\n",
       "    .dataframe tbody tr th:only-of-type {\n",
       "        vertical-align: middle;\n",
       "    }\n",
       "\n",
       "    .dataframe tbody tr th {\n",
       "        vertical-align: top;\n",
       "    }\n",
       "\n",
       "    .dataframe thead th {\n",
       "        text-align: right;\n",
       "    }\n",
       "</style>\n",
       "<table border=\"1\" class=\"dataframe\">\n",
       "  <thead>\n",
       "    <tr style=\"text-align: right;\">\n",
       "      <th></th>\n",
       "      <th>Candidate</th>\n",
       "      <th>Chanel</th>\n",
       "      <th>City</th>\n",
       "      <th>Content</th>\n",
       "      <th>Date</th>\n",
       "      <th>Day</th>\n",
       "      <th>Description</th>\n",
       "      <th>Month</th>\n",
       "      <th>Speech_index</th>\n",
       "      <th>State</th>\n",
       "      <th>...</th>\n",
       "      <th>Subspeech_index</th>\n",
       "      <th>Title</th>\n",
       "      <th>Type</th>\n",
       "      <th>URL</th>\n",
       "      <th>Year</th>\n",
       "      <th>Pop</th>\n",
       "      <th>clean_text</th>\n",
       "      <th>phrased_text</th>\n",
       "      <th>Pop_class</th>\n",
       "      <th>Pop_prob</th>\n",
       "    </tr>\n",
       "  </thead>\n",
       "  <tbody>\n",
       "    <tr>\n",
       "      <th>5256</th>\n",
       "      <td>Barack Obama</td>\n",
       "      <td>NaN</td>\n",
       "      <td>NaN</td>\n",
       "      <td>\\nWe meet here at a time of great uncertainty ...</td>\n",
       "      <td>\\nSeptember 28, 2008</td>\n",
       "      <td>28.0</td>\n",
       "      <td>NaN</td>\n",
       "      <td>September</td>\n",
       "      <td>Speech924</td>\n",
       "      <td>NaN</td>\n",
       "      <td>...</td>\n",
       "      <td>Speech924_10:20</td>\n",
       "      <td>\\nRemarks in Detroit, Michigan\\n</td>\n",
       "      <td>Campaign Documents</td>\n",
       "      <td>/documents/remarks-detroit-michigan</td>\n",
       "      <td>2008</td>\n",
       "      <td>NaN</td>\n",
       "      <td>third i said that we cannot and will not simpl...</td>\n",
       "      <td>third i said that we cannot and will not simpl...</td>\n",
       "      <td>1</td>\n",
       "      <td>0.716134</td>\n",
       "    </tr>\n",
       "    <tr>\n",
       "      <th>1627</th>\n",
       "      <td>Bernie Sanders</td>\n",
       "      <td>NaN</td>\n",
       "      <td>NaN</td>\n",
       "      <td>\\nAUDIENCE: Bernie! Bernie! Bernie! Bernie!\\nS...</td>\n",
       "      <td>\\nJanuary 26, 2016</td>\n",
       "      <td>26.0</td>\n",
       "      <td>NaN</td>\n",
       "      <td>January</td>\n",
       "      <td>Speech202</td>\n",
       "      <td>NaN</td>\n",
       "      <td>...</td>\n",
       "      <td>Speech202_80:99</td>\n",
       "      <td>\\nRemarks in a Meeting with Steelworkers in De...</td>\n",
       "      <td>Campaign Documents</td>\n",
       "      <td>/documents/remarks-meeting-with-steelworkers-d...</td>\n",
       "      <td>2016</td>\n",
       "      <td>NaN</td>\n",
       "      <td>and we are going to pass a medicare for all si...</td>\n",
       "      <td>and we are going to pass a medicare for all si...</td>\n",
       "      <td>1</td>\n",
       "      <td>0.649169</td>\n",
       "    </tr>\n",
       "    <tr>\n",
       "      <th>7148</th>\n",
       "      <td>Hillary Clinton</td>\n",
       "      <td>NaN</td>\n",
       "      <td>NaN</td>\n",
       "      <td>\\nThank you. Thank you. Thank you so much. Tha...</td>\n",
       "      <td>\\nNovember 10, 2007</td>\n",
       "      <td>10.0</td>\n",
       "      <td>NaN</td>\n",
       "      <td>November</td>\n",
       "      <td>Speech1340</td>\n",
       "      <td>NaN</td>\n",
       "      <td>...</td>\n",
       "      <td>Speech1340_30:46</td>\n",
       "      <td>\\nRemarks at the Iowa Jefferson-Jackson Dinner...</td>\n",
       "      <td>Campaign Documents</td>\n",
       "      <td>/documents/remarks-the-iowa-jefferson-jackson-...</td>\n",
       "      <td>2007</td>\n",
       "      <td>NaN</td>\n",
       "      <td>and we believe in a department of labor that i...</td>\n",
       "      <td>and we believe in a department of labor that i...</td>\n",
       "      <td>1</td>\n",
       "      <td>0.623208</td>\n",
       "    </tr>\n",
       "    <tr>\n",
       "      <th>6153</th>\n",
       "      <td>Barack Obama</td>\n",
       "      <td>NaN</td>\n",
       "      <td>NaN</td>\n",
       "      <td>\\nIt's great to be here in Missouri with my go...</td>\n",
       "      <td>\\nMay 13, 2008</td>\n",
       "      <td>13.0</td>\n",
       "      <td>NaN</td>\n",
       "      <td>May</td>\n",
       "      <td>Speech1124</td>\n",
       "      <td>NaN</td>\n",
       "      <td>...</td>\n",
       "      <td>Speech1124_10:24</td>\n",
       "      <td>\\nRemarks in Cape Girardeau, Missouri\\n</td>\n",
       "      <td>Campaign Documents</td>\n",
       "      <td>/documents/remarks-cape-girardeau-missouri</td>\n",
       "      <td>2008</td>\n",
       "      <td>NaN</td>\n",
       "      <td>four more years of a president who supports pr...</td>\n",
       "      <td>four_more years of a president who supports pr...</td>\n",
       "      <td>1</td>\n",
       "      <td>0.612297</td>\n",
       "    </tr>\n",
       "    <tr>\n",
       "      <th>1511</th>\n",
       "      <td>Bernie Sanders</td>\n",
       "      <td>NaN</td>\n",
       "      <td>NaN</td>\n",
       "      <td>\\nMATTHEWS: Well, I didn't know I was going to...</td>\n",
       "      <td>\\nFebruary 25, 2016</td>\n",
       "      <td>25.0</td>\n",
       "      <td>NaN</td>\n",
       "      <td>February</td>\n",
       "      <td>Speech179</td>\n",
       "      <td>NaN</td>\n",
       "      <td>...</td>\n",
       "      <td>Speech179_130:140</td>\n",
       "      <td>\\nRemarks with Chris Matthews at the MSNBC \"Ha...</td>\n",
       "      <td>Campaign Documents</td>\n",
       "      <td>/documents/remarks-with-chris-matthews-the-msn...</td>\n",
       "      <td>2016</td>\n",
       "      <td>NaN</td>\n",
       "      <td>and you know why because wall street and corpo...</td>\n",
       "      <td>and you know why because wall_street and corpo...</td>\n",
       "      <td>1</td>\n",
       "      <td>0.610532</td>\n",
       "    </tr>\n",
       "    <tr>\n",
       "      <th>6336</th>\n",
       "      <td>Barack Obama</td>\n",
       "      <td>NaN</td>\n",
       "      <td>NaN</td>\n",
       "      <td>\\nGood afternoon. I know I kept a lot of you g...</td>\n",
       "      <td>\\nApril 14, 2008</td>\n",
       "      <td>14.0</td>\n",
       "      <td>NaN</td>\n",
       "      <td>April</td>\n",
       "      <td>Speech1167</td>\n",
       "      <td>NaN</td>\n",
       "      <td>...</td>\n",
       "      <td>Speech1167_20:34</td>\n",
       "      <td>\\nRemarks at the Associated Press Annual Lunch...</td>\n",
       "      <td>Campaign Documents</td>\n",
       "      <td>/documents/remarks-the-associated-press-annual...</td>\n",
       "      <td>2008</td>\n",
       "      <td>NaN</td>\n",
       "      <td>well im making a different bet im betting on t...</td>\n",
       "      <td>well im making a different bet im_betting_on t...</td>\n",
       "      <td>1</td>\n",
       "      <td>0.592607</td>\n",
       "    </tr>\n",
       "    <tr>\n",
       "      <th>14083</th>\n",
       "      <td>Walter F. Mondale</td>\n",
       "      <td>STUMP</td>\n",
       "      <td>CHICAGO</td>\n",
       "      <td>Let's hear it for Eddie Vdrolyak. Let's hear i...</td>\n",
       "      <td>10/30</td>\n",
       "      <td>30.0</td>\n",
       "      <td>MEDINAH</td>\n",
       "      <td>10.0</td>\n",
       "      <td>Speech3959</td>\n",
       "      <td>ILLINOIS</td>\n",
       "      <td>...</td>\n",
       "      <td>Speech3959_30:40</td>\n",
       "      <td>NaN</td>\n",
       "      <td>SPEECH</td>\n",
       "      <td>NaN</td>\n",
       "      <td>1984</td>\n",
       "      <td>NaN</td>\n",
       "      <td>ti want an america where the president defends...</td>\n",
       "      <td>ti want an america where the president defends...</td>\n",
       "      <td>1</td>\n",
       "      <td>0.589449</td>\n",
       "    </tr>\n",
       "    <tr>\n",
       "      <th>5263</th>\n",
       "      <td>Barack Obama</td>\n",
       "      <td>NaN</td>\n",
       "      <td>NaN</td>\n",
       "      <td>\\nWe meet here at a time of great uncertainty ...</td>\n",
       "      <td>\\nSeptember 27, 2008</td>\n",
       "      <td>27.0</td>\n",
       "      <td>NaN</td>\n",
       "      <td>September</td>\n",
       "      <td>Speech926</td>\n",
       "      <td>NaN</td>\n",
       "      <td>...</td>\n",
       "      <td>Speech926_10:20</td>\n",
       "      <td>\\nRemarks in Greensboro, North Carolina\\n</td>\n",
       "      <td>Campaign Documents</td>\n",
       "      <td>/documents/remarks-greensboro-north-carolina-1</td>\n",
       "      <td>2008</td>\n",
       "      <td>NaN</td>\n",
       "      <td>you see i think senator mccain just doesnt get...</td>\n",
       "      <td>you see i think senator_mccain just doesnt get...</td>\n",
       "      <td>1</td>\n",
       "      <td>0.588102</td>\n",
       "    </tr>\n",
       "    <tr>\n",
       "      <th>2071</th>\n",
       "      <td>Bernie Sanders</td>\n",
       "      <td>NaN</td>\n",
       "      <td>NaN</td>\n",
       "      <td>\\nBrothers and sisters, thank you for inviting...</td>\n",
       "      <td>\\nAugust 18, 2015</td>\n",
       "      <td>18.0</td>\n",
       "      <td>NaN</td>\n",
       "      <td>August</td>\n",
       "      <td>Speech263</td>\n",
       "      <td>NaN</td>\n",
       "      <td>...</td>\n",
       "      <td>Speech263_30:40</td>\n",
       "      <td>\\nRemarks at the Nevada State AFL-CIO Constitu...</td>\n",
       "      <td>Campaign Documents</td>\n",
       "      <td>/documents/remarks-the-nevada-state-afl-cio-co...</td>\n",
       "      <td>2015</td>\n",
       "      <td>NaN</td>\n",
       "      <td>why what do the koch brothers want let me tell...</td>\n",
       "      <td>why what do the koch_brothers want let_me_tell...</td>\n",
       "      <td>1</td>\n",
       "      <td>0.579591</td>\n",
       "    </tr>\n",
       "    <tr>\n",
       "      <th>7758</th>\n",
       "      <td>Barack Obama</td>\n",
       "      <td>NaN</td>\n",
       "      <td>NaN</td>\n",
       "      <td>\\nIt has now been a little over four months si...</td>\n",
       "      <td>\\nJune 19, 2007</td>\n",
       "      <td>19.0</td>\n",
       "      <td>NaN</td>\n",
       "      <td>June</td>\n",
       "      <td>Speech1462</td>\n",
       "      <td>NaN</td>\n",
       "      <td>...</td>\n",
       "      <td>Speech1462_20:30</td>\n",
       "      <td>\\nRemarks in Washington, DC at Take Back Ameri...</td>\n",
       "      <td>Campaign Documents</td>\n",
       "      <td>/documents/remarks-washington-dc-take-back-ame...</td>\n",
       "      <td>2007</td>\n",
       "      <td>NaN</td>\n",
       "      <td>we believe that we rise or fall as one people ...</td>\n",
       "      <td>we believe that we rise or fall as one people ...</td>\n",
       "      <td>1</td>\n",
       "      <td>0.576269</td>\n",
       "    </tr>\n",
       "  </tbody>\n",
       "</table>\n",
       "<p>10 rows × 22 columns</p>\n",
       "</div>"
      ],
      "text/plain": [
       "               Candidate Chanel     City  \\\n",
       "5256        Barack Obama    NaN      NaN   \n",
       "1627      Bernie Sanders    NaN      NaN   \n",
       "7148     Hillary Clinton    NaN      NaN   \n",
       "6153        Barack Obama    NaN      NaN   \n",
       "1511      Bernie Sanders    NaN      NaN   \n",
       "6336        Barack Obama    NaN      NaN   \n",
       "14083  Walter F. Mondale  STUMP  CHICAGO   \n",
       "5263        Barack Obama    NaN      NaN   \n",
       "2071      Bernie Sanders    NaN      NaN   \n",
       "7758        Barack Obama    NaN      NaN   \n",
       "\n",
       "                                                 Content  \\\n",
       "5256   \\nWe meet here at a time of great uncertainty ...   \n",
       "1627   \\nAUDIENCE: Bernie! Bernie! Bernie! Bernie!\\nS...   \n",
       "7148   \\nThank you. Thank you. Thank you so much. Tha...   \n",
       "6153   \\nIt's great to be here in Missouri with my go...   \n",
       "1511   \\nMATTHEWS: Well, I didn't know I was going to...   \n",
       "6336   \\nGood afternoon. I know I kept a lot of you g...   \n",
       "14083  Let's hear it for Eddie Vdrolyak. Let's hear i...   \n",
       "5263   \\nWe meet here at a time of great uncertainty ...   \n",
       "2071   \\nBrothers and sisters, thank you for inviting...   \n",
       "7758   \\nIt has now been a little over four months si...   \n",
       "\n",
       "                        Date   Day Description      Month Speech_index  \\\n",
       "5256   \\nSeptember 28, 2008   28.0         NaN  September    Speech924   \n",
       "1627     \\nJanuary 26, 2016   26.0         NaN    January    Speech202   \n",
       "7148    \\nNovember 10, 2007   10.0         NaN   November   Speech1340   \n",
       "6153         \\nMay 13, 2008   13.0         NaN        May   Speech1124   \n",
       "1511    \\nFebruary 25, 2016   25.0         NaN   February    Speech179   \n",
       "6336       \\nApril 14, 2008   14.0         NaN      April   Speech1167   \n",
       "14083                  10/30  30.0     MEDINAH       10.0   Speech3959   \n",
       "5263   \\nSeptember 27, 2008   27.0         NaN  September    Speech926   \n",
       "2071      \\nAugust 18, 2015   18.0         NaN     August    Speech263   \n",
       "7758        \\nJune 19, 2007   19.0         NaN       June   Speech1462   \n",
       "\n",
       "          State  ...    Subspeech_index  \\\n",
       "5256        NaN  ...    Speech924_10:20   \n",
       "1627        NaN  ...    Speech202_80:99   \n",
       "7148        NaN  ...   Speech1340_30:46   \n",
       "6153        NaN  ...   Speech1124_10:24   \n",
       "1511        NaN  ...  Speech179_130:140   \n",
       "6336        NaN  ...   Speech1167_20:34   \n",
       "14083  ILLINOIS  ...   Speech3959_30:40   \n",
       "5263        NaN  ...    Speech926_10:20   \n",
       "2071        NaN  ...    Speech263_30:40   \n",
       "7758        NaN  ...   Speech1462_20:30   \n",
       "\n",
       "                                                   Title                Type  \\\n",
       "5256                    \\nRemarks in Detroit, Michigan\\n  Campaign Documents   \n",
       "1627   \\nRemarks in a Meeting with Steelworkers in De...  Campaign Documents   \n",
       "7148   \\nRemarks at the Iowa Jefferson-Jackson Dinner...  Campaign Documents   \n",
       "6153             \\nRemarks in Cape Girardeau, Missouri\\n  Campaign Documents   \n",
       "1511   \\nRemarks with Chris Matthews at the MSNBC \"Ha...  Campaign Documents   \n",
       "6336   \\nRemarks at the Associated Press Annual Lunch...  Campaign Documents   \n",
       "14083                                                NaN              SPEECH   \n",
       "5263           \\nRemarks in Greensboro, North Carolina\\n  Campaign Documents   \n",
       "2071   \\nRemarks at the Nevada State AFL-CIO Constitu...  Campaign Documents   \n",
       "7758   \\nRemarks in Washington, DC at Take Back Ameri...  Campaign Documents   \n",
       "\n",
       "                                                     URL  Year Pop  \\\n",
       "5256                 /documents/remarks-detroit-michigan  2008 NaN   \n",
       "1627   /documents/remarks-meeting-with-steelworkers-d...  2016 NaN   \n",
       "7148   /documents/remarks-the-iowa-jefferson-jackson-...  2007 NaN   \n",
       "6153          /documents/remarks-cape-girardeau-missouri  2008 NaN   \n",
       "1511   /documents/remarks-with-chris-matthews-the-msn...  2016 NaN   \n",
       "6336   /documents/remarks-the-associated-press-annual...  2008 NaN   \n",
       "14083                                                NaN  1984 NaN   \n",
       "5263      /documents/remarks-greensboro-north-carolina-1  2008 NaN   \n",
       "2071   /documents/remarks-the-nevada-state-afl-cio-co...  2015 NaN   \n",
       "7758   /documents/remarks-washington-dc-take-back-ame...  2007 NaN   \n",
       "\n",
       "                                              clean_text  \\\n",
       "5256   third i said that we cannot and will not simpl...   \n",
       "1627   and we are going to pass a medicare for all si...   \n",
       "7148   and we believe in a department of labor that i...   \n",
       "6153   four more years of a president who supports pr...   \n",
       "1511   and you know why because wall street and corpo...   \n",
       "6336   well im making a different bet im betting on t...   \n",
       "14083  ti want an america where the president defends...   \n",
       "5263   you see i think senator mccain just doesnt get...   \n",
       "2071   why what do the koch brothers want let me tell...   \n",
       "7758   we believe that we rise or fall as one people ...   \n",
       "\n",
       "                                            phrased_text Pop_class  Pop_prob  \n",
       "5256   third i said that we cannot and will not simpl...         1  0.716134  \n",
       "1627   and we are going to pass a medicare for all si...         1  0.649169  \n",
       "7148   and we believe in a department of labor that i...         1  0.623208  \n",
       "6153   four_more years of a president who supports pr...         1  0.612297  \n",
       "1511   and you know why because wall_street and corpo...         1  0.610532  \n",
       "6336   well im making a different bet im_betting_on t...         1  0.592607  \n",
       "14083  ti want an america where the president defends...         1  0.589449  \n",
       "5263   you see i think senator_mccain just doesnt get...         1  0.588102  \n",
       "2071   why what do the koch_brothers want let_me_tell...         1  0.579591  \n",
       "7758   we believe that we rise or fall as one people ...         1  0.576269  \n",
       "\n",
       "[10 rows x 22 columns]"
      ]
     },
     "execution_count": 124,
     "metadata": {},
     "output_type": "execute_result"
    }
   ],
   "source": [
    "outsample[outsample.Candidate != 'Donald J. Trump'].sort_values('Pop_prob', ascending = False).head(10)"
   ]
  },
  {
   "cell_type": "code",
   "execution_count": 117,
   "metadata": {},
   "outputs": [
    {
     "data": {
      "text/plain": [
       "' president donald trump thank you thank you wow this is great look snow i didnt know what was going on this is—i said you sure this is indoor that beautiful snow looks so real thats the end of my suit thats the end of the hair for tonight thats ok i love mississippi and i love being with you in mississippi thank you very much thank you applause thank you its a beautiful place this is a big—this is a big beautiful arena and they have thousands of people outside and this place is packed theres nothing like a trump rally do we agree nothing like a trump rally applause im thrilled to be here with the great people of mississippi you are the men and women that make america truly great and thank you thank you applause thank you tomorrow we need the people of mississippi to go to the polls and elect cindy hyde_smith so that we can continue doing what were doing which is frankly unprecedented whats happening is unprecedented look whats the simple two words its called america first america first its about time applause its about time under republican leadership america is winning again america is respected again we are respected like at no time before and i can tell you im meeting constantly with foreign leaders and they walk in and they say mr president its incredible whats happened with your country in such a short period of time america is respected again applause weve unleashed the greatest economic comeback in american history more americans are working today than ever before think of that today right now more americans are working in our country than at any time before so thats a big thing thats a big thing applause weve created 45 million new jobs and weve lifted 43 million americans off of food stamps applaus'"
      ]
     },
     "execution_count": 117,
     "metadata": {},
     "output_type": "execute_result"
    }
   ],
   "source": [
    "outsample.clean_text[0]"
   ]
  },
  {
   "cell_type": "code",
   "execution_count": 245,
   "metadata": {},
   "outputs": [
    {
     "data": {
      "text/plain": [
       "'/documents/remarks-detroit-michigan'"
      ]
     },
     "execution_count": 245,
     "metadata": {},
     "output_type": "execute_result"
    }
   ],
   "source": [
    "outsample.URL[5256]"
   ]
  },
  {
   "cell_type": "markdown",
   "metadata": {},
   "source": [
    "## Blind Test (prodigy)"
   ]
  },
  {
   "cell_type": "code",
   "execution_count": 128,
   "metadata": {
    "collapsed": true
   },
   "outputs": [],
   "source": [
    "SubSpeech_predicted = pd.read_csv('SubSpeech_predicted.csv')"
   ]
  },
  {
   "cell_type": "code",
   "execution_count": 128,
   "metadata": {
    "collapsed": true
   },
   "outputs": [],
   "source": [
    "#SubSpeech_predicted.head()"
   ]
  },
  {
   "cell_type": "code",
   "execution_count": 129,
   "metadata": {
    "collapsed": true
   },
   "outputs": [],
   "source": [
    "virgintext = SubSpeech.loc[-SubSpeech['Pop'].isin([0,1])]"
   ]
  },
  {
   "cell_type": "code",
   "execution_count": 130,
   "metadata": {},
   "outputs": [],
   "source": [
    "virgintext = virgintext[virgintext.Candidate != 'Donald J. Trump']"
   ]
  },
  {
   "cell_type": "code",
   "execution_count": 132,
   "metadata": {},
   "outputs": [
    {
     "data": {
      "text/plain": [
       "Barack Obama             12\n",
       "Bernie Sanders            9\n",
       "John Edwards              5\n",
       "Robert Dole               5\n",
       "Hillary Clinton           5\n",
       "Ted Cruz                  3\n",
       "Rick Perry                3\n",
       "Mitt Romney               3\n",
       "John F. Kerry             3\n",
       "Bill Richardson           2\n",
       "John McCain               2\n",
       "Scott Walker              2\n",
       "Mike Pence                1\n",
       "Newt Gingrich             1\n",
       "Albert Gore, Jr.          1\n",
       "Franklin D. Roosevelt     1\n",
       "John F. Kennedy           1\n",
       "Mike Huckabee             1\n",
       "Fred Thompson             1\n",
       "Rudy Giuliani             1\n",
       "Jon Huntsman              1\n",
       "Name: Candidate, dtype: int64"
      ]
     },
     "execution_count": 132,
     "metadata": {},
     "output_type": "execute_result"
    }
   ],
   "source": [
    "virgintext[virgintext.Pop_class==1].Candidate.value_counts()"
   ]
  },
  {
   "cell_type": "code",
   "execution_count": 139,
   "metadata": {
    "collapsed": true
   },
   "outputs": [],
   "source": [
    "#virgintext.Subspeech_index[virgintext.Pop_class==1]"
   ]
  },
  {
   "cell_type": "code",
   "execution_count": 133,
   "metadata": {
    "collapsed": true
   },
   "outputs": [],
   "source": [
    "blind_index = list(np.random.choice(virgintext.Subspeech_index[virgintext.Pop_class==1], 10, replace=False)) + list(\n",
    "    np.random.choice(virgintext.Subspeech_index[virgintext.Pop_class==0], 5, replace=False)) "
   ]
  },
  {
   "cell_type": "code",
   "execution_count": 134,
   "metadata": {
    "collapsed": true
   },
   "outputs": [],
   "source": [
    "blindspeech_index = [re.split('_',x)[0] for x in blind_index]"
   ]
  },
  {
   "cell_type": "code",
   "execution_count": 135,
   "metadata": {
    "collapsed": true
   },
   "outputs": [],
   "source": [
    "blindspeech_sample = SubSpeech[['Speech_index', 'Subspeech_index','SubContent']].loc[\n",
    "    SubSpeech.Speech_index.isin(blindspeech_index)]"
   ]
  },
  {
   "cell_type": "code",
   "execution_count": 136,
   "metadata": {
    "collapsed": true
   },
   "outputs": [],
   "source": [
    "blindspeech_sample['text'] = [blindspeech_sample.Subspeech_index[i] + '## ' + ''.join(blindspeech_sample.SubContent[i])\n",
    "                           for i in blindspeech_sample.Subspeech_index.index]"
   ]
  },
  {
   "cell_type": "code",
   "execution_count": 137,
   "metadata": {},
   "outputs": [
    {
     "data": {
      "text/plain": [
       "117"
      ]
     },
     "execution_count": 137,
     "metadata": {},
     "output_type": "execute_result"
    }
   ],
   "source": [
    "len(blindspeech_sample.Subspeech_index)"
   ]
  },
  {
   "cell_type": "code",
   "execution_count": 138,
   "metadata": {
    "collapsed": true
   },
   "outputs": [],
   "source": [
    "blindspeech_sample.to_csv('blindspeech_sample2.csv')"
   ]
  },
  {
   "cell_type": "code",
   "execution_count": 11,
   "metadata": {
    "collapsed": true
   },
   "outputs": [],
   "source": [
    "blindspeech_sample = pd.read_csv(\"blindspeech_sample2.csv\")"
   ]
  },
  {
   "cell_type": "code",
   "execution_count": 152,
   "metadata": {},
   "outputs": [
    {
     "data": {
      "text/plain": [
       "2008    50\n",
       "1996    24\n",
       "2011    12\n",
       "2015    10\n",
       "2016     9\n",
       "2007     6\n",
       "2004     6\n",
       "Name: Year, dtype: int64"
      ]
     },
     "execution_count": 152,
     "metadata": {},
     "output_type": "execute_result"
    }
   ],
   "source": [
    "SubSpeech.loc[\n",
    "    SubSpeech.Speech_index.isin(blindspeech_index)].Year.value_counts()"
   ]
  },
  {
   "cell_type": "code",
   "execution_count": 20,
   "metadata": {
    "collapsed": true
   },
   "outputs": [],
   "source": [
    "#SubSpeech_predicted.Candidate[SubSpeech_predicted.Speech_index.isin(blindspeech_sample.Speech_index)]"
   ]
  },
  {
   "cell_type": "code",
   "execution_count": 117,
   "metadata": {},
   "outputs": [
    {
     "data": {
      "text/plain": [
       "47"
      ]
     },
     "execution_count": 117,
     "metadata": {},
     "output_type": "execute_result"
    }
   ],
   "source": [
    "len(SubSpeech.Speech_index.loc[SubSpeech['Pop'].isin([0,1])].value_counts())"
   ]
  },
  {
   "cell_type": "code",
   "execution_count": 162,
   "metadata": {},
   "outputs": [
    {
     "data": {
      "text/html": [
       "<div>\n",
       "<style>\n",
       "    .dataframe thead tr:only-child th {\n",
       "        text-align: right;\n",
       "    }\n",
       "\n",
       "    .dataframe thead th {\n",
       "        text-align: left;\n",
       "    }\n",
       "\n",
       "    .dataframe tbody tr th {\n",
       "        vertical-align: top;\n",
       "    }\n",
       "</style>\n",
       "<table border=\"1\" class=\"dataframe\">\n",
       "  <thead>\n",
       "    <tr style=\"text-align: right;\">\n",
       "      <th></th>\n",
       "      <th>Unnamed: 0</th>\n",
       "      <th>Speech_index</th>\n",
       "      <th>SubContent</th>\n",
       "      <th>Subspeech_index</th>\n",
       "      <th>Candidate</th>\n",
       "      <th>Title</th>\n",
       "      <th>Date</th>\n",
       "      <th>Content</th>\n",
       "      <th>Type</th>\n",
       "      <th>URL</th>\n",
       "      <th>Year</th>\n",
       "      <th>Month</th>\n",
       "      <th>Day</th>\n",
       "      <th>Pop</th>\n",
       "      <th>Pop_class</th>\n",
       "      <th>Pop_prob</th>\n",
       "    </tr>\n",
       "  </thead>\n",
       "  <tbody>\n",
       "    <tr>\n",
       "      <th>9480</th>\n",
       "      <td>9480</td>\n",
       "      <td>Speech1754</td>\n",
       "      <td>['', 'A few weeks ago, President Clinton looke...</td>\n",
       "      <td>Speech1754_0:10</td>\n",
       "      <td>Robert Dole</td>\n",
       "      <td>\\nRemarks at Hudson Chamber of Commerce\\n</td>\n",
       "      <td>\\nFebruary 22, 1996</td>\n",
       "      <td>\\nA few weeks ago, President Clinton looked Am...</td>\n",
       "      <td>Campaign Documents</td>\n",
       "      <td>/documents/remarks-hudson-chamber-commerce</td>\n",
       "      <td>1996</td>\n",
       "      <td>February</td>\n",
       "      <td>22</td>\n",
       "      <td>NaN</td>\n",
       "      <td>0</td>\n",
       "      <td>0.047170</td>\n",
       "    </tr>\n",
       "    <tr>\n",
       "      <th>9481</th>\n",
       "      <td>9481</td>\n",
       "      <td>Speech1754</td>\n",
       "      <td>['A mother of two who is worried her job may b...</td>\n",
       "      <td>Speech1754_10:20</td>\n",
       "      <td>Robert Dole</td>\n",
       "      <td>\\nRemarks at Hudson Chamber of Commerce\\n</td>\n",
       "      <td>\\nFebruary 22, 1996</td>\n",
       "      <td>\\nA few weeks ago, President Clinton looked Am...</td>\n",
       "      <td>Campaign Documents</td>\n",
       "      <td>/documents/remarks-hudson-chamber-commerce</td>\n",
       "      <td>1996</td>\n",
       "      <td>February</td>\n",
       "      <td>22</td>\n",
       "      <td>NaN</td>\n",
       "      <td>0</td>\n",
       "      <td>0.147170</td>\n",
       "    </tr>\n",
       "    <tr>\n",
       "      <th>9482</th>\n",
       "      <td>9482</td>\n",
       "      <td>Speech1754</td>\n",
       "      <td>['Let me briefly touch upon each of these four...</td>\n",
       "      <td>Speech1754_20:30</td>\n",
       "      <td>Robert Dole</td>\n",
       "      <td>\\nRemarks at Hudson Chamber of Commerce\\n</td>\n",
       "      <td>\\nFebruary 22, 1996</td>\n",
       "      <td>\\nA few weeks ago, President Clinton looked Am...</td>\n",
       "      <td>Campaign Documents</td>\n",
       "      <td>/documents/remarks-hudson-chamber-commerce</td>\n",
       "      <td>1996</td>\n",
       "      <td>February</td>\n",
       "      <td>22</td>\n",
       "      <td>NaN</td>\n",
       "      <td>0</td>\n",
       "      <td>0.083333</td>\n",
       "    </tr>\n",
       "    <tr>\n",
       "      <th>9483</th>\n",
       "      <td>9483</td>\n",
       "      <td>Speech1754</td>\n",
       "      <td>['If you go to any Main Street in America, and...</td>\n",
       "      <td>Speech1754_30:40</td>\n",
       "      <td>Robert Dole</td>\n",
       "      <td>\\nRemarks at Hudson Chamber of Commerce\\n</td>\n",
       "      <td>\\nFebruary 22, 1996</td>\n",
       "      <td>\\nA few weeks ago, President Clinton looked Am...</td>\n",
       "      <td>Campaign Documents</td>\n",
       "      <td>/documents/remarks-hudson-chamber-commerce</td>\n",
       "      <td>1996</td>\n",
       "      <td>February</td>\n",
       "      <td>22</td>\n",
       "      <td>NaN</td>\n",
       "      <td>1</td>\n",
       "      <td>0.438596</td>\n",
       "    </tr>\n",
       "    <tr>\n",
       "      <th>9484</th>\n",
       "      <td>9484</td>\n",
       "      <td>Speech1754</td>\n",
       "      <td>['In designing a new tax system I will ensure ...</td>\n",
       "      <td>Speech1754_40:50</td>\n",
       "      <td>Robert Dole</td>\n",
       "      <td>\\nRemarks at Hudson Chamber of Commerce\\n</td>\n",
       "      <td>\\nFebruary 22, 1996</td>\n",
       "      <td>\\nA few weeks ago, President Clinton looked Am...</td>\n",
       "      <td>Campaign Documents</td>\n",
       "      <td>/documents/remarks-hudson-chamber-commerce</td>\n",
       "      <td>1996</td>\n",
       "      <td>February</td>\n",
       "      <td>22</td>\n",
       "      <td>NaN</td>\n",
       "      <td>0</td>\n",
       "      <td>0.158550</td>\n",
       "    </tr>\n",
       "    <tr>\n",
       "      <th>9485</th>\n",
       "      <td>9485</td>\n",
       "      <td>Speech1754</td>\n",
       "      <td>['As President, I would direct every Departmen...</td>\n",
       "      <td>Speech1754_50:70</td>\n",
       "      <td>Robert Dole</td>\n",
       "      <td>\\nRemarks at Hudson Chamber of Commerce\\n</td>\n",
       "      <td>\\nFebruary 22, 1996</td>\n",
       "      <td>\\nA few weeks ago, President Clinton looked Am...</td>\n",
       "      <td>Campaign Documents</td>\n",
       "      <td>/documents/remarks-hudson-chamber-commerce</td>\n",
       "      <td>1996</td>\n",
       "      <td>February</td>\n",
       "      <td>22</td>\n",
       "      <td>NaN</td>\n",
       "      <td>0</td>\n",
       "      <td>0.128788</td>\n",
       "    </tr>\n",
       "  </tbody>\n",
       "</table>\n",
       "</div>"
      ],
      "text/plain": [
       "      Unnamed: 0 Speech_index  \\\n",
       "9480        9480   Speech1754   \n",
       "9481        9481   Speech1754   \n",
       "9482        9482   Speech1754   \n",
       "9483        9483   Speech1754   \n",
       "9484        9484   Speech1754   \n",
       "9485        9485   Speech1754   \n",
       "\n",
       "                                             SubContent   Subspeech_index  \\\n",
       "9480  ['', 'A few weeks ago, President Clinton looke...   Speech1754_0:10   \n",
       "9481  ['A mother of two who is worried her job may b...  Speech1754_10:20   \n",
       "9482  ['Let me briefly touch upon each of these four...  Speech1754_20:30   \n",
       "9483  ['If you go to any Main Street in America, and...  Speech1754_30:40   \n",
       "9484  ['In designing a new tax system I will ensure ...  Speech1754_40:50   \n",
       "9485  ['As President, I would direct every Departmen...  Speech1754_50:70   \n",
       "\n",
       "        Candidate                                      Title  \\\n",
       "9480  Robert Dole  \\nRemarks at Hudson Chamber of Commerce\\n   \n",
       "9481  Robert Dole  \\nRemarks at Hudson Chamber of Commerce\\n   \n",
       "9482  Robert Dole  \\nRemarks at Hudson Chamber of Commerce\\n   \n",
       "9483  Robert Dole  \\nRemarks at Hudson Chamber of Commerce\\n   \n",
       "9484  Robert Dole  \\nRemarks at Hudson Chamber of Commerce\\n   \n",
       "9485  Robert Dole  \\nRemarks at Hudson Chamber of Commerce\\n   \n",
       "\n",
       "                      Date                                            Content  \\\n",
       "9480  \\nFebruary 22, 1996   \\nA few weeks ago, President Clinton looked Am...   \n",
       "9481  \\nFebruary 22, 1996   \\nA few weeks ago, President Clinton looked Am...   \n",
       "9482  \\nFebruary 22, 1996   \\nA few weeks ago, President Clinton looked Am...   \n",
       "9483  \\nFebruary 22, 1996   \\nA few weeks ago, President Clinton looked Am...   \n",
       "9484  \\nFebruary 22, 1996   \\nA few weeks ago, President Clinton looked Am...   \n",
       "9485  \\nFebruary 22, 1996   \\nA few weeks ago, President Clinton looked Am...   \n",
       "\n",
       "                    Type                                         URL  Year  \\\n",
       "9480  Campaign Documents  /documents/remarks-hudson-chamber-commerce  1996   \n",
       "9481  Campaign Documents  /documents/remarks-hudson-chamber-commerce  1996   \n",
       "9482  Campaign Documents  /documents/remarks-hudson-chamber-commerce  1996   \n",
       "9483  Campaign Documents  /documents/remarks-hudson-chamber-commerce  1996   \n",
       "9484  Campaign Documents  /documents/remarks-hudson-chamber-commerce  1996   \n",
       "9485  Campaign Documents  /documents/remarks-hudson-chamber-commerce  1996   \n",
       "\n",
       "         Month  Day  Pop  Pop_class  Pop_prob  \n",
       "9480  February   22  NaN          0  0.047170  \n",
       "9481  February   22  NaN          0  0.147170  \n",
       "9482  February   22  NaN          0  0.083333  \n",
       "9483  February   22  NaN          1  0.438596  \n",
       "9484  February   22  NaN          0  0.158550  \n",
       "9485  February   22  NaN          0  0.128788  "
      ]
     },
     "execution_count": 162,
     "metadata": {},
     "output_type": "execute_result"
    }
   ],
   "source": [
    "SubSpeech_predicted.loc[SubSpeech_predicted.Speech_index == \"Speech1754\"]"
   ]
  },
  {
   "cell_type": "markdown",
   "metadata": {
    "collapsed": true
   },
   "source": [
    "### Merge Blind Test Annotation and Test"
   ]
  },
  {
   "cell_type": "code",
   "execution_count": 23,
   "metadata": {
    "collapsed": true
   },
   "outputs": [],
   "source": [
    "with open('Annotations/blind_test1117.jsonl', 'r') as annotation_jsonl:\n",
    "    annotation_list = list(annotation_jsonl)"
   ]
  },
  {
   "cell_type": "code",
   "execution_count": 3,
   "metadata": {},
   "outputs": [
    {
     "data": {
      "text/plain": [
       "68"
      ]
     },
     "execution_count": 3,
     "metadata": {},
     "output_type": "execute_result"
    }
   ],
   "source": [
    "len(annotation_list)"
   ]
  },
  {
   "cell_type": "code",
   "execution_count": 6,
   "metadata": {},
   "outputs": [],
   "source": [
    "coded = {}\n",
    "for annotation in annotation_list:\n",
    "    annotation_dict = json.loads(annotation)\n",
    "    coded[annotation_dict['text'].split('##')[0]] = annotation_dict['answer']"
   ]
  },
  {
   "cell_type": "code",
   "execution_count": 7,
   "metadata": {},
   "outputs": [
    {
     "data": {
      "text/plain": [
       "68"
      ]
     },
     "execution_count": 7,
     "metadata": {},
     "output_type": "execute_result"
    }
   ],
   "source": [
    "len(coded)"
   ]
  },
  {
   "cell_type": "code",
   "execution_count": 8,
   "metadata": {
    "collapsed": true
   },
   "outputs": [],
   "source": [
    "blindtest_coded = pd.DataFrame.from_dict(coded, orient='index')"
   ]
  },
  {
   "cell_type": "code",
   "execution_count": 10,
   "metadata": {},
   "outputs": [],
   "source": [
    "blindtest_coded = blindtest_coded.rename(columns={0:'Pop'})"
   ]
  },
  {
   "cell_type": "code",
   "execution_count": 12,
   "metadata": {},
   "outputs": [],
   "source": [
    "blindtest_coded['Subspeech_index'] = blindtest_coded.index"
   ]
  },
  {
   "cell_type": "code",
   "execution_count": 13,
   "metadata": {
    "collapsed": true
   },
   "outputs": [],
   "source": [
    "SubSpeech = pd.read_csv('SubSpeech_coded.csv')"
   ]
  },
  {
   "cell_type": "code",
   "execution_count": 16,
   "metadata": {},
   "outputs": [],
   "source": [
    "blindtest = SubSpeech.merge(blindtest_coded, how = 'outer', left_on='Subspeech_index', right_on = 'Subspeech_index')"
   ]
  },
  {
   "cell_type": "code",
   "execution_count": 18,
   "metadata": {},
   "outputs": [],
   "source": [
    "#blindtest"
   ]
  },
  {
   "cell_type": "markdown",
   "metadata": {},
   "source": [
    "### Update training data with all annotated"
   ]
  },
  {
   "cell_type": "code",
   "execution_count": 24,
   "metadata": {},
   "outputs": [],
   "source": [
    "with open('Annotations/test_annotation.jsonl', 'r') as annotation_jsonl:\n",
    "    annotation_list += list(annotation_jsonl)"
   ]
  },
  {
   "cell_type": "code",
   "execution_count": 25,
   "metadata": {
    "collapsed": true
   },
   "outputs": [],
   "source": [
    "with open('Annotations/pop_code1117.jsonl', 'r') as annotation_jsonl:\n",
    "    annotation_list += list(annotation_jsonl)"
   ]
  },
  {
   "cell_type": "code",
   "execution_count": 26,
   "metadata": {},
   "outputs": [
    {
     "data": {
      "text/plain": [
       "268"
      ]
     },
     "execution_count": 26,
     "metadata": {},
     "output_type": "execute_result"
    }
   ],
   "source": [
    "len(annotation_list)"
   ]
  },
  {
   "cell_type": "code",
   "execution_count": 27,
   "metadata": {
    "collapsed": true
   },
   "outputs": [],
   "source": [
    "coded = {}\n",
    "for annotation in annotation_list:\n",
    "    annotation_dict = json.loads(annotation)\n",
    "    coded[annotation_dict['text'].split('##')[0]] = annotation_dict['answer']\n",
    "\n",
    "coded_data = pd.DataFrame.from_dict(coded, orient='index')\n",
    "coded_data = coded_data.rename(columns={0:'Pop'})\n",
    "coded_data['Subspeech_index'] = coded_data.index"
   ]
  },
  {
   "cell_type": "code",
   "execution_count": 29,
   "metadata": {},
   "outputs": [
    {
     "data": {
      "text/plain": [
       "268"
      ]
     },
     "execution_count": 29,
     "metadata": {},
     "output_type": "execute_result"
    }
   ],
   "source": [
    "len(coded_data.Pop)"
   ]
  },
  {
   "cell_type": "code",
   "execution_count": 30,
   "metadata": {
    "collapsed": true
   },
   "outputs": [],
   "source": [
    "Sub_Speech = pd.read_csv('SubSpeech.csv')"
   ]
  },
  {
   "cell_type": "code",
   "execution_count": 31,
   "metadata": {
    "collapsed": true
   },
   "outputs": [],
   "source": [
    "SubSpeech_coded = Sub_Speech.merge(coded_data, how = 'outer', left_on='Subspeech_index', right_on = 'Subspeech_index')"
   ]
  },
  {
   "cell_type": "code",
   "execution_count": 34,
   "metadata": {},
   "outputs": [],
   "source": [
    "#SubSpeech_coded.head()"
   ]
  },
  {
   "cell_type": "code",
   "execution_count": 35,
   "metadata": {
    "collapsed": true
   },
   "outputs": [],
   "source": [
    "SubSpeech_coded.to_csv(\"SubSpeech_coded.csv\", index=False)"
   ]
  },
  {
   "cell_type": "code",
   "execution_count": null,
   "metadata": {},
   "outputs": [],
   "source": []
  }
 ],
 "metadata": {
  "kernelspec": {
   "display_name": "Python 3",
   "language": "python",
   "name": "python3"
  },
  "language_info": {
   "codemirror_mode": {
    "name": "ipython",
    "version": 3
   },
   "file_extension": ".py",
   "mimetype": "text/x-python",
   "name": "python",
   "nbconvert_exporter": "python",
   "pygments_lexer": "ipython3",
   "version": "3.7.3"
  }
 },
 "nbformat": 4,
 "nbformat_minor": 2
}
