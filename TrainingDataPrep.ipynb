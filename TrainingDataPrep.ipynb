{
 "cells": [
  {
   "cell_type": "code",
   "execution_count": 1,
   "metadata": {
    "collapsed": true
   },
   "outputs": [],
   "source": [
    "import pandas as pd\n",
    "import numpy as np\n",
    "import csv\n",
    "import json\n",
    "import string\n",
    "import random\n",
    "import re\n",
    "\n",
    "np.random.seed(1234)\n",
    "random.seed(1234)"
   ]
  },
  {
   "cell_type": "markdown",
   "metadata": {},
   "source": [
    "## Load Data, Clean, Define Document Level"
   ]
  },
  {
   "cell_type": "code",
   "execution_count": 21,
   "metadata": {},
   "outputs": [
    {
     "data": {
      "text/html": [
       "<div>\n",
       "<style scoped>\n",
       "    .dataframe tbody tr th:only-of-type {\n",
       "        vertical-align: middle;\n",
       "    }\n",
       "\n",
       "    .dataframe tbody tr th {\n",
       "        vertical-align: top;\n",
       "    }\n",
       "\n",
       "    .dataframe thead th {\n",
       "        text-align: right;\n",
       "    }\n",
       "</style>\n",
       "<table border=\"1\" class=\"dataframe\">\n",
       "  <thead>\n",
       "    <tr style=\"text-align: right;\">\n",
       "      <th></th>\n",
       "      <th>0</th>\n",
       "      <th>1</th>\n",
       "      <th>2</th>\n",
       "      <th>3</th>\n",
       "      <th>4</th>\n",
       "      <th>5</th>\n",
       "    </tr>\n",
       "  </thead>\n",
       "  <tbody>\n",
       "    <tr>\n",
       "      <th>0</th>\n",
       "      <td>Donald J. Trump</td>\n",
       "      <td>\\nRemarks at a \"Make America Great Again\" Rall...</td>\n",
       "      <td>\\nNovember 26, 2018</td>\n",
       "      <td>\\nPRESIDENT DONALD TRUMP: Thank you, thank you...</td>\n",
       "      <td>Campaign Documents</td>\n",
       "      <td>/documents/remarks-make-america-great-again-ra...</td>\n",
       "    </tr>\n",
       "    <tr>\n",
       "      <th>1</th>\n",
       "      <td>Donald J. Trump</td>\n",
       "      <td>\\nRemarks at a “Make America Great Again” Rall...</td>\n",
       "      <td>\\nOctober 20, 2018</td>\n",
       "      <td>\\nThe President: Thank you very much, and hell...</td>\n",
       "      <td>Campaign Documents</td>\n",
       "      <td>/documents/remarks-make-america-great-again-ra...</td>\n",
       "    </tr>\n",
       "    <tr>\n",
       "      <th>2</th>\n",
       "      <td>Donald J. Trump</td>\n",
       "      <td>\\nRemarks at a “Make America Great Again” Rall...</td>\n",
       "      <td>\\nSeptember 29, 2018</td>\n",
       "      <td>\\n[music:  John Denver, \"Take Me Home, Country...</td>\n",
       "      <td>Campaign Documents</td>\n",
       "      <td>/documents/remarks-make-america-great-again-ra...</td>\n",
       "    </tr>\n",
       "    <tr>\n",
       "      <th>3</th>\n",
       "      <td>Donald J. Trump</td>\n",
       "      <td>\\nRemarks at a “Make America Great Again” Rall...</td>\n",
       "      <td>\\nSeptember 06, 2018</td>\n",
       "      <td>\\nPRESIDENT DONALD TRUMP:  Thank you. Thank yo...</td>\n",
       "      <td>Campaign Documents</td>\n",
       "      <td>/documents/remarks-make-america-great-again-ra...</td>\n",
       "    </tr>\n",
       "    <tr>\n",
       "      <th>4</th>\n",
       "      <td>Donald J. Trump</td>\n",
       "      <td>\\nRemarks at a “Make America Great Again” Rall...</td>\n",
       "      <td>\\nAugust 30, 2018</td>\n",
       "      <td>\\nPRESIDENT DONALD TRUMP: Evansville, you are ...</td>\n",
       "      <td>Campaign Documents</td>\n",
       "      <td>/documents/remarks-make-america-great-again-ra...</td>\n",
       "    </tr>\n",
       "  </tbody>\n",
       "</table>\n",
       "</div>"
      ],
      "text/plain": [
       "                 0                                                  1  \\\n",
       "0  Donald J. Trump  \\nRemarks at a \"Make America Great Again\" Rall...   \n",
       "1  Donald J. Trump  \\nRemarks at a “Make America Great Again” Rall...   \n",
       "2  Donald J. Trump  \\nRemarks at a “Make America Great Again” Rall...   \n",
       "3  Donald J. Trump  \\nRemarks at a “Make America Great Again” Rall...   \n",
       "4  Donald J. Trump  \\nRemarks at a “Make America Great Again” Rall...   \n",
       "\n",
       "                       2                                                  3  \\\n",
       "0   \\nNovember 26, 2018   \\nPRESIDENT DONALD TRUMP: Thank you, thank you...   \n",
       "1    \\nOctober 20, 2018   \\nThe President: Thank you very much, and hell...   \n",
       "2  \\nSeptember 29, 2018   \\n[music:  John Denver, \"Take Me Home, Country...   \n",
       "3  \\nSeptember 06, 2018   \\nPRESIDENT DONALD TRUMP:  Thank you. Thank yo...   \n",
       "4     \\nAugust 30, 2018   \\nPRESIDENT DONALD TRUMP: Evansville, you are ...   \n",
       "\n",
       "                    4                                                  5  \n",
       "0  Campaign Documents  /documents/remarks-make-america-great-again-ra...  \n",
       "1  Campaign Documents  /documents/remarks-make-america-great-again-ra...  \n",
       "2  Campaign Documents  /documents/remarks-make-america-great-again-ra...  \n",
       "3  Campaign Documents  /documents/remarks-make-america-great-again-ra...  \n",
       "4  Campaign Documents  /documents/remarks-make-america-great-again-ra...  "
      ]
     },
     "execution_count": 21,
     "metadata": {},
     "output_type": "execute_result"
    }
   ],
   "source": [
    "CSpeech = pd.read_csv('CampaignSpeech.csv', header=None)\n",
    "CSpeech.head()"
   ]
  },
  {
   "cell_type": "code",
   "execution_count": 22,
   "metadata": {},
   "outputs": [
    {
     "data": {
      "text/html": [
       "<div>\n",
       "<style scoped>\n",
       "    .dataframe tbody tr th:only-of-type {\n",
       "        vertical-align: middle;\n",
       "    }\n",
       "\n",
       "    .dataframe tbody tr th {\n",
       "        vertical-align: top;\n",
       "    }\n",
       "\n",
       "    .dataframe thead th {\n",
       "        text-align: right;\n",
       "    }\n",
       "</style>\n",
       "<table border=\"1\" class=\"dataframe\">\n",
       "  <thead>\n",
       "    <tr style=\"text-align: right;\">\n",
       "      <th></th>\n",
       "      <th>Candidate</th>\n",
       "      <th>Title</th>\n",
       "      <th>Date</th>\n",
       "      <th>Content</th>\n",
       "      <th>Type</th>\n",
       "      <th>URL</th>\n",
       "    </tr>\n",
       "  </thead>\n",
       "  <tbody>\n",
       "    <tr>\n",
       "      <th>0</th>\n",
       "      <td>Donald J. Trump</td>\n",
       "      <td>\\nRemarks at a \"Make America Great Again\" Rall...</td>\n",
       "      <td>\\nNovember 26, 2018</td>\n",
       "      <td>\\nPRESIDENT DONALD TRUMP: Thank you, thank you...</td>\n",
       "      <td>Campaign Documents</td>\n",
       "      <td>/documents/remarks-make-america-great-again-ra...</td>\n",
       "    </tr>\n",
       "    <tr>\n",
       "      <th>1</th>\n",
       "      <td>Donald J. Trump</td>\n",
       "      <td>\\nRemarks at a “Make America Great Again” Rall...</td>\n",
       "      <td>\\nOctober 20, 2018</td>\n",
       "      <td>\\nThe President: Thank you very much, and hell...</td>\n",
       "      <td>Campaign Documents</td>\n",
       "      <td>/documents/remarks-make-america-great-again-ra...</td>\n",
       "    </tr>\n",
       "    <tr>\n",
       "      <th>2</th>\n",
       "      <td>Donald J. Trump</td>\n",
       "      <td>\\nRemarks at a “Make America Great Again” Rall...</td>\n",
       "      <td>\\nSeptember 29, 2018</td>\n",
       "      <td>\\n[music:  John Denver, \"Take Me Home, Country...</td>\n",
       "      <td>Campaign Documents</td>\n",
       "      <td>/documents/remarks-make-america-great-again-ra...</td>\n",
       "    </tr>\n",
       "    <tr>\n",
       "      <th>3</th>\n",
       "      <td>Donald J. Trump</td>\n",
       "      <td>\\nRemarks at a “Make America Great Again” Rall...</td>\n",
       "      <td>\\nSeptember 06, 2018</td>\n",
       "      <td>\\nPRESIDENT DONALD TRUMP:  Thank you. Thank yo...</td>\n",
       "      <td>Campaign Documents</td>\n",
       "      <td>/documents/remarks-make-america-great-again-ra...</td>\n",
       "    </tr>\n",
       "    <tr>\n",
       "      <th>4</th>\n",
       "      <td>Donald J. Trump</td>\n",
       "      <td>\\nRemarks at a “Make America Great Again” Rall...</td>\n",
       "      <td>\\nAugust 30, 2018</td>\n",
       "      <td>\\nPRESIDENT DONALD TRUMP: Evansville, you are ...</td>\n",
       "      <td>Campaign Documents</td>\n",
       "      <td>/documents/remarks-make-america-great-again-ra...</td>\n",
       "    </tr>\n",
       "  </tbody>\n",
       "</table>\n",
       "</div>"
      ],
      "text/plain": [
       "         Candidate                                              Title  \\\n",
       "0  Donald J. Trump  \\nRemarks at a \"Make America Great Again\" Rall...   \n",
       "1  Donald J. Trump  \\nRemarks at a “Make America Great Again” Rall...   \n",
       "2  Donald J. Trump  \\nRemarks at a “Make America Great Again” Rall...   \n",
       "3  Donald J. Trump  \\nRemarks at a “Make America Great Again” Rall...   \n",
       "4  Donald J. Trump  \\nRemarks at a “Make America Great Again” Rall...   \n",
       "\n",
       "                    Date                                            Content  \\\n",
       "0   \\nNovember 26, 2018   \\nPRESIDENT DONALD TRUMP: Thank you, thank you...   \n",
       "1    \\nOctober 20, 2018   \\nThe President: Thank you very much, and hell...   \n",
       "2  \\nSeptember 29, 2018   \\n[music:  John Denver, \"Take Me Home, Country...   \n",
       "3  \\nSeptember 06, 2018   \\nPRESIDENT DONALD TRUMP:  Thank you. Thank yo...   \n",
       "4     \\nAugust 30, 2018   \\nPRESIDENT DONALD TRUMP: Evansville, you are ...   \n",
       "\n",
       "                 Type                                                URL  \n",
       "0  Campaign Documents  /documents/remarks-make-america-great-again-ra...  \n",
       "1  Campaign Documents  /documents/remarks-make-america-great-again-ra...  \n",
       "2  Campaign Documents  /documents/remarks-make-america-great-again-ra...  \n",
       "3  Campaign Documents  /documents/remarks-make-america-great-again-ra...  \n",
       "4  Campaign Documents  /documents/remarks-make-america-great-again-ra...  "
      ]
     },
     "execution_count": 22,
     "metadata": {},
     "output_type": "execute_result"
    }
   ],
   "source": [
    "CSpeech.columns = ['Candidate','Title','Date','Content','Type','URL']\n",
    "CSpeech.head()"
   ]
  },
  {
   "cell_type": "code",
   "execution_count": 23,
   "metadata": {
    "collapsed": true
   },
   "outputs": [],
   "source": [
    "CSpeech['Year'] = [int(re.split(',',x)[1].strip()) for x in CSpeech.Date]"
   ]
  },
  {
   "cell_type": "code",
   "execution_count": 24,
   "metadata": {
    "collapsed": true
   },
   "outputs": [],
   "source": [
    "CSpeech['Month'] = [re.split(',',x)[0].strip('\\n')[:-3] for x in CSpeech.Date]\n",
    "CSpeech['Day'] = [int(re.split(',',x)[0].strip('\\n')[-2:]) for x in CSpeech.Date]"
   ]
  },
  {
   "cell_type": "code",
   "execution_count": 25,
   "metadata": {
    "collapsed": true
   },
   "outputs": [],
   "source": [
    "CSpeech['Speech_index']= ['Speech'+ str(x) for x in range(0,len(CSpeech.Title))]"
   ]
  },
  {
   "cell_type": "code",
   "execution_count": 26,
   "metadata": {},
   "outputs": [
    {
     "data": {
      "text/html": [
       "<div>\n",
       "<style scoped>\n",
       "    .dataframe tbody tr th:only-of-type {\n",
       "        vertical-align: middle;\n",
       "    }\n",
       "\n",
       "    .dataframe tbody tr th {\n",
       "        vertical-align: top;\n",
       "    }\n",
       "\n",
       "    .dataframe thead th {\n",
       "        text-align: right;\n",
       "    }\n",
       "</style>\n",
       "<table border=\"1\" class=\"dataframe\">\n",
       "  <thead>\n",
       "    <tr style=\"text-align: right;\">\n",
       "      <th></th>\n",
       "      <th>Candidate</th>\n",
       "      <th>Title</th>\n",
       "      <th>Date</th>\n",
       "      <th>Content</th>\n",
       "      <th>Type</th>\n",
       "      <th>URL</th>\n",
       "      <th>Year</th>\n",
       "      <th>Month</th>\n",
       "      <th>Day</th>\n",
       "      <th>Speech_index</th>\n",
       "    </tr>\n",
       "  </thead>\n",
       "  <tbody>\n",
       "    <tr>\n",
       "      <th>0</th>\n",
       "      <td>Donald J. Trump</td>\n",
       "      <td>\\nRemarks at a \"Make America Great Again\" Rall...</td>\n",
       "      <td>\\nNovember 26, 2018</td>\n",
       "      <td>\\nPRESIDENT DONALD TRUMP: Thank you, thank you...</td>\n",
       "      <td>Campaign Documents</td>\n",
       "      <td>/documents/remarks-make-america-great-again-ra...</td>\n",
       "      <td>2018</td>\n",
       "      <td>November</td>\n",
       "      <td>26</td>\n",
       "      <td>Speech0</td>\n",
       "    </tr>\n",
       "    <tr>\n",
       "      <th>1</th>\n",
       "      <td>Donald J. Trump</td>\n",
       "      <td>\\nRemarks at a “Make America Great Again” Rall...</td>\n",
       "      <td>\\nOctober 20, 2018</td>\n",
       "      <td>\\nThe President: Thank you very much, and hell...</td>\n",
       "      <td>Campaign Documents</td>\n",
       "      <td>/documents/remarks-make-america-great-again-ra...</td>\n",
       "      <td>2018</td>\n",
       "      <td>October</td>\n",
       "      <td>20</td>\n",
       "      <td>Speech1</td>\n",
       "    </tr>\n",
       "    <tr>\n",
       "      <th>2</th>\n",
       "      <td>Donald J. Trump</td>\n",
       "      <td>\\nRemarks at a “Make America Great Again” Rall...</td>\n",
       "      <td>\\nSeptember 29, 2018</td>\n",
       "      <td>\\n[music:  John Denver, \"Take Me Home, Country...</td>\n",
       "      <td>Campaign Documents</td>\n",
       "      <td>/documents/remarks-make-america-great-again-ra...</td>\n",
       "      <td>2018</td>\n",
       "      <td>September</td>\n",
       "      <td>29</td>\n",
       "      <td>Speech2</td>\n",
       "    </tr>\n",
       "    <tr>\n",
       "      <th>3</th>\n",
       "      <td>Donald J. Trump</td>\n",
       "      <td>\\nRemarks at a “Make America Great Again” Rall...</td>\n",
       "      <td>\\nSeptember 06, 2018</td>\n",
       "      <td>\\nPRESIDENT DONALD TRUMP:  Thank you. Thank yo...</td>\n",
       "      <td>Campaign Documents</td>\n",
       "      <td>/documents/remarks-make-america-great-again-ra...</td>\n",
       "      <td>2018</td>\n",
       "      <td>September</td>\n",
       "      <td>6</td>\n",
       "      <td>Speech3</td>\n",
       "    </tr>\n",
       "    <tr>\n",
       "      <th>4</th>\n",
       "      <td>Donald J. Trump</td>\n",
       "      <td>\\nRemarks at a “Make America Great Again” Rall...</td>\n",
       "      <td>\\nAugust 30, 2018</td>\n",
       "      <td>\\nPRESIDENT DONALD TRUMP: Evansville, you are ...</td>\n",
       "      <td>Campaign Documents</td>\n",
       "      <td>/documents/remarks-make-america-great-again-ra...</td>\n",
       "      <td>2018</td>\n",
       "      <td>August</td>\n",
       "      <td>30</td>\n",
       "      <td>Speech4</td>\n",
       "    </tr>\n",
       "  </tbody>\n",
       "</table>\n",
       "</div>"
      ],
      "text/plain": [
       "         Candidate                                              Title  \\\n",
       "0  Donald J. Trump  \\nRemarks at a \"Make America Great Again\" Rall...   \n",
       "1  Donald J. Trump  \\nRemarks at a “Make America Great Again” Rall...   \n",
       "2  Donald J. Trump  \\nRemarks at a “Make America Great Again” Rall...   \n",
       "3  Donald J. Trump  \\nRemarks at a “Make America Great Again” Rall...   \n",
       "4  Donald J. Trump  \\nRemarks at a “Make America Great Again” Rall...   \n",
       "\n",
       "                    Date                                            Content  \\\n",
       "0   \\nNovember 26, 2018   \\nPRESIDENT DONALD TRUMP: Thank you, thank you...   \n",
       "1    \\nOctober 20, 2018   \\nThe President: Thank you very much, and hell...   \n",
       "2  \\nSeptember 29, 2018   \\n[music:  John Denver, \"Take Me Home, Country...   \n",
       "3  \\nSeptember 06, 2018   \\nPRESIDENT DONALD TRUMP:  Thank you. Thank yo...   \n",
       "4     \\nAugust 30, 2018   \\nPRESIDENT DONALD TRUMP: Evansville, you are ...   \n",
       "\n",
       "                 Type                                                URL  \\\n",
       "0  Campaign Documents  /documents/remarks-make-america-great-again-ra...   \n",
       "1  Campaign Documents  /documents/remarks-make-america-great-again-ra...   \n",
       "2  Campaign Documents  /documents/remarks-make-america-great-again-ra...   \n",
       "3  Campaign Documents  /documents/remarks-make-america-great-again-ra...   \n",
       "4  Campaign Documents  /documents/remarks-make-america-great-again-ra...   \n",
       "\n",
       "   Year      Month  Day Speech_index  \n",
       "0  2018   November   26      Speech0  \n",
       "1  2018    October   20      Speech1  \n",
       "2  2018  September   29      Speech2  \n",
       "3  2018  September    6      Speech3  \n",
       "4  2018     August   30      Speech4  "
      ]
     },
     "execution_count": 26,
     "metadata": {},
     "output_type": "execute_result"
    }
   ],
   "source": [
    "CSpeech.head()"
   ]
  },
  {
   "cell_type": "code",
   "execution_count": 27,
   "metadata": {
    "collapsed": true
   },
   "outputs": [],
   "source": [
    "CSpeech.to_csv(\"CampaignSpeech.csv\", index=False)"
   ]
  },
  {
   "cell_type": "markdown",
   "metadata": {},
   "source": [
    "### Create Sub-speech"
   ]
  },
  {
   "cell_type": "code",
   "execution_count": 8,
   "metadata": {
    "collapsed": true
   },
   "outputs": [],
   "source": [
    "sub_dict = {'Subspeech_index':[], 'SubContent':[], 'Speech_index':[]}"
   ]
  },
  {
   "cell_type": "code",
   "execution_count": 9,
   "metadata": {
    "collapsed": true
   },
   "outputs": [],
   "source": [
    "# Save every 10 lines into a subspeech e.g. [0,10)\n",
    "\n",
    "for i,text in enumerate(CSpeech['Content']): \n",
    "    splited = re.split('\\n',text)\n",
    "    length = len(re.split('\\n',text))\n",
    "    if length > 10:\n",
    "        a = list(range(0,length,10)) \n",
    "        for j in a[:-2]:\n",
    "            rowvalue = []\n",
    "            upper=j+10\n",
    "            sub_dict['Subspeech_index'].append(CSpeech['Speech_index'][i]+'_'+str(j)+ ':' + str(upper))\n",
    "            sub_dict['SubContent'].append(splited[j: upper])\n",
    "            sub_dict['Speech_index'].append(CSpeech['Speech_index'][i])\n",
    "            \n",
    "        sub_dict['Subspeech_index'].append(CSpeech['Speech_index'][i]+'_'+ str(a[-2])+ ':' + str(length))\n",
    "        sub_dict['SubContent'].append(splited[a[-2]: length])\n",
    "        sub_dict['Speech_index'].append(CSpeech['Speech_index'][i])\n",
    "    else:\n",
    "        sub_dict['Subspeech_index'].append(CSpeech['Speech_index'][i] +'_'+str(0)+ ':' + str(length))\n",
    "        sub_dict['SubContent'].append(splited[: length])\n",
    "        sub_dict['Speech_index'].append(CSpeech['Speech_index'][i])"
   ]
  },
  {
   "cell_type": "code",
   "execution_count": null,
   "metadata": {
    "collapsed": true
   },
   "outputs": [],
   "source": [
    "Sub_Speech = pd.DataFrame.from_dict(sub_dict)\n",
    "Sub_Speech.head()"
   ]
  },
  {
   "cell_type": "code",
   "execution_count": null,
   "metadata": {
    "collapsed": true
   },
   "outputs": [],
   "source": [
    "SubSpeech = Sub_Speech.merge(CSpeech, left_on='Speech_index', right_on = 'Speech_index')\n",
    "SubSpeech.head()"
   ]
  },
  {
   "cell_type": "code",
   "execution_count": null,
   "metadata": {
    "collapsed": true
   },
   "outputs": [],
   "source": [
    "SubSpeech.to_csv(\"SubSpeech.csv\")"
   ]
  },
  {
   "cell_type": "markdown",
   "metadata": {},
   "source": [
    "## Create Training Data for Annotation (prodigy)"
   ]
  },
  {
   "cell_type": "code",
   "execution_count": null,
   "metadata": {
    "collapsed": true
   },
   "outputs": [],
   "source": [
    "len(SubSpeech.Subspeech_index), len(CSpeech.Speech_index)"
   ]
  },
  {
   "cell_type": "code",
   "execution_count": null,
   "metadata": {
    "collapsed": true
   },
   "outputs": [],
   "source": [
    "#CSpeech['Year'].value_counts()\n",
    "#CSpeech.Candidate.value_counts()"
   ]
  },
  {
   "cell_type": "code",
   "execution_count": null,
   "metadata": {
    "collapsed": true
   },
   "outputs": [],
   "source": [
    "#uniyear = pd.unique(CSpeech.Year)"
   ]
  },
  {
   "cell_type": "code",
   "execution_count": null,
   "metadata": {
    "collapsed": true
   },
   "outputs": [],
   "source": [
    "speech_sample = np.random.choice(CSpeech['Speech_index'], 60, replace=False)"
   ]
  },
  {
   "cell_type": "code",
   "execution_count": null,
   "metadata": {
    "collapsed": true
   },
   "outputs": [],
   "source": [
    "CSpeech.Candidate[CSpeech.Speech_index.isin(speech_sample)].value_counts()"
   ]
  },
  {
   "cell_type": "code",
   "execution_count": null,
   "metadata": {
    "collapsed": true
   },
   "outputs": [],
   "source": [
    "subspeech_sample = SubSpeech[['Speech_index', 'Subspeech_index','SubContent']].loc[SubSpeech.Speech_index.isin(speech_sample)]"
   ]
  },
  {
   "cell_type": "code",
   "execution_count": null,
   "metadata": {
    "collapsed": true
   },
   "outputs": [],
   "source": [
    "subspeech_sample['text'] = [subspeech_sample.Subspeech_index[i] + '## ' + ''.join(subspeech_sample.SubContent[i])\n",
    "                           for i in subspeech_sample.Subspeech_index.index]"
   ]
  },
  {
   "cell_type": "code",
   "execution_count": null,
   "metadata": {
    "collapsed": true
   },
   "outputs": [],
   "source": [
    "len(subspeech_sample.Subspeech_index)"
   ]
  },
  {
   "cell_type": "code",
   "execution_count": null,
   "metadata": {
    "collapsed": true
   },
   "outputs": [],
   "source": [
    "subspeech_sample.to_csv('subspeech_sample.csv')"
   ]
  },
  {
   "cell_type": "markdown",
   "metadata": {},
   "source": [
    "## Annotate additional data"
   ]
  },
  {
   "cell_type": "code",
   "execution_count": 4,
   "metadata": {},
   "outputs": [],
   "source": [
    "#SubSpeech_predicted = pd.read_csv('SubSpeech_predicted.csv')"
   ]
  },
  {
   "cell_type": "markdown",
   "metadata": {},
   "source": [
    "## Load and Merge Annotation"
   ]
  },
  {
   "cell_type": "code",
   "execution_count": 2,
   "metadata": {
    "collapsed": true
   },
   "outputs": [],
   "source": [
    "with open('Annotations.jsonl/test_annotation.jsonl', 'r') as annotation_jsonl:\n",
    "    annotation_list = list(annotation_jsonl)"
   ]
  },
  {
   "cell_type": "code",
   "execution_count": 3,
   "metadata": {
    "collapsed": true
   },
   "outputs": [],
   "source": [
    "with open('Annotations.jsonl/pop_code1117.jsonl', 'r') as annotation_jsonl:\n",
    "    annotation_list += list(annotation_jsonl)"
   ]
  },
  {
   "cell_type": "code",
   "execution_count": 5,
   "metadata": {
    "collapsed": true
   },
   "outputs": [],
   "source": [
    "with open('Annotations.jsonl/blind_test1117.jsonl', 'r') as annotation_jsonl:\n",
    "    annotation_list += list(annotation_jsonl)"
   ]
  },
  {
   "cell_type": "code",
   "execution_count": 7,
   "metadata": {
    "collapsed": true
   },
   "outputs": [],
   "source": [
    "with open('Annotations.jsonl/blindtest2.jsonl', 'r') as annotation_jsonl:\n",
    "    annotation_list += list(annotation_jsonl)"
   ]
  },
  {
   "cell_type": "code",
   "execution_count": 8,
   "metadata": {},
   "outputs": [
    {
     "data": {
      "text/plain": [
       "419"
      ]
     },
     "execution_count": 8,
     "metadata": {},
     "output_type": "execute_result"
    }
   ],
   "source": [
    "len(annotation_list)"
   ]
  },
  {
   "cell_type": "code",
   "execution_count": 9,
   "metadata": {
    "collapsed": true
   },
   "outputs": [],
   "source": [
    "coded = {}\n",
    "for annotation in annotation_list:\n",
    "    annotation_dict = json.loads(annotation)\n",
    "    coded[annotation_dict['text'].split('##')[0]] = annotation_dict['answer']"
   ]
  },
  {
   "cell_type": "code",
   "execution_count": 10,
   "metadata": {},
   "outputs": [
    {
     "data": {
      "text/plain": [
       "419"
      ]
     },
     "execution_count": 10,
     "metadata": {},
     "output_type": "execute_result"
    }
   ],
   "source": [
    "len(coded)"
   ]
  },
  {
   "cell_type": "code",
   "execution_count": 11,
   "metadata": {
    "collapsed": true
   },
   "outputs": [],
   "source": [
    "coded_data = pd.DataFrame.from_dict(coded, orient='index')"
   ]
  },
  {
   "cell_type": "code",
   "execution_count": 12,
   "metadata": {
    "collapsed": true
   },
   "outputs": [],
   "source": [
    "coded_data = coded_data.rename(columns={0:'Pop'})"
   ]
  },
  {
   "cell_type": "code",
   "execution_count": 13,
   "metadata": {
    "collapsed": true
   },
   "outputs": [],
   "source": [
    "coded_data['Subspeech_index'] = coded_data.index"
   ]
  },
  {
   "cell_type": "code",
   "execution_count": 14,
   "metadata": {
    "collapsed": true
   },
   "outputs": [],
   "source": [
    "Sub_Speech = pd.read_csv('SubSpeech.csv')"
   ]
  },
  {
   "cell_type": "code",
   "execution_count": 15,
   "metadata": {
    "collapsed": true
   },
   "outputs": [],
   "source": [
    "SubSpeech_coded = Sub_Speech.merge(coded_data, how = 'outer', left_on='Subspeech_index', right_on = 'Subspeech_index')"
   ]
  },
  {
   "cell_type": "code",
   "execution_count": 16,
   "metadata": {},
   "outputs": [
    {
     "data": {
      "text/plain": [
       "11929"
      ]
     },
     "execution_count": 16,
     "metadata": {},
     "output_type": "execute_result"
    }
   ],
   "source": [
    "len(SubSpeech_coded.Candidate)"
   ]
  },
  {
   "cell_type": "code",
   "execution_count": 17,
   "metadata": {
    "collapsed": true
   },
   "outputs": [],
   "source": [
    "SubSpeech_coded.to_csv(\"SubSpeech_coded.csv\")"
   ]
  },
  {
   "cell_type": "code",
   "execution_count": null,
   "metadata": {
    "collapsed": true
   },
   "outputs": [],
   "source": [
    "#CSpeech.Candidate[CSpeech.Speech_index=='Speech1654']"
   ]
  },
  {
   "cell_type": "code",
   "execution_count": 19,
   "metadata": {},
   "outputs": [
    {
     "data": {
      "text/plain": [
       "Donald J. Trump    36\n",
       "Barack Obama        8\n",
       "John Edwards        6\n",
       "Bernie Sanders      4\n",
       "John McCain         3\n",
       "Robert Dole         2\n",
       "Ted Cruz            1\n",
       "John F. Kerry       1\n",
       "Newt Gingrich       1\n",
       "Name: Candidate, dtype: int64"
      ]
     },
     "execution_count": 19,
     "metadata": {},
     "output_type": "execute_result"
    }
   ],
   "source": [
    "SubSpeech_coded.Candidate[SubSpeech_coded.Pop =='accept'].value_counts()"
   ]
  },
  {
   "cell_type": "markdown",
   "metadata": {
    "collapsed": true
   },
   "source": [
    "## Add more speech"
   ]
  },
  {
   "cell_type": "code",
   "execution_count": 28,
   "metadata": {
    "collapsed": true
   },
   "outputs": [],
   "source": [
    "Speech = pd.read_csv('CampaignSpeech.csv')"
   ]
  },
  {
   "cell_type": "code",
   "execution_count": 29,
   "metadata": {
    "collapsed": true
   },
   "outputs": [],
   "source": [
    "PresiDoc = pd.read_csv('PresidentDoc.csv')"
   ]
  },
  {
   "cell_type": "code",
   "execution_count": 100,
   "metadata": {
    "collapsed": true
   },
   "outputs": [],
   "source": [
    "SubSpeech_predicted = pd.read_csv('SubSpeech_predicted.csv')"
   ]
  },
  {
   "cell_type": "code",
   "execution_count": 101,
   "metadata": {},
   "outputs": [
    {
     "data": {
      "text/html": [
       "<div>\n",
       "<style scoped>\n",
       "    .dataframe tbody tr th:only-of-type {\n",
       "        vertical-align: middle;\n",
       "    }\n",
       "\n",
       "    .dataframe tbody tr th {\n",
       "        vertical-align: top;\n",
       "    }\n",
       "\n",
       "    .dataframe thead th {\n",
       "        text-align: right;\n",
       "    }\n",
       "</style>\n",
       "<table border=\"1\" class=\"dataframe\">\n",
       "  <thead>\n",
       "    <tr style=\"text-align: right;\">\n",
       "      <th></th>\n",
       "      <th>Unnamed: 0</th>\n",
       "      <th>Unnamed: 0.1</th>\n",
       "      <th>Subspeech_index</th>\n",
       "      <th>SubContent</th>\n",
       "      <th>Speech_index</th>\n",
       "      <th>Candidate</th>\n",
       "      <th>Title</th>\n",
       "      <th>Date</th>\n",
       "      <th>Content</th>\n",
       "      <th>Type</th>\n",
       "      <th>URL</th>\n",
       "      <th>Year</th>\n",
       "      <th>Month</th>\n",
       "      <th>Day</th>\n",
       "      <th>Pop</th>\n",
       "      <th>Pop_class</th>\n",
       "      <th>Pop_prob</th>\n",
       "    </tr>\n",
       "  </thead>\n",
       "  <tbody>\n",
       "    <tr>\n",
       "      <th>0</th>\n",
       "      <td>0</td>\n",
       "      <td>0</td>\n",
       "      <td>Speech0_0:10</td>\n",
       "      <td>['', \"PRESIDENT DONALD TRUMP: Thank you, thank...</td>\n",
       "      <td>Speech0</td>\n",
       "      <td>Donald J. Trump</td>\n",
       "      <td>\\nRemarks at a \"Make America Great Again\" Rall...</td>\n",
       "      <td>\\nNovember 26, 2018</td>\n",
       "      <td>\\nPRESIDENT DONALD TRUMP: Thank you, thank you...</td>\n",
       "      <td>Campaign Documents</td>\n",
       "      <td>/documents/remarks-make-america-great-again-ra...</td>\n",
       "      <td>2018</td>\n",
       "      <td>November</td>\n",
       "      <td>26</td>\n",
       "      <td>NaN</td>\n",
       "      <td>0</td>\n",
       "      <td>0.225000</td>\n",
       "    </tr>\n",
       "    <tr>\n",
       "      <th>1</th>\n",
       "      <td>1</td>\n",
       "      <td>1</td>\n",
       "      <td>Speech0_10:20</td>\n",
       "      <td>['The unemployment rate just hit the lowest le...</td>\n",
       "      <td>Speech0</td>\n",
       "      <td>Donald J. Trump</td>\n",
       "      <td>\\nRemarks at a \"Make America Great Again\" Rall...</td>\n",
       "      <td>\\nNovember 26, 2018</td>\n",
       "      <td>\\nPRESIDENT DONALD TRUMP: Thank you, thank you...</td>\n",
       "      <td>Campaign Documents</td>\n",
       "      <td>/documents/remarks-make-america-great-again-ra...</td>\n",
       "      <td>2018</td>\n",
       "      <td>November</td>\n",
       "      <td>26</td>\n",
       "      <td>NaN</td>\n",
       "      <td>0</td>\n",
       "      <td>0.024194</td>\n",
       "    </tr>\n",
       "    <tr>\n",
       "      <th>2</th>\n",
       "      <td>2</td>\n",
       "      <td>2</td>\n",
       "      <td>Speech0_20:30</td>\n",
       "      <td>[\"And I'll tell you, a little—a little tricky ...</td>\n",
       "      <td>Speech0</td>\n",
       "      <td>Donald J. Trump</td>\n",
       "      <td>\\nRemarks at a \"Make America Great Again\" Rall...</td>\n",
       "      <td>\\nNovember 26, 2018</td>\n",
       "      <td>\\nPRESIDENT DONALD TRUMP: Thank you, thank you...</td>\n",
       "      <td>Campaign Documents</td>\n",
       "      <td>/documents/remarks-make-america-great-again-ra...</td>\n",
       "      <td>2018</td>\n",
       "      <td>November</td>\n",
       "      <td>26</td>\n",
       "      <td>NaN</td>\n",
       "      <td>0</td>\n",
       "      <td>0.244048</td>\n",
       "    </tr>\n",
       "    <tr>\n",
       "      <th>3</th>\n",
       "      <td>3</td>\n",
       "      <td>3</td>\n",
       "      <td>Speech0_30:40</td>\n",
       "      <td>['You are here, he is here to help elect Cindy...</td>\n",
       "      <td>Speech0</td>\n",
       "      <td>Donald J. Trump</td>\n",
       "      <td>\\nRemarks at a \"Make America Great Again\" Rall...</td>\n",
       "      <td>\\nNovember 26, 2018</td>\n",
       "      <td>\\nPRESIDENT DONALD TRUMP: Thank you, thank you...</td>\n",
       "      <td>Campaign Documents</td>\n",
       "      <td>/documents/remarks-make-america-great-again-ra...</td>\n",
       "      <td>2018</td>\n",
       "      <td>November</td>\n",
       "      <td>26</td>\n",
       "      <td>NaN</td>\n",
       "      <td>0</td>\n",
       "      <td>0.175000</td>\n",
       "    </tr>\n",
       "    <tr>\n",
       "      <th>4</th>\n",
       "      <td>4</td>\n",
       "      <td>4</td>\n",
       "      <td>Speech0_40:50</td>\n",
       "      <td>[\"What a great crowd we have tonight for you. ...</td>\n",
       "      <td>Speech0</td>\n",
       "      <td>Donald J. Trump</td>\n",
       "      <td>\\nRemarks at a \"Make America Great Again\" Rall...</td>\n",
       "      <td>\\nNovember 26, 2018</td>\n",
       "      <td>\\nPRESIDENT DONALD TRUMP: Thank you, thank you...</td>\n",
       "      <td>Campaign Documents</td>\n",
       "      <td>/documents/remarks-make-america-great-again-ra...</td>\n",
       "      <td>2018</td>\n",
       "      <td>November</td>\n",
       "      <td>26</td>\n",
       "      <td>NaN</td>\n",
       "      <td>0</td>\n",
       "      <td>0.244048</td>\n",
       "    </tr>\n",
       "  </tbody>\n",
       "</table>\n",
       "</div>"
      ],
      "text/plain": [
       "   Unnamed: 0  Unnamed: 0.1 Subspeech_index  \\\n",
       "0           0             0    Speech0_0:10   \n",
       "1           1             1   Speech0_10:20   \n",
       "2           2             2   Speech0_20:30   \n",
       "3           3             3   Speech0_30:40   \n",
       "4           4             4   Speech0_40:50   \n",
       "\n",
       "                                          SubContent Speech_index  \\\n",
       "0  ['', \"PRESIDENT DONALD TRUMP: Thank you, thank...      Speech0   \n",
       "1  ['The unemployment rate just hit the lowest le...      Speech0   \n",
       "2  [\"And I'll tell you, a little—a little tricky ...      Speech0   \n",
       "3  ['You are here, he is here to help elect Cindy...      Speech0   \n",
       "4  [\"What a great crowd we have tonight for you. ...      Speech0   \n",
       "\n",
       "         Candidate                                              Title  \\\n",
       "0  Donald J. Trump  \\nRemarks at a \"Make America Great Again\" Rall...   \n",
       "1  Donald J. Trump  \\nRemarks at a \"Make America Great Again\" Rall...   \n",
       "2  Donald J. Trump  \\nRemarks at a \"Make America Great Again\" Rall...   \n",
       "3  Donald J. Trump  \\nRemarks at a \"Make America Great Again\" Rall...   \n",
       "4  Donald J. Trump  \\nRemarks at a \"Make America Great Again\" Rall...   \n",
       "\n",
       "                   Date                                            Content  \\\n",
       "0  \\nNovember 26, 2018   \\nPRESIDENT DONALD TRUMP: Thank you, thank you...   \n",
       "1  \\nNovember 26, 2018   \\nPRESIDENT DONALD TRUMP: Thank you, thank you...   \n",
       "2  \\nNovember 26, 2018   \\nPRESIDENT DONALD TRUMP: Thank you, thank you...   \n",
       "3  \\nNovember 26, 2018   \\nPRESIDENT DONALD TRUMP: Thank you, thank you...   \n",
       "4  \\nNovember 26, 2018   \\nPRESIDENT DONALD TRUMP: Thank you, thank you...   \n",
       "\n",
       "                 Type                                                URL  \\\n",
       "0  Campaign Documents  /documents/remarks-make-america-great-again-ra...   \n",
       "1  Campaign Documents  /documents/remarks-make-america-great-again-ra...   \n",
       "2  Campaign Documents  /documents/remarks-make-america-great-again-ra...   \n",
       "3  Campaign Documents  /documents/remarks-make-america-great-again-ra...   \n",
       "4  Campaign Documents  /documents/remarks-make-america-great-again-ra...   \n",
       "\n",
       "   Year     Month  Day  Pop  Pop_class  Pop_prob  \n",
       "0  2018  November   26  NaN          0  0.225000  \n",
       "1  2018  November   26  NaN          0  0.024194  \n",
       "2  2018  November   26  NaN          0  0.244048  \n",
       "3  2018  November   26  NaN          0  0.175000  \n",
       "4  2018  November   26  NaN          0  0.244048  "
      ]
     },
     "execution_count": 101,
     "metadata": {},
     "output_type": "execute_result"
    }
   ],
   "source": [
    "SubSpeech_predicted.head()"
   ]
  },
  {
   "cell_type": "code",
   "execution_count": 30,
   "metadata": {},
   "outputs": [
    {
     "data": {
      "text/html": [
       "<div>\n",
       "<style scoped>\n",
       "    .dataframe tbody tr th:only-of-type {\n",
       "        vertical-align: middle;\n",
       "    }\n",
       "\n",
       "    .dataframe tbody tr th {\n",
       "        vertical-align: top;\n",
       "    }\n",
       "\n",
       "    .dataframe thead th {\n",
       "        text-align: right;\n",
       "    }\n",
       "</style>\n",
       "<table border=\"1\" class=\"dataframe\">\n",
       "  <thead>\n",
       "    <tr style=\"text-align: right;\">\n",
       "      <th></th>\n",
       "      <th>Name</th>\n",
       "      <th>Title</th>\n",
       "      <th>Date</th>\n",
       "      <th>Type</th>\n",
       "      <th>URL</th>\n",
       "      <th>phrased_text</th>\n",
       "      <th>Year</th>\n",
       "    </tr>\n",
       "  </thead>\n",
       "  <tbody>\n",
       "    <tr>\n",
       "      <th>0</th>\n",
       "      <td>Donald J. Trump</td>\n",
       "      <td>\\nRemarks Announcing Candidacy for President i...</td>\n",
       "      <td>\\nJune 16, 2015</td>\n",
       "      <td>['Campaign Documents', 'Presidential Candidates']</td>\n",
       "      <td>/documents/remarks-announcing-candidacy-for-pr...</td>\n",
       "      <td>trump wow whoa that is some group of people th...</td>\n",
       "      <td>2015</td>\n",
       "    </tr>\n",
       "    <tr>\n",
       "      <th>1</th>\n",
       "      <td>Donald J. Trump</td>\n",
       "      <td>\\nPress Release - Donald Trump: Obama Is A Hor...</td>\n",
       "      <td>\\nJune 16, 2015</td>\n",
       "      <td>['Elections and Transitions', 'Press Releases']</td>\n",
       "      <td>/documents/press-release-donald-trump-obama-ho...</td>\n",
       "      <td>the gateway pundit donald_trump says its time ...</td>\n",
       "      <td>2015</td>\n",
       "    </tr>\n",
       "    <tr>\n",
       "      <th>2</th>\n",
       "      <td>Donald J. Trump</td>\n",
       "      <td>\\nPress Release - Trump on Hillary: I Was Watc...</td>\n",
       "      <td>\\nJune 16, 2015</td>\n",
       "      <td>['Elections and Transitions', 'Press Releases']</td>\n",
       "      <td>/documents/press-release-trump-hillary-i-was-w...</td>\n",
       "      <td>the gateway pundit this is why we love the don...</td>\n",
       "      <td>2015</td>\n",
       "    </tr>\n",
       "    <tr>\n",
       "      <th>3</th>\n",
       "      <td>Donald J. Trump</td>\n",
       "      <td>\\nPress Release - Donald J. Trump Declares Can...</td>\n",
       "      <td>\\nJune 16, 2015</td>\n",
       "      <td>['Elections and Transitions', 'Press Releases']</td>\n",
       "      <td>/documents/press-release-donald-j-trump-declar...</td>\n",
       "      <td>new_york_ny june_16 2015today donald_j_trump a...</td>\n",
       "      <td>2015</td>\n",
       "    </tr>\n",
       "    <tr>\n",
       "      <th>4</th>\n",
       "      <td>Donald J. Trump</td>\n",
       "      <td>\\nPress Release - Donald Trump: I Would Build ...</td>\n",
       "      <td>\\nJune 16, 2015</td>\n",
       "      <td>['Elections and Transitions', 'Press Releases']</td>\n",
       "      <td>/documents/press-release-donald-trump-i-would-...</td>\n",
       "      <td>the gateway pundit what a speechthe donald say...</td>\n",
       "      <td>2015</td>\n",
       "    </tr>\n",
       "  </tbody>\n",
       "</table>\n",
       "</div>"
      ],
      "text/plain": [
       "              Name                                              Title  \\\n",
       "0  Donald J. Trump  \\nRemarks Announcing Candidacy for President i...   \n",
       "1  Donald J. Trump  \\nPress Release - Donald Trump: Obama Is A Hor...   \n",
       "2  Donald J. Trump  \\nPress Release - Trump on Hillary: I Was Watc...   \n",
       "3  Donald J. Trump  \\nPress Release - Donald J. Trump Declares Can...   \n",
       "4  Donald J. Trump  \\nPress Release - Donald Trump: I Would Build ...   \n",
       "\n",
       "               Date                                               Type  \\\n",
       "0  \\nJune 16, 2015   ['Campaign Documents', 'Presidential Candidates']   \n",
       "1  \\nJune 16, 2015     ['Elections and Transitions', 'Press Releases']   \n",
       "2  \\nJune 16, 2015     ['Elections and Transitions', 'Press Releases']   \n",
       "3  \\nJune 16, 2015     ['Elections and Transitions', 'Press Releases']   \n",
       "4  \\nJune 16, 2015     ['Elections and Transitions', 'Press Releases']   \n",
       "\n",
       "                                                 URL  \\\n",
       "0  /documents/remarks-announcing-candidacy-for-pr...   \n",
       "1  /documents/press-release-donald-trump-obama-ho...   \n",
       "2  /documents/press-release-trump-hillary-i-was-w...   \n",
       "3  /documents/press-release-donald-j-trump-declar...   \n",
       "4  /documents/press-release-donald-trump-i-would-...   \n",
       "\n",
       "                                        phrased_text  Year  \n",
       "0  trump wow whoa that is some group of people th...  2015  \n",
       "1  the gateway pundit donald_trump says its time ...  2015  \n",
       "2  the gateway pundit this is why we love the don...  2015  \n",
       "3  new_york_ny june_16 2015today donald_j_trump a...  2015  \n",
       "4  the gateway pundit what a speechthe donald say...  2015  "
      ]
     },
     "execution_count": 30,
     "metadata": {},
     "output_type": "execute_result"
    }
   ],
   "source": [
    "PresiDoc.head()"
   ]
  },
  {
   "cell_type": "code",
   "execution_count": 62,
   "metadata": {},
   "outputs": [
    {
     "data": {
      "text/plain": [
       "True"
      ]
     },
     "execution_count": 62,
     "metadata": {},
     "output_type": "execute_result"
    }
   ],
   "source": [
    "\"'Press Releases'\" in re.split(', ', PresiDoc.Type[1].strip(''' [] '''))"
   ]
  },
  {
   "cell_type": "code",
   "execution_count": 80,
   "metadata": {
    "collapsed": true
   },
   "outputs": [],
   "source": [
    "acceptance = []\n",
    "for value in PresiDoc.Type:\n",
    "    result = \"'Convention Speeches'\"  in re.split(', ', value.strip(''' [] '''))\n",
    "    acceptance.append(result)"
   ]
  },
  {
   "cell_type": "code",
   "execution_count": 82,
   "metadata": {},
   "outputs": [
    {
     "data": {
      "text/plain": [
       "32"
      ]
     },
     "execution_count": 82,
     "metadata": {},
     "output_type": "execute_result"
    }
   ],
   "source": [
    "len(PresiDoc[acceptance].Name)"
   ]
  },
  {
   "cell_type": "code",
   "execution_count": 84,
   "metadata": {
    "collapsed": true
   },
   "outputs": [],
   "source": [
    "AcceptSpeech = PresiDoc[acceptance]"
   ]
  },
  {
   "cell_type": "code",
   "execution_count": 85,
   "metadata": {},
   "outputs": [
    {
     "data": {
      "text/html": [
       "<div>\n",
       "<style scoped>\n",
       "    .dataframe tbody tr th:only-of-type {\n",
       "        vertical-align: middle;\n",
       "    }\n",
       "\n",
       "    .dataframe tbody tr th {\n",
       "        vertical-align: top;\n",
       "    }\n",
       "\n",
       "    .dataframe thead th {\n",
       "        text-align: right;\n",
       "    }\n",
       "</style>\n",
       "<table border=\"1\" class=\"dataframe\">\n",
       "  <thead>\n",
       "    <tr style=\"text-align: right;\">\n",
       "      <th></th>\n",
       "      <th>Name</th>\n",
       "      <th>Title</th>\n",
       "      <th>Date</th>\n",
       "      <th>Type</th>\n",
       "      <th>URL</th>\n",
       "      <th>phrased_text</th>\n",
       "      <th>Year</th>\n",
       "    </tr>\n",
       "  </thead>\n",
       "  <tbody>\n",
       "    <tr>\n",
       "      <th>290</th>\n",
       "      <td>Donald J. Trump</td>\n",
       "      <td>\\nAddress Accepting the Presidential Nominatio...</td>\n",
       "      <td>\\nJuly 21, 2016</td>\n",
       "      <td>['Campaign Documents', 'Presidential Nominatio...</td>\n",
       "      <td>/documents/address-accepting-the-presidential-...</td>\n",
       "      <td>friends delegates and fellow_americans i humbl...</td>\n",
       "      <td>2016</td>\n",
       "    </tr>\n",
       "    <tr>\n",
       "      <th>3477</th>\n",
       "      <td>Barack Obama</td>\n",
       "      <td>\\nAddress Accepting the Presidential Nominatio...</td>\n",
       "      <td>\\nAugust 28, 2008</td>\n",
       "      <td>['Elections and Transitions', 'Convention Spee...</td>\n",
       "      <td>/documents/address-accepting-the-presidential-...</td>\n",
       "      <td>to chairman dean and my great friend dick_durb...</td>\n",
       "      <td>2008</td>\n",
       "    </tr>\n",
       "    <tr>\n",
       "      <th>11289</th>\n",
       "      <td>Barack Obama</td>\n",
       "      <td>\\nRemarks Accepting the Presidential Nominatio...</td>\n",
       "      <td>\\nSeptember 06, 2012</td>\n",
       "      <td>['Elections and Transitions', 'Convention Spee...</td>\n",
       "      <td>/documents/remarks-accepting-the-presidential-...</td>\n",
       "      <td>the first_lady thank you so much tonight i am ...</td>\n",
       "      <td>2012</td>\n",
       "    </tr>\n",
       "    <tr>\n",
       "      <th>19948</th>\n",
       "      <td>George W. Bush</td>\n",
       "      <td>\\nAddress Accepting the Presidential Nominatio...</td>\n",
       "      <td>\\nAugust 03, 2000</td>\n",
       "      <td>['Elections and Transitions', 'Convention Spee...</td>\n",
       "      <td>/documents/address-accepting-the-presidential-...</td>\n",
       "      <td>mr chairman delegates and my_fellow_citizens i...</td>\n",
       "      <td>2000</td>\n",
       "    </tr>\n",
       "    <tr>\n",
       "      <th>26752</th>\n",
       "      <td>George W. Bush</td>\n",
       "      <td>\\nRemarks Accepting the Presidential Nominatio...</td>\n",
       "      <td>\\nSeptember 02, 2004</td>\n",
       "      <td>['Elections and Transitions', 'Convention Spee...</td>\n",
       "      <td>/documents/remarks-accepting-the-presidential-...</td>\n",
       "      <td>the president thank you all mr chairman delega...</td>\n",
       "      <td>2004</td>\n",
       "    </tr>\n",
       "  </tbody>\n",
       "</table>\n",
       "</div>"
      ],
      "text/plain": [
       "                  Name                                              Title  \\\n",
       "290    Donald J. Trump  \\nAddress Accepting the Presidential Nominatio...   \n",
       "3477      Barack Obama  \\nAddress Accepting the Presidential Nominatio...   \n",
       "11289     Barack Obama  \\nRemarks Accepting the Presidential Nominatio...   \n",
       "19948   George W. Bush  \\nAddress Accepting the Presidential Nominatio...   \n",
       "26752   George W. Bush  \\nRemarks Accepting the Presidential Nominatio...   \n",
       "\n",
       "                        Date  \\\n",
       "290         \\nJuly 21, 2016    \n",
       "3477      \\nAugust 28, 2008    \n",
       "11289  \\nSeptember 06, 2012    \n",
       "19948     \\nAugust 03, 2000    \n",
       "26752  \\nSeptember 02, 2004    \n",
       "\n",
       "                                                    Type  \\\n",
       "290    ['Campaign Documents', 'Presidential Nominatio...   \n",
       "3477   ['Elections and Transitions', 'Convention Spee...   \n",
       "11289  ['Elections and Transitions', 'Convention Spee...   \n",
       "19948  ['Elections and Transitions', 'Convention Spee...   \n",
       "26752  ['Elections and Transitions', 'Convention Spee...   \n",
       "\n",
       "                                                     URL  \\\n",
       "290    /documents/address-accepting-the-presidential-...   \n",
       "3477   /documents/address-accepting-the-presidential-...   \n",
       "11289  /documents/remarks-accepting-the-presidential-...   \n",
       "19948  /documents/address-accepting-the-presidential-...   \n",
       "26752  /documents/remarks-accepting-the-presidential-...   \n",
       "\n",
       "                                            phrased_text  Year  \n",
       "290    friends delegates and fellow_americans i humbl...  2016  \n",
       "3477   to chairman dean and my great friend dick_durb...  2008  \n",
       "11289  the first_lady thank you so much tonight i am ...  2012  \n",
       "19948  mr chairman delegates and my_fellow_citizens i...  2000  \n",
       "26752  the president thank you all mr chairman delega...  2004  "
      ]
     },
     "execution_count": 85,
     "metadata": {},
     "output_type": "execute_result"
    }
   ],
   "source": [
    "AcceptSpeech.head()"
   ]
  },
  {
   "cell_type": "code",
   "execution_count": null,
   "metadata": {
    "collapsed": true
   },
   "outputs": [],
   "source": [
    "AcceptSpeech"
   ]
  },
  {
   "cell_type": "code",
   "execution_count": 87,
   "metadata": {},
   "outputs": [
    {
     "data": {
      "text/html": [
       "<div>\n",
       "<style scoped>\n",
       "    .dataframe tbody tr th:only-of-type {\n",
       "        vertical-align: middle;\n",
       "    }\n",
       "\n",
       "    .dataframe tbody tr th {\n",
       "        vertical-align: top;\n",
       "    }\n",
       "\n",
       "    .dataframe thead th {\n",
       "        text-align: right;\n",
       "    }\n",
       "</style>\n",
       "<table border=\"1\" class=\"dataframe\">\n",
       "  <thead>\n",
       "    <tr style=\"text-align: right;\">\n",
       "      <th></th>\n",
       "      <th>Candidate</th>\n",
       "      <th>Title</th>\n",
       "      <th>Date</th>\n",
       "      <th>Content</th>\n",
       "      <th>Type</th>\n",
       "      <th>URL</th>\n",
       "      <th>Year</th>\n",
       "      <th>Month</th>\n",
       "      <th>Day</th>\n",
       "      <th>Speech_index</th>\n",
       "    </tr>\n",
       "  </thead>\n",
       "  <tbody>\n",
       "    <tr>\n",
       "      <th>2734</th>\n",
       "      <td>Franklin D. Roosevelt</td>\n",
       "      <td>\\nAddress at Oglethorpe University in Atlanta,...</td>\n",
       "      <td>\\nMay 22, 1932</td>\n",
       "      <td>\\nPresident Jacobs, members and friends of Ogl...</td>\n",
       "      <td>Campaign Documents</td>\n",
       "      <td>/documents/address-oglethorpe-university-atlan...</td>\n",
       "      <td>1932</td>\n",
       "      <td>May</td>\n",
       "      <td>22</td>\n",
       "      <td>Speech2734</td>\n",
       "    </tr>\n",
       "    <tr>\n",
       "      <th>2735</th>\n",
       "      <td>Franklin D. Roosevelt</td>\n",
       "      <td>\\nAddress at Jefferson Day Dinner in St. Paul,...</td>\n",
       "      <td>\\nApril 18, 1932</td>\n",
       "      <td>\\nWhat is the real reason that Jefferson Day D...</td>\n",
       "      <td>Campaign Documents</td>\n",
       "      <td>/documents/address-jefferson-day-dinner-st-pau...</td>\n",
       "      <td>1932</td>\n",
       "      <td>April</td>\n",
       "      <td>18</td>\n",
       "      <td>Speech2735</td>\n",
       "    </tr>\n",
       "    <tr>\n",
       "      <th>2736</th>\n",
       "      <td>Franklin D. Roosevelt</td>\n",
       "      <td>\\nRadio Address From Albany, New York: \"The 'F...</td>\n",
       "      <td>\\nApril 07, 1932</td>\n",
       "      <td>\\nAlthough I understand that I am talking unde...</td>\n",
       "      <td>Campaign Documents</td>\n",
       "      <td>/documents/radio-address-from-albany-new-york-...</td>\n",
       "      <td>1932</td>\n",
       "      <td>April</td>\n",
       "      <td>7</td>\n",
       "      <td>Speech2736</td>\n",
       "    </tr>\n",
       "    <tr>\n",
       "      <th>2737</th>\n",
       "      <td>Franklin D. Roosevelt</td>\n",
       "      <td>\\nThe Governor Enters the First Primary Campai...</td>\n",
       "      <td>\\nJanuary 22, 1932</td>\n",
       "      <td>\\nMy dear Mr. McLean:\\nIf it is the desire of ...</td>\n",
       "      <td>Campaign Documents</td>\n",
       "      <td>/documents/the-governor-enters-the-first-prima...</td>\n",
       "      <td>1932</td>\n",
       "      <td>January</td>\n",
       "      <td>22</td>\n",
       "      <td>Speech2737</td>\n",
       "    </tr>\n",
       "    <tr>\n",
       "      <th>2738</th>\n",
       "      <td>William Howard Taft</td>\n",
       "      <td>\\nRemarks Accepting the Presidential Nominatio...</td>\n",
       "      <td>\\nAugust 01, 1912</td>\n",
       "      <td>\\nMR. ROOT AND CHAIRMEN OF THE NOTIFICATION CO...</td>\n",
       "      <td>Campaign Documents</td>\n",
       "      <td>/documents/remarks-accepting-the-presidential-...</td>\n",
       "      <td>1912</td>\n",
       "      <td>August</td>\n",
       "      <td>1</td>\n",
       "      <td>Speech2738</td>\n",
       "    </tr>\n",
       "  </tbody>\n",
       "</table>\n",
       "</div>"
      ],
      "text/plain": [
       "                  Candidate  \\\n",
       "2734  Franklin D. Roosevelt   \n",
       "2735  Franklin D. Roosevelt   \n",
       "2736  Franklin D. Roosevelt   \n",
       "2737  Franklin D. Roosevelt   \n",
       "2738    William Howard Taft   \n",
       "\n",
       "                                                  Title                 Date  \\\n",
       "2734  \\nAddress at Oglethorpe University in Atlanta,...      \\nMay 22, 1932    \n",
       "2735  \\nAddress at Jefferson Day Dinner in St. Paul,...    \\nApril 18, 1932    \n",
       "2736  \\nRadio Address From Albany, New York: \"The 'F...    \\nApril 07, 1932    \n",
       "2737  \\nThe Governor Enters the First Primary Campai...  \\nJanuary 22, 1932    \n",
       "2738  \\nRemarks Accepting the Presidential Nominatio...   \\nAugust 01, 1912    \n",
       "\n",
       "                                                Content                Type  \\\n",
       "2734  \\nPresident Jacobs, members and friends of Ogl...  Campaign Documents   \n",
       "2735  \\nWhat is the real reason that Jefferson Day D...  Campaign Documents   \n",
       "2736  \\nAlthough I understand that I am talking unde...  Campaign Documents   \n",
       "2737  \\nMy dear Mr. McLean:\\nIf it is the desire of ...  Campaign Documents   \n",
       "2738  \\nMR. ROOT AND CHAIRMEN OF THE NOTIFICATION CO...  Campaign Documents   \n",
       "\n",
       "                                                    URL  Year    Month  Day  \\\n",
       "2734  /documents/address-oglethorpe-university-atlan...  1932      May   22   \n",
       "2735  /documents/address-jefferson-day-dinner-st-pau...  1932    April   18   \n",
       "2736  /documents/radio-address-from-albany-new-york-...  1932    April    7   \n",
       "2737  /documents/the-governor-enters-the-first-prima...  1932  January   22   \n",
       "2738  /documents/remarks-accepting-the-presidential-...  1912   August    1   \n",
       "\n",
       "     Speech_index  \n",
       "2734   Speech2734  \n",
       "2735   Speech2735  \n",
       "2736   Speech2736  \n",
       "2737   Speech2737  \n",
       "2738   Speech2738  "
      ]
     },
     "execution_count": 87,
     "metadata": {},
     "output_type": "execute_result"
    }
   ],
   "source": [
    "Speech.tail()"
   ]
  },
  {
   "cell_type": "code",
   "execution_count": 88,
   "metadata": {},
   "outputs": [
    {
     "data": {
      "text/plain": [
       "array([\"['Campaign Documents', 'Presidential Candidates']\",\n",
       "       \"['Elections and Transitions', 'Press Releases']\",\n",
       "       \"['Elections and Transitions', 'Statements']\", '[]',\n",
       "       \"['Campaign Documents', 'Presidential Nomination Acceptance Addresses', 'Convention Speeches', 'Presidential Candidates']\",\n",
       "       \"['Elections and Transitions', 'Transition Documents']\",\n",
       "       \"['Written Statements', 'Statements', 'Presidential']\",\n",
       "       \"['Written Presidential Orders', 'Executive Orders', 'Presidential', 'Executive Orders']\",\n",
       "       \"['Written Presidential Orders', 'Proclamations', 'Presidential']\",\n",
       "       \"['Miscellaneous', 'Miscellaneous Press Secretary']\",\n",
       "       \"['Spoken Addresses and Remarks', 'Inaugural Addresses', 'Presidential', 'Inaugural']\",\n",
       "       \"['Miscellaneous', 'Miscellaneous Remarks', 'Presidential']\",\n",
       "       \"['Memoranda', 'Presidential']\",\n",
       "       \"['Miscellaneous', 'Miscellaneous Remarks', 'Presidential', 'Executive Orders']\",\n",
       "       \"['Written Statements', 'Statements of Administration Policy', 'OMB: Statements of Administration Policy', 'Statements']\",\n",
       "       \"['Miscellaneous', 'Miscellaneous Remarks', 'Presidential', 'Exchange with Reporters', 'Informal']\",\n",
       "       \"['Miscellaneous', 'Miscellaneous Press Secretary', 'Statements']\",\n",
       "       \"['Written Statements', 'Statements', 'Presidential', 'Joint', 'Statements']\",\n",
       "       \"['Written Statements', 'Statements', 'Presidential', 'Statements']\",\n",
       "       \"['Press', 'News Conferences', 'Presidential', 'Conferences', 'Joint']\",\n",
       "       \"['Spoken Addresses and Remarks', 'Weekly Addresses', 'Saturday Addresses (Radio and Webcast)', 'Presidential']\",\n",
       "       \"['Miscellaneous', 'Miscellaneous Remarks', 'Presidential', 'Nominations']\",\n",
       "       \"['Miscellaneous', 'Miscellaneous Remarks', 'Presidential', 'National Prayer Breakfast']\",\n",
       "       \"['Letters', 'Presidential']\",\n",
       "       \"['Press', 'Interviews', 'Presidential']\",\n",
       "       \"['Press', 'Press Briefings']\",\n",
       "       \"['Miscellaneous', 'Miscellaneous Remarks', 'Presidential', 'Joint']\",\n",
       "       \"['Miscellaneous', 'Miscellaneous Remarks', 'Presidential', 'Bill Signing']\",\n",
       "       \"['Press', 'News Conferences', 'Presidential', 'Conferences']\",\n",
       "       \"['Presidential', 'Miscellaneous Remarks', 'Campaign Rally']\",\n",
       "       \"['Miscellaneous', 'Miscellaneous Remarks', 'Presidential', 'Appointments']\",\n",
       "       \"['Written Statements', 'Statements', 'Presidential', 'Death', 'Statements']\",\n",
       "       \"['Spoken Addresses and Remarks', 'Oral Address', 'Presidential', 'to Congress']\",\n",
       "       \"['Letters', 'Presidential', 'to Congress']\",\n",
       "       \"['Messages', 'Written Messages', 'Presidential', 'Budget']\",\n",
       "       \"['Spoken Addresses and Remarks', 'State Dinners', 'Presidential', 'Toasts']\",\n",
       "       \"['Messages', 'Written Messages', 'Presidential', 'to Congress']\",\n",
       "       \"['Miscellaneous', 'Miscellaneous Written', 'Presidential', 'Notices']\",\n",
       "       \"['Miscellaneous', 'Miscellaneous Press Secretary', 'Nominations', 'Nominations Submitted to the Senate', 'Senate']\",\n",
       "       \"['Miscellaneous', 'Miscellaneous Remarks', 'Presidential', 'Citations']\",\n",
       "       \"['Written Statements', 'Signing Statements', 'Presidential', 'Bill Signing']\",\n",
       "       \"['Miscellaneous', 'White House Notices and Announcements']\",\n",
       "       \"['Spoken Addresses and Remarks', 'Oral Address', 'Presidential', 'Commencements']\",\n",
       "       \"['Determinations', 'Presidential', 'Determinations']\",\n",
       "       \"['Miscellaneous', 'Miscellaneous Remarks', 'Presidential', 'International']\",\n",
       "       \"['Spoken Addresses and Remarks', 'Oral Address', 'Presidential', 'Major to Nation']\",\n",
       "       \"['Spoken Addresses and Remarks', 'Oral Address', 'Presidential', 'UN General']\",\n",
       "       \"['Spoken Addresses and Remarks', 'Oral Address', 'Presidential', 'Legislatures']\",\n",
       "       \"['Messages', 'Written Messages', 'Presidential']\",\n",
       "       \"['Spoken Addresses and Remarks', 'State of the Union Addresses', 'Presidential']\",\n",
       "       \"['Messages', 'Written Messages', 'Presidential', 'to Congress', 'to Congress - Economic Report']\",\n",
       "       \"['Written Statements', 'Statements', 'Presidential', 'Resignations', 'Statements']\",\n",
       "       \"['Presidential', 'Miscellaneous Remarks', 'Campaign Documents', 'Campaign Rally']\",\n",
       "       \"['News Conferences', 'Presidential', 'Joint']\",\n",
       "       \"['Executive Orders', 'Presidential', 'Executive Orders']\",\n",
       "       \"['Campaign Documents', 'Spoken Addresses and Remarks', 'Campaign Rally']\",\n",
       "       \"['Spoken Addresses and Remarks', 'Campaign Documents', 'Campaign Rally']\",\n",
       "       \"['Miscellaneous Remarks', 'Presidential', 'Campaign Rally']\",\n",
       "       \"['Miscellaneous Remarks', 'Campaign Documents', 'Presidential', 'Campaign Rally']\",\n",
       "       \"['State of the Union Addresses', 'Presidential']\",\n",
       "       \"['Elections and Transitions', 'Convention Speeches', 'Presidential', 'Nomination Acceptance']\",\n",
       "       \"['Miscellaneous', 'Miscellaneous Press Secretary', 'Fact Sheets']\",\n",
       "       \"['Written Statements', 'Statements', 'Presidential', 'Appointments', 'Statements']\",\n",
       "       \"['Miscellaneous', 'Miscellaneous Written', 'Presidential', 'Articles']\",\n",
       "       \"['Elections and Transitions', 'Campaign Documents', 'Presidential', 'Party Fundraiser']\",\n",
       "       \"['Messages', 'Written Messages', 'Presidential', 'Transmitting Treaties']\",\n",
       "       '[\\'Press\\', \"Correspondents\\' Association\", \\'Presidential\\']',\n",
       "       \"['Spoken Addresses and Remarks', 'Eulogies', 'Presidential']\",\n",
       "       \"['Presidential', 'Veto']\",\n",
       "       \"['Letters', 'Presidential', 'to Foreign Actors or Audiences']\",\n",
       "       \"['Miscellaneous', 'Miscellaneous Remarks', 'Presidential', 'Resignations']\",\n",
       "       \"['Written Messages', 'Messages', 'Presidential']\",\n",
       "       \"['Miscellaneous', 'Miscellaneous Written', 'Presidential']\",\n",
       "       \"['Miscellaneous', 'Miscellaneous Written', 'Presidential', 'Directives']\",\n",
       "       \"['Campaign Documents', 'Presidential', 'Campaign Fundraiser']\",\n",
       "       \"['Written Statements', 'Statements', 'Presidential', 'Nominations', 'Statements']\",\n",
       "       \"['Campaign Documents', 'Presidential', 'Campaign Rally']\",\n",
       "       \"['Elections and Transitions', 'Debates', 'Presidential', 'Election']\",\n",
       "       \"['Elections and Transitions', 'Campaign Documents', 'Presidential']\",\n",
       "       \"['Written Statements', 'Statements', 'Presidential', 'Retirements', 'Statements']\",\n",
       "       \"['Written Statements', 'Statements', 'Presidential', 'Executive Orders', 'Statements']\",\n",
       "       \"['Miscellaneous', 'Miscellaneous Remarks', 'Presidential', 'Bill Vetos', 'Veto']\",\n",
       "       \"['Miscellaneous', 'Miscellaneous Remarks', 'Presidential', 'Legislatures']\",\n",
       "       \"['Miscellaneous', 'Miscellaneous Remarks', 'Presidential', 'signing']\",\n",
       "       \"['Spoken Addresses and Remarks', 'Farewell Address', 'Presidential', 'Farewell']\",\n",
       "       \"['Spoken Addresses and Remarks', 'Post Presidential Remarks']\",\n",
       "       '[\\'Spoken Addresses and Remarks\\', \\'Miscellaneous\\', \"Vice President\\'s Remarks\", \\'White House Notices and Announcements\\']',\n",
       "       \"['Letters', 'Presidential', 'State Governors']\",\n",
       "       \"['Declarations', 'Disaster Declarations']\",\n",
       "       \"['Miscellaneous', 'Miscellaneous Press Secretary', 'Announcements', 'Digest of Other WH Announcements']\",\n",
       "       \"['Miscellaneous', 'Miscellaneous Remarks', 'Presidential', 'via radio']\",\n",
       "       \"['Memoranda', 'Presidential', 'Designations']\",\n",
       "       \"['Miscellaneous', 'Miscellaneous Remarks']\",\n",
       "       \"['Vetoes', 'Presidential', 'Pocket Veto', 'Veto']\",\n",
       "       \"['Messages', 'Written Messages', 'Presidential', 'to Foreign Actors or Audiences']\",\n",
       "       \"['Miscellaneous', 'Miscellaneous Press Secretary', 'Announcements', 'Announcements - regarding Nominations', 'Nominations']\",\n",
       "       \"['Miscellaneous', 'Miscellaneous Press Secretary', 'Announcements']\",\n",
       "       \"['Miscellaneous', 'Miscellaneous Press Secretary', 'Announcements', 'Announcements - regarding Appointments', 'Appointments']\",\n",
       "       \"['Letters', 'Presidential', 'Accepting Resignations', 'Resignations']\",\n",
       "       \"['Miscellaneous', 'Miscellaneous Press Secretary', 'Checklists of WH Press Releases']\",\n",
       "       \"['Miscellaneous', 'Miscellaneous Press Secretary', 'Acts Approved by the President']\",\n",
       "       \"['Written Statements', 'Statements', 'Presidential', 'Statements', 'Veto']\",\n",
       "       \"['Miscellaneous', 'Miscellaneous Written', 'Presidential', 'Citations']\",\n",
       "       \"['Memoranda', 'Presidential', 'Memo of Understanding']\",\n",
       "       \"['Written Statements', 'Statements', 'Presidential', 'Statements', 'Veto', 'Veto Threats']\",\n",
       "       \"['Miscellaneous', 'Miscellaneous Written', 'Presidential', 'Responses to Questions']\",\n",
       "       '[\\'Spoken Addresses and Remarks\\', \"Vice President\\'s Remarks\", \\'Vice-Presidents\\']',\n",
       "       '[\\'Written Statements\\', \"Vice President\\'s Statements\"]',\n",
       "       \"['Elections and Transitions', 'Convention Speeches', 'Presidential Nomination Acceptance Addresses Losing Nominees', 'Presidential', 'Nomination Acceptance']\",\n",
       "       \"['Letters']\",\n",
       "       \"['Written Statements', 'Signing Statements', 'Presidential', 'Executive Orders', 'Statements']\",\n",
       "       \"['Miscellaneous', 'Miscellaneous Press Secretary', 'Announcements', 'Announcements - regarding Resignations', 'Resignations']\",\n",
       "       \"['Written Statements', 'Signing Statements', 'Presidential', 'Statements']\",\n",
       "       \"['Letters', 'to Congress']\", \"['Presidential']\",\n",
       "       \"['Messages', 'Written Messages', 'Presidential', 'Political Party']\",\n",
       "       \"['Messages', 'Written Messages', 'Presidential', 'State Governors']\",\n",
       "       \"['Messages', 'Written Messages', 'to Congress']\",\n",
       "       \"['Written Messages', 'Presidential', 'to Congress', 'to Congress - Economic Report']\",\n",
       "       \"['Written Messages', 'Messages', 'Presidential', 'to Congress', 'to Congress - Economic Report']\",\n",
       "       \"['Spoken Addresses and Remarks', 'Fireside Chats', 'Presidential']\",\n",
       "       \"['Messages', 'Written Messages', 'Presidential', 'Senate']\",\n",
       "       \"['Written Statements', 'Presidential', 'Major to Nation']\",\n",
       "       \"['Written Statements']\",\n",
       "       \"['Written Presidential Orders', 'Proclamations']\",\n",
       "       \"['Presidential Nomination Acceptance Addresses', 'Campaign Documents', 'Elections and Transitions']\",\n",
       "       \"['Spoken Addresses and Remarks']\",\n",
       "       \"['Letters', 'Presidential', 'Nomination Acceptance']\",\n",
       "       \"['Messages', 'Presidential', 'to Congress']\",\n",
       "       \"['State of the Union Messages', 'Presidential', 'Budget']\",\n",
       "       \"['Messages', 'Written Messages', 'Farewell Address', 'Presidential', 'Farewell', 'Farewell Addresses']\"],\n",
       "      dtype=object)"
      ]
     },
     "execution_count": 88,
     "metadata": {},
     "output_type": "execute_result"
    }
   ],
   "source": [
    "PresiDoc.Type.unique()"
   ]
  },
  {
   "cell_type": "code",
   "execution_count": 97,
   "metadata": {
    "collapsed": true
   },
   "outputs": [],
   "source": [
    "db = []\n",
    "for value in PresiDoc.Type:\n",
    "    result = \"'Debates'\"  in re.split(', ', value.strip(''' [] '''))\n",
    "    db.append(result)"
   ]
  },
  {
   "cell_type": "code",
   "execution_count": 104,
   "metadata": {
    "collapsed": true
   },
   "outputs": [],
   "source": [
    "debate = PresiDoc[db]"
   ]
  },
  {
   "cell_type": "code",
   "execution_count": 108,
   "metadata": {},
   "outputs": [
    {
     "data": {
      "text/plain": [
       "'the moderator good_evening i am barbara_walters moderator of the last of the debates of 1976 between gerald_r_ford republican_candidate for president and jimmy_carter democratic_candidate for president welcome president ford welcome governor_carter and thank you for joining_us this evening this debate takes_place before an audience in phi_beta_kappa memorial_hall on the campus of the college of william and mary in historic williamsburg_virginia it is particularly appropriate in this bicentennial_year that we meet on these grounds to hear this debate two_hundred_years_ago five william and mary students met at nearby raleigh tavern to form phi_beta_kappa a fraternity designed they wrote to search out and dispel the clouds of falsehood by debating without reserve the issues of the day in that spirit of debatewithout reserve to dispel the clouds of falsehoodgentlemen let_us proceed the subject matter of this debate is open covering all issues and topics our questioners tonight are joseph kraft syndicated_columnist robert maynard editorial_writer for the washington_post and jack nelson washington bureau chief of the los_angeles_times the ground_rules tonight are as_follows questioners will alternate questions between the candidates the candidate has up to 2_12 minutes to answer the question the other candidate then has up to 2_minutes to respond if necessary a questioner may ask a followup_question for further clarification and in that case the candidate has up to 2_minutes to respond as was initially agreed to by both candidates the answers should be responsive to the particular questions finally each candidate has up to 3_minutes for a closing statement president ford and governor_carter do not have prepared notes or comments with them this evening but they may make notes and refer to them during the debate it has been determined that president ford would take the first question in this last debate and mr_kraft you have that first question for president ford mr_kraft mr president i assume that the americans all know that these are difficult_times and that there is no pie in the sky and that they dont expect something for nothing so id_like to ask you as a first question as you look ahead in the next_4_years what sacrifices are you going to call on the american people to make what price are you going to ask them to pay to realize your objectives let_me_add governor_carter that if you felt that it was appropriate to answer that question in your comments as to what price it would be appropriate for the american people to pay for a carter administration i think that would be proper too mr president the president mr_kraft i believe that the american people in the next_4_years under a ford administration will be called_upon to make those necessary sacrifices to preserve the peacewhich we havewhich means of course that we will have to maintain an adequate military_capability which means of course that we will have to add i think a few billion_dollars to our defense appropriations to make certain that we have adequate strategic_forces adequate conventional_forces i think the american people will be called_upon to be in the forefront in giving leadership to the solution of those problems that must be solved in the middle_east in southern_africa and any problems that might_arise in the pacific the american people will be called_upon to tighten their belts a bit in meeting some of the problems that we face domestically i dont think that america can go on a big spending_spree with a whole lot of new programs that would add significantly to the federal budget i believe that the american people if given the leadership that i would expect to give would be willing to give this thrust to preserve the peace and the necessary restraint at home to hold the lid on spending so that we could i think have a long_overdue and totally justified tax decrease for the middleincome people and thenwith the economy that would be generated from a restraint on spending and a tax_reduction primarily for the middleincome peoplethen i think the american people would be willing to make those sacrifices for peace and prosperity in the next_4_years mr_kraft could i be a little_bit more specific mr president the president sure sure mr_kraft doesnt your policy really imply that we are going to have to have a pretty high rate of unemployment over a fairly long time that growth is going to be fairly slow and that we are not going to be able to do very_much in the next 4 or 5_years to meet the basic agenda of our national needs in the cities in health in transit and a whole lot of other things like that the president not at all mr_kraft arent those the real costs the president no mr_kraft were spending very significant_amounts of money now some 200_billion a year almost_50_percent of our total federal expenditure by the federal_government at the present time for human needs now we will probably have to increase that to some extent but we dont have to have growth in spending that will blow the lid_off and add to the problems of inflation i believe we can meet the problems within the cities of this country and still give a tax_reduction i proposed as you know a reduction to increase the personal_exemption from 750 to 1000 with the fiscal program that i have and if you look_at the projections it shows that we will reduce unemployment that we will continue to win the battle_against_inflation and at the same_time give the kind of quality of life that i believe is possible in america a job a home for all those that will work and save for it safety in the streets health_care that is affordable these things can be done if we have the right vision and the right restraint and the right leadership the moderator thank you governor_carter your response please mr carter well i might say first of all that i think in case of a carter administration the sacrifices would be much less mr fords own environmental agency has projected a 10percent unemployment_rate by 1978 if be is president the american people are ready to make sacrifices if they are part of the process if they know that they will be helping to make decisions and wont be excluded_from being an involved party to the national purpose the major effort that we must put_forward is to put our people back to work and i think that this is one example where a lot of people have selfish grasping ideas now i remember in 1973 in the depth of the energy crisis when president nixon called on the american people to make a sacrifice to cut down on the waste of gasoline to cut down on the speed of automobiles it was a tremendous surge of patriotism i want to make a sacrifice for my country i think we could call togetherwith strong leadership in the white housebusiness industry and labor and say lets have voluntary price restraints lets lay_down some guidelines so we dont have continuing inflation we could also have an end to the extremes we now have one extreme for instance of some welfare_recipients who by taking_advantage of the welfare laws the housing laws the medicaid laws and the food_stamp laws make over 10000 a year and they dont have to pay any taxes on it at the other extreme just i percent of the richest people in our country derive 25_percent of all the tax benefits so both those extremes grasp for advantage and the person who has to pay that expense is the middleincome family who is still working for a living and they have to pay for the rich who have the privilege and for the poor who are not working but i think that a balanced_approach with everybody being part of it and striving for unselfishness could help as it did in 1973 to let people sacrifice for their own country i know im ready for it i think the american people are too the moderator thank you mr_maynard your question to governor_carter mr_maynard governor by all indications the voters are so turned off by this election campaign so far that only half intend to vote one major reason for this apathetic electorate appears to be the low level at which this campaign bas been conducted it has digressed frequently from important issues into allegations of blunders and brainwashing and fixations on lust in playboy what responsibility do you accept for the low level of this campaign for the nations highest office mr carter i think the major reason for a decrease in participation that weve experienced ever_since 1960 bas been the deep discouragement of the american people about the performance of public officials when youve_got 7 12 8_million people out of work when youve_got three_times as much inflation as you had during the last 8year democratic administration when you have the highest deficits in history when you have it becoming_increasingly_difficult for a family to put a child through college or to own a home there is a natural_inclination to be turned off also in the aftermath of vietnam and cambodia and watergate and the cia_revelations people have felt that theyve been betrayed by public officials i have to admit that in the heat of the campaignive been in 30 primaries during the springtime ive been campaigning for 22 monthsive made some mistakes and i think this is part of just being a human being i have to say that my campaign has been an open one the playboy thing bas been of very great concern to me i dont know how to deal with it exactly i agreed to give the interview to playboy other people have done it who are notablegovernor jerry_brown walter_cronkite albert_schweitzer mr fords own secretary of treasury mr simon william buckley many other people but they werent running for president and in retrospect from hindsight i would not have given that interview had i to do it over again if i should ever decide in the future to discuss my deep christian_beliefs and condemnation and sinfulness l would use another forum besides playboy but i can say this im doing the best i can to get away from that and during the next 10_days the american people will not see the carter campaign running television_advertisements or newspaper advertisements based_on a personal attack on president fords character i believe that the opposite is true with president fords campaign and i hope that we can leave those issues in the next 10_days about personalities and mistakes of the pastweve both matte some mistakesand talk_about unemployment inflation housing education taxation government organization stripping_away of secrecy and the things that are crucial to the american people i regret the things in my own long campaign that have been mistaken but im trying to do away with those the last 10_days the moderator thank you governor_carter president ford your response the president i believe that the american people have been turned off in this election mr_maynard for a variety of reasons we have seen on capitol_hill in the congress a great many allegations of wrongdoing of alleged immorality those are very disturbing to the american people they wonder how an elected representative can serve them and participate in such activities serving in the congress of the united_states yes and im certain many many americans were turned off by the revelations of watergate a very very bad period of time in american political history yes and thousands maybe millions of americans were turned off because of the problems that came out of our involvement in vietnam but on the other_hand i found on july_4 of this year a new spirit born in america we were celebrating our bicentennial and i find that there is a movementas i traveled around the countryof greater interest in this campaign now like any hardworking person seeking public office in the campaign inevitably sometimes you will use rather graphic language and i am guilty of that just like i think most others in the political_arena but i do make a pledge that in the next 10_days when we are asking the american people to make one of the most_important decisions in their lifetime because i think this election is one of the most vital in the history of america that we do together what we can to stimulate voter_participation the moderator thank you president ford mr nelson your question to president ford mr nelson mr president you mentioned watergate and you became president because of watergate so dont you owe the american people a special obligation to explain in detail your role of limiting one of the original investigations of a watergatethat was the one by the house banking_committee and i know youve answered questions on this before but there are questions that still remain and i think people want to know what your role was will you name the persons you talked to in connection with that investigation and since you say you have no recollection of talking to anyone from the white_house would you be willing to open for examination the white_house tapes of conversations during that period the president mr nelson i testified_before two committees house and senate on precisely the questions that you have asked and the testimony under_oath was to the effect that i did not talk to mr_nixon to mr_haldeman to mr_ehrlichman or to any of the people at the white_house i said i had no recollection whatsoever of talking with any of the white_house legislative_liaison people i indicated under_oath that the initiative that i took was at the request of the ranking_members of the house banking and currency committee on the republican side which was a legitimate request and a proper response by me now that was gone into by two congressional_committees and following that investigation both committees overwhelmingly_approved me and both the house and the senate did likewise now in the meantime the special prosecutorwithin the last_few_days after an investigation himselfsaid there was no reason for him to get involved because he found nothing that would justify it and then just a day or two ago the attorney_general of the united_states made a further investigation and came to precisely the same conclusion now after all of those investigations by objective responsible people i think the matter is closed once and for all but to add one other feature i dont control any of the tapes those tapes are in the jurisdiction of the courts and i have no right to say yes or no but all the committees the attorney_general the special prosecutorall of them have given me a clean bill of health i think the matter is settled once and for all mr nelson well mr president if i do say so though the question is that i think you still have not gone into details about what your role in it was and i dont think there was any question about whether or not there was a criminal_prosecution but whether you have told the american people your entire involvement in it and whether you would be willingeven though you dont control the tapeswhether you would be willing to ask that the tapes be released for examination the president thats for the proper authorities who have control over those tapes to make that decision i have given every_bit of evidence answered every question thats been asked me by any senator or any member of the house plus the fact that the special_prosecutor on his own initiation and the attorney_general on his initiationthe highest law_enforcement official in this countryall of them have given me a clean bill of health and ive told everything i know about it i think the matter is settled once and for all the moderator_governor carter your response mr carter i dont have any response the moderator thank you then we will have the next question from mr_kraft to governor_carter mr_kraft governor_carter the next big crisis spot in the world may be yugoslavia president_tito is old and sick and there are divisions in his country its pretty certain that the russians are going to do everything they possibly can after tito dies to force yugoslavia back into the soviet camp but last saturday you saidand this is a quotei would not go to war in yugoslavia even if the soviet_union sent in troops doesnt that statement practically invite the russians to intervene in yugoslavia doesnt it discourage yugoslavs who might be tempted to resist and wouldnt it have been wiser on your part to say nothing and to keep the russians in the dark as president ford did and as i think every president has done since president truman mr carter in the last_2_weeks ive had a chance to talk to two men who have visited the soviet_union yugoslavia and china one is governor averell harriman1 who visited the soviet_union and yugoslavia and the other one is james schlesinger2 whom i think you accompanied to china i got a complete report back from those countries from these two distinguished gentlemen 1 governor of new_york 195458 and ambassador at large 1961 196568 2secretary of defense 197375 mr_harriman talked to the leaders in yugoslavia and i think its accurate to say that there is no prospect in their opinion of the soviet_union invading yugoslavia should mr tito pass away the present leadership there is fairly uniform in their purpose i think its a closeknit group and i think it would be unwise for us to say that we will go to war in yugoslavia if the soviets should invade which i think would be an extremely unlikely thing i have maintained from the very beginning of my campaignand this was a standard answer that i made in response to the yugoslavian questionthat i would never go to war become militarily involved in the internal_affairs of another country unless our own security was directly_threatened and i dont believe that our security would be directly_threatened if the soviet_union went into yugoslavia i dont believe it will happen i certainly hope it wont i would take the strongest_possible measures short of actual military action there by our own troops but i doubt that that would be an eventuality mr_kraft one quick_followup did you clear the response you made with secretary_schlesinger and governor_harriman mr carter no i did not the moderator president ford your response the president well i firmly_believe mr_kraft that its unwise for a president to signal in advance what options he might exercise if any international problem arose i think we all recall with some sadness that at the period of the late_1940s early_1950s there were some indications that the united_states would not include south_korea in an area of defense there are some who allegei cant prove it true or untruethat such a statement in effect invited the north_koreans to invade south_korea its a fact they did but no president of the united_states in my_opinion should signal in advance to a prospective enemy what his decision might be or what option he might exercise its far better for a person sitting in the white_house who has a number of options to make certain that the other side so to speak doesnt know precisely what youre going to do and therefore that was the reason that i would not identify any particular course of action when i responded to a question a week or so ago the moderator thank you mr_maynard your question to president ford please mr_maynard sir this question concerns your administrative performance as president the other day general george_brown the chairman of the joint_chiefs of staff delivered his views on several sensitive subjects among them great_britain one of this countrys oldest allies he said and i quote him now great britainits a pathetic thing it just makes you cry they are no_longer a world power all they have are generals admirals and bands since general browns comments have caused this country embarrassment in the past why is he still this nations leading military officer the president i have indicated to general brown that the words that he used in that interview in that particular case and in several others were very illadvised and general brown has indicated his apology his regrets and i think that will in this situation settle the matter it is tragic that the full transcript of that interview was not released and that there were excerpts some of the excerpts taken out of contextnot this one howeverthat you bring up general brown has an exemplary record of military performance he served this nation with great great skill and courage and bravery for 35_years and i think its the consensus of the people who are knowledgeable in the military field that he is probably the outstanding military leader and strategist that we have in america today now he did use illadvised words but i think in the fact that he apologized that he was reprimanded does permit him to stay on and continue that kind of leadership that we so badly need as we enter_into_negotiations under the salt_ii_agreement or if we have operations that might be developing in the middle_east or in southern_africa or in the pacificwe need a man with that experience that knowledge that knowhow and i think in light of the fact that he has apologized would not have justified my asking for his resignation the moderator thank you governor_carter your response mr carter well just briefly i think this is the second time that general brown has made a statement for which he did have to apologizeand i know that everybody makes mistakes i think the first one was related to the unwarranted_influence of american jews on the media and in the congress this one concerned great_britain i think he said israel was a military burden on us and that iran hoped to reestablish the persian empire i am not sure that i remembered earlier that president ford had expressed his concern about the statement or apologized for it this is something though that i think is indicative of a need among the american people to know how the commander in chief the president feels and i think the only criticism that i would have of mr ford is that immediately when the statement was revealed perhaps a statement from the president would have been a clarifying and a very beneficial thing the moderator mr nelson your question now to governor_carter mr nelson governor despite the fact that youve been running for president a long time now many americans still seem to be uneasy about you they dont feel that they know you or the people around you and one problem seems to be that you havent reached out to bring people with broad background or national experience into your campaign or your presidential plans most of the people around you on a daytoday_basis are the people youve known in georgia many of them are young and relatively_inexperienced in national affairs doesnt this raise a serious question as to whether you would bring into a carter administration people with the necessary background to run the federal_government mr carter i dont believe it does i began campaigning 22 months_ago at that time nobody thought i had a chance to win very few people knew who i was i came from a tiny_town as you knowplainsand didnt hold public office didnt have very_much money and my first organization was just four or five people plus my_wife and my children my three sons and their wives and we won the nomination by going out into the streets barbershops beauty parlors restaurants stores in factory_shift_lines also in farmers markets and livestock sale barns and we talked a lot and we listened a lot and we learned from the american people we built up an awareness among the voters of this country particularly those in whose primaries i entered30 of them nobody has ever done that beforeabout who i was and what i stood for now we have a very wideranging group of advisers who help me prepare for these debates and who teach me about international economics and foreign_affairs defense matters health education welfare government reorganizationid say several_hundred of them and they are very fine and very highly_qualified the one major decision that i have made since acquiring the nominationand i share this with president fordis the choice of the vice_president i think this would be indicative of the kind of leaders that i would choose to help me if i am elected i chose senator walter_mondale and the only criterion that i have put_forward in my own mind was who among the several million people in this country would be the best person qualified to be president if something should happen to me and to join_me in being vice_president if i should serve out my term and im_convinced now more_than i was when i got the nomination that walter_mondale was the right choice and i believe this is a good indication of the kind of people that i would choose in the future mr ford has had that same choice to make i dont want to say anything critical of senator_dole but i have never heard mr ford say that that was his primary considerationwho is the best person i could choose in this country to be president of the united_states i feel completely at ease knowing that some day senator mondale might very well be president in the last five vicepresidential nominees incumbents three of them have become president but i think this is indicative of what i would do the moderator president ford your response please the president the governor may not have heard my established criteria for the selection of a vice_president but it was a wellestablished criteria that the person i selected would be fully_qualified to be president of the united_states and senator_bob_dole is so qualified16 years in the house of representatives and in the senate very high responsibilities on important committees i dont mean to be critical of senator mondale but i was very very surprised when i read that senator mondale made a very derogatory very personal comment about general brown after the news story that broke about general brown if my_recollection is correct he indicated that general brown was not qualified to be a sewer commissioner i dont think thats a proper way to describe a chairman of the joint_chiefs of staff who has fought for his country for 35_years and im_sure the governor would agree with me on that i think senator_dole would show more good judgment and discretion than to so describe a heroic and brave and very outstanding leader of the military so i think our selection of bob_dole as vice_president is based_on merit and if he should ever become the president of the united_states with his vast experience as a member of the house and a member of the senate as well as a vice_president i think he would do an outstanding_job as president of the united_states the moderator mr_kraft your question to president ford mr_kraft mr president let_me assure you and maybe some of the viewing audience that being on this panel hasnt_been as it may seem all torture and agony one of the heartening things is that i and my_colleagues have received literally_hundreds and maybe even thousands of suggested questions from ordinary_citizens all across the country who want answers the president thats a tribute to their interest in this election mr_kraft i will give you that but let_me go on because one main subject on the minds of all of them has been the environment particularly curious about your record people really want to know why you vetoed the strip_mining_bill they want to know why you worked against strong controls on auto_emissions they want to know why you arent doing anything about pollution of the atlantic_ocean they want to know why a bipartisan organization such as the national_league of conservation voters says that when it comes to environmental issues you areand i am quotinghopeless the president first let_me set the record_straight i vetoed the strip_mining_bill mr_kraft because it was the overwhelming_consensus of knowledgeable people that that strip_mining_bill would have meant the loss of literally_thousands of jobs something around 140000 jobs number two that strip_mining_bill would have severely set back our need for more coal and governor_carter has said_repeatedly that coal is the resource that we need to use more in the effort to become independent of the arab oil_supplies so i vetoed it because of a loss of jobs and because it would have interfered_with our energy independence program the auto emissionsit was agreed by leonard_woodcock the head of the uaw and by the heads of all of the automobile industrywe had labor and management together saying that those auto_emission_standards had to be modified but lets_talk_about what the ford administration has done in the field of environment i have increased as president by over 60_percent the funding for water_treatment_plants in the united_states the federal contribution i have fully_funded the land and water_conservation program in fact have recommended and the congress approved a substantially_increased land and water_conservation program i have added in the current year budget the funds for the national_park_service for example we proposed about 12_million to add between 400 and 500 more employees for the national_park_service and a month or so ago i did likewise say over the next_10_years we should expanddoublethe national_parks the wilderness_areas the scenic_river areas and then of course the final thing is that i have signed and approved of more scenic_rivers more wilderness_areas since ive been president than any other president in the history of the united_states the moderator_governor carter mr carter well i might say i think the league of conservation voters is absolutely right this administrations record of environment is very bad i think its accurate to say that the strip_mining law which was passed twice by the congress and only lacked two votes i believe of being overridden would have been good for the country the claim that it would have put 140000 miners out of work is hard to believe when at the time mr ford vetoed it the united mine_workers was supporting the bill and i dont think they would have supported the bill had they known that they would lose 140000 jobs there has been a consistent policy on the part of this administration to lower or to delay enforcement of air_pollution_standards and water_pollution standards and under both presidents nixon and ford moneys have been impounded that would have gone to cities and others to control water_pollution we have no energy policy we i think are the only developed nation in the world that has no comprehensive energy policy to permit us to plan in an orderly way how to shift from increasing the scarce energy formsoiland have research and development concentrated on the increased use of coal which i strongly favorthe research and development to be used primarily to make the coal burning be clean we need a heritage trust program similar to the one we had in georgia to set_aside additional lands that have geological and archeological importance natural areas for enjoyment the lands that mr ford brags_about having approved are in alaska and they are enormous in size but as far as the accessibility of them by the american people is very far in the future we have taken no strong position in the control of pollution of our oceans and i would say the worst threat to the environment of all is nuclear_proliferation and this administration having been in office now for 2_years or more has still not taken a strong and bold_action to stop the proliferation of nuclear_waste around the world particularly plutonium those are some brief_remarks about the failures of this administration i would do the opposite in every respect the moderator mr_maynard to governor_carter mr_maynard governor federal policy in this country since world_war_ii has tended to favor the development of suburbs at the great expense of central cities does not the federal_government now have an affirmative_obligation to revitalize the american city we have heard little in this campaign suggesting that you have an urban reconstruction program could you please outline your urban intentions for us tonight mr carter yes i would be glad to in the first place as is the case with the environmental_policy and energy policy that i just described and the policy for nonproliferation of nuclear_waste this administration has no urban_policy its impossible for mayors or governors to cooperate with the president because they cant anticipate what is going to happen next a mayor of a city like new_york for example needs to know 18_months or 2_years ahead of time what responsibility the city will have in administration and in financing in things like housing pollution_control crime control education welfare and health this has not been done unfortunately i remember the headline in the daily_news that said ford to new yorkdrop dead i think its very important that our cities know that they have a partner in the federal_government quite_often congress has passed laws in the past designed to help people with the ownership of homes and with the control of crime and with adequate health_care and better education programs and so_forth those programs were designed to help those who need it most and quite_often this has been in the very poor people and neighborhoods in the downtown_urban centers because of the greatly advantaged persons who live in the suburbsbetter education better organization more articulate more aware of what the laws arequite often this money has been channeled out of the downtown centers where its needed also i favor all revenue_sharing money being used for local_governments and also to remove the prohibitions in the use of revenue_sharing money so that it can be used to improve education and health_care we have now for instance only 7_percent of the total education costs being financed by the federal_government when the nixonford administration started this was 10_percent thats a 30percent_reduction in the portion that the federal_government contributes to education in just 8_years and as you know the education costs have gone up tremendously the last point is that the major_thrust has got to be to put people back to work weve_got an extraordinarily_high unemployment_rate among downtown_urban ghetto_areas particularly among the very poor and particularly among minority_groups sometimes 50 or 60_percent and the concentration of employment_opportunities in those areas would help greatly not only to reestablish the tax_base but also to help reduce the extraordinary welfare costs one of the major responsibilities on the shoulders of new_york_city is to finance welfare and i favor the shifting of the welfare cost away from the local_governments altogether and over a longer_period of time let the federal_government begin to absorb part of it that is now paid by the state government those things would help a great_deal with the cities but we still have a very serious problem there the moderator president ford the president let_me speak out very strongly the ford administration does have a very comprehensive program to help our major_metropolitan_areas i fought for and the congress finally went along with a general_revenue_sharing program whereby cities and statesthe cities twothirds and the states onethirdget over 6_billion a year in cash with which they can provide many many services whatever they really want in addition we in the federal_government make available to cities about 3300_million in what we call community developments in addition as a result of my pressure on the congress we got a major mass_transit program over a 4year period11800 million we have a good housing program that will result in cutting the down payments by 50_percent and having mortgage_payments lower at the beginning of any mortgage period we are expanding our homestead housing program the net_result is we think under carla_hills who is the chairman of my urban_development and neighborhood_revitalization program we will really do a firstclass_job in helping the communities throughout the country as a matter of fact that committee under secretary hills released about a 75page report with specific_recommendations so we can do a better job in the weeks_ahead and in addition the tax program of the ford administration which provides an incentive for industry to move into our major_metropolitan_areas into the inner_cities will bring jobs where people are and help to revitalize those cities as they can be the moderator mr nelson your question next to president ford mr nelson mr president your campaign has run ads in black newspapers saying that for black americans president ford is quietly getting the job done yet study after study has shown little progress in desegregation and in fact actual increases in segregated_schools and housing in the northeast now civil_rights groups have complained repeatedly that there has been lack of progress in commitment to an integrated society during your administration so how are you getting the job done for blacks and other minorities and what programs do you have in mind for the next_4_years the president well let_me_say at the outset i am very_proud of the record of this administration in the cabinet i have one of the outstanding i think administrators as the secretary of transportationbill coleman you are familiar i am_sure with the recognition given in the air_force to general james and there was just approved a threestar admiral the first in the history of the united_states navy so we are giving full recognition to individuals of quality in the ford administration in positions of great responsibility in addition the department of justice is fully enforcing and enforcing effectively the voting_rights actthe legislation that involves jobs housing for minorities not only blacks but all others the department of hud is enforcing the new legislation that takes care of redlining what we are doing is saying that there are opportunitiesbusiness opportunities educational_opportunities responsibilitieswhere people with talentblacks or any other minoritycan fully qualify the office of minority_business in the department of commerce has made available more money in trying to help black businessmen or other minority_businessmen than any other administration since the office was established the office of small_business under mr kobelinski has a very massive program trying to help the black community the individual who wants to start a business or expand his business as a black businessman is able to borrow either directly or with guaranteed_loans i believe on the record that this administration has been responsive and have carried_out the law to the letter and i am_proud of the record the moderator_governor carter your response please mr carter the description just made of this administrations record is hard to recognize i think it is accurate to say that mr ford voted_against the voting_rights acts and against the civil_rights acts in their debative stage i think once it was assured they were going to pass he finally voted for it this country changed_drastically in 1969 when the terms of john_kennedy and lyndon_johnson were over and richard_nixon and gerald_ford became the presidents there was a time when there was hope for those who were poor and downtrodden and who were elderly or who were ill or who were in minority_groups that time has been gone i think the greatest thing that ever happened to the south was the passage of the civil_rights acts and the opening_up of opportunities to black people to have a chance to vote to hold a job to buy a house to go to school and to participate in public_affairs it not only liberated black people but it also liberated the whites we have seen in many_instances in recent_years a minority affairs section of a small loan administration small_business_administration lend a black entrepreneur just enough money to get started and then to go_bankrupt the bankruptcies have gone up an extraordinary degree the fha federal housing administration which used to be a very responsible agency that everyone looked to to help own a home lost 600_million last_year there have been over 1300 indictments in hud over 800 convictions relating just to home loans and now the federal_government has become the worlds_greatest slum landlord weve_got a 30percent or 40percent unemployment_rate among minority young_people and there has been no concerted_effort given to the needs of those who are both poor and black or poor and who speak a foreign language and thats where there has been a great generation of despair and illhealth and lack of education and lack of purposefulness and a lack of hope for the future but it doesnt take just a quiet dormant minimum enforcement of the law it requires an aggressive searching out and reaching_out to help people who especially need it and thats been lacking in the last_8 years the moderator mr_kraft to governor_carter mr_kraft governor_carter in the nearly 200year_history of the constitution there have been only i think it is 25 amendments most of them on issues of the very broadest principle now we have proposed amendments in many highly_specialized causes like gun_control school_busing balanced_budget school prayer abortion things like that do you think its appropriate to the dignity of the constitution to tack on amendments in a wholesale fashion and which of the ones i listedthat is balanced_budget school_busing school prayer abortion gun controlwhich of those would you really work hard to support if you were president mr carter i would not work hard to support any of those we have always had i think a lot of constitutional_amendments proposed but the passage of them has been fairly slow and few and far between in the 200year_history there has been a very cautious_approach to this quite_often we have a transient problem i am strongly against abortion i think abortion is wrong i dont think the government ought to do anything to encourage abortion but i dont favor a constitutional_amendment on the subject but short of a constitutional_amendment and within the confines of a supreme_court_ruling i will do everything i can to minimize the need for abortions with better sex education family_planning with better adoptive procedures i personally dont believe that the federal_government ought to finance_abortions but i draw the line and dont support a constitutional_amendment however i honor the right of people to seek the constitutional_amendments on school_busing on prayer in the schools and on abortion but among those you named i wont actively work for the passage of any of them the moderator president ford your response please the president i support the republican_platform which calls for a constitutional_amendment that would outlaw abortions i favor the particular constitutional_amendment that would turn over to the states the individual right of the voters in those states the chance to make a decision by public referendum i call that the peoples amendment i think if you really believe that the people of a state ought to make a decision on a matter of this kind that we ought to have a federal constitutional_amendment that would permit each one of the 50_states to make the choice i think this is a reasonable and proper way to proceed i believe also that there is some merit to an amendment that senator_everett_dirksen proposed very frequently an amendment that would change the court decision as far as voluntary_prayer in public_schools it seems to me that there should be an opportunity as long as its voluntary as long as there is no compulsion whatsoever that an individual ought to have that right so in those two cases i think such a constitutional_amendment would be proper and i really dont think in either case they are trivial matters i think they are matters of very deep_conviction as far as many many people in this country believe and therefore they shouldnt be treated_lightly but they are matters that are important and in those two cases i would favor them the moderator mr_maynard to president ford mr_maynard mr president twice you have been the intended victim of wouldbe assassins using handguns yet you remain a steadfast opponent of substantive handgun_control there are now some 40_million handguns in this country going up at the rate of 25_million a year and tragically those handguns are frequently purchased for selfprotection and wind_up being used against a relative or a friend in light of that why do you remain so adamant in your opposition to substantive gun_control in this country the president mr_maynard the record of gun_control whether its in one city or another or in some states does not show that the registration of a gun handgun or the registration of the gun_owner has in any way whatsoever decreased the crime_rate or the use of that gun in the committing of a crime the record just doesnt prove that such legislation or action by a local city council is effective what we have to doand this is the crux of the matteris to make it very very_difficult for a person who uses a gun in the commission of a crime to stay out of jail if we make the use of a gun in the commission of a crime a serious_criminal_offense and that person is prosecuted then in my_opinion we are going after the person who uses the gun for the wrong reason i dont believe in the registration of handguns or the registration of the handgun owner that has not proven to be effective and therefore i think the better way is to go after the criminal the individual who commits a crime in the possession of a gun and uses that gun for a part of his criminal_activity those are the people who ought to be in jail and the only way to do it is to pass strong legislation so that once apprehended indicted convicted they will be in jail and off the streets and not using guns in the commission of a crime mr_maynard but mr president dont you think that the proliferation of the availability of handguns contributes to the possibility of those crimes being committed and there is a second part to my followup very quickly there are as you know and as youve said jurisdictions around the country with strong gun_control_laws the police officials in those cities contend that if there were a national law to prevent other jurisdictions from providing the weapons that then come into places like new_york that they might have a better handle on the problem have you considered that in your analysis of the handgun proliferation problem the president yes i have and the individuals with whom i have consulted have not convinced me that a national registration of handguns or handgun_owners will solve the problem you are talking_about the person who wants to use a gun for an illegal purpose can get it whether its registered or outlawedthey will be obtainedand they are the people who ought to go behind_bars you should not in the process penalize the legitimate handgun owner and when you go through the process of registration you in effect are penalizing that individual who uses his gun for a very legitimate purpose the moderator_governor carter mr carter i think its accurate to say that mr fords position on gun_control has changed earlier mr levi his attorney_general put_forward a gun_control proposal which mr ford later i believe espoused that called for the prohibition_against the sale of the socalled_saturday_night specials it would have put very strict control over who owned a handgun i have been a hunter all my life and happen to own both shotguns rifles and a handgun and the only purpose that i would see in registering handguns and not long guns of any kind would be to prohibit the ownership of those guns by those who have used them in the commission of a crime or who have been proven to be mentally_incompetent to own a gun i believe that limited approach to the question would be advisable and i think adequate but thats as far as i would go with it the moderator mr nelson to governor_carter mr nelson governor youve said the supreme_court today is as you put it moving back in the proper direction in rulings that have limited the rights of criminal_defendants and youve compared the present supreme_court under chief_justice_burger very favorably with the more liberal court that we had under chief_justice_warren so exactly_what are you getting at and can you elaborate on the kind of court you think this country should have and can you tell us the kind of qualifications and philosophy you would look for as president in making supreme_court_appointments mr carter while i was governor of georgia although i am not a lawyer we had complete reform of the georgia court system we streamlined the structure of the courts put in administrative offices put a unified court system in and required that all severe sentences be reviewed for uniformity and in addition to that put_forward a proposal that was adopted and used throughout my own term of officeselection of all judges and district_attorneys prosecuting_attorneys on the basis of merit every time i had a vacancy on the georgia supreme_courtand i filled five of those vacancies out of seven total and about half of the court of appeals_judges about 35_percent of the trial judgesi was given from an objective panel the five most highly_qualified persons in georgia and from those five i always chose the first or second one so merit_selection of judges is the most_important single criterion and i would institute the same kind of procedure as president not only in judicial_appointments but also in diplomatic appointments secondly i think that the burger_court has fairly well confirmed the major and most_farreaching and most controversial decisions of the warren court civil_rights has been confirmed by the burger_court it hasnt_been reversed and i dont think there is any inclination to reverse those basic decisionsof the one_manone_vote rule which is a very important one that struck_down the unwarranted_influence in the legislature of sparsely_populated areas of the states the right of indigent or very poor accused persons to legal counseli think the burger_court has confirmed that basic and very controversial decision of the warren court also the protection of an arrested person against unwarranted persecution in trying to get a false confession but now i think there have been a couple of instances_where the burger_court has made technical rulings where an obviously guilty person was later found to be guilty and i think that in that case some of the more liberal members of the socalled warren court agreed with those decisions but the only thing that i have pointed_out was what ive just said and that there was a need to clarify the technicalities so that you couldnt be forced to release a person who is obviously guilty just because of a small technicality in the law and thats a reversal of position by the burger_court with which i do agree mr nelson governor i dont believe you answered my question though about the kinds of people you would be looking for for the court the type of philosophy you would be looking for if you were making appointments to the supreme_court as president mr carter okay i thought i answered it by saying that it would be on the basis of merit once the search and analysis procedure had been completed and once i am given a list of the 5 or 7 or 10 best_qualified persons in the country i would make a selection from among those persons if the list was in my_opinion fairly uniform if there was no outstanding person then i would undoubtedly choose someone who would most accurately_reflect my own basic political_philosophy as best as i could determine it which would be to continue the progress that has been made under the last two courtsthe warren court and the burger_court i would also like to completely revise our criminal_justice_system to do some of the things at the federal level and court reform that i just described as has been done in georgia and other states and i would like to appoint people who would be interested in helping with that i know chief_justice_burger is he hasnt had help yet from the administration and from the congress to carry this out the emphasis i think of the court system should be to interpret the constitution and the laws equally between property protection and personal protection but when there is a very narrow decisionwhich quite_often is one that reaches the supreme courti think the choice should be with human_rights and that would be another factor that i would follow the moderator president ford the president i think the answer as to the kind of person that i would select is obvious i had one opportunity to nominate an individual to the supreme_court and i selected the circuit_court of appeals_judge from illinois john_paul_stevens i selected him because of his outstanding record as a circuit_court of appeals_judge and i was very_pleased that an overwhelmingly democratic united_states senate after going into his background came to the conclusion that he was fit and should serve and the vote in his behalf was overwhelming so i would say somebody in the format of justice_stevens would be the kind of an individual that i would select in the future as i did him in the past i believe however a comment ought to be made about the direction of the burger_court visavis the court that preceded it it seems to me that the miranda case was a case that really made it very very_difficult for the police the law_enforcement people in this country to do what they could to make certain that the victim of a crime was protected and that those that commit_crimes were properly handled and sent to jail the miranda case the burger_court is gradually changing and i am_pleased to see that there are some steps being made by the burger_court to modify the socalled miranda decision i might make a correction of what governor_carter said speaking of gun_control yes it is true i believe that the sale of saturday_night_specials should be cut out but he wants the registration of handguns the moderator mr_kraft mr_kraft mr president the country is now in something that your advisers call an economic pause i think to most americans that sounds_like an antiseptic term for low growth unemployment standstill at a high high_level decline in takehome_pay lower factory earnings more layoffs isnt that really a rotten record and doesnt your administration bear most of the blame for it the president well mr_kraft i violently_disagree with your assessment and i dont think the record justifies the conclusion that you come to let_me talk_about the economic announcements that were made just this past week yes it was announced that the gnp real growth in the third_quarter was at 4_percent but do you realize that over the last_10_years thats a higher figure than the average growth during the 10year_period now its lower_than the 92percent growth in the first_quarter and its lower_than the 5percent growth in the second_quarter but every economistliberal conservativethat i am familiar with recognizes that in the fourth_quarter of this year and in the first_quarter of next_year that we will have an increase in real_gnp but now lets_talk_about the pluses that came out this week we had an 18percent increase in housing_starts we had a substantial_increase in new permits for housing as a matter of fact based_on the announcement this week there will be at an_annual_rate 1 million 800some thousand new houses built which is a tremendous increase over last_year and a substantial_increase over the earlier part of this year now in addition we had some very good_news in the reduction in the rate of inflation and inflation hits everybodythose who are working and those who are on welfare the rate of inflation as announced just the other day is under 5_percent and the 44_percent that was indicated at the time of the 4_percent gnp was less_than the 54_percent it means that the american buyer is getting a better_bargain today because inflation is less mr_kraft mr president let_me ask you this there has been an increase in layoffs and thats something that bothers everybody because even people that have a job are afraid they are going to be fired did you predict that increase in layoffs didnt that take you by surprise hasnt your administration been surprised by this pause in fact havent you been so obsessed_with saving_money that you didnt even push the government to spend funds that were allocated the president mr_kraft i think the record can be put in this way which is the way that i think satisfies most americans since the depths of the recession we have added 4_million jobs most_importantly consumer_confidence as surveyed by the reputable organization at the university of michigan is at the highest since 1972 in other_words there is a growing public confidence in the strength of this economy and that means that there will be more industrial activity it means that there will be a reduction in the unemployment it means that there will be increased hires it means that there will be increased employment now weve had this pause but most economists regardless of their political_philosophy indicate that this pause for a month or two was healthy because we could not have honestly sustained a 92_percent rate of growth which we had in the first_quarter of this year now id_like to point out as well that the united_states economic_recovery from the recession of a year_ago is well ahead of the economic_recovery of any major free industrial nation in the world today we are ahead of all of the western_european_countries we are ahead of japan the united_states is leading the free world out of the recession that was serious a year and a half ago we are going to see unemployment going down more jobs available and the rate of inflation going down and i think this is a record that the american people understand and will appreciate the moderator_governor carter mr carter well with all due respect to president ford i think he ought to be ashamed of making that statement because we have the highest unemployment_rate now than we had at any time between the great_depression caused by herbert_hoover and the time president ford took_office we have got 7_12_million people out of jobs since he has been in office 2 million more american people have lost their jobs in the last 4_months alone 500000 americans have gone on the unemployment_rolls in the last_month weve had a net_loss of 163000 jobs anybody who says that the inflation_rate is in good shape now ought to talk to the housewives one of the overwhelming results that i have seen in places is people feel that you cant plan any more there is no way to make a prediction that my family might be able to own a home or to put my kids through college saving accounts are losing money instead of gaining money inflation is robbing us under the present administrationsnixons and fordswe have had three_times the inflation_rate that we experienced under president johnson and president kennedy the economic_growth is less_than_half today what it was at the beginning of this year and housing startshe compares the housing_starts with last_year i dont blame him because in 1975 we had fewer housing_starts in this country fewer homes built than any year since 1940 thats 35_years and weve_got a 35percent unemployment_rate in many areas of this country among construction_workers and mr ford hasnt done anything about it and i think this shows a callous_indifference to the families that have suffered so much he has vetoed bills passed by congress within the congressional_budget guidelinesjob opportunities for 2 million americans we will never have a balanced_budget we will never meet the needs of our people we will never control the inflationary_spiral as long as we have 7 or 8_million people out of work who are looking for jobs and we have probably got 2 more million people who are not looking for jobs any more because theyve given up hope that is a very serious indictment of this administration its probably the worst one of all the moderator mr_maynard mr_maynard governor_carter you entered this race against president ford with a 20point lead or better in the polls and now it appears that this campaign is headed for a photo finish you have said how difficult it is to run against a sitting president but mr ford was just as much an incumbent in july when you were 20 points ahead as he is now can you tell us what caused the evaporation of that lead in your opinion mr carter well thats not exactly an_accurate_description of what_happened when i was that far ahead it was immediately_following the democratic_convention and before the republican_convention at that time 25 or 30_percent of the reagan supporters said that they would not support president ford but as occurred at the end of the democratic_convention the republican_party unified itself and i think immediately_following the republican_convention there was about a 10point spread i believe that to be accurate i had 49_percent president ford had 39_percent the polls are good indications of fluctuations but they vary_widely one from another and the only poll ive ever followed is the one that you know is taken on election day i was in 30 primaries in the spring and at first it was obvious that i didnt have any standing in the polls as a matter of fact i think when gallup ran their first poll in december 1975 they didnt even put my name on the list they had 35 people on the listmy name wasnt even there at the beginning of the year i had about 2 percent so the polls to me are interesting but they dont determine my hopes or my despair i campaign among people i have never depended on powerful political figures to put me in office i have a direct relationship with hundreds of thousands of people around the country who actively campaign for me in georgia alone for instance i got 84_percent of the vote and i think there were 14 people in addition to myself on the ballot and governor_wallace had been very strong in georgia that is an overwhelming support from my own people who know me best and today we have about 500 georgians at their own expense just working people who believe in me spread around the country involved in the political campaign so the polls are interesting but i dont know how to explain the fluctuations i think a lot of it depends on current eventssometimes foreign_affairs sometimes domestic_affairs but i think our core of support among those who are crucial to the election has been fairly steady and my success in the primary_season was i think notable for a newcomer from someone_whos outside of washington who never has been a part of the washington establishment and i think that we will have a good result on november 2 for myself and i hope for the country the moderator president ford your response the president i think the increase in the prospects as far as i am concerned and the less_favorable prospects for governor_carter reflect that governor_carter is inconsistent in many of the positions that he takes he tends to distort on a number of occasions just a moment_ago for example he was indicating that in the 1950s for example unemployment was very low he fails to point out that in the 1950s we were engaged in the war in vietnami mean in korea we had 3500000 young_men in the army_navy_air_force and marines thats not the way to end unemployment or to reduce unemployment at the present time we are at peace we have reduced the number of people in the army_navy_air_force and marines from 3500000 to 2100000 we are not at war we have reduced the military manpower by 1400000 if we had that many more people in the army the navy the air_force and marines our unemployment figure would be considerably_less but this administration doesnt believe the way to reduce unemployment is to go to war or to increase the number of people in the military so you cannot compare unemployment as you sought to at the present time with the 1950s because the then administration had people in the military they were at war they were fighting overseas and this administration has reduced the size of the military by 1400000 they are in the civilian labor_market and they are not fighting anywhere around the world today the moderator thank you gentlemen this will complete our questioning for this debate we dont have time for more questions and full answers so now each candidate will be allowed up to 4 minutes for a closing statement and at the original coin_toss in philadelphia a month_ago it was determined that president ford would make the first closing statement tonight president ford the president for 25_years i served in the congress under five presidents i saw them work i saw them make very hard decisions i didnt always agree with their decisions whether they were democratic or republican presidents for the last 2_years ive been the president and i have found from experience that its much more difficult to make those decisions than it is to second guess them i became president at the time that the united_states was in a very troubled time we had inflation of over 12_percent we were on the brink of the worst_recession in the last_40_years we were still deeply_involved in the problems of vietnam the american people had lost faith and trust and confidence in the presidency itself that situation called for me to first put the united_states on a steady_course and to keep our keel wellbalanced because we had to face the difficult problems that had all of a sudden hit america i think most people know that i did not seek the presidency but i am_asking for your help and assistance to be president for the next_4_years during this campaign weve_seen a lot of television_shows a lot of bumper_stickers and a great many slogans of one kind or another but those are not the things that count what counts is that the united_states celebrated its 200th_birthday on july_4 as a result of that wonderful experience all over the united_states there is a new spirit in america the american people are healed are working_together the american people are moving again and moving in the right_direction we have cut inflation by better_than half we have come out of the recession and we are well on the road to real prosperity in this country again there has been a restoration of faith and confidence and trust in the presidency because ive been open candid and forthright i have never promised more_than i could produce and i have produced everything that i promised we are at peacenot a single young american is fighting or dying on any foreign_soil tonight we have peace with freedom ive been proud to be president of the united_states during these very troubled_times i love america just as all of you love america it would be the highest honor for me to have your support on november 2 and for you to say jerry_ford youve_done a good job keep on doing it thank you and good night the moderator thank you president ford governor_carter mr carter the major purpose of an election for president is to choose a leader someone who can analyze the depths of feeling in our country to set a standard for our people to follow to inspire people to reach for greatness to correct our defects to answer difficulties to bind_ourselves_together in a spirit of unity i dont believe the present administration has done that we have been discouraged and weve been alienated sometimes weve been embarrassed sometimes weve been ashamed our people are out of work and there is a sense of withdrawal but our country is innately very strong mr ford is a good and decent man but he has been in office now more_than_800 days approaching almost as long as john_kennedy was in office i would like to ask the american people what has been accomplished a lot remains to be done my own background is different from his i was a school board member and a library board member i served on a hospital authority and i was in the state senate and i was governor and i am an engineer a naval_officer a farmer a businessman i believe we require someone who can work_harmoniously with the congress and can work_closely with the people of this country and who can bring a new image and a new spirit to washington our tax_structure is a disgrace and needs to be reformed i was governor of georgia for 4_years we never increased sales taxes or income_tax or property_taxes as a matter of fact the year before we went out of office we gave a 50_million refund to the property taxpayers of georgia we spend 600_per person in this countryevery man_woman and childfor health_care we still rank 15th among all of the nations in the world in infant_mortality and our cancer rate is higher_than any country in the world we dont have good health_care we could have it employment ought to be restored to our people we have become almost a welfare state we spend now 700 percent more on unemployment_compensation than we did 8_years_ago when the republicans took over the white_house our people want to go_back to work our education system can be improved secrecy ought to be stripped_away from government and a maximum of personal_privacy ought to be maintained our housing programs have gone bad it used to be that the average family could own a house but now less_than a third of our people can_afford to buy their own homes the budget was more grossly out of balance last_year than_ever before in the history of our country65 billionprimarily because our people are not at work inflation is robbing us as weve already discussed and the government bureaucracy is just a horrible mess this doesnt have to be i dont know all of the answers nobody could but i do know that if the president of the united_states and the congress of the united_states and the people of the united_states said i believe our nation is greater_than what we are now i believe that if we are inspired if we can achieve a degree of unity if we can set our goals high enough and work toward recognized goals with industry and labor and agriculture along with government at all levels we can achieve great things we might have to do it slowly there are no magic_answers to it but i believe together we can make great progress we can correct our difficult mistakes and answer those very tough questions i believe in the greatness of our country and i believe the american people are ready for a change in washington we have been drifting too_long we have been dormant too_long we have been discouraged too_long and we have not set an example for our own people but i believe that we can now establish in the white_house a good relationship with congress a good relationship with our people set very high goals for our country and with inspiration and hard_work we can achieve great things and let the world knowthats very important but more_importantly let the people in our own country realizethat we still live in the greatest nation on earth thank you very_much the moderator thank you governor_carter and thank you president ford i also would like to thank the audience and my three colleaguesmr kraft mr_maynard and mr nelson who have been our questioners this debate has of course been seen by millions of americans and in addition tonight is being broadcast to 113 nations throughout the world this concludes the 1976 presidential_debates a truly_remarkable exercise in democracy for this is the first time in 16 years that the presidential_candidates have debated it is the first time ever that an incumbent president has debated his challenger and the debate included the first between the two vicepresidential_candidates president ford and governor_carter we not only want to thank you but we commend you for agreeing to come together to discuss the issues before the american people and our special thanks to the league of women_voters for making these events possible in sponsoring these events the league of women_voters education fund has tried to provide you with the information that you will need to choose_wisely the election is now only 11 days off the candidates have participated in presenting their views in three 90minute debates and now its up to the voters and now it is up to you to participate the league urges all registered_voters to vote on november 2 for the candidate of your choice and now from phi_beta_kappa memorial_hall on the campus of the college of william and mary this is barbara_walters wishing you all a good_evening'"
      ]
     },
     "execution_count": 108,
     "metadata": {},
     "output_type": "execute_result"
    }
   ],
   "source": [
    "debate.iloc[-1].phrased_text"
   ]
  },
  {
   "cell_type": "markdown",
   "metadata": {},
   "source": [
    "## Add Debate"
   ]
  },
  {
   "cell_type": "code",
   "execution_count": 109,
   "metadata": {
    "collapsed": true
   },
   "outputs": [],
   "source": [
    "Sub_Speech = pd.read_csv('SubSpeech.csv')"
   ]
  },
  {
   "cell_type": "code",
   "execution_count": 111,
   "metadata": {},
   "outputs": [
    {
     "data": {
      "text/html": [
       "<div>\n",
       "<style scoped>\n",
       "    .dataframe tbody tr th:only-of-type {\n",
       "        vertical-align: middle;\n",
       "    }\n",
       "\n",
       "    .dataframe tbody tr th {\n",
       "        vertical-align: top;\n",
       "    }\n",
       "\n",
       "    .dataframe thead th {\n",
       "        text-align: right;\n",
       "    }\n",
       "</style>\n",
       "<table border=\"1\" class=\"dataframe\">\n",
       "  <thead>\n",
       "    <tr style=\"text-align: right;\">\n",
       "      <th></th>\n",
       "      <th>Unnamed: 0</th>\n",
       "      <th>Subspeech_index</th>\n",
       "      <th>SubContent</th>\n",
       "      <th>Speech_index</th>\n",
       "      <th>Candidate</th>\n",
       "      <th>Title</th>\n",
       "      <th>Date</th>\n",
       "      <th>Content</th>\n",
       "      <th>Type</th>\n",
       "      <th>URL</th>\n",
       "      <th>Year</th>\n",
       "      <th>Month</th>\n",
       "      <th>Day</th>\n",
       "    </tr>\n",
       "  </thead>\n",
       "  <tbody>\n",
       "    <tr>\n",
       "      <th>11924</th>\n",
       "      <td>11924</td>\n",
       "      <td>Speech2738_30:40</td>\n",
       "      <td>[\"Instead of giving us the benefit of any spec...</td>\n",
       "      <td>Speech2738</td>\n",
       "      <td>William Howard Taft</td>\n",
       "      <td>\\nRemarks Accepting the Presidential Nominatio...</td>\n",
       "      <td>\\nAugust 01, 1912</td>\n",
       "      <td>\\nMR. ROOT AND CHAIRMEN OF THE NOTIFICATION CO...</td>\n",
       "      <td>Campaign Documents</td>\n",
       "      <td>/documents/remarks-accepting-the-presidential-...</td>\n",
       "      <td>1912</td>\n",
       "      <td>August</td>\n",
       "      <td>1</td>\n",
       "    </tr>\n",
       "    <tr>\n",
       "      <th>11925</th>\n",
       "      <td>11925</td>\n",
       "      <td>Speech2738_40:50</td>\n",
       "      <td>['For the benefit of our own people and of the...</td>\n",
       "      <td>Speech2738</td>\n",
       "      <td>William Howard Taft</td>\n",
       "      <td>\\nRemarks Accepting the Presidential Nominatio...</td>\n",
       "      <td>\\nAugust 01, 1912</td>\n",
       "      <td>\\nMR. ROOT AND CHAIRMEN OF THE NOTIFICATION CO...</td>\n",
       "      <td>Campaign Documents</td>\n",
       "      <td>/documents/remarks-accepting-the-presidential-...</td>\n",
       "      <td>1912</td>\n",
       "      <td>August</td>\n",
       "      <td>1</td>\n",
       "    </tr>\n",
       "    <tr>\n",
       "      <th>11926</th>\n",
       "      <td>11926</td>\n",
       "      <td>Speech2738_50:60</td>\n",
       "      <td>['The dignity and effectiveness of the governm...</td>\n",
       "      <td>Speech2738</td>\n",
       "      <td>William Howard Taft</td>\n",
       "      <td>\\nRemarks Accepting the Presidential Nominatio...</td>\n",
       "      <td>\\nAugust 01, 1912</td>\n",
       "      <td>\\nMR. ROOT AND CHAIRMEN OF THE NOTIFICATION CO...</td>\n",
       "      <td>Campaign Documents</td>\n",
       "      <td>/documents/remarks-accepting-the-presidential-...</td>\n",
       "      <td>1912</td>\n",
       "      <td>August</td>\n",
       "      <td>1</td>\n",
       "    </tr>\n",
       "    <tr>\n",
       "      <th>11927</th>\n",
       "      <td>11927</td>\n",
       "      <td>Speech2738_60:70</td>\n",
       "      <td>['Under the provisions of the Payne bill I was...</td>\n",
       "      <td>Speech2738</td>\n",
       "      <td>William Howard Taft</td>\n",
       "      <td>\\nRemarks Accepting the Presidential Nominatio...</td>\n",
       "      <td>\\nAugust 01, 1912</td>\n",
       "      <td>\\nMR. ROOT AND CHAIRMEN OF THE NOTIFICATION CO...</td>\n",
       "      <td>Campaign Documents</td>\n",
       "      <td>/documents/remarks-accepting-the-presidential-...</td>\n",
       "      <td>1912</td>\n",
       "      <td>August</td>\n",
       "      <td>1</td>\n",
       "    </tr>\n",
       "    <tr>\n",
       "      <th>11928</th>\n",
       "      <td>11928</td>\n",
       "      <td>Speech2738_70:85</td>\n",
       "      <td>['The antitrust law was passed to provide agai...</td>\n",
       "      <td>Speech2738</td>\n",
       "      <td>William Howard Taft</td>\n",
       "      <td>\\nRemarks Accepting the Presidential Nominatio...</td>\n",
       "      <td>\\nAugust 01, 1912</td>\n",
       "      <td>\\nMR. ROOT AND CHAIRMEN OF THE NOTIFICATION CO...</td>\n",
       "      <td>Campaign Documents</td>\n",
       "      <td>/documents/remarks-accepting-the-presidential-...</td>\n",
       "      <td>1912</td>\n",
       "      <td>August</td>\n",
       "      <td>1</td>\n",
       "    </tr>\n",
       "  </tbody>\n",
       "</table>\n",
       "</div>"
      ],
      "text/plain": [
       "       Unnamed: 0   Subspeech_index  \\\n",
       "11924       11924  Speech2738_30:40   \n",
       "11925       11925  Speech2738_40:50   \n",
       "11926       11926  Speech2738_50:60   \n",
       "11927       11927  Speech2738_60:70   \n",
       "11928       11928  Speech2738_70:85   \n",
       "\n",
       "                                              SubContent Speech_index  \\\n",
       "11924  [\"Instead of giving us the benefit of any spec...   Speech2738   \n",
       "11925  ['For the benefit of our own people and of the...   Speech2738   \n",
       "11926  ['The dignity and effectiveness of the governm...   Speech2738   \n",
       "11927  ['Under the provisions of the Payne bill I was...   Speech2738   \n",
       "11928  ['The antitrust law was passed to provide agai...   Speech2738   \n",
       "\n",
       "                 Candidate                                              Title  \\\n",
       "11924  William Howard Taft  \\nRemarks Accepting the Presidential Nominatio...   \n",
       "11925  William Howard Taft  \\nRemarks Accepting the Presidential Nominatio...   \n",
       "11926  William Howard Taft  \\nRemarks Accepting the Presidential Nominatio...   \n",
       "11927  William Howard Taft  \\nRemarks Accepting the Presidential Nominatio...   \n",
       "11928  William Howard Taft  \\nRemarks Accepting the Presidential Nominatio...   \n",
       "\n",
       "                     Date                                            Content  \\\n",
       "11924  \\nAugust 01, 1912   \\nMR. ROOT AND CHAIRMEN OF THE NOTIFICATION CO...   \n",
       "11925  \\nAugust 01, 1912   \\nMR. ROOT AND CHAIRMEN OF THE NOTIFICATION CO...   \n",
       "11926  \\nAugust 01, 1912   \\nMR. ROOT AND CHAIRMEN OF THE NOTIFICATION CO...   \n",
       "11927  \\nAugust 01, 1912   \\nMR. ROOT AND CHAIRMEN OF THE NOTIFICATION CO...   \n",
       "11928  \\nAugust 01, 1912   \\nMR. ROOT AND CHAIRMEN OF THE NOTIFICATION CO...   \n",
       "\n",
       "                     Type                                                URL  \\\n",
       "11924  Campaign Documents  /documents/remarks-accepting-the-presidential-...   \n",
       "11925  Campaign Documents  /documents/remarks-accepting-the-presidential-...   \n",
       "11926  Campaign Documents  /documents/remarks-accepting-the-presidential-...   \n",
       "11927  Campaign Documents  /documents/remarks-accepting-the-presidential-...   \n",
       "11928  Campaign Documents  /documents/remarks-accepting-the-presidential-...   \n",
       "\n",
       "       Year   Month  Day  \n",
       "11924  1912  August    1  \n",
       "11925  1912  August    1  \n",
       "11926  1912  August    1  \n",
       "11927  1912  August    1  \n",
       "11928  1912  August    1  "
      ]
     },
     "execution_count": 111,
     "metadata": {},
     "output_type": "execute_result"
    }
   ],
   "source": [
    "Sub_Speech.tail()"
   ]
  },
  {
   "cell_type": "code",
   "execution_count": null,
   "metadata": {
    "collapsed": true
   },
   "outputs": [],
   "source": [
    "Sub_Speech "
   ]
  }
 ],
 "metadata": {
  "kernelspec": {
   "display_name": "Python 3",
   "language": "python",
   "name": "python3"
  },
  "language_info": {
   "codemirror_mode": {
    "name": "ipython",
    "version": 3
   },
   "file_extension": ".py",
   "mimetype": "text/x-python",
   "name": "python",
   "nbconvert_exporter": "python",
   "pygments_lexer": "ipython3",
   "version": "3.6.1"
  }
 },
 "nbformat": 4,
 "nbformat_minor": 2
}
