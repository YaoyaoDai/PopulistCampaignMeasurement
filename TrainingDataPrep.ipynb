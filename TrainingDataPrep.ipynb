{
 "cells": [
  {
   "cell_type": "code",
<<<<<<< HEAD
   "execution_count": 49,
   "metadata": {
    "collapsed": true
   },
=======
   "execution_count": 1,
   "metadata": {},
>>>>>>> f1df6cf35be00ec38426ba65e58dbf8ce7ff786f
   "outputs": [],
   "source": [
    "import pandas as pd\n",
    "import numpy as np\n",
    "import csv\n",
    "import json\n",
    "import string\n",
    "import random\n",
    "import re\n",
    "\n",
    "np.random.seed(1234)\n",
    "random.seed(1234)"
   ]
  },
  {
   "cell_type": "markdown",
   "metadata": {},
   "source": [
    "## Load Data, Clean, Define Document Level"
   ]
  },
  {
   "cell_type": "code",
   "execution_count": 3,
   "metadata": {},
   "outputs": [
    {
     "data": {
      "text/html": [
       "<div>\n",
       "<style>\n",
       "    .dataframe thead tr:only-child th {\n",
       "        text-align: right;\n",
       "    }\n",
       "\n",
       "    .dataframe thead th {\n",
       "        text-align: left;\n",
       "    }\n",
       "\n",
       "    .dataframe tbody tr th {\n",
       "        vertical-align: top;\n",
       "    }\n",
       "</style>\n",
       "<table border=\"1\" class=\"dataframe\">\n",
       "  <thead>\n",
       "    <tr style=\"text-align: right;\">\n",
       "      <th></th>\n",
       "      <th>0</th>\n",
       "      <th>1</th>\n",
       "      <th>2</th>\n",
       "      <th>3</th>\n",
       "      <th>4</th>\n",
       "      <th>5</th>\n",
       "    </tr>\n",
       "  </thead>\n",
       "  <tbody>\n",
       "    <tr>\n",
       "      <th>0</th>\n",
       "      <td>Donald J. Trump</td>\n",
       "      <td>\\nRemarks at a \"Make America Great Again\" Rall...</td>\n",
       "      <td>\\nNovember 26, 2018</td>\n",
       "      <td>\\nPRESIDENT DONALD TRUMP: Thank you, thank you...</td>\n",
       "      <td>Campaign Documents</td>\n",
       "      <td>/documents/remarks-make-america-great-again-ra...</td>\n",
       "    </tr>\n",
       "    <tr>\n",
       "      <th>1</th>\n",
       "      <td>Donald J. Trump</td>\n",
       "      <td>\\nRemarks at a “Make America Great Again” Rall...</td>\n",
       "      <td>\\nOctober 20, 2018</td>\n",
       "      <td>\\nThe President: Thank you very much, and hell...</td>\n",
       "      <td>Campaign Documents</td>\n",
       "      <td>/documents/remarks-make-america-great-again-ra...</td>\n",
       "    </tr>\n",
       "    <tr>\n",
       "      <th>2</th>\n",
       "      <td>Donald J. Trump</td>\n",
       "      <td>\\nRemarks at a “Make America Great Again” Rall...</td>\n",
       "      <td>\\nSeptember 29, 2018</td>\n",
       "      <td>\\n[music:  John Denver, \"Take Me Home, Country...</td>\n",
       "      <td>Campaign Documents</td>\n",
       "      <td>/documents/remarks-make-america-great-again-ra...</td>\n",
       "    </tr>\n",
       "    <tr>\n",
       "      <th>3</th>\n",
       "      <td>Donald J. Trump</td>\n",
       "      <td>\\nRemarks at a “Make America Great Again” Rall...</td>\n",
       "      <td>\\nSeptember 06, 2018</td>\n",
       "      <td>\\nPRESIDENT DONALD TRUMP:  Thank you. Thank yo...</td>\n",
       "      <td>Campaign Documents</td>\n",
       "      <td>/documents/remarks-make-america-great-again-ra...</td>\n",
       "    </tr>\n",
       "    <tr>\n",
       "      <th>4</th>\n",
       "      <td>Donald J. Trump</td>\n",
       "      <td>\\nRemarks at a “Make America Great Again” Rall...</td>\n",
       "      <td>\\nAugust 30, 2018</td>\n",
       "      <td>\\nPRESIDENT DONALD TRUMP: Evansville, you are ...</td>\n",
       "      <td>Campaign Documents</td>\n",
       "      <td>/documents/remarks-make-america-great-again-ra...</td>\n",
       "    </tr>\n",
       "  </tbody>\n",
       "</table>\n",
       "</div>"
      ],
      "text/plain": [
       "                 0                                                  1  \\\n",
       "0  Donald J. Trump  \\nRemarks at a \"Make America Great Again\" Rall...   \n",
       "1  Donald J. Trump  \\nRemarks at a “Make America Great Again” Rall...   \n",
       "2  Donald J. Trump  \\nRemarks at a “Make America Great Again” Rall...   \n",
       "3  Donald J. Trump  \\nRemarks at a “Make America Great Again” Rall...   \n",
       "4  Donald J. Trump  \\nRemarks at a “Make America Great Again” Rall...   \n",
       "\n",
       "                       2                                                  3  \\\n",
       "0   \\nNovember 26, 2018   \\nPRESIDENT DONALD TRUMP: Thank you, thank you...   \n",
       "1    \\nOctober 20, 2018   \\nThe President: Thank you very much, and hell...   \n",
       "2  \\nSeptember 29, 2018   \\n[music:  John Denver, \"Take Me Home, Country...   \n",
       "3  \\nSeptember 06, 2018   \\nPRESIDENT DONALD TRUMP:  Thank you. Thank yo...   \n",
       "4     \\nAugust 30, 2018   \\nPRESIDENT DONALD TRUMP: Evansville, you are ...   \n",
       "\n",
       "                    4                                                  5  \n",
       "0  Campaign Documents  /documents/remarks-make-america-great-again-ra...  \n",
       "1  Campaign Documents  /documents/remarks-make-america-great-again-ra...  \n",
       "2  Campaign Documents  /documents/remarks-make-america-great-again-ra...  \n",
       "3  Campaign Documents  /documents/remarks-make-america-great-again-ra...  \n",
       "4  Campaign Documents  /documents/remarks-make-america-great-again-ra...  "
      ]
     },
     "execution_count": 3,
     "metadata": {},
     "output_type": "execute_result"
    }
   ],
   "source": [
    "CSpeech = pd.read_csv('CampaignSpeech.csv', header=None)\n",
    "CSpeech.head()"
   ]
  },
  {
   "cell_type": "code",
   "execution_count": 4,
   "metadata": {},
   "outputs": [
    {
     "data": {
      "text/html": [
       "<div>\n",
       "<style>\n",
       "    .dataframe thead tr:only-child th {\n",
       "        text-align: right;\n",
       "    }\n",
       "\n",
       "    .dataframe thead th {\n",
       "        text-align: left;\n",
       "    }\n",
       "\n",
       "    .dataframe tbody tr th {\n",
       "        vertical-align: top;\n",
       "    }\n",
       "</style>\n",
       "<table border=\"1\" class=\"dataframe\">\n",
       "  <thead>\n",
       "    <tr style=\"text-align: right;\">\n",
       "      <th></th>\n",
       "      <th>Candidate</th>\n",
       "      <th>Title</th>\n",
       "      <th>Date</th>\n",
       "      <th>Content</th>\n",
       "      <th>Type</th>\n",
       "      <th>URL</th>\n",
       "    </tr>\n",
       "  </thead>\n",
       "  <tbody>\n",
       "    <tr>\n",
       "      <th>0</th>\n",
       "      <td>Donald J. Trump</td>\n",
       "      <td>\\nRemarks at a \"Make America Great Again\" Rall...</td>\n",
       "      <td>\\nNovember 26, 2018</td>\n",
       "      <td>\\nPRESIDENT DONALD TRUMP: Thank you, thank you...</td>\n",
       "      <td>Campaign Documents</td>\n",
       "      <td>/documents/remarks-make-america-great-again-ra...</td>\n",
       "    </tr>\n",
       "    <tr>\n",
       "      <th>1</th>\n",
       "      <td>Donald J. Trump</td>\n",
       "      <td>\\nRemarks at a “Make America Great Again” Rall...</td>\n",
       "      <td>\\nOctober 20, 2018</td>\n",
       "      <td>\\nThe President: Thank you very much, and hell...</td>\n",
       "      <td>Campaign Documents</td>\n",
       "      <td>/documents/remarks-make-america-great-again-ra...</td>\n",
       "    </tr>\n",
       "    <tr>\n",
       "      <th>2</th>\n",
       "      <td>Donald J. Trump</td>\n",
       "      <td>\\nRemarks at a “Make America Great Again” Rall...</td>\n",
       "      <td>\\nSeptember 29, 2018</td>\n",
       "      <td>\\n[music:  John Denver, \"Take Me Home, Country...</td>\n",
       "      <td>Campaign Documents</td>\n",
       "      <td>/documents/remarks-make-america-great-again-ra...</td>\n",
       "    </tr>\n",
       "    <tr>\n",
       "      <th>3</th>\n",
       "      <td>Donald J. Trump</td>\n",
       "      <td>\\nRemarks at a “Make America Great Again” Rall...</td>\n",
       "      <td>\\nSeptember 06, 2018</td>\n",
       "      <td>\\nPRESIDENT DONALD TRUMP:  Thank you. Thank yo...</td>\n",
       "      <td>Campaign Documents</td>\n",
       "      <td>/documents/remarks-make-america-great-again-ra...</td>\n",
       "    </tr>\n",
       "    <tr>\n",
       "      <th>4</th>\n",
       "      <td>Donald J. Trump</td>\n",
       "      <td>\\nRemarks at a “Make America Great Again” Rall...</td>\n",
       "      <td>\\nAugust 30, 2018</td>\n",
       "      <td>\\nPRESIDENT DONALD TRUMP: Evansville, you are ...</td>\n",
       "      <td>Campaign Documents</td>\n",
       "      <td>/documents/remarks-make-america-great-again-ra...</td>\n",
       "    </tr>\n",
       "  </tbody>\n",
       "</table>\n",
       "</div>"
      ],
      "text/plain": [
       "         Candidate                                              Title  \\\n",
       "0  Donald J. Trump  \\nRemarks at a \"Make America Great Again\" Rall...   \n",
       "1  Donald J. Trump  \\nRemarks at a “Make America Great Again” Rall...   \n",
       "2  Donald J. Trump  \\nRemarks at a “Make America Great Again” Rall...   \n",
       "3  Donald J. Trump  \\nRemarks at a “Make America Great Again” Rall...   \n",
       "4  Donald J. Trump  \\nRemarks at a “Make America Great Again” Rall...   \n",
       "\n",
       "                    Date                                            Content  \\\n",
       "0   \\nNovember 26, 2018   \\nPRESIDENT DONALD TRUMP: Thank you, thank you...   \n",
       "1    \\nOctober 20, 2018   \\nThe President: Thank you very much, and hell...   \n",
       "2  \\nSeptember 29, 2018   \\n[music:  John Denver, \"Take Me Home, Country...   \n",
       "3  \\nSeptember 06, 2018   \\nPRESIDENT DONALD TRUMP:  Thank you. Thank yo...   \n",
       "4     \\nAugust 30, 2018   \\nPRESIDENT DONALD TRUMP: Evansville, you are ...   \n",
       "\n",
       "                 Type                                                URL  \n",
       "0  Campaign Documents  /documents/remarks-make-america-great-again-ra...  \n",
       "1  Campaign Documents  /documents/remarks-make-america-great-again-ra...  \n",
       "2  Campaign Documents  /documents/remarks-make-america-great-again-ra...  \n",
       "3  Campaign Documents  /documents/remarks-make-america-great-again-ra...  \n",
       "4  Campaign Documents  /documents/remarks-make-america-great-again-ra...  "
      ]
     },
     "execution_count": 4,
     "metadata": {},
     "output_type": "execute_result"
    }
   ],
   "source": [
    "CSpeech.columns = ['Candidate','Title','Date','Content','Type','URL']\n",
    "CSpeech.head()"
   ]
  },
  {
   "cell_type": "code",
   "execution_count": 5,
   "metadata": {
    "collapsed": true
   },
   "outputs": [],
   "source": [
    "CSpeech['Year'] = [int(re.split(',',x)[1].strip()) for x in CSpeech.Date]"
   ]
  },
  {
   "cell_type": "code",
   "execution_count": 6,
   "metadata": {
    "collapsed": true
   },
   "outputs": [],
   "source": [
    "CSpeech['Month'] = [re.split(',',x)[0].strip('\\n')[:-3] for x in CSpeech.Date]\n",
    "CSpeech['Day'] = [int(re.split(',',x)[0].strip('\\n')[-2:]) for x in CSpeech.Date]"
   ]
  },
  {
   "cell_type": "code",
   "execution_count": 7,
   "metadata": {
    "collapsed": true
   },
   "outputs": [],
   "source": [
    "CSpeech['Speech_index']= ['Speech'+ str(x) for x in range(0,len(CSpeech.Title))]"
   ]
  },
  {
   "cell_type": "code",
   "execution_count": null,
   "metadata": {
    "collapsed": true
   },
   "outputs": [],
   "source": [
    "#CSpeech.head()"
   ]
  },
  {
   "cell_type": "markdown",
   "metadata": {},
   "source": [
    "### Create Sub-speech"
   ]
  },
  {
   "cell_type": "code",
   "execution_count": 8,
   "metadata": {
    "collapsed": true
   },
   "outputs": [],
   "source": [
    "sub_dict = {'Subspeech_index':[], 'SubContent':[], 'Speech_index':[]}"
   ]
  },
  {
   "cell_type": "code",
   "execution_count": 9,
   "metadata": {
    "collapsed": true
   },
   "outputs": [],
   "source": [
    "# Save every 10 lines into a subspeech e.g. [0,10)\n",
    "\n",
    "for i,text in enumerate(CSpeech['Content']): \n",
    "    splited = re.split('\\n',text)\n",
    "    length = len(re.split('\\n',text))\n",
    "    if length > 10:\n",
    "        a = list(range(0,length,10)) \n",
    "        for j in a[:-2]:\n",
    "            rowvalue = []\n",
    "            upper=j+10\n",
    "            sub_dict['Subspeech_index'].append(CSpeech['Speech_index'][i]+'_'+str(j)+ ':' + str(upper))\n",
    "            sub_dict['SubContent'].append(splited[j: upper])\n",
    "            sub_dict['Speech_index'].append(CSpeech['Speech_index'][i])\n",
    "            \n",
    "        sub_dict['Subspeech_index'].append(CSpeech['Speech_index'][i]+'_'+ str(a[-2])+ ':' + str(length))\n",
    "        sub_dict['SubContent'].append(splited[a[-2]: length])\n",
    "        sub_dict['Speech_index'].append(CSpeech['Speech_index'][i])\n",
    "    else:\n",
    "        sub_dict['Subspeech_index'].append(CSpeech['Speech_index'][i] +'_'+str(0)+ ':' + str(length))\n",
    "        sub_dict['SubContent'].append(splited[: length])\n",
    "        sub_dict['Speech_index'].append(CSpeech['Speech_index'][i])"
   ]
  },
  {
   "cell_type": "code",
   "execution_count": null,
   "metadata": {
    "collapsed": true
   },
   "outputs": [],
   "source": [
    "Sub_Speech = pd.DataFrame.from_dict(sub_dict)\n",
    "Sub_Speech.head()"
   ]
  },
  {
   "cell_type": "code",
   "execution_count": null,
   "metadata": {
    "collapsed": true
   },
   "outputs": [],
   "source": [
    "SubSpeech = Sub_Speech.merge(CSpeech, left_on='Speech_index', right_on = 'Speech_index')\n",
    "SubSpeech.head()"
   ]
  },
  {
   "cell_type": "code",
   "execution_count": null,
   "metadata": {
    "collapsed": true
   },
   "outputs": [],
   "source": [
    "SubSpeech.to_csv(\"SubSpeech.csv\")"
   ]
  },
  {
   "cell_type": "markdown",
   "metadata": {},
   "source": [
    "## Create Training Data for Annotation (prodigy)"
   ]
  },
  {
   "cell_type": "code",
   "execution_count": null,
   "metadata": {
    "collapsed": true
   },
   "outputs": [],
   "source": [
    "len(SubSpeech.Subspeech_index), len(CSpeech.Speech_index)"
   ]
  },
  {
   "cell_type": "code",
   "execution_count": null,
   "metadata": {
    "collapsed": true
   },
   "outputs": [],
   "source": [
    "#CSpeech['Year'].value_counts()\n",
    "#CSpeech.Candidate.value_counts()"
   ]
  },
  {
   "cell_type": "code",
   "execution_count": null,
   "metadata": {
    "collapsed": true
   },
   "outputs": [],
   "source": [
    "#uniyear = pd.unique(CSpeech.Year)"
   ]
  },
  {
   "cell_type": "code",
   "execution_count": null,
   "metadata": {
    "collapsed": true
   },
   "outputs": [],
   "source": [
    "speech_sample = np.random.choice(CSpeech['Speech_index'], 60, replace=False)"
   ]
  },
  {
   "cell_type": "code",
   "execution_count": null,
   "metadata": {
    "collapsed": true
   },
   "outputs": [],
   "source": [
    "CSpeech.Candidate[CSpeech.Speech_index.isin(speech_sample)].value_counts()"
   ]
  },
  {
   "cell_type": "code",
   "execution_count": null,
   "metadata": {
    "collapsed": true
   },
   "outputs": [],
   "source": [
    "subspeech_sample = SubSpeech[['Speech_index', 'Subspeech_index','SubContent']].loc[SubSpeech.Speech_index.isin(speech_sample)]"
   ]
  },
  {
   "cell_type": "code",
   "execution_count": null,
   "metadata": {
    "collapsed": true
   },
   "outputs": [],
   "source": [
    "subspeech_sample['text'] = [subspeech_sample.Subspeech_index[i] + '## ' + ''.join(subspeech_sample.SubContent[i])\n",
    "                           for i in subspeech_sample.Subspeech_index.index]"
   ]
  },
  {
   "cell_type": "code",
   "execution_count": null,
   "metadata": {
    "collapsed": true
   },
   "outputs": [],
   "source": [
    "len(subspeech_sample.Subspeech_index)"
   ]
  },
  {
   "cell_type": "code",
   "execution_count": null,
   "metadata": {
    "collapsed": true
   },
   "outputs": [],
   "source": [
    "subspeech_sample.to_csv('subspeech_sample.csv')"
   ]
  },
  {
   "cell_type": "code",
   "execution_count": null,
   "metadata": {},
   "outputs": [],
   "source": []
  },
  {
   "cell_type": "markdown",
   "metadata": {},
   "source": [
    "## Load and Merge Annotation"
   ]
  },
  {
   "cell_type": "code",
   "execution_count": 2,
   "metadata": {},
   "outputs": [],
   "source": [
    "with open('USPOPannotations.jsonl/test_annotation.jsonl', 'r') as annotation_jsonl:\n",
    "    annotation_list = list(annotation_jsonl)"
   ]
  },
  {
   "cell_type": "code",
   "execution_count": 3,
   "metadata": {},
   "outputs": [],
   "source": [
    "with open('USPOPannotations.jsonl/pop_code1117.jsonl', 'r') as annotation_jsonl:\n",
    "    annotation_list += list(annotation_jsonl)"
   ]
  },
  {
   "cell_type": "code",
   "execution_count": 4,
   "metadata": {},
   "outputs": [
    {
     "data": {
      "text/plain": [
       "200"
      ]
     },
     "execution_count": 4,
     "metadata": {},
     "output_type": "execute_result"
    }
   ],
   "source": [
    "len(annotation_list)"
   ]
  },
  {
   "cell_type": "code",
   "execution_count": 5,
   "metadata": {},
   "outputs": [],
   "source": [
    "coded = {}\n",
    "for annotation in annotation_list:\n",
    "    annotation_dict = json.loads(annotation)\n",
    "    coded[annotation_dict['text'].split('##')[0]] = annotation_dict['answer']"
   ]
  },
  {
   "cell_type": "code",
   "execution_count": 6,
   "metadata": {},
   "outputs": [
    {
     "data": {
      "text/plain": [
       "200"
      ]
     },
     "execution_count": 6,
     "metadata": {},
     "output_type": "execute_result"
    }
   ],
   "source": [
    "len(coded)"
   ]
  },
  {
   "cell_type": "code",
   "execution_count": 7,
   "metadata": {},
   "outputs": [],
   "source": [
    "coded_data = pd.DataFrame.from_dict(coded, orient='index')"
   ]
  },
  {
   "cell_type": "code",
   "execution_count": 8,
   "metadata": {},
   "outputs": [],
   "source": [
    "coded_data = coded_data.rename(columns={0:'Pop'})"
   ]
  },
  {
   "cell_type": "code",
   "execution_count": 9,
   "metadata": {},
   "outputs": [],
   "source": [
    "coded_data['Subspeech_index'] = coded_data.index"
   ]
  },
  {
   "cell_type": "code",
   "execution_count": 10,
   "metadata": {},
   "outputs": [],
   "source": [
    "Sub_Speech = pd.read_csv('SubSpeech.csv')"
   ]
  },
  {
   "cell_type": "code",
<<<<<<< HEAD
   "execution_count": 42,
   "metadata": {
    "collapsed": true
   },
=======
   "execution_count": 11,
   "metadata": {},
>>>>>>> f1df6cf35be00ec38426ba65e58dbf8ce7ff786f
   "outputs": [],
   "source": [
    "SubSpeech_coded = Sub_Speech.merge(coded_data, how = 'outer', left_on='Subspeech_index', right_on = 'Subspeech_index')"
   ]
  },
  {
   "cell_type": "code",
<<<<<<< HEAD
   "execution_count": 53,
=======
   "execution_count": 12,
>>>>>>> f1df6cf35be00ec38426ba65e58dbf8ce7ff786f
   "metadata": {},
   "outputs": [
    {
     "data": {
      "text/plain": [
       "11929"
      ]
     },
<<<<<<< HEAD
     "execution_count": 53,
=======
     "execution_count": 12,
>>>>>>> f1df6cf35be00ec38426ba65e58dbf8ce7ff786f
     "metadata": {},
     "output_type": "execute_result"
    }
   ],
   "source": [
    "len(SubSpeech_coded.Candidate)"
   ]
  },
  {
   "cell_type": "code",
<<<<<<< HEAD
   "execution_count": 50,
   "metadata": {
    "collapsed": true
   },
=======
   "execution_count": 15,
   "metadata": {},
>>>>>>> f1df6cf35be00ec38426ba65e58dbf8ce7ff786f
   "outputs": [],
   "source": [
    "SubSpeech_coded.to_csv(\"SubSpeech_coded.csv\", index = False)"
   ]
  },
  {
   "cell_type": "code",
   "execution_count": null,
   "metadata": {
    "collapsed": true
   },
   "outputs": [],
   "source": [
    "#CSpeech.Candidate[CSpeech.Speech_index=='Speech1654']"
   ]
  },
  {
   "cell_type": "code",
   "execution_count": 47,
   "metadata": {},
   "outputs": [
    {
     "data": {
      "text/plain": [
       "Barack Obama             45\n",
       "Donald J. Trump          22\n",
       "Hillary Clinton          20\n",
       "Martin O'Malley          19\n",
       "Mitt Romney              15\n",
       "John F. Kennedy          11\n",
       "Rick Perry               11\n",
       "John F. Kerry             7\n",
       "Richard Nixon             6\n",
       "Bill Richardson           5\n",
       "Franklin D. Roosevelt     5\n",
       "Michele Bachmann          5\n",
       "Jeb Bush                  4\n",
       "John Edwards              3\n",
       "Rick Santorum             1\n",
       "Bernie Sanders            1\n",
       "Name: Candidate, dtype: int64"
      ]
     },
     "execution_count": 47,
     "metadata": {},
     "output_type": "execute_result"
    }
   ],
   "source": [
    "SubSpeech_coded.Candidate[SubSpeech_coded.Pop =='reject'].value_counts()"
   ]
  },
  {
   "cell_type": "code",
   "execution_count": 17,
   "metadata": {},
   "outputs": [
    {
     "data": {
      "text/plain": [
       "2012    52\n",
       "2015    35\n",
       "2018    20\n",
       "2016    18\n",
       "1960    11\n",
       "2007     9\n",
       "2004     7\n",
       "2011     6\n",
       "2009     6\n",
       "1968     6\n",
       "1932     5\n",
       "2003     3\n",
       "2014     2\n",
       "Name: Year, dtype: int64"
      ]
     },
     "execution_count": 17,
     "metadata": {},
     "output_type": "execute_result"
    }
   ],
   "source": [
    "SubSpeech_coded.Year[SubSpeech_coded.Pop =='reject'].value_counts()"
   ]
  },
  {
   "cell_type": "markdown",
   "metadata": {
    "collapsed": true
   },
   "source": [
    "## Add more data for annotation "
   ]
  },
  {
   "cell_type": "code",
   "execution_count": 22,
   "metadata": {},
   "outputs": [
    {
     "data": {
      "text/plain": [
       "11729"
      ]
     },
     "execution_count": 22,
     "metadata": {},
     "output_type": "execute_result"
    }
   ],
   "source": [
    "len(set(Sub_Speech['Subspeech_index']).difference(set(coded_data['Subspeech_index'])))"
   ]
  },
  {
   "cell_type": "code",
   "execution_count": null,
   "metadata": {},
   "outputs": [],
   "source": []
  }
 ],
 "metadata": {
  "kernelspec": {
   "display_name": "Python 3",
   "language": "python",
   "name": "python3"
  },
  "language_info": {
   "codemirror_mode": {
    "name": "ipython",
    "version": 3
   },
   "file_extension": ".py",
   "mimetype": "text/x-python",
   "name": "python",
   "nbconvert_exporter": "python",
   "pygments_lexer": "ipython3",
   "version": "3.7.3"
  }
 },
 "nbformat": 4,
 "nbformat_minor": 2
}
